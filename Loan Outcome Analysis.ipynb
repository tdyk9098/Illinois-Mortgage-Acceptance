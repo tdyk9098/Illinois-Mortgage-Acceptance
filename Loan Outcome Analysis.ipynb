{
 "cells": [
  {
   "cell_type": "code",
   "execution_count": 194,
   "id": "54cb0159",
   "metadata": {},
   "outputs": [],
   "source": [
    "import numpy as np\n",
    "import pandas as pd\n",
    "import matplotlib.pyplot as plt\n",
    "import seaborn as sns\n",
    "import scipy.stats as st\n",
    "import datetime as dt"
   ]
  },
  {
   "cell_type": "code",
   "execution_count": 195,
   "id": "2dfd0a61",
   "metadata": {},
   "outputs": [],
   "source": [
    "df = pd.read_csv('Illinois_2021.csv', low_memory=False)"
   ]
  },
  {
   "cell_type": "code",
   "execution_count": 196,
   "id": "9147a16b",
   "metadata": {},
   "outputs": [],
   "source": [
    "##################################################################################################"
   ]
  },
  {
   "cell_type": "code",
   "execution_count": 197,
   "id": "e3333ee3",
   "metadata": {},
   "outputs": [],
   "source": [
    "###### MODEL1: OUTPUT = APPLICATION STATUS ######"
   ]
  },
  {
   "cell_type": "code",
   "execution_count": 198,
   "id": "66e6b986",
   "metadata": {},
   "outputs": [],
   "source": [
    "##### CLEANING #####"
   ]
  },
  {
   "cell_type": "code",
   "execution_count": 199,
   "id": "3045b48c",
   "metadata": {},
   "outputs": [],
   "source": [
    "# DROPPING COLUMNS WITH NO VALUE\n",
    "df.drop(['activity_year','state_code','census_tract','county_code','loan_type','derived_ethnicity',\n",
    "         'derived_race','derived_sex', 'denial_reason-1','denial_reason-2','denial_reason-3','denial_reason-4',\n",
    "         'applicant_age_above_62','co-applicant_age_above_62','tract_to_msa_income_percentage'], axis = 1, inplace = True)"
   ]
  },
  {
   "cell_type": "code",
   "execution_count": 200,
   "id": "47c75420",
   "metadata": {},
   "outputs": [],
   "source": [
    "# Filter the DF so that only accept or reject outcomes are present\n",
    "df = df[df['action_taken'].isin([1,2,3])]"
   ]
  },
  {
   "cell_type": "code",
   "execution_count": 201,
   "id": "5ab9caba",
   "metadata": {},
   "outputs": [],
   "source": [
    "# Turning the Application outcome (action_taken) into dummy variables\n",
    "df['action_taken'] = np.where((df['action_taken']==1)|(df['action_taken']==2),1,0)"
   ]
  },
  {
   "cell_type": "code",
   "execution_count": 202,
   "id": "67926ae4",
   "metadata": {},
   "outputs": [],
   "source": [
    "# Filtering for only Home Purchase Loans\n",
    "df = df[df['loan_purpose']==1]"
   ]
  },
  {
   "cell_type": "code",
   "execution_count": 203,
   "id": "c26a2bf0",
   "metadata": {},
   "outputs": [],
   "source": [
    "# Filtering for only mortgage applications and NOT covered loans\n",
    "df = df[df['submission_of_application']!=3]\n",
    "df = df[df['initially_payable_to_institution']!=3]"
   ]
  },
  {
   "cell_type": "code",
   "execution_count": 204,
   "id": "4154f4c4",
   "metadata": {},
   "outputs": [],
   "source": [
    "# Dropping columns that are only applicable to succesful applications\n",
    "df.drop(['interest_rate','rate_spread','purchaser_type','initially_payable_to_institution'], axis = 1, inplace = True)\n",
    "df = df.reset_index(drop = True)"
   ]
  },
  {
   "cell_type": "code",
   "execution_count": 205,
   "id": "503eb310",
   "metadata": {},
   "outputs": [],
   "source": [
    "#### EXPLORING PROPERTY AND AREA RELATED FEATURES WITH SUCCESS RATE ###"
   ]
  },
  {
   "cell_type": "code",
   "execution_count": 206,
   "id": "28c17471",
   "metadata": {},
   "outputs": [],
   "source": [
    "### MSA CODE: 5 digit metropolitan statistical area or metropolitan division code: min 50K population"
   ]
  },
  {
   "cell_type": "code",
   "execution_count": 207,
   "id": "009f828e",
   "metadata": {
    "scrolled": true
   },
   "outputs": [
    {
     "data": {
      "text/html": [
       "<div>\n",
       "<style scoped>\n",
       "    .dataframe tbody tr th:only-of-type {\n",
       "        vertical-align: middle;\n",
       "    }\n",
       "\n",
       "    .dataframe tbody tr th {\n",
       "        vertical-align: top;\n",
       "    }\n",
       "\n",
       "    .dataframe thead th {\n",
       "        text-align: right;\n",
       "    }\n",
       "</style>\n",
       "<table border=\"1\" class=\"dataframe\">\n",
       "  <thead>\n",
       "    <tr style=\"text-align: right;\">\n",
       "      <th></th>\n",
       "      <th></th>\n",
       "      <th>Count</th>\n",
       "      <th>%</th>\n",
       "    </tr>\n",
       "    <tr>\n",
       "      <th>derived_msa-md</th>\n",
       "      <th>action_taken</th>\n",
       "      <th></th>\n",
       "      <th></th>\n",
       "    </tr>\n",
       "  </thead>\n",
       "  <tbody>\n",
       "    <tr>\n",
       "      <th rowspan=\"2\" valign=\"top\">99999</th>\n",
       "      <th>1</th>\n",
       "      <td>15252</td>\n",
       "      <td>88.633194</td>\n",
       "    </tr>\n",
       "    <tr>\n",
       "      <th>0</th>\n",
       "      <td>1956</td>\n",
       "      <td>11.366806</td>\n",
       "    </tr>\n",
       "    <tr>\n",
       "      <th rowspan=\"2\" valign=\"top\">44100</th>\n",
       "      <th>1</th>\n",
       "      <td>4077</td>\n",
       "      <td>93.337912</td>\n",
       "    </tr>\n",
       "    <tr>\n",
       "      <th>0</th>\n",
       "      <td>291</td>\n",
       "      <td>6.662088</td>\n",
       "    </tr>\n",
       "    <tr>\n",
       "      <th rowspan=\"2\" valign=\"top\">41180</th>\n",
       "      <th>1</th>\n",
       "      <td>12384</td>\n",
       "      <td>91.910346</td>\n",
       "    </tr>\n",
       "    <tr>\n",
       "      <th>0</th>\n",
       "      <td>1090</td>\n",
       "      <td>8.089654</td>\n",
       "    </tr>\n",
       "    <tr>\n",
       "      <th rowspan=\"2\" valign=\"top\">40420</th>\n",
       "      <th>1</th>\n",
       "      <td>5378</td>\n",
       "      <td>91.665246</td>\n",
       "    </tr>\n",
       "    <tr>\n",
       "      <th>0</th>\n",
       "      <td>489</td>\n",
       "      <td>8.334754</td>\n",
       "    </tr>\n",
       "    <tr>\n",
       "      <th rowspan=\"2\" valign=\"top\">37900</th>\n",
       "      <th>1</th>\n",
       "      <td>7671</td>\n",
       "      <td>94.575268</td>\n",
       "    </tr>\n",
       "    <tr>\n",
       "      <th>0</th>\n",
       "      <td>440</td>\n",
       "      <td>5.424732</td>\n",
       "    </tr>\n",
       "    <tr>\n",
       "      <th rowspan=\"2\" valign=\"top\">29404</th>\n",
       "      <th>1</th>\n",
       "      <td>13288</td>\n",
       "      <td>93.268758</td>\n",
       "    </tr>\n",
       "    <tr>\n",
       "      <th>0</th>\n",
       "      <td>959</td>\n",
       "      <td>6.731242</td>\n",
       "    </tr>\n",
       "    <tr>\n",
       "      <th rowspan=\"2\" valign=\"top\">28100</th>\n",
       "      <th>1</th>\n",
       "      <td>1728</td>\n",
       "      <td>87.582362</td>\n",
       "    </tr>\n",
       "    <tr>\n",
       "      <th>0</th>\n",
       "      <td>245</td>\n",
       "      <td>12.417638</td>\n",
       "    </tr>\n",
       "    <tr>\n",
       "      <th rowspan=\"2\" valign=\"top\">20994</th>\n",
       "      <th>1</th>\n",
       "      <td>14637</td>\n",
       "      <td>93.610898</td>\n",
       "    </tr>\n",
       "    <tr>\n",
       "      <th>0</th>\n",
       "      <td>999</td>\n",
       "      <td>6.389102</td>\n",
       "    </tr>\n",
       "    <tr>\n",
       "      <th rowspan=\"2\" valign=\"top\">19500</th>\n",
       "      <th>1</th>\n",
       "      <td>1645</td>\n",
       "      <td>89.743590</td>\n",
       "    </tr>\n",
       "    <tr>\n",
       "      <th>0</th>\n",
       "      <td>188</td>\n",
       "      <td>10.256410</td>\n",
       "    </tr>\n",
       "    <tr>\n",
       "      <th rowspan=\"2\" valign=\"top\">19340</th>\n",
       "      <th>1</th>\n",
       "      <td>3641</td>\n",
       "      <td>92.340857</td>\n",
       "    </tr>\n",
       "    <tr>\n",
       "      <th>0</th>\n",
       "      <td>302</td>\n",
       "      <td>7.659143</td>\n",
       "    </tr>\n",
       "    <tr>\n",
       "      <th rowspan=\"2\" valign=\"top\">19180</th>\n",
       "      <th>1</th>\n",
       "      <td>781</td>\n",
       "      <td>87.851519</td>\n",
       "    </tr>\n",
       "    <tr>\n",
       "      <th>0</th>\n",
       "      <td>108</td>\n",
       "      <td>12.148481</td>\n",
       "    </tr>\n",
       "    <tr>\n",
       "      <th rowspan=\"2\" valign=\"top\">16984</th>\n",
       "      <th>1</th>\n",
       "      <td>114186</td>\n",
       "      <td>91.603090</td>\n",
       "    </tr>\n",
       "    <tr>\n",
       "      <th>0</th>\n",
       "      <td>10467</td>\n",
       "      <td>8.396910</td>\n",
       "    </tr>\n",
       "    <tr>\n",
       "      <th rowspan=\"2\" valign=\"top\">16580</th>\n",
       "      <th>1</th>\n",
       "      <td>3359</td>\n",
       "      <td>92.867017</td>\n",
       "    </tr>\n",
       "    <tr>\n",
       "      <th>0</th>\n",
       "      <td>258</td>\n",
       "      <td>7.132983</td>\n",
       "    </tr>\n",
       "    <tr>\n",
       "      <th rowspan=\"2\" valign=\"top\">16060</th>\n",
       "      <th>1</th>\n",
       "      <td>1661</td>\n",
       "      <td>86.963351</td>\n",
       "    </tr>\n",
       "    <tr>\n",
       "      <th>0</th>\n",
       "      <td>249</td>\n",
       "      <td>13.036649</td>\n",
       "    </tr>\n",
       "    <tr>\n",
       "      <th rowspan=\"2\" valign=\"top\">16020</th>\n",
       "      <th>1</th>\n",
       "      <td>18</td>\n",
       "      <td>45.000000</td>\n",
       "    </tr>\n",
       "    <tr>\n",
       "      <th>0</th>\n",
       "      <td>22</td>\n",
       "      <td>55.000000</td>\n",
       "    </tr>\n",
       "    <tr>\n",
       "      <th rowspan=\"2\" valign=\"top\">14010</th>\n",
       "      <th>1</th>\n",
       "      <td>3191</td>\n",
       "      <td>90.937589</td>\n",
       "    </tr>\n",
       "    <tr>\n",
       "      <th>0</th>\n",
       "      <td>318</td>\n",
       "      <td>9.062411</td>\n",
       "    </tr>\n",
       "    <tr>\n",
       "      <th rowspan=\"2\" valign=\"top\">0</th>\n",
       "      <th>1</th>\n",
       "      <td>411</td>\n",
       "      <td>26.481959</td>\n",
       "    </tr>\n",
       "    <tr>\n",
       "      <th>0</th>\n",
       "      <td>1141</td>\n",
       "      <td>73.518041</td>\n",
       "    </tr>\n",
       "  </tbody>\n",
       "</table>\n",
       "</div>"
      ],
      "text/plain": [
       "                              Count          %\n",
       "derived_msa-md action_taken                   \n",
       "99999          1              15252  88.633194\n",
       "               0               1956  11.366806\n",
       "44100          1               4077  93.337912\n",
       "               0                291   6.662088\n",
       "41180          1              12384  91.910346\n",
       "               0               1090   8.089654\n",
       "40420          1               5378  91.665246\n",
       "               0                489   8.334754\n",
       "37900          1               7671  94.575268\n",
       "               0                440   5.424732\n",
       "29404          1              13288  93.268758\n",
       "               0                959   6.731242\n",
       "28100          1               1728  87.582362\n",
       "               0                245  12.417638\n",
       "20994          1              14637  93.610898\n",
       "               0                999   6.389102\n",
       "19500          1               1645  89.743590\n",
       "               0                188  10.256410\n",
       "19340          1               3641  92.340857\n",
       "               0                302   7.659143\n",
       "19180          1                781  87.851519\n",
       "               0                108  12.148481\n",
       "16984          1             114186  91.603090\n",
       "               0              10467   8.396910\n",
       "16580          1               3359  92.867017\n",
       "               0                258   7.132983\n",
       "16060          1               1661  86.963351\n",
       "               0                249  13.036649\n",
       "16020          1                 18  45.000000\n",
       "               0                 22  55.000000\n",
       "14010          1               3191  90.937589\n",
       "               0                318   9.062411\n",
       "0              1                411  26.481959\n",
       "               0               1141  73.518041"
      ]
     },
     "execution_count": 207,
     "metadata": {},
     "output_type": "execute_result"
    }
   ],
   "source": [
    "# MSA Code Success Rate \n",
    "msa = pd.DataFrame(df.groupby('derived_msa-md')['action_taken'].value_counts())\n",
    "msa.columns = ['Count']\n",
    "msa = msa.reset_index()\n",
    "msa['%'] = 100 * msa['Count'] / msa.groupby('derived_msa-md')['Count'].transform('sum')\n",
    "msa = msa.sort_values(['derived_msa-md', 'action_taken'], ascending = False).set_index(['derived_msa-md','action_taken'])\n",
    "msa"
   ]
  },
  {
   "cell_type": "code",
   "execution_count": 208,
   "id": "4e247f2a",
   "metadata": {},
   "outputs": [
    {
     "data": {
      "text/html": [
       "<div>\n",
       "<style scoped>\n",
       "    .dataframe tbody tr th:only-of-type {\n",
       "        vertical-align: middle;\n",
       "    }\n",
       "\n",
       "    .dataframe tbody tr th {\n",
       "        vertical-align: top;\n",
       "    }\n",
       "\n",
       "    .dataframe thead th {\n",
       "        text-align: right;\n",
       "    }\n",
       "</style>\n",
       "<table border=\"1\" class=\"dataframe\">\n",
       "  <thead>\n",
       "    <tr style=\"text-align: right;\">\n",
       "      <th></th>\n",
       "      <th></th>\n",
       "      <th>Count</th>\n",
       "      <th>%</th>\n",
       "    </tr>\n",
       "    <tr>\n",
       "      <th>intopmsa</th>\n",
       "      <th>action_taken</th>\n",
       "      <th></th>\n",
       "      <th></th>\n",
       "    </tr>\n",
       "  </thead>\n",
       "  <tbody>\n",
       "    <tr>\n",
       "      <th rowspan=\"2\" valign=\"top\">1</th>\n",
       "      <th>1</th>\n",
       "      <td>114186</td>\n",
       "      <td>91.603090</td>\n",
       "    </tr>\n",
       "    <tr>\n",
       "      <th>0</th>\n",
       "      <td>10467</td>\n",
       "      <td>8.396910</td>\n",
       "    </tr>\n",
       "    <tr>\n",
       "      <th rowspan=\"2\" valign=\"top\">0</th>\n",
       "      <th>1</th>\n",
       "      <td>89122</td>\n",
       "      <td>90.776862</td>\n",
       "    </tr>\n",
       "    <tr>\n",
       "      <th>0</th>\n",
       "      <td>9055</td>\n",
       "      <td>9.223138</td>\n",
       "    </tr>\n",
       "  </tbody>\n",
       "</table>\n",
       "</div>"
      ],
      "text/plain": [
       "                        Count          %\n",
       "intopmsa action_taken                   \n",
       "1        1             114186  91.603090\n",
       "         0              10467   8.396910\n",
       "0        1              89122  90.776862\n",
       "         0               9055   9.223138"
      ]
     },
     "execution_count": 208,
     "metadata": {},
     "output_type": "execute_result"
    }
   ],
   "source": [
    "# NEW FEATURE: In MSA 16984 or not in 16984: are houses within (Chicago, Naperville, Evanston) more succesful?\n",
    "itopmsa = pd.DataFrame(df[['derived_msa-md','action_taken']])\n",
    "itopmsa['intopmsa'] = ''\n",
    "itopmsa['intopmsa'] = np.where(itopmsa['derived_msa-md']!= 16984,0,1)\n",
    "itopmsa = itopmsa.drop('derived_msa-md',axis = 1)\n",
    "# Comparison of overall success %\n",
    "topmsa = pd.DataFrame(itopmsa.groupby('intopmsa')['action_taken'].value_counts())\n",
    "topmsa.columns = ['Count']\n",
    "topmsa = topmsa.reset_index()\n",
    "topmsa['%'] = 100 * topmsa['Count'] / topmsa.groupby('intopmsa')['Count'].transform('sum')\n",
    "topmsa = topmsa.sort_values(['intopmsa', 'action_taken'], ascending = False).set_index(['intopmsa','action_taken'])\n",
    "topmsa"
   ]
  },
  {
   "cell_type": "code",
   "execution_count": 210,
   "id": "b17de817",
   "metadata": {},
   "outputs": [
    {
     "data": {
      "text/plain": [
       "Text(0.5, 1.0, 'Success vs Rejection for 16580 MSA code or not')"
      ]
     },
     "execution_count": 210,
     "metadata": {},
     "output_type": "execute_result"
    },
    {
     "data": {
      "image/png": "[encoded data removed]",
      "text/plain": [
       "<Figure size 864x720 with 1 Axes>"
      ]
     },
     "metadata": {
      "needs_background": "light"
     },
     "output_type": "display_data"
    }
   ],
   "source": [
    "# Comparing Not 16580 vs 16580 Success Rates: graph\n",
    "graph_topmsa = pd.concat([pd.DataFrame([itopmsa.groupby('intopmsa')['action_taken'].value_counts()[1][1],itopmsa.groupby('intopmsa')['action_taken'].value_counts()[1][0]]).transpose(),\n",
    "           pd.DataFrame([itopmsa.groupby('intopmsa')['action_taken'].value_counts()[0][1],itopmsa.groupby('intopmsa')['action_taken'].value_counts()[0][0]]).transpose()])\n",
    "graph_topmsa.index = ['In Top MSA','Not Top MSA']\n",
    "graph_topmsa.columns = ['Success','Rejection']\n",
    "\n",
    "graph_topmsa.plot(kind = 'bar', figsize = (12,10))\n",
    "plt.title(\"Success vs Rejection for 16580 MSA code or not\")"
   ]
  },
  {
   "cell_type": "code",
   "execution_count": 211,
   "id": "41195c5c",
   "metadata": {},
   "outputs": [
    {
     "data": {
      "text/html": [
       "<div>\n",
       "<style scoped>\n",
       "    .dataframe tbody tr th:only-of-type {\n",
       "        vertical-align: middle;\n",
       "    }\n",
       "\n",
       "    .dataframe tbody tr th {\n",
       "        vertical-align: top;\n",
       "    }\n",
       "\n",
       "    .dataframe thead th {\n",
       "        text-align: right;\n",
       "    }\n",
       "</style>\n",
       "<table border=\"1\" class=\"dataframe\">\n",
       "  <thead>\n",
       "    <tr style=\"text-align: right;\">\n",
       "      <th></th>\n",
       "      <th>In Top MSA %</th>\n",
       "      <th>Not Top MSA %</th>\n",
       "      <th>PVal</th>\n",
       "    </tr>\n",
       "  </thead>\n",
       "  <tbody>\n",
       "    <tr>\n",
       "      <th></th>\n",
       "      <td>91.603</td>\n",
       "      <td>90.777</td>\n",
       "      <td>0.000000</td>\n",
       "    </tr>\n",
       "  </tbody>\n",
       "</table>\n",
       "</div>"
      ],
      "text/plain": [
       " In Top MSA % Not Top MSA %      PVal\n",
       "       91.603        90.777  0.000000"
      ]
     },
     "execution_count": 211,
     "metadata": {},
     "output_type": "execute_result"
    }
   ],
   "source": [
    "# HYPOTHESIS TESTING : IN TOP MSA > SUCCESS THAN NOT?\n",
    "population = topmsa.reset_index()\n",
    "\n",
    "sample1_phat = population.iloc[0][3]/100\n",
    "sample2_phat = population.iloc[2][3]/100\n",
    "sample1_size = population.iloc[0][2]\n",
    "sample2_size = population.iloc[2][2]\n",
    "phat = (sample1_phat*sample1_size+sample2_phat*sample2_size)/(sample1_size+sample2_size)\n",
    "zscore = (sample1_phat - sample2_phat)/np.sqrt(phat*(1-phat)*((1/sample1_size)+(1/sample2_size)))    \n",
    "pval = st.norm.sf(abs(zscore))*2\n",
    "testresult = pd.DataFrame([round(sample1_phat*100,3),round(sample2_phat*100,3),format(pval,'f')]).transpose()\n",
    "testresult.columns = ['In Top MSA %','Not Top MSA %','PVal']\n",
    "testresult.index = ['']\n",
    "testresult"
   ]
  },
  {
   "cell_type": "code",
   "execution_count": 212,
   "id": "547eb861",
   "metadata": {},
   "outputs": [],
   "source": [
    "### Occupancy Type: 1 is principal residence, 2 is secondary, 3 is investment"
   ]
  },
  {
   "cell_type": "code",
   "execution_count": 213,
   "id": "8aef6a59",
   "metadata": {},
   "outputs": [
    {
     "data": {
      "text/plain": [
       "1    203233\n",
       "3     16370\n",
       "2      3227\n",
       "Name: occupancy_type, dtype: int64"
      ]
     },
     "execution_count": 213,
     "metadata": {},
     "output_type": "execute_result"
    }
   ],
   "source": [
    "# distribution of occupancy type applications\n",
    "df['occupancy_type'].value_counts()"
   ]
  },
  {
   "cell_type": "code",
   "execution_count": 214,
   "id": "996cfd8d",
   "metadata": {},
   "outputs": [
    {
     "data": {
      "text/html": [
       "<div>\n",
       "<style scoped>\n",
       "    .dataframe tbody tr th:only-of-type {\n",
       "        vertical-align: middle;\n",
       "    }\n",
       "\n",
       "    .dataframe tbody tr th {\n",
       "        vertical-align: top;\n",
       "    }\n",
       "\n",
       "    .dataframe thead th {\n",
       "        text-align: right;\n",
       "    }\n",
       "</style>\n",
       "<table border=\"1\" class=\"dataframe\">\n",
       "  <thead>\n",
       "    <tr style=\"text-align: right;\">\n",
       "      <th></th>\n",
       "      <th></th>\n",
       "      <th>Count</th>\n",
       "      <th>%</th>\n",
       "    </tr>\n",
       "    <tr>\n",
       "      <th>occupancy_type</th>\n",
       "      <th>action_taken</th>\n",
       "      <th></th>\n",
       "      <th></th>\n",
       "    </tr>\n",
       "  </thead>\n",
       "  <tbody>\n",
       "    <tr>\n",
       "      <th rowspan=\"2\" valign=\"top\">3</th>\n",
       "      <th>1</th>\n",
       "      <td>15036</td>\n",
       "      <td>91.850947</td>\n",
       "    </tr>\n",
       "    <tr>\n",
       "      <th>0</th>\n",
       "      <td>1334</td>\n",
       "      <td>8.149053</td>\n",
       "    </tr>\n",
       "    <tr>\n",
       "      <th rowspan=\"2\" valign=\"top\">2</th>\n",
       "      <th>1</th>\n",
       "      <td>2941</td>\n",
       "      <td>91.137279</td>\n",
       "    </tr>\n",
       "    <tr>\n",
       "      <th>0</th>\n",
       "      <td>286</td>\n",
       "      <td>8.862721</td>\n",
       "    </tr>\n",
       "    <tr>\n",
       "      <th rowspan=\"2\" valign=\"top\">1</th>\n",
       "      <th>1</th>\n",
       "      <td>185331</td>\n",
       "      <td>91.191391</td>\n",
       "    </tr>\n",
       "    <tr>\n",
       "      <th>0</th>\n",
       "      <td>17902</td>\n",
       "      <td>8.808609</td>\n",
       "    </tr>\n",
       "  </tbody>\n",
       "</table>\n",
       "</div>"
      ],
      "text/plain": [
       "                              Count          %\n",
       "occupancy_type action_taken                   \n",
       "3              1              15036  91.850947\n",
       "               0               1334   8.149053\n",
       "2              1               2941  91.137279\n",
       "               0                286   8.862721\n",
       "1              1             185331  91.191391\n",
       "               0              17902   8.808609"
      ]
     },
     "execution_count": 214,
     "metadata": {},
     "output_type": "execute_result"
    }
   ],
   "source": [
    "# Occupancy Type + Success Rate\n",
    "ot = pd.DataFrame(df.groupby('occupancy_type')['action_taken'].value_counts())\n",
    "ot.columns = ['Count']\n",
    "ot = ot.reset_index()\n",
    "ot['%'] = 100 * ot['Count'] / ot.groupby('occupancy_type')['Count'].transform('sum')\n",
    "ot = ot.sort_values(['occupancy_type', 'action_taken'], ascending = False).set_index(['occupancy_type','action_taken'])\n",
    "ot"
   ]
  },
  {
   "cell_type": "code",
   "execution_count": 215,
   "id": "b5489c74",
   "metadata": {},
   "outputs": [
    {
     "data": {
      "text/plain": [
       "Text(0.5, 1.0, 'Success vs Rejection for Occupancy Types')"
      ]
     },
     "execution_count": 215,
     "metadata": {},
     "output_type": "execute_result"
    },
    {
     "data": {
      "image/png": "[encoded data removed]",
      "text/plain": [
       "<Figure size 864x720 with 1 Axes>"
      ]
     },
     "metadata": {
      "needs_background": "light"
     },
     "output_type": "display_data"
    }
   ],
   "source": [
    "# Comparing Occupancy Type 1-2-3  Success Rates\n",
    "# Comparing Occupancy Type Success Rates: graph\n",
    "graph_ot = pd.concat([pd.DataFrame([df.groupby('occupancy_type')['action_taken'].value_counts()[1][1],df.groupby('occupancy_type')['action_taken'].value_counts()[1][0]]).transpose(),\n",
    "           pd.DataFrame([df.groupby('occupancy_type')['action_taken'].value_counts()[2][1],df.groupby('occupancy_type')['action_taken'].value_counts()[2][0]]).transpose(),\n",
    "           pd.DataFrame([df.groupby('occupancy_type')['action_taken'].value_counts()[3][1],df.groupby('occupancy_type')['action_taken'].value_counts()[3][0]]).transpose()])\n",
    "\n",
    "graph_ot.index = ['Principal','Second','Investment']\n",
    "graph_ot.columns = ['Success','Rejection']\n",
    "\n",
    "graph_ot.plot(kind = 'bar', figsize = (12,10))\n",
    "plt.title(\"Success vs Rejection for Occupancy Types\")"
   ]
  },
  {
   "cell_type": "code",
   "execution_count": 271,
   "id": "55b88b3e",
   "metadata": {},
   "outputs": [
    {
     "data": {
      "text/html": [
       "<div>\n",
       "<style scoped>\n",
       "    .dataframe tbody tr th:only-of-type {\n",
       "        vertical-align: middle;\n",
       "    }\n",
       "\n",
       "    .dataframe tbody tr th {\n",
       "        vertical-align: top;\n",
       "    }\n",
       "\n",
       "    .dataframe thead th {\n",
       "        text-align: right;\n",
       "    }\n",
       "</style>\n",
       "<table border=\"1\" class=\"dataframe\">\n",
       "  <thead>\n",
       "    <tr style=\"text-align: right;\">\n",
       "      <th></th>\n",
       "      <th>Investment %</th>\n",
       "      <th>Second %</th>\n",
       "      <th>Principal %</th>\n",
       "      <th>Investment vs Second</th>\n",
       "      <th>Investment vs Principal</th>\n",
       "      <th>Second vs Principal</th>\n",
       "    </tr>\n",
       "  </thead>\n",
       "  <tbody>\n",
       "    <tr>\n",
       "      <th></th>\n",
       "      <td>91.851</td>\n",
       "      <td>91.137</td>\n",
       "      <td>91.191</td>\n",
       "      <td>0.198648</td>\n",
       "      <td>0.005934</td>\n",
       "      <td>0.918182</td>\n",
       "    </tr>\n",
       "  </tbody>\n",
       "</table>\n",
       "</div>"
      ],
      "text/plain": [
       "  Investment %  Second %  Principal % Investment vs Second  \\\n",
       "        91.851    91.137       91.191             0.198648   \n",
       "\n",
       " Investment vs Principal Second vs Principal  \n",
       "                0.005934            0.918182  "
      ]
     },
     "execution_count": 271,
     "metadata": {},
     "output_type": "execute_result"
    }
   ],
   "source": [
    "# HYPOTHESIS TESTING : Occupancy Type impact on success?\n",
    "population = ot.reset_index()\n",
    "\n",
    "testresult = pd.DataFrame()\n",
    "testresult['Investment %'] = list([round(population.iloc[0][3],3)]) \n",
    "testresult['Second %'] = list([round(population.iloc[2][3],3)])\n",
    "testresult['Principal %'] = list([round(population.iloc[4][3],3)])\n",
    "\n",
    "columnnames = ['Investment vs Second','Investment vs Principal', 'Second vs Principal']\n",
    "\n",
    "sample1_phat_list = [0,0,2,3,3,3]\n",
    "sample2_phat_list = [2,4,4,3,3,3]\n",
    "sample1_size_list = [0,0,2,2,2,2]\n",
    "sample2_size_list = [2,4,4,2,2,2]\n",
    "\n",
    "\n",
    "for x in range(int(len(population)/2)):\n",
    "    sample1_phat = population.iloc[sample1_phat_list[x]][sample1_phat_list[x+3]]/100\n",
    "    sample2_phat = population.iloc[sample2_phat_list[x]][sample2_phat_list[x+3]]/100\n",
    "    sample1_size = population.iloc[sample1_size_list[x]][sample1_size_list[x+3]]\n",
    "    sample2_size = population.iloc[sample2_size_list[x]][sample2_size_list[x+3]]\n",
    "    phat = (sample1_phat*sample1_size+sample2_phat*sample2_size)/(sample1_size+sample2_size)\n",
    "    zscore = (sample1_phat - sample2_phat)/np.sqrt(phat*(1-phat)*((1/sample1_size)+(1/sample2_size)))    \n",
    "    pval = st.norm.sf(abs(zscore))*2\n",
    "    testresult[columnnames[x]] = list([format(pval,'f')])\n",
    "\n",
    "testresult.index = ['']\n",
    "testresult"
   ]
  },
  {
   "cell_type": "code",
   "execution_count": 217,
   "id": "5d15823a",
   "metadata": {},
   "outputs": [],
   "source": [
    "## PROPERTY VALUE ##"
   ]
  },
  {
   "cell_type": "code",
   "execution_count": 232,
   "id": "4af209b9",
   "metadata": {},
   "outputs": [
    {
     "data": {
      "text/plain": [
       "10038"
      ]
     },
     "execution_count": 232,
     "metadata": {},
     "output_type": "execute_result"
    }
   ],
   "source": [
    "# DROP ALL THAT HAVE AN EXEMPT / NOT NUMERIC\n",
    "numeric_value = pd.DataFrame(df['action_taken'])\n",
    "numeric_value['property_value'] = pd.to_numeric(df['property_value'], errors='coerce')\n",
    "numeric_value = numeric_value.dropna().reset_index(drop = True)\n",
    "len(df)-len(numeric_value)"
   ]
  },
  {
   "cell_type": "code",
   "execution_count": 249,
   "id": "5c130def",
   "metadata": {},
   "outputs": [
    {
     "name": "stdout",
     "output_type": "stream",
     "text": [
      "Low: Property Value <= 195000.0\n",
      "Medium: Property Value > 195000.0 and < 325000.0\n",
      "High: Property Value >= 325000.0\n"
     ]
    }
   ],
   "source": [
    "# Creating Buckets for Property Values\n",
    "low = numeric_value['property_value'].quantile(.33)\n",
    "medium = numeric_value['property_value'].quantile(.66)\n",
    "numeric_value['Value_Bracket'] = np.where(numeric_value['property_value']<=low,'Low',\n",
    "         np.where((numeric_value['property_value']>low)&(numeric_value['property_value']<medium),'Medium',\n",
    "                 np.where(numeric_value['property_value']>=medium,'High','ERROR')))\n",
    "\n",
    "print('Low: Property Value <=',low)\n",
    "print('Medium: Property Value >',low,'and <',medium)\n",
    "print('High: Property Value >=',medium)"
   ]
  },
  {
   "cell_type": "code",
   "execution_count": 251,
   "id": "b6cb6793",
   "metadata": {},
   "outputs": [
    {
     "data": {
      "text/html": [
       "<div>\n",
       "<style scoped>\n",
       "    .dataframe tbody tr th:only-of-type {\n",
       "        vertical-align: middle;\n",
       "    }\n",
       "\n",
       "    .dataframe tbody tr th {\n",
       "        vertical-align: top;\n",
       "    }\n",
       "\n",
       "    .dataframe thead th {\n",
       "        text-align: right;\n",
       "    }\n",
       "</style>\n",
       "<table border=\"1\" class=\"dataframe\">\n",
       "  <thead>\n",
       "    <tr style=\"text-align: right;\">\n",
       "      <th></th>\n",
       "      <th></th>\n",
       "      <th>Count</th>\n",
       "      <th>%</th>\n",
       "    </tr>\n",
       "    <tr>\n",
       "      <th>Value_Bracket</th>\n",
       "      <th>action_taken</th>\n",
       "      <th></th>\n",
       "      <th></th>\n",
       "    </tr>\n",
       "  </thead>\n",
       "  <tbody>\n",
       "    <tr>\n",
       "      <th rowspan=\"2\" valign=\"top\">Medium</th>\n",
       "      <th>1</th>\n",
       "      <td>58305</td>\n",
       "      <td>92.419991</td>\n",
       "    </tr>\n",
       "    <tr>\n",
       "      <th>0</th>\n",
       "      <td>4782</td>\n",
       "      <td>7.580009</td>\n",
       "    </tr>\n",
       "    <tr>\n",
       "      <th rowspan=\"2\" valign=\"top\">Low</th>\n",
       "      <th>1</th>\n",
       "      <td>65899</td>\n",
       "      <td>88.154480</td>\n",
       "    </tr>\n",
       "    <tr>\n",
       "      <th>0</th>\n",
       "      <td>8855</td>\n",
       "      <td>11.845520</td>\n",
       "    </tr>\n",
       "    <tr>\n",
       "      <th rowspan=\"2\" valign=\"top\">High</th>\n",
       "      <th>1</th>\n",
       "      <td>70971</td>\n",
       "      <td>94.689864</td>\n",
       "    </tr>\n",
       "    <tr>\n",
       "      <th>0</th>\n",
       "      <td>3980</td>\n",
       "      <td>5.310136</td>\n",
       "    </tr>\n",
       "  </tbody>\n",
       "</table>\n",
       "</div>"
      ],
      "text/plain": [
       "                            Count          %\n",
       "Value_Bracket action_taken                  \n",
       "Medium        1             58305  92.419991\n",
       "              0              4782   7.580009\n",
       "Low           1             65899  88.154480\n",
       "              0              8855  11.845520\n",
       "High          1             70971  94.689864\n",
       "              0              3980   5.310136"
      ]
     },
     "execution_count": 251,
     "metadata": {},
     "output_type": "execute_result"
    }
   ],
   "source": [
    "# Value Bracket + Success Rate\n",
    "vb = pd.DataFrame(numeric_value.groupby('Value_Bracket')['action_taken'].value_counts())\n",
    "vb.columns = ['Count']\n",
    "vb = vb.reset_index()\n",
    "vb['%'] = 100 * vb['Count'] / vb.groupby('Value_Bracket')['Count'].transform('sum')\n",
    "vb = vb.sort_values(['Value_Bracket', 'action_taken'], ascending = False).set_index(['Value_Bracket','action_taken'])\n",
    "vb"
   ]
  },
  {
   "cell_type": "code",
   "execution_count": 264,
   "id": "df37ef7b",
   "metadata": {},
   "outputs": [
    {
     "data": {
      "text/plain": [
       "Text(0.5, 1.0, 'Success vs Rejection for Property Value Bracket')"
      ]
     },
     "execution_count": 264,
     "metadata": {},
     "output_type": "execute_result"
    },
    {
     "data": {
      "image/png": "[encoded data removed]",
      "text/plain": [
       "<Figure size 864x720 with 1 Axes>"
      ]
     },
     "metadata": {
      "needs_background": "light"
     },
     "output_type": "display_data"
    }
   ],
   "source": [
    "# Comparing Value Brackets Property Success Rates\n",
    "graph_vb = pd.concat([pd.DataFrame([numeric_value.groupby('Value_Bracket')['action_taken'].value_counts()['High'][1],numeric_value.groupby('Value_Bracket')['action_taken'].value_counts()['High'][0]]).transpose(),\n",
    "           pd.DataFrame([numeric_value.groupby('Value_Bracket')['action_taken'].value_counts()['Medium'][1],numeric_value.groupby('Value_Bracket')['action_taken'].value_counts()['Medium'][0]]).transpose(),\n",
    "           pd.DataFrame([numeric_value.groupby('Value_Bracket')['action_taken'].value_counts()['Low'][1],numeric_value.groupby('Value_Bracket')['action_taken'].value_counts()['Low'][0]]).transpose()])\n",
    "graph_vb.index = ['High','Medium','Low']\n",
    "graph_vb.columns = ['Success','Rejection']\n",
    "\n",
    "graph_vb.plot(kind = 'bar', figsize = (12,10))\n",
    "plt.title(\"Success vs Rejection for Property Value Bracket\")"
   ]
  },
  {
   "cell_type": "code",
   "execution_count": 272,
   "id": "4f4aad5b",
   "metadata": {},
   "outputs": [
    {
     "data": {
      "text/html": [
       "<div>\n",
       "<style scoped>\n",
       "    .dataframe tbody tr th:only-of-type {\n",
       "        vertical-align: middle;\n",
       "    }\n",
       "\n",
       "    .dataframe tbody tr th {\n",
       "        vertical-align: top;\n",
       "    }\n",
       "\n",
       "    .dataframe thead th {\n",
       "        text-align: right;\n",
       "    }\n",
       "</style>\n",
       "<table border=\"1\" class=\"dataframe\">\n",
       "  <thead>\n",
       "    <tr style=\"text-align: right;\">\n",
       "      <th></th>\n",
       "      <th>Medium %</th>\n",
       "      <th>Low %</th>\n",
       "      <th>High %</th>\n",
       "      <th>Medium vs Low</th>\n",
       "      <th>Medium vs High</th>\n",
       "      <th>Low vs High</th>\n",
       "    </tr>\n",
       "  </thead>\n",
       "  <tbody>\n",
       "    <tr>\n",
       "      <th></th>\n",
       "      <td>92.42</td>\n",
       "      <td>88.154</td>\n",
       "      <td>94.69</td>\n",
       "      <td>0.000000</td>\n",
       "      <td>0.000000</td>\n",
       "      <td>0.000000</td>\n",
       "    </tr>\n",
       "  </tbody>\n",
       "</table>\n",
       "</div>"
      ],
      "text/plain": [
       "  Medium %   Low %  High % Medium vs Low Medium vs High Low vs High\n",
       "     92.42  88.154   94.69      0.000000       0.000000    0.000000"
      ]
     },
     "execution_count": 272,
     "metadata": {},
     "output_type": "execute_result"
    }
   ],
   "source": [
    "# HYPOTHESIS TESTING : Property Value Brackets impact on success?\n",
    "population = vb.reset_index()\n",
    "\n",
    "testresult = pd.DataFrame()\n",
    "testresult['Medium %'] = list([round(population.iloc[0][3],3)]) \n",
    "testresult['Low %'] = list([round(population.iloc[2][3],3)])\n",
    "testresult['High %'] = list([round(population.iloc[4][3],3)])\n",
    "\n",
    "columnnames = ['Medium vs Low','Medium vs High', 'Low vs High']\n",
    "\n",
    "sample1_phat_list = [0,0,2,3,3,3]\n",
    "sample2_phat_list = [2,4,4,3,3,3]\n",
    "sample1_size_list = [0,0,2,2,2,2]\n",
    "sample2_size_list = [2,4,4,2,2,2]\n",
    "\n",
    "\n",
    "for x in range(int(len(population)/2)):\n",
    "    sample1_phat = population.iloc[sample1_phat_list[x]][sample1_phat_list[x+3]]/100\n",
    "    sample2_phat = population.iloc[sample2_phat_list[x]][sample2_phat_list[x+3]]/100\n",
    "    sample1_size = population.iloc[sample1_size_list[x]][sample1_size_list[x+3]]\n",
    "    sample2_size = population.iloc[sample2_size_list[x]][sample2_size_list[x+3]]\n",
    "    phat = (sample1_phat*sample1_size+sample2_phat*sample2_size)/(sample1_size+sample2_size)\n",
    "    zscore = (sample1_phat - sample2_phat)/np.sqrt(phat*(1-phat)*((1/sample1_size)+(1/sample2_size)))    \n",
    "    pval = st.norm.sf(abs(zscore))*2\n",
    "    testresult[columnnames[x]] = list([format(pval,'f')])\n",
    "\n",
    "testresult.index = ['']\n",
    "testresult"
   ]
  },
  {
   "cell_type": "code",
   "execution_count": 273,
   "id": "cb702165",
   "metadata": {},
   "outputs": [],
   "source": [
    "# TRACT POPULATION #"
   ]
  },
  {
   "cell_type": "code",
   "execution_count": 277,
   "id": "836d3a0b",
   "metadata": {},
   "outputs": [
    {
     "name": "stdout",
     "output_type": "stream",
     "text": [
      "Low: Population <= 4019.0\n",
      "Medium: Population > 4019.0 and < 5626.0\n",
      "High: Population >= 5626.0\n"
     ]
    }
   ],
   "source": [
    "# Creating Buckets for Tract population\n",
    "tract = pd.DataFrame(df[['tract_population','action_taken']])\n",
    "\n",
    "low = tract['tract_population'].quantile(.33)\n",
    "medium = tract['tract_population'].quantile(.66)\n",
    "tract['Population_Bracket'] = np.where(tract['tract_population']<=low,'Low',\n",
    "         np.where((tract['tract_population']>low)&(tract['tract_population']<medium),'Medium',\n",
    "                 np.where(tract['tract_population']>=medium,'High','ERROR')))\n",
    "\n",
    "print('Low: Population <=',low)\n",
    "print('Medium: Population >',low,'and <',medium)\n",
    "print('High: Population >=',medium)"
   ]
  },
  {
   "cell_type": "code",
   "execution_count": 278,
   "id": "f009056c",
   "metadata": {},
   "outputs": [
    {
     "data": {
      "text/html": [
       "<div>\n",
       "<style scoped>\n",
       "    .dataframe tbody tr th:only-of-type {\n",
       "        vertical-align: middle;\n",
       "    }\n",
       "\n",
       "    .dataframe tbody tr th {\n",
       "        vertical-align: top;\n",
       "    }\n",
       "\n",
       "    .dataframe thead th {\n",
       "        text-align: right;\n",
       "    }\n",
       "</style>\n",
       "<table border=\"1\" class=\"dataframe\">\n",
       "  <thead>\n",
       "    <tr style=\"text-align: right;\">\n",
       "      <th></th>\n",
       "      <th></th>\n",
       "      <th>Count</th>\n",
       "      <th>%</th>\n",
       "    </tr>\n",
       "    <tr>\n",
       "      <th>Population_Bracket</th>\n",
       "      <th>action_taken</th>\n",
       "      <th></th>\n",
       "      <th></th>\n",
       "    </tr>\n",
       "  </thead>\n",
       "  <tbody>\n",
       "    <tr>\n",
       "      <th rowspan=\"2\" valign=\"top\">Medium</th>\n",
       "      <th>1</th>\n",
       "      <td>67504</td>\n",
       "      <td>91.989861</td>\n",
       "    </tr>\n",
       "    <tr>\n",
       "      <th>0</th>\n",
       "      <td>5878</td>\n",
       "      <td>8.010139</td>\n",
       "    </tr>\n",
       "    <tr>\n",
       "      <th rowspan=\"2\" valign=\"top\">Low</th>\n",
       "      <th>1</th>\n",
       "      <td>65768</td>\n",
       "      <td>89.271365</td>\n",
       "    </tr>\n",
       "    <tr>\n",
       "      <th>0</th>\n",
       "      <td>7904</td>\n",
       "      <td>10.728635</td>\n",
       "    </tr>\n",
       "    <tr>\n",
       "      <th rowspan=\"2\" valign=\"top\">High</th>\n",
       "      <th>1</th>\n",
       "      <td>70036</td>\n",
       "      <td>92.425042</td>\n",
       "    </tr>\n",
       "    <tr>\n",
       "      <th>0</th>\n",
       "      <td>5740</td>\n",
       "      <td>7.574958</td>\n",
       "    </tr>\n",
       "  </tbody>\n",
       "</table>\n",
       "</div>"
      ],
      "text/plain": [
       "                                 Count          %\n",
       "Population_Bracket action_taken                  \n",
       "Medium             1             67504  91.989861\n",
       "                   0              5878   8.010139\n",
       "Low                1             65768  89.271365\n",
       "                   0              7904  10.728635\n",
       "High               1             70036  92.425042\n",
       "                   0              5740   7.574958"
      ]
     },
     "execution_count": 278,
     "metadata": {},
     "output_type": "execute_result"
    }
   ],
   "source": [
    "# Population Bracket + Success Rate\n",
    "pb = pd.DataFrame(tract.groupby('Population_Bracket')['action_taken'].value_counts())\n",
    "pb.columns = ['Count']\n",
    "pb = pb.reset_index()\n",
    "pb['%'] = 100 * pb['Count'] / pb.groupby('Population_Bracket')['Count'].transform('sum')\n",
    "pb = pb.sort_values(['Population_Bracket', 'action_taken'], ascending = False).set_index(['Population_Bracket','action_taken'])\n",
    "pb"
   ]
  },
  {
   "cell_type": "code",
   "execution_count": 279,
   "id": "ea94d2f5",
   "metadata": {},
   "outputs": [
    {
     "data": {
      "text/plain": [
       "Text(0.5, 1.0, 'Success vs Rejection for Population Bracket')"
      ]
     },
     "execution_count": 279,
     "metadata": {},
     "output_type": "execute_result"
    },
    {
     "data": {
      "image/png": "[encoded data removed]",
      "text/plain": [
       "<Figure size 864x720 with 1 Axes>"
      ]
     },
     "metadata": {
      "needs_background": "light"
     },
     "output_type": "display_data"
    }
   ],
   "source": [
    "# Comparing Population Success Rates\n",
    "graph_pb = pd.concat([pd.DataFrame([tract.groupby('Population_Bracket')['action_taken'].value_counts()['High'][1],tract.groupby('Population_Bracket')['action_taken'].value_counts()['High'][0]]).transpose(),\n",
    "           pd.DataFrame([tract.groupby('Population_Bracket')['action_taken'].value_counts()['Medium'][1],tract.groupby('Population_Bracket')['action_taken'].value_counts()['Medium'][0]]).transpose(),\n",
    "           pd.DataFrame([tract.groupby('Population_Bracket')['action_taken'].value_counts()['Low'][1],tract.groupby('Population_Bracket')['action_taken'].value_counts()['Low'][0]]).transpose()])\n",
    "graph_pb.index = ['High','Medium','Low']\n",
    "graph_pb.columns = ['Success','Rejection']\n",
    "\n",
    "graph_pb.plot(kind = 'bar', figsize = (12,10))\n",
    "plt.title(\"Success vs Rejection for Population Bracket\")"
   ]
  },
  {
   "cell_type": "code",
   "execution_count": 280,
   "id": "1f408055",
   "metadata": {},
   "outputs": [
    {
     "data": {
      "text/html": [
       "<div>\n",
       "<style scoped>\n",
       "    .dataframe tbody tr th:only-of-type {\n",
       "        vertical-align: middle;\n",
       "    }\n",
       "\n",
       "    .dataframe tbody tr th {\n",
       "        vertical-align: top;\n",
       "    }\n",
       "\n",
       "    .dataframe thead th {\n",
       "        text-align: right;\n",
       "    }\n",
       "</style>\n",
       "<table border=\"1\" class=\"dataframe\">\n",
       "  <thead>\n",
       "    <tr style=\"text-align: right;\">\n",
       "      <th></th>\n",
       "      <th>Medium %</th>\n",
       "      <th>Low %</th>\n",
       "      <th>High %</th>\n",
       "      <th>Medium vs Low</th>\n",
       "      <th>Medium vs High</th>\n",
       "      <th>Low vs High</th>\n",
       "    </tr>\n",
       "  </thead>\n",
       "  <tbody>\n",
       "    <tr>\n",
       "      <th></th>\n",
       "      <td>91.99</td>\n",
       "      <td>89.271</td>\n",
       "      <td>92.425</td>\n",
       "      <td>0.000000</td>\n",
       "      <td>0.002607</td>\n",
       "      <td>0.000000</td>\n",
       "    </tr>\n",
       "  </tbody>\n",
       "</table>\n",
       "</div>"
      ],
      "text/plain": [
       "  Medium %   Low %  High % Medium vs Low Medium vs High Low vs High\n",
       "     91.99  89.271  92.425      0.000000       0.002607    0.000000"
      ]
     },
     "execution_count": 280,
     "metadata": {},
     "output_type": "execute_result"
    }
   ],
   "source": [
    "# HYPOTHESIS TESTING : Population impact on success?\n",
    "population = pb.reset_index()\n",
    "\n",
    "testresult = pd.DataFrame()\n",
    "testresult['Medium %'] = list([round(population.iloc[0][3],3)]) \n",
    "testresult['Low %'] = list([round(population.iloc[2][3],3)])\n",
    "testresult['High %'] = list([round(population.iloc[4][3],3)])\n",
    "\n",
    "columnnames = ['Medium vs Low','Medium vs High', 'Low vs High']\n",
    "\n",
    "sample1_phat_list = [0,0,2,3,3,3]\n",
    "sample2_phat_list = [2,4,4,3,3,3]\n",
    "sample1_size_list = [0,0,2,2,2,2]\n",
    "sample2_size_list = [2,4,4,2,2,2]\n",
    "\n",
    "\n",
    "for x in range(int(len(population)/2)):\n",
    "    sample1_phat = population.iloc[sample1_phat_list[x]][sample1_phat_list[x+3]]/100\n",
    "    sample2_phat = population.iloc[sample2_phat_list[x]][sample2_phat_list[x+3]]/100\n",
    "    sample1_size = population.iloc[sample1_size_list[x]][sample1_size_list[x+3]]\n",
    "    sample2_size = population.iloc[sample2_size_list[x]][sample2_size_list[x+3]]\n",
    "    phat = (sample1_phat*sample1_size+sample2_phat*sample2_size)/(sample1_size+sample2_size)\n",
    "    zscore = (sample1_phat - sample2_phat)/np.sqrt(phat*(1-phat)*((1/sample1_size)+(1/sample2_size)))    \n",
    "    pval = st.norm.sf(abs(zscore))*2\n",
    "    testresult[columnnames[x]] = list([format(pval,'f')])\n",
    "\n",
    "testresult.index = ['']\n",
    "testresult"
   ]
  },
  {
   "cell_type": "code",
   "execution_count": 281,
   "id": "b2efcbfb",
   "metadata": {},
   "outputs": [],
   "source": [
    "# Tract Minority Population #"
   ]
  },
  {
   "cell_type": "code",
   "execution_count": 294,
   "id": "fbcbb9f3",
   "metadata": {},
   "outputs": [
    {
     "name": "stdout",
     "output_type": "stream",
     "text": [
      "Low: Minority Percent <= 15.11\n",
      "Medium: Minority Percent > 15.11 and < 33.84\n",
      "High: Minority Percent >= 33.84\n"
     ]
    }
   ],
   "source": [
    "# Creating Buckets for Minority %\n",
    "minority_tract = pd.DataFrame(df[['tract_minority_population_percent','action_taken']])\n",
    "\n",
    "low = minority_tract['tract_minority_population_percent'].quantile(.33)\n",
    "medium = minority_tract['tract_minority_population_percent'].quantile(.66)\n",
    "minority_tract['Minority_Population_Bracket'] = np.where(minority_tract['tract_minority_population_percent']<=low,'Low',\n",
    "         np.where((minority_tract['tract_minority_population_percent']>low)&(minority_tract['tract_minority_population_percent']<medium),'Medium',\n",
    "                 np.where(minority_tract['tract_minority_population_percent']>=medium,'High','ERROR')))\n",
    "\n",
    "print('Low: Minority Percent <=',low)\n",
    "print('Medium: Minority Percent >',low,'and <',medium)\n",
    "print('High: Minority Percent >=',medium)"
   ]
  },
  {
   "cell_type": "code",
   "execution_count": 288,
   "id": "ef6c4eec",
   "metadata": {},
   "outputs": [
    {
     "data": {
      "text/html": [
       "<div>\n",
       "<style scoped>\n",
       "    .dataframe tbody tr th:only-of-type {\n",
       "        vertical-align: middle;\n",
       "    }\n",
       "\n",
       "    .dataframe tbody tr th {\n",
       "        vertical-align: top;\n",
       "    }\n",
       "\n",
       "    .dataframe thead th {\n",
       "        text-align: right;\n",
       "    }\n",
       "</style>\n",
       "<table border=\"1\" class=\"dataframe\">\n",
       "  <thead>\n",
       "    <tr style=\"text-align: right;\">\n",
       "      <th></th>\n",
       "      <th></th>\n",
       "      <th>Count</th>\n",
       "      <th>%</th>\n",
       "    </tr>\n",
       "    <tr>\n",
       "      <th>Minority_Population_Bracket</th>\n",
       "      <th>action_taken</th>\n",
       "      <th></th>\n",
       "      <th></th>\n",
       "    </tr>\n",
       "  </thead>\n",
       "  <tbody>\n",
       "    <tr>\n",
       "      <th rowspan=\"2\" valign=\"top\">Medium</th>\n",
       "      <th>1</th>\n",
       "      <td>68375</td>\n",
       "      <td>93.090538</td>\n",
       "    </tr>\n",
       "    <tr>\n",
       "      <th>0</th>\n",
       "      <td>5075</td>\n",
       "      <td>6.909462</td>\n",
       "    </tr>\n",
       "    <tr>\n",
       "      <th rowspan=\"2\" valign=\"top\">Low</th>\n",
       "      <th>1</th>\n",
       "      <td>67059</td>\n",
       "      <td>91.125153</td>\n",
       "    </tr>\n",
       "    <tr>\n",
       "      <th>0</th>\n",
       "      <td>6531</td>\n",
       "      <td>8.874847</td>\n",
       "    </tr>\n",
       "    <tr>\n",
       "      <th rowspan=\"2\" valign=\"top\">High</th>\n",
       "      <th>1</th>\n",
       "      <td>67874</td>\n",
       "      <td>89.555350</td>\n",
       "    </tr>\n",
       "    <tr>\n",
       "      <th>0</th>\n",
       "      <td>7916</td>\n",
       "      <td>10.444650</td>\n",
       "    </tr>\n",
       "  </tbody>\n",
       "</table>\n",
       "</div>"
      ],
      "text/plain": [
       "                                          Count          %\n",
       "Minority_Population_Bracket action_taken                  \n",
       "Medium                      1             68375  93.090538\n",
       "                            0              5075   6.909462\n",
       "Low                         1             67059  91.125153\n",
       "                            0              6531   8.874847\n",
       "High                        1             67874  89.555350\n",
       "                            0              7916  10.444650"
      ]
     },
     "execution_count": 288,
     "metadata": {},
     "output_type": "execute_result"
    }
   ],
   "source": [
    "# Minority % + Success Rate\n",
    "mpb = pd.DataFrame(minority_tract.groupby('Minority_Population_Bracket')['action_taken'].value_counts())\n",
    "mpb.columns = ['Count']\n",
    "mpb = mpb.reset_index()\n",
    "mpb['%'] = 100 * mpb['Count'] / mpb.groupby('Minority_Population_Bracket')['Count'].transform('sum')\n",
    "mpb = mpb.sort_values(['Minority_Population_Bracket', 'action_taken'], ascending = False).set_index(['Minority_Population_Bracket','action_taken'])\n",
    "mpb"
   ]
  },
  {
   "cell_type": "code",
   "execution_count": 289,
   "id": "b304defc",
   "metadata": {},
   "outputs": [
    {
     "data": {
      "text/plain": [
       "Text(0.5, 1.0, 'Success vs Rejection for Minority Population Bracket')"
      ]
     },
     "execution_count": 289,
     "metadata": {},
     "output_type": "execute_result"
    },
    {
     "data": {
      "image/png": "[encoded data removed]",
      "text/plain": [
       "<Figure size 864x720 with 1 Axes>"
      ]
     },
     "metadata": {
      "needs_background": "light"
     },
     "output_type": "display_data"
    }
   ],
   "source": [
    "# Comparing Minority % Brackets Success Rates\n",
    "graph_mpb = pd.concat([pd.DataFrame([minority_tract.groupby('Minority_Population_Bracket')['action_taken'].value_counts()['High'][1],minority_tract.groupby('Minority_Population_Bracket')['action_taken'].value_counts()['High'][0]]).transpose(),\n",
    "           pd.DataFrame([minority_tract.groupby('Minority_Population_Bracket')['action_taken'].value_counts()['Medium'][1],minority_tract.groupby('Minority_Population_Bracket')['action_taken'].value_counts()['Medium'][0]]).transpose(),\n",
    "           pd.DataFrame([minority_tract.groupby('Minority_Population_Bracket')['action_taken'].value_counts()['Low'][1],minority_tract.groupby('Minority_Population_Bracket')['action_taken'].value_counts()['Low'][0]]).transpose()])\n",
    "graph_mpb.index = ['High','Medium','Low']\n",
    "graph_mpb.columns = ['Success','Rejection']\n",
    "\n",
    "graph_mpb.plot(kind = 'bar', figsize = (12,10))\n",
    "plt.title(\"Success vs Rejection for Minority Population Bracket\")"
   ]
  },
  {
   "cell_type": "code",
   "execution_count": 290,
   "id": "3e580633",
   "metadata": {},
   "outputs": [
    {
     "data": {
      "text/html": [
       "<div>\n",
       "<style scoped>\n",
       "    .dataframe tbody tr th:only-of-type {\n",
       "        vertical-align: middle;\n",
       "    }\n",
       "\n",
       "    .dataframe tbody tr th {\n",
       "        vertical-align: top;\n",
       "    }\n",
       "\n",
       "    .dataframe thead th {\n",
       "        text-align: right;\n",
       "    }\n",
       "</style>\n",
       "<table border=\"1\" class=\"dataframe\">\n",
       "  <thead>\n",
       "    <tr style=\"text-align: right;\">\n",
       "      <th></th>\n",
       "      <th>Medium %</th>\n",
       "      <th>Low %</th>\n",
       "      <th>High %</th>\n",
       "      <th>Medium vs Low</th>\n",
       "      <th>Medium vs High</th>\n",
       "      <th>Low vs High</th>\n",
       "    </tr>\n",
       "  </thead>\n",
       "  <tbody>\n",
       "    <tr>\n",
       "      <th></th>\n",
       "      <td>93.091</td>\n",
       "      <td>91.125</td>\n",
       "      <td>89.555</td>\n",
       "      <td>0.000000</td>\n",
       "      <td>0.000000</td>\n",
       "      <td>0.000000</td>\n",
       "    </tr>\n",
       "  </tbody>\n",
       "</table>\n",
       "</div>"
      ],
      "text/plain": [
       "  Medium %   Low %  High % Medium vs Low Medium vs High Low vs High\n",
       "    93.091  91.125  89.555      0.000000       0.000000    0.000000"
      ]
     },
     "execution_count": 290,
     "metadata": {},
     "output_type": "execute_result"
    }
   ],
   "source": [
    "# HYPOTHESIS TESTING : Minority % Brackets impact on success?\n",
    "population = mpb.reset_index()\n",
    "\n",
    "testresult = pd.DataFrame()\n",
    "testresult['Medium %'] = list([round(population.iloc[0][3],3)]) \n",
    "testresult['Low %'] = list([round(population.iloc[2][3],3)])\n",
    "testresult['High %'] = list([round(population.iloc[4][3],3)])\n",
    "\n",
    "columnnames = ['Medium vs Low','Medium vs High', 'Low vs High']\n",
    "\n",
    "sample1_phat_list = [0,0,2,3,3,3]\n",
    "sample2_phat_list = [2,4,4,3,3,3]\n",
    "sample1_size_list = [0,0,2,2,2,2]\n",
    "sample2_size_list = [2,4,4,2,2,2]\n",
    "\n",
    "\n",
    "for x in range(int(len(population)/2)):\n",
    "    sample1_phat = population.iloc[sample1_phat_list[x]][sample1_phat_list[x+3]]/100\n",
    "    sample2_phat = population.iloc[sample2_phat_list[x]][sample2_phat_list[x+3]]/100\n",
    "    sample1_size = population.iloc[sample1_size_list[x]][sample1_size_list[x+3]]\n",
    "    sample2_size = population.iloc[sample2_size_list[x]][sample2_size_list[x+3]]\n",
    "    phat = (sample1_phat*sample1_size+sample2_phat*sample2_size)/(sample1_size+sample2_size)\n",
    "    zscore = (sample1_phat - sample2_phat)/np.sqrt(phat*(1-phat)*((1/sample1_size)+(1/sample2_size)))    \n",
    "    pval = st.norm.sf(abs(zscore))*2\n",
    "    testresult[columnnames[x]] = list([format(pval,'f')])\n",
    "\n",
    "testresult.index = ['']\n",
    "testresult"
   ]
  },
  {
   "cell_type": "code",
   "execution_count": 306,
   "id": "bdb777a6",
   "metadata": {},
   "outputs": [],
   "source": [
    "#### EXPLORING APPLICANT RELATED FEATURES WITH SUCCESS RATE ###"
   ]
  },
  {
   "cell_type": "code",
   "execution_count": null,
   "id": "262869a9",
   "metadata": {},
   "outputs": [],
   "source": [
    "df['']"
   ]
  },
  {
   "cell_type": "code",
   "execution_count": null,
   "id": "d7ae7b33",
   "metadata": {},
   "outputs": [],
   "source": []
  }
 ],
 "metadata": {
  "kernelspec": {
   "display_name": "Python 3 (ipykernel)",
   "language": "python",
   "name": "python3"
  },
  "language_info": {
   "codemirror_mode": {
    "name": "ipython",
    "version": 3
   },
   "file_extension": ".py",
   "mimetype": "text/x-python",
   "name": "python",
   "nbconvert_exporter": "python",
   "pygments_lexer": "ipython3",
   "version": "3.9.7"
  }
 },
 "nbformat": 4,
 "nbformat_minor": 5
}
