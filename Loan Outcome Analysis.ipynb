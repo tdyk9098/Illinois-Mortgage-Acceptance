{
 "cells": [
  {
   "cell_type": "code",
   "execution_count": 1,
   "id": "54cb0159",
   "metadata": {},
   "outputs": [],
   "source": [
    "import numpy as np\n",
    "import pandas as pd\n",
    "import matplotlib.pyplot as plt\n",
    "import seaborn as sns\n",
    "import scipy.stats as st\n",
    "import datetime as dt"
   ]
  },
  {
   "cell_type": "code",
   "execution_count": 2,
   "id": "2dfd0a61",
   "metadata": {},
   "outputs": [],
   "source": [
    "df = pd.read_csv('Illinois_2021.csv', low_memory=False)"
   ]
  },
  {
   "cell_type": "code",
   "execution_count": 3,
   "id": "9147a16b",
   "metadata": {},
   "outputs": [],
   "source": [
    "##################################################################################################"
   ]
  },
  {
   "cell_type": "code",
   "execution_count": 4,
   "id": "66e6b986",
   "metadata": {},
   "outputs": [],
   "source": [
    "##### CLEANING #####"
   ]
  },
  {
   "cell_type": "code",
   "execution_count": 5,
   "id": "3045b48c",
   "metadata": {},
   "outputs": [],
   "source": [
    "# DROPPING COLUMNS WITH NO VALUE\n",
    "df.drop(['activity_year','state_code','census_tract','county_code','loan_type','derived_ethnicity',\n",
    "         'derived_race','derived_sex', 'denial_reason-1','denial_reason-2','denial_reason-3','denial_reason-4',\n",
    "         'applicant_age_above_62','co-applicant_age_above_62','tract_to_msa_income_percentage','prepayment_penalty_term','intro_rate_period'], axis = 1, inplace = True)"
   ]
  },
  {
   "cell_type": "code",
   "execution_count": 6,
   "id": "fad968ba",
   "metadata": {},
   "outputs": [],
   "source": [
    "###### MODEL1: OUTPUT = APPLICATION STATUS ######"
   ]
  },
  {
   "cell_type": "code",
   "execution_count": 7,
   "id": "47c75420",
   "metadata": {},
   "outputs": [],
   "source": [
    "# Filter the DF so that only accept or reject outcomes are present\n",
    "df = df[df['action_taken'].isin([1,2,3])]"
   ]
  },
  {
   "cell_type": "code",
   "execution_count": 8,
   "id": "5ab9caba",
   "metadata": {},
   "outputs": [],
   "source": [
    "# Turning the Application outcome (action_taken) into dummy variables\n",
    "df['action_taken'] = np.where((df['action_taken']==1)|(df['action_taken']==2),1,0)"
   ]
  },
  {
   "cell_type": "code",
   "execution_count": 9,
   "id": "c26a2bf0",
   "metadata": {},
   "outputs": [],
   "source": [
    "# Filtering for only Home Purchase Loans\n",
    "df = df[df['loan_purpose']==1].drop('loan_purpose',axis = 1)\n",
    "# Filtering for only mortgage applications and NOT covered loans\n",
    "df = df[df['submission_of_application']!=3]\n",
    "df = df[df['initially_payable_to_institution']!=3]\n",
    "# NOT REVERSE MORTGAGE OR OPEN LINE OF CREDIT\n",
    "df = df[df['reverse_mortgage']==2].drop('reverse_mortgage',axis = 1)\n",
    "df = df[df['open-end_line_of_credit']==2].drop('open-end_line_of_credit',axis = 1)\n",
    "#preapproval clean up \n",
    "df['preapproval'] = np.where(df['preapproval']==1,1,0)"
   ]
  },
  {
   "cell_type": "code",
   "execution_count": 10,
   "id": "e470ea2c",
   "metadata": {},
   "outputs": [],
   "source": [
    "# DROPPING COLUMNS NOT OF INTEREST\n",
    "# CANNOT TURN INTO DUMMY\n",
    "# + Dropping columns with no additional value (usually lot of blanks or not applicable)\n",
    "df = df.drop(['applicant_ethnicity-2','applicant_ethnicity-3','applicant_ethnicity-4',\n",
    "                   'applicant_ethnicity-5','co-applicant_ethnicity-2','co-applicant_ethnicity-3',\n",
    "                   'co-applicant_ethnicity-4','co-applicant_ethnicity-5', 'applicant_race-2','applicant_race-3',\n",
    "                    'applicant_race-4','applicant_race-5','co-applicant_race-2','co-applicant_race-3',\n",
    "                    'co-applicant_race-4','co-applicant_race-5','aus-2','aus-3','aus-4','aus-5','multifamily_affordable_units',\n",
    "                  'manufactured_home_land_property_interest','manufactured_home_secured_property_type',\n",
    "                    'lien_status','negative_amortization','interest_only_payment','balloon_payment','other_nonamortizing_features',\n",
    "                  'construction_method'], axis = 1)\n",
    "\n",
    "# Dropping columns that are only applicable to succesful applications\n",
    "df.drop(['interest_rate','rate_spread','purchaser_type','initially_payable_to_institution','total_loan_costs',\n",
    "        'total_points_and_fees','discount_points','lender_credits','origination_charges'], axis = 1, inplace = True)\n",
    "df = df.reset_index(drop = True)"
   ]
  },
  {
   "cell_type": "code",
   "execution_count": 11,
   "id": "503eb310",
   "metadata": {},
   "outputs": [],
   "source": [
    "#### EXPLORING PROPERTY AND AREA RELATED FEATURES WITH SUCCESS RATE ###"
   ]
  },
  {
   "cell_type": "code",
   "execution_count": 12,
   "id": "28c17471",
   "metadata": {},
   "outputs": [],
   "source": [
    "### MSA CODE: 5 digit metropolitan statistical area or metropolitan division code: min 50K population"
   ]
  },
  {
   "cell_type": "code",
   "execution_count": 13,
   "id": "009f828e",
   "metadata": {
    "scrolled": true
   },
   "outputs": [
    {
     "data": {
      "text/html": [
       "<div>\n",
       "<style scoped>\n",
       "    .dataframe tbody tr th:only-of-type {\n",
       "        vertical-align: middle;\n",
       "    }\n",
       "\n",
       "    .dataframe tbody tr th {\n",
       "        vertical-align: top;\n",
       "    }\n",
       "\n",
       "    .dataframe thead th {\n",
       "        text-align: right;\n",
       "    }\n",
       "</style>\n",
       "<table border=\"1\" class=\"dataframe\">\n",
       "  <thead>\n",
       "    <tr style=\"text-align: right;\">\n",
       "      <th></th>\n",
       "      <th></th>\n",
       "      <th>Count</th>\n",
       "      <th>%</th>\n",
       "    </tr>\n",
       "    <tr>\n",
       "      <th>derived_msa-md</th>\n",
       "      <th>action_taken</th>\n",
       "      <th></th>\n",
       "      <th></th>\n",
       "    </tr>\n",
       "  </thead>\n",
       "  <tbody>\n",
       "    <tr>\n",
       "      <th rowspan=\"2\" valign=\"top\">99999</th>\n",
       "      <th>1</th>\n",
       "      <td>13428</td>\n",
       "      <td>88.651218</td>\n",
       "    </tr>\n",
       "    <tr>\n",
       "      <th>0</th>\n",
       "      <td>1719</td>\n",
       "      <td>11.348782</td>\n",
       "    </tr>\n",
       "    <tr>\n",
       "      <th rowspan=\"2\" valign=\"top\">44100</th>\n",
       "      <th>1</th>\n",
       "      <td>3744</td>\n",
       "      <td>93.088016</td>\n",
       "    </tr>\n",
       "    <tr>\n",
       "      <th>0</th>\n",
       "      <td>278</td>\n",
       "      <td>6.911984</td>\n",
       "    </tr>\n",
       "    <tr>\n",
       "      <th rowspan=\"2\" valign=\"top\">41180</th>\n",
       "      <th>1</th>\n",
       "      <td>11529</td>\n",
       "      <td>91.908482</td>\n",
       "    </tr>\n",
       "    <tr>\n",
       "      <th>0</th>\n",
       "      <td>1015</td>\n",
       "      <td>8.091518</td>\n",
       "    </tr>\n",
       "    <tr>\n",
       "      <th rowspan=\"2\" valign=\"top\">40420</th>\n",
       "      <th>1</th>\n",
       "      <td>5276</td>\n",
       "      <td>91.788448</td>\n",
       "    </tr>\n",
       "    <tr>\n",
       "      <th>0</th>\n",
       "      <td>472</td>\n",
       "      <td>8.211552</td>\n",
       "    </tr>\n",
       "    <tr>\n",
       "      <th rowspan=\"2\" valign=\"top\">37900</th>\n",
       "      <th>1</th>\n",
       "      <td>7199</td>\n",
       "      <td>94.661407</td>\n",
       "    </tr>\n",
       "    <tr>\n",
       "      <th>0</th>\n",
       "      <td>406</td>\n",
       "      <td>5.338593</td>\n",
       "    </tr>\n",
       "    <tr>\n",
       "      <th rowspan=\"2\" valign=\"top\">29404</th>\n",
       "      <th>1</th>\n",
       "      <td>13091</td>\n",
       "      <td>93.580671</td>\n",
       "    </tr>\n",
       "    <tr>\n",
       "      <th>0</th>\n",
       "      <td>898</td>\n",
       "      <td>6.419329</td>\n",
       "    </tr>\n",
       "    <tr>\n",
       "      <th rowspan=\"2\" valign=\"top\">28100</th>\n",
       "      <th>1</th>\n",
       "      <td>1322</td>\n",
       "      <td>86.011711</td>\n",
       "    </tr>\n",
       "    <tr>\n",
       "      <th>0</th>\n",
       "      <td>215</td>\n",
       "      <td>13.988289</td>\n",
       "    </tr>\n",
       "    <tr>\n",
       "      <th rowspan=\"2\" valign=\"top\">20994</th>\n",
       "      <th>1</th>\n",
       "      <td>14408</td>\n",
       "      <td>93.765456</td>\n",
       "    </tr>\n",
       "    <tr>\n",
       "      <th>0</th>\n",
       "      <td>958</td>\n",
       "      <td>6.234544</td>\n",
       "    </tr>\n",
       "    <tr>\n",
       "      <th rowspan=\"2\" valign=\"top\">19500</th>\n",
       "      <th>1</th>\n",
       "      <td>1558</td>\n",
       "      <td>89.953811</td>\n",
       "    </tr>\n",
       "    <tr>\n",
       "      <th>0</th>\n",
       "      <td>174</td>\n",
       "      <td>10.046189</td>\n",
       "    </tr>\n",
       "    <tr>\n",
       "      <th rowspan=\"2\" valign=\"top\">19340</th>\n",
       "      <th>1</th>\n",
       "      <td>3227</td>\n",
       "      <td>92.596844</td>\n",
       "    </tr>\n",
       "    <tr>\n",
       "      <th>0</th>\n",
       "      <td>258</td>\n",
       "      <td>7.403156</td>\n",
       "    </tr>\n",
       "    <tr>\n",
       "      <th rowspan=\"2\" valign=\"top\">19180</th>\n",
       "      <th>1</th>\n",
       "      <td>653</td>\n",
       "      <td>87.416332</td>\n",
       "    </tr>\n",
       "    <tr>\n",
       "      <th>0</th>\n",
       "      <td>94</td>\n",
       "      <td>12.583668</td>\n",
       "    </tr>\n",
       "    <tr>\n",
       "      <th rowspan=\"2\" valign=\"top\">16984</th>\n",
       "      <th>1</th>\n",
       "      <td>112095</td>\n",
       "      <td>91.848022</td>\n",
       "    </tr>\n",
       "    <tr>\n",
       "      <th>0</th>\n",
       "      <td>9949</td>\n",
       "      <td>8.151978</td>\n",
       "    </tr>\n",
       "    <tr>\n",
       "      <th rowspan=\"2\" valign=\"top\">16580</th>\n",
       "      <th>1</th>\n",
       "      <td>3042</td>\n",
       "      <td>92.462006</td>\n",
       "    </tr>\n",
       "    <tr>\n",
       "      <th>0</th>\n",
       "      <td>248</td>\n",
       "      <td>7.537994</td>\n",
       "    </tr>\n",
       "    <tr>\n",
       "      <th rowspan=\"2\" valign=\"top\">16060</th>\n",
       "      <th>1</th>\n",
       "      <td>1209</td>\n",
       "      <td>85.683912</td>\n",
       "    </tr>\n",
       "    <tr>\n",
       "      <th>0</th>\n",
       "      <td>202</td>\n",
       "      <td>14.316088</td>\n",
       "    </tr>\n",
       "    <tr>\n",
       "      <th rowspan=\"2\" valign=\"top\">16020</th>\n",
       "      <th>1</th>\n",
       "      <td>17</td>\n",
       "      <td>44.736842</td>\n",
       "    </tr>\n",
       "    <tr>\n",
       "      <th>0</th>\n",
       "      <td>21</td>\n",
       "      <td>55.263158</td>\n",
       "    </tr>\n",
       "    <tr>\n",
       "      <th rowspan=\"2\" valign=\"top\">14010</th>\n",
       "      <th>1</th>\n",
       "      <td>3106</td>\n",
       "      <td>91.111763</td>\n",
       "    </tr>\n",
       "    <tr>\n",
       "      <th>0</th>\n",
       "      <td>303</td>\n",
       "      <td>8.888237</td>\n",
       "    </tr>\n",
       "    <tr>\n",
       "      <th rowspan=\"2\" valign=\"top\">0</th>\n",
       "      <th>1</th>\n",
       "      <td>213</td>\n",
       "      <td>16.075472</td>\n",
       "    </tr>\n",
       "    <tr>\n",
       "      <th>0</th>\n",
       "      <td>1112</td>\n",
       "      <td>83.924528</td>\n",
       "    </tr>\n",
       "  </tbody>\n",
       "</table>\n",
       "</div>"
      ],
      "text/plain": [
       "                              Count          %\n",
       "derived_msa-md action_taken                   \n",
       "99999          1              13428  88.651218\n",
       "               0               1719  11.348782\n",
       "44100          1               3744  93.088016\n",
       "               0                278   6.911984\n",
       "41180          1              11529  91.908482\n",
       "               0               1015   8.091518\n",
       "40420          1               5276  91.788448\n",
       "               0                472   8.211552\n",
       "37900          1               7199  94.661407\n",
       "               0                406   5.338593\n",
       "29404          1              13091  93.580671\n",
       "               0                898   6.419329\n",
       "28100          1               1322  86.011711\n",
       "               0                215  13.988289\n",
       "20994          1              14408  93.765456\n",
       "               0                958   6.234544\n",
       "19500          1               1558  89.953811\n",
       "               0                174  10.046189\n",
       "19340          1               3227  92.596844\n",
       "               0                258   7.403156\n",
       "19180          1                653  87.416332\n",
       "               0                 94  12.583668\n",
       "16984          1             112095  91.848022\n",
       "               0               9949   8.151978\n",
       "16580          1               3042  92.462006\n",
       "               0                248   7.537994\n",
       "16060          1               1209  85.683912\n",
       "               0                202  14.316088\n",
       "16020          1                 17  44.736842\n",
       "               0                 21  55.263158\n",
       "14010          1               3106  91.111763\n",
       "               0                303   8.888237\n",
       "0              1                213  16.075472\n",
       "               0               1112  83.924528"
      ]
     },
     "execution_count": 13,
     "metadata": {},
     "output_type": "execute_result"
    }
   ],
   "source": [
    "# MSA Code Success Rate \n",
    "msa = pd.DataFrame(df.groupby('derived_msa-md')['action_taken'].value_counts())\n",
    "msa.columns = ['Count']\n",
    "msa = msa.reset_index()\n",
    "msa['%'] = 100 * msa['Count'] / msa.groupby('derived_msa-md')['Count'].transform('sum')\n",
    "msa = msa.sort_values(['derived_msa-md', 'action_taken'], ascending = False).set_index(['derived_msa-md','action_taken'])\n",
    "msa"
   ]
  },
  {
   "cell_type": "code",
   "execution_count": 14,
   "id": "4e247f2a",
   "metadata": {},
   "outputs": [
    {
     "data": {
      "text/html": [
       "<div>\n",
       "<style scoped>\n",
       "    .dataframe tbody tr th:only-of-type {\n",
       "        vertical-align: middle;\n",
       "    }\n",
       "\n",
       "    .dataframe tbody tr th {\n",
       "        vertical-align: top;\n",
       "    }\n",
       "\n",
       "    .dataframe thead th {\n",
       "        text-align: right;\n",
       "    }\n",
       "</style>\n",
       "<table border=\"1\" class=\"dataframe\">\n",
       "  <thead>\n",
       "    <tr style=\"text-align: right;\">\n",
       "      <th></th>\n",
       "      <th></th>\n",
       "      <th>Count</th>\n",
       "      <th>%</th>\n",
       "    </tr>\n",
       "    <tr>\n",
       "      <th>intopmsa</th>\n",
       "      <th>action_taken</th>\n",
       "      <th></th>\n",
       "      <th></th>\n",
       "    </tr>\n",
       "  </thead>\n",
       "  <tbody>\n",
       "    <tr>\n",
       "      <th rowspan=\"2\" valign=\"top\">1</th>\n",
       "      <th>1</th>\n",
       "      <td>112095</td>\n",
       "      <td>91.848022</td>\n",
       "    </tr>\n",
       "    <tr>\n",
       "      <th>0</th>\n",
       "      <td>9949</td>\n",
       "      <td>8.151978</td>\n",
       "    </tr>\n",
       "    <tr>\n",
       "      <th rowspan=\"2\" valign=\"top\">0</th>\n",
       "      <th>1</th>\n",
       "      <td>83022</td>\n",
       "      <td>90.838667</td>\n",
       "    </tr>\n",
       "    <tr>\n",
       "      <th>0</th>\n",
       "      <td>8373</td>\n",
       "      <td>9.161333</td>\n",
       "    </tr>\n",
       "  </tbody>\n",
       "</table>\n",
       "</div>"
      ],
      "text/plain": [
       "                        Count          %\n",
       "intopmsa action_taken                   \n",
       "1        1             112095  91.848022\n",
       "         0               9949   8.151978\n",
       "0        1              83022  90.838667\n",
       "         0               8373   9.161333"
      ]
     },
     "execution_count": 14,
     "metadata": {},
     "output_type": "execute_result"
    }
   ],
   "source": [
    "# NEW FEATURE: In MSA 16984 or not in 16984: are houses within (Chicago, Naperville, Evanston) more succesful?\n",
    "itopmsa = pd.DataFrame(df[['derived_msa-md','action_taken']])\n",
    "itopmsa['intopmsa'] = ''\n",
    "itopmsa['intopmsa'] = np.where(itopmsa['derived_msa-md']!= 16984,0,1)\n",
    "itopmsa = itopmsa.drop('derived_msa-md',axis = 1)\n",
    "# Comparison of overall success %\n",
    "topmsa = pd.DataFrame(itopmsa.groupby('intopmsa')['action_taken'].value_counts())\n",
    "topmsa.columns = ['Count']\n",
    "topmsa = topmsa.reset_index()\n",
    "topmsa['%'] = 100 * topmsa['Count'] / topmsa.groupby('intopmsa')['Count'].transform('sum')\n",
    "topmsa = topmsa.sort_values(['intopmsa', 'action_taken'], ascending = False).set_index(['intopmsa','action_taken'])\n",
    "topmsa"
   ]
  },
  {
   "cell_type": "code",
   "execution_count": 15,
   "id": "b17de817",
   "metadata": {},
   "outputs": [
    {
     "data": {
      "text/plain": [
       "Text(0.5, 1.0, 'Success vs Rejection for 16580 MSA code or not')"
      ]
     },
     "execution_count": 15,
     "metadata": {},
     "output_type": "execute_result"
    },
    {
     "data": {
      "image/png": "[encoded data removed]",
      "text/plain": [
       "<Figure size 864x720 with 1 Axes>"
      ]
     },
     "metadata": {
      "needs_background": "light"
     },
     "output_type": "display_data"
    }
   ],
   "source": [
    "# Comparing Not 16580 vs 16580 Success Rates: graph\n",
    "graph_topmsa = pd.concat([pd.DataFrame([itopmsa.groupby('intopmsa')['action_taken'].value_counts()[1][1],itopmsa.groupby('intopmsa')['action_taken'].value_counts()[1][0]]).transpose(),\n",
    "           pd.DataFrame([itopmsa.groupby('intopmsa')['action_taken'].value_counts()[0][1],itopmsa.groupby('intopmsa')['action_taken'].value_counts()[0][0]]).transpose()])\n",
    "graph_topmsa.index = ['In Top MSA','Not Top MSA']\n",
    "graph_topmsa.columns = ['Success','Rejection']\n",
    "\n",
    "graph_topmsa.plot(kind = 'bar', figsize = (12,10))\n",
    "plt.title(\"Success vs Rejection for 16580 MSA code or not\")"
   ]
  },
  {
   "cell_type": "code",
   "execution_count": 16,
   "id": "cfe121fd",
   "metadata": {},
   "outputs": [
    {
     "data": {
      "text/html": [
       "<div>\n",
       "<style scoped>\n",
       "    .dataframe tbody tr th:only-of-type {\n",
       "        vertical-align: middle;\n",
       "    }\n",
       "\n",
       "    .dataframe tbody tr th {\n",
       "        vertical-align: top;\n",
       "    }\n",
       "\n",
       "    .dataframe thead th {\n",
       "        text-align: right;\n",
       "    }\n",
       "</style>\n",
       "<table border=\"1\" class=\"dataframe\">\n",
       "  <thead>\n",
       "    <tr style=\"text-align: right;\">\n",
       "      <th></th>\n",
       "      <th>In Top MSA %</th>\n",
       "      <th>Not Top MSA %</th>\n",
       "      <th>PVal</th>\n",
       "    </tr>\n",
       "  </thead>\n",
       "  <tbody>\n",
       "    <tr>\n",
       "      <th></th>\n",
       "      <td>91.848</td>\n",
       "      <td>90.839</td>\n",
       "      <td>0.000000</td>\n",
       "    </tr>\n",
       "  </tbody>\n",
       "</table>\n",
       "</div>"
      ],
      "text/plain": [
       " In Top MSA % Not Top MSA %      PVal\n",
       "       91.848        90.839  0.000000"
      ]
     },
     "execution_count": 16,
     "metadata": {},
     "output_type": "execute_result"
    }
   ],
   "source": [
    "# HYPOTHESIS TESTING : IN TOP MSA > SUCCESS THAN NOT?\n",
    "population = topmsa.reset_index()\n",
    "\n",
    "sample1_phat = population.iloc[0][3]/100\n",
    "sample2_phat = population.iloc[2][3]/100\n",
    "sample1_size = population.iloc[0][2]\n",
    "sample2_size = population.iloc[2][2]\n",
    "phat = (sample1_phat*sample1_size+sample2_phat*sample2_size)/(sample1_size+sample2_size)\n",
    "zscore = (sample1_phat - sample2_phat)/np.sqrt(phat*(1-phat)*((1/sample1_size)+(1/sample2_size)))    \n",
    "pval = st.norm.sf(abs(zscore))*2\n",
    "testresult = pd.DataFrame([round(sample1_phat*100,3),round(sample2_phat*100,3),format(pval,'f')]).transpose()\n",
    "testresult.columns = ['In Top MSA %','Not Top MSA %','PVal']\n",
    "testresult.index = ['']\n",
    "testresult"
   ]
  },
  {
   "cell_type": "code",
   "execution_count": 17,
   "id": "547eb861",
   "metadata": {},
   "outputs": [],
   "source": [
    "### Occupancy Type: 1 is principal residence, 2 is secondary, 3 is investment"
   ]
  },
  {
   "cell_type": "code",
   "execution_count": 18,
   "id": "8aef6a59",
   "metadata": {},
   "outputs": [
    {
     "data": {
      "text/plain": [
       "1    196502\n",
       "3     13850\n",
       "2      3087\n",
       "Name: occupancy_type, dtype: int64"
      ]
     },
     "execution_count": 18,
     "metadata": {},
     "output_type": "execute_result"
    }
   ],
   "source": [
    "# distribution of occupancy type applications\n",
    "df['occupancy_type'].value_counts()"
   ]
  },
  {
   "cell_type": "code",
   "execution_count": 19,
   "id": "996cfd8d",
   "metadata": {},
   "outputs": [
    {
     "data": {
      "text/html": [
       "<div>\n",
       "<style scoped>\n",
       "    .dataframe tbody tr th:only-of-type {\n",
       "        vertical-align: middle;\n",
       "    }\n",
       "\n",
       "    .dataframe tbody tr th {\n",
       "        vertical-align: top;\n",
       "    }\n",
       "\n",
       "    .dataframe thead th {\n",
       "        text-align: right;\n",
       "    }\n",
       "</style>\n",
       "<table border=\"1\" class=\"dataframe\">\n",
       "  <thead>\n",
       "    <tr style=\"text-align: right;\">\n",
       "      <th></th>\n",
       "      <th></th>\n",
       "      <th>Count</th>\n",
       "      <th>%</th>\n",
       "    </tr>\n",
       "    <tr>\n",
       "      <th>occupancy_type</th>\n",
       "      <th>action_taken</th>\n",
       "      <th></th>\n",
       "      <th></th>\n",
       "    </tr>\n",
       "  </thead>\n",
       "  <tbody>\n",
       "    <tr>\n",
       "      <th rowspan=\"2\" valign=\"top\">3</th>\n",
       "      <th>1</th>\n",
       "      <td>12597</td>\n",
       "      <td>90.953069</td>\n",
       "    </tr>\n",
       "    <tr>\n",
       "      <th>0</th>\n",
       "      <td>1253</td>\n",
       "      <td>9.046931</td>\n",
       "    </tr>\n",
       "    <tr>\n",
       "      <th rowspan=\"2\" valign=\"top\">2</th>\n",
       "      <th>1</th>\n",
       "      <td>2834</td>\n",
       "      <td>91.804341</td>\n",
       "    </tr>\n",
       "    <tr>\n",
       "      <th>0</th>\n",
       "      <td>253</td>\n",
       "      <td>8.195659</td>\n",
       "    </tr>\n",
       "    <tr>\n",
       "      <th rowspan=\"2\" valign=\"top\">1</th>\n",
       "      <th>1</th>\n",
       "      <td>179686</td>\n",
       "      <td>91.442326</td>\n",
       "    </tr>\n",
       "    <tr>\n",
       "      <th>0</th>\n",
       "      <td>16816</td>\n",
       "      <td>8.557674</td>\n",
       "    </tr>\n",
       "  </tbody>\n",
       "</table>\n",
       "</div>"
      ],
      "text/plain": [
       "                              Count          %\n",
       "occupancy_type action_taken                   \n",
       "3              1              12597  90.953069\n",
       "               0               1253   9.046931\n",
       "2              1               2834  91.804341\n",
       "               0                253   8.195659\n",
       "1              1             179686  91.442326\n",
       "               0              16816   8.557674"
      ]
     },
     "execution_count": 19,
     "metadata": {},
     "output_type": "execute_result"
    }
   ],
   "source": [
    "# Occupancy Type + Success Rate\n",
    "ot = pd.DataFrame(df.groupby('occupancy_type')['action_taken'].value_counts())\n",
    "ot.columns = ['Count']\n",
    "ot = ot.reset_index()\n",
    "ot['%'] = 100 * ot['Count'] / ot.groupby('occupancy_type')['Count'].transform('sum')\n",
    "ot = ot.sort_values(['occupancy_type', 'action_taken'], ascending = False).set_index(['occupancy_type','action_taken'])\n",
    "ot"
   ]
  },
  {
   "cell_type": "code",
   "execution_count": 20,
   "id": "b5489c74",
   "metadata": {},
   "outputs": [
    {
     "data": {
      "text/plain": [
       "Text(0.5, 1.0, 'Success vs Rejection for Occupancy Types')"
      ]
     },
     "execution_count": 20,
     "metadata": {},
     "output_type": "execute_result"
    },
    {
     "data": {
      "image/png": "[encoded data removed]",
      "text/plain": [
       "<Figure size 864x720 with 1 Axes>"
      ]
     },
     "metadata": {
      "needs_background": "light"
     },
     "output_type": "display_data"
    }
   ],
   "source": [
    "# Comparing Occupancy Type 1-2-3  Success Rates\n",
    "# Comparing Occupancy Type Success Rates: graph\n",
    "graph_ot = pd.concat([pd.DataFrame([df.groupby('occupancy_type')['action_taken'].value_counts()[1][1],df.groupby('occupancy_type')['action_taken'].value_counts()[1][0]]).transpose(),\n",
    "           pd.DataFrame([df.groupby('occupancy_type')['action_taken'].value_counts()[2][1],df.groupby('occupancy_type')['action_taken'].value_counts()[2][0]]).transpose(),\n",
    "           pd.DataFrame([df.groupby('occupancy_type')['action_taken'].value_counts()[3][1],df.groupby('occupancy_type')['action_taken'].value_counts()[3][0]]).transpose()])\n",
    "\n",
    "graph_ot.index = ['Principal','Second','Investment']\n",
    "graph_ot.columns = ['Success','Rejection']\n",
    "\n",
    "graph_ot.plot(kind = 'bar', figsize = (12,10))\n",
    "plt.title(\"Success vs Rejection for Occupancy Types\")"
   ]
  },
  {
   "cell_type": "code",
   "execution_count": 21,
   "id": "f619399f",
   "metadata": {},
   "outputs": [
    {
     "data": {
      "text/html": [
       "<div>\n",
       "<style scoped>\n",
       "    .dataframe tbody tr th:only-of-type {\n",
       "        vertical-align: middle;\n",
       "    }\n",
       "\n",
       "    .dataframe tbody tr th {\n",
       "        vertical-align: top;\n",
       "    }\n",
       "\n",
       "    .dataframe thead th {\n",
       "        text-align: right;\n",
       "    }\n",
       "</style>\n",
       "<table border=\"1\" class=\"dataframe\">\n",
       "  <thead>\n",
       "    <tr style=\"text-align: right;\">\n",
       "      <th></th>\n",
       "      <th>Investment %</th>\n",
       "      <th>Second %</th>\n",
       "      <th>Principal %</th>\n",
       "      <th>Investment vs Second</th>\n",
       "      <th>Investment vs Principal</th>\n",
       "      <th>Second vs Principal</th>\n",
       "    </tr>\n",
       "  </thead>\n",
       "  <tbody>\n",
       "    <tr>\n",
       "      <th></th>\n",
       "      <td>90.953</td>\n",
       "      <td>91.804</td>\n",
       "      <td>91.442</td>\n",
       "      <td>0.150247</td>\n",
       "      <td>0.058172</td>\n",
       "      <td>0.494125</td>\n",
       "    </tr>\n",
       "  </tbody>\n",
       "</table>\n",
       "</div>"
      ],
      "text/plain": [
       "  Investment %  Second %  Principal % Investment vs Second  \\\n",
       "        90.953    91.804       91.442             0.150247   \n",
       "\n",
       " Investment vs Principal Second vs Principal  \n",
       "                0.058172            0.494125  "
      ]
     },
     "execution_count": 21,
     "metadata": {},
     "output_type": "execute_result"
    }
   ],
   "source": [
    "# HYPOTHESIS TESTING : Occupancy Type impact on success?\n",
    "population = ot.reset_index()\n",
    "\n",
    "testresult = pd.DataFrame()\n",
    "testresult['Investment %'] = list([round(population.iloc[0][3],3)]) \n",
    "testresult['Second %'] = list([round(population.iloc[2][3],3)])\n",
    "testresult['Principal %'] = list([round(population.iloc[4][3],3)])\n",
    "\n",
    "columnnames = ['Investment vs Second','Investment vs Principal', 'Second vs Principal']\n",
    "\n",
    "sample1_phat_list = [0,0,2,3,3,3]\n",
    "sample2_phat_list = [2,4,4,3,3,3]\n",
    "sample1_size_list = [0,0,2,2,2,2]\n",
    "sample2_size_list = [2,4,4,2,2,2]\n",
    "\n",
    "\n",
    "for x in range(int(len(population)/2)):\n",
    "    sample1_phat = population.iloc[sample1_phat_list[x]][sample1_phat_list[x+3]]/100\n",
    "    sample2_phat = population.iloc[sample2_phat_list[x]][sample2_phat_list[x+3]]/100\n",
    "    sample1_size = population.iloc[sample1_size_list[x]][sample1_size_list[x+3]]\n",
    "    sample2_size = population.iloc[sample2_size_list[x]][sample2_size_list[x+3]]\n",
    "    phat = (sample1_phat*sample1_size+sample2_phat*sample2_size)/(sample1_size+sample2_size)\n",
    "    zscore = (sample1_phat - sample2_phat)/np.sqrt(phat*(1-phat)*((1/sample1_size)+(1/sample2_size)))    \n",
    "    pval = st.norm.sf(abs(zscore))*2\n",
    "    testresult[columnnames[x]] = list([format(pval,'f')])\n",
    "\n",
    "testresult.index = ['']\n",
    "testresult"
   ]
  },
  {
   "cell_type": "code",
   "execution_count": 22,
   "id": "f9957e6a",
   "metadata": {},
   "outputs": [],
   "source": [
    "## PROPERTY VALUE ##"
   ]
  },
  {
   "cell_type": "code",
   "execution_count": 23,
   "id": "3609286d",
   "metadata": {},
   "outputs": [
    {
     "data": {
      "text/plain": [
       "2029"
      ]
     },
     "execution_count": 23,
     "metadata": {},
     "output_type": "execute_result"
    }
   ],
   "source": [
    "# DROP ALL THAT HAVE AN EXEMPT / NOT NUMERIC\n",
    "numeric_value = pd.DataFrame(df['action_taken'])\n",
    "numeric_value['property_value'] = pd.to_numeric(df['property_value'], errors='coerce')\n",
    "numeric_value = numeric_value.dropna().reset_index(drop = True)\n",
    "len(df)-len(numeric_value)"
   ]
  },
  {
   "cell_type": "code",
   "execution_count": 24,
   "id": "f4612092",
   "metadata": {},
   "outputs": [
    {
     "name": "stdout",
     "output_type": "stream",
     "text": [
      "Low: Property Value <= 195000.0\n",
      "Medium: Property Value > 195000.0 and < 325000.0\n",
      "High: Property Value >= 325000.0\n"
     ]
    }
   ],
   "source": [
    "# Creating Buckets for Property Values\n",
    "low = numeric_value['property_value'].quantile(.33)\n",
    "medium = numeric_value['property_value'].quantile(.66)\n",
    "numeric_value['Value_Bracket'] = np.where(numeric_value['property_value']<=low,'Low',\n",
    "         np.where((numeric_value['property_value']>low)&(numeric_value['property_value']<medium),'Medium',\n",
    "                 np.where(numeric_value['property_value']>=medium,'High','ERROR')))\n",
    "\n",
    "print('Low: Property Value <=',low)\n",
    "print('Medium: Property Value >',low,'and <',medium)\n",
    "print('High: Property Value >=',medium)"
   ]
  },
  {
   "cell_type": "code",
   "execution_count": 25,
   "id": "00e7a565",
   "metadata": {},
   "outputs": [
    {
     "data": {
      "text/html": [
       "<div>\n",
       "<style scoped>\n",
       "    .dataframe tbody tr th:only-of-type {\n",
       "        vertical-align: middle;\n",
       "    }\n",
       "\n",
       "    .dataframe tbody tr th {\n",
       "        vertical-align: top;\n",
       "    }\n",
       "\n",
       "    .dataframe thead th {\n",
       "        text-align: right;\n",
       "    }\n",
       "</style>\n",
       "<table border=\"1\" class=\"dataframe\">\n",
       "  <thead>\n",
       "    <tr style=\"text-align: right;\">\n",
       "      <th></th>\n",
       "      <th></th>\n",
       "      <th>Count</th>\n",
       "      <th>%</th>\n",
       "    </tr>\n",
       "    <tr>\n",
       "      <th>Value_Bracket</th>\n",
       "      <th>action_taken</th>\n",
       "      <th></th>\n",
       "      <th></th>\n",
       "    </tr>\n",
       "  </thead>\n",
       "  <tbody>\n",
       "    <tr>\n",
       "      <th rowspan=\"2\" valign=\"top\">Medium</th>\n",
       "      <th>1</th>\n",
       "      <td>58138</td>\n",
       "      <td>92.595601</td>\n",
       "    </tr>\n",
       "    <tr>\n",
       "      <th>0</th>\n",
       "      <td>4649</td>\n",
       "      <td>7.404399</td>\n",
       "    </tr>\n",
       "    <tr>\n",
       "      <th rowspan=\"2\" valign=\"top\">Low</th>\n",
       "      <th>1</th>\n",
       "      <td>65791</td>\n",
       "      <td>88.273336</td>\n",
       "    </tr>\n",
       "    <tr>\n",
       "      <th>0</th>\n",
       "      <td>8740</td>\n",
       "      <td>11.726664</td>\n",
       "    </tr>\n",
       "    <tr>\n",
       "      <th rowspan=\"2\" valign=\"top\">High</th>\n",
       "      <th>1</th>\n",
       "      <td>70335</td>\n",
       "      <td>94.929277</td>\n",
       "    </tr>\n",
       "    <tr>\n",
       "      <th>0</th>\n",
       "      <td>3757</td>\n",
       "      <td>5.070723</td>\n",
       "    </tr>\n",
       "  </tbody>\n",
       "</table>\n",
       "</div>"
      ],
      "text/plain": [
       "                            Count          %\n",
       "Value_Bracket action_taken                  \n",
       "Medium        1             58138  92.595601\n",
       "              0              4649   7.404399\n",
       "Low           1             65791  88.273336\n",
       "              0              8740  11.726664\n",
       "High          1             70335  94.929277\n",
       "              0              3757   5.070723"
      ]
     },
     "execution_count": 25,
     "metadata": {},
     "output_type": "execute_result"
    }
   ],
   "source": [
    "# Value Bracket + Success Rate\n",
    "vb = pd.DataFrame(numeric_value.groupby('Value_Bracket')['action_taken'].value_counts())\n",
    "vb.columns = ['Count']\n",
    "vb = vb.reset_index()\n",
    "vb['%'] = 100 * vb['Count'] / vb.groupby('Value_Bracket')['Count'].transform('sum')\n",
    "vb = vb.sort_values(['Value_Bracket', 'action_taken'], ascending = False).set_index(['Value_Bracket','action_taken'])\n",
    "vb"
   ]
  },
  {
   "cell_type": "code",
   "execution_count": 26,
   "id": "b728ce91",
   "metadata": {},
   "outputs": [
    {
     "data": {
      "text/plain": [
       "Text(0.5, 1.0, 'Success vs Rejection for Property Value Bracket')"
      ]
     },
     "execution_count": 26,
     "metadata": {},
     "output_type": "execute_result"
    },
    {
     "data": {
      "image/png": "[encoded data removed]",
      "text/plain": [
       "<Figure size 864x720 with 1 Axes>"
      ]
     },
     "metadata": {
      "needs_background": "light"
     },
     "output_type": "display_data"
    }
   ],
   "source": [
    "# Comparing Value Brackets Property Success Rates\n",
    "graph_vb = pd.concat([pd.DataFrame([numeric_value.groupby('Value_Bracket')['action_taken'].value_counts()['High'][1],numeric_value.groupby('Value_Bracket')['action_taken'].value_counts()['High'][0]]).transpose(),\n",
    "           pd.DataFrame([numeric_value.groupby('Value_Bracket')['action_taken'].value_counts()['Medium'][1],numeric_value.groupby('Value_Bracket')['action_taken'].value_counts()['Medium'][0]]).transpose(),\n",
    "           pd.DataFrame([numeric_value.groupby('Value_Bracket')['action_taken'].value_counts()['Low'][1],numeric_value.groupby('Value_Bracket')['action_taken'].value_counts()['Low'][0]]).transpose()])\n",
    "graph_vb.index = ['High','Medium','Low']\n",
    "graph_vb.columns = ['Success','Rejection']\n",
    "\n",
    "graph_vb.plot(kind = 'bar', figsize = (12,10))\n",
    "plt.title(\"Success vs Rejection for Property Value Bracket\")"
   ]
  },
  {
   "cell_type": "code",
   "execution_count": 27,
   "id": "a324b998",
   "metadata": {},
   "outputs": [
    {
     "data": {
      "text/html": [
       "<div>\n",
       "<style scoped>\n",
       "    .dataframe tbody tr th:only-of-type {\n",
       "        vertical-align: middle;\n",
       "    }\n",
       "\n",
       "    .dataframe tbody tr th {\n",
       "        vertical-align: top;\n",
       "    }\n",
       "\n",
       "    .dataframe thead th {\n",
       "        text-align: right;\n",
       "    }\n",
       "</style>\n",
       "<table border=\"1\" class=\"dataframe\">\n",
       "  <thead>\n",
       "    <tr style=\"text-align: right;\">\n",
       "      <th></th>\n",
       "      <th>Medium %</th>\n",
       "      <th>Low %</th>\n",
       "      <th>High %</th>\n",
       "      <th>Medium vs Low</th>\n",
       "      <th>Medium vs High</th>\n",
       "      <th>Low vs High</th>\n",
       "    </tr>\n",
       "  </thead>\n",
       "  <tbody>\n",
       "    <tr>\n",
       "      <th></th>\n",
       "      <td>92.596</td>\n",
       "      <td>88.273</td>\n",
       "      <td>94.929</td>\n",
       "      <td>0.000000</td>\n",
       "      <td>0.000000</td>\n",
       "      <td>0.000000</td>\n",
       "    </tr>\n",
       "  </tbody>\n",
       "</table>\n",
       "</div>"
      ],
      "text/plain": [
       "  Medium %   Low %  High % Medium vs Low Medium vs High Low vs High\n",
       "    92.596  88.273  94.929      0.000000       0.000000    0.000000"
      ]
     },
     "execution_count": 27,
     "metadata": {},
     "output_type": "execute_result"
    }
   ],
   "source": [
    "# HYPOTHESIS TESTING : Property Value Brackets impact on success?\n",
    "population = vb.reset_index()\n",
    "\n",
    "testresult = pd.DataFrame()\n",
    "testresult['Medium %'] = list([round(population.iloc[0][3],3)]) \n",
    "testresult['Low %'] = list([round(population.iloc[2][3],3)])\n",
    "testresult['High %'] = list([round(population.iloc[4][3],3)])\n",
    "\n",
    "columnnames = ['Medium vs Low','Medium vs High', 'Low vs High']\n",
    "\n",
    "sample1_phat_list = [0,0,2,3,3,3]\n",
    "sample2_phat_list = [2,4,4,3,3,3]\n",
    "sample1_size_list = [0,0,2,2,2,2]\n",
    "sample2_size_list = [2,4,4,2,2,2]\n",
    "\n",
    "\n",
    "for x in range(int(len(population)/2)):\n",
    "    sample1_phat = population.iloc[sample1_phat_list[x]][sample1_phat_list[x+3]]/100\n",
    "    sample2_phat = population.iloc[sample2_phat_list[x]][sample2_phat_list[x+3]]/100\n",
    "    sample1_size = population.iloc[sample1_size_list[x]][sample1_size_list[x+3]]\n",
    "    sample2_size = population.iloc[sample2_size_list[x]][sample2_size_list[x+3]]\n",
    "    phat = (sample1_phat*sample1_size+sample2_phat*sample2_size)/(sample1_size+sample2_size)\n",
    "    zscore = (sample1_phat - sample2_phat)/np.sqrt(phat*(1-phat)*((1/sample1_size)+(1/sample2_size)))    \n",
    "    pval = st.norm.sf(abs(zscore))*2\n",
    "    testresult[columnnames[x]] = list([format(pval,'f')])\n",
    "\n",
    "testresult.index = ['']\n",
    "testresult"
   ]
  },
  {
   "cell_type": "code",
   "execution_count": 28,
   "id": "a3a94362",
   "metadata": {},
   "outputs": [],
   "source": [
    "# TRACT POPULATION #"
   ]
  },
  {
   "cell_type": "code",
   "execution_count": 29,
   "id": "7d0a0e37",
   "metadata": {},
   "outputs": [
    {
     "name": "stdout",
     "output_type": "stream",
     "text": [
      "Low: Population <= 4054.0\n",
      "Medium: Population > 4054.0 and < 5652.0\n",
      "High: Population >= 5652.0\n"
     ]
    }
   ],
   "source": [
    "# Creating Buckets for Tract population\n",
    "tract = pd.DataFrame(df[['tract_population','action_taken']])\n",
    "\n",
    "low = tract['tract_population'].quantile(.33)\n",
    "medium = tract['tract_population'].quantile(.66)\n",
    "tract['Population_Bracket'] = np.where(tract['tract_population']<=low,'Low',\n",
    "         np.where((tract['tract_population']>low)&(tract['tract_population']<medium),'Medium',\n",
    "                 np.where(tract['tract_population']>=medium,'High','ERROR')))\n",
    "\n",
    "print('Low: Population <=',low)\n",
    "print('Medium: Population >',low,'and <',medium)\n",
    "print('High: Population >=',medium)"
   ]
  },
  {
   "cell_type": "code",
   "execution_count": 30,
   "id": "dc942709",
   "metadata": {},
   "outputs": [
    {
     "data": {
      "text/html": [
       "<div>\n",
       "<style scoped>\n",
       "    .dataframe tbody tr th:only-of-type {\n",
       "        vertical-align: middle;\n",
       "    }\n",
       "\n",
       "    .dataframe tbody tr th {\n",
       "        vertical-align: top;\n",
       "    }\n",
       "\n",
       "    .dataframe thead th {\n",
       "        text-align: right;\n",
       "    }\n",
       "</style>\n",
       "<table border=\"1\" class=\"dataframe\">\n",
       "  <thead>\n",
       "    <tr style=\"text-align: right;\">\n",
       "      <th></th>\n",
       "      <th></th>\n",
       "      <th>Count</th>\n",
       "      <th>%</th>\n",
       "    </tr>\n",
       "    <tr>\n",
       "      <th>Population_Bracket</th>\n",
       "      <th>action_taken</th>\n",
       "      <th></th>\n",
       "      <th></th>\n",
       "    </tr>\n",
       "  </thead>\n",
       "  <tbody>\n",
       "    <tr>\n",
       "      <th rowspan=\"2\" valign=\"top\">Medium</th>\n",
       "      <th>1</th>\n",
       "      <td>64801</td>\n",
       "      <td>92.188300</td>\n",
       "    </tr>\n",
       "    <tr>\n",
       "      <th>0</th>\n",
       "      <td>5491</td>\n",
       "      <td>7.811700</td>\n",
       "    </tr>\n",
       "    <tr>\n",
       "      <th rowspan=\"2\" valign=\"top\">Low</th>\n",
       "      <th>1</th>\n",
       "      <td>63000</td>\n",
       "      <td>89.417509</td>\n",
       "    </tr>\n",
       "    <tr>\n",
       "      <th>0</th>\n",
       "      <td>7456</td>\n",
       "      <td>10.582491</td>\n",
       "    </tr>\n",
       "    <tr>\n",
       "      <th rowspan=\"2\" valign=\"top\">High</th>\n",
       "      <th>1</th>\n",
       "      <td>67316</td>\n",
       "      <td>92.605687</td>\n",
       "    </tr>\n",
       "    <tr>\n",
       "      <th>0</th>\n",
       "      <td>5375</td>\n",
       "      <td>7.394313</td>\n",
       "    </tr>\n",
       "  </tbody>\n",
       "</table>\n",
       "</div>"
      ],
      "text/plain": [
       "                                 Count          %\n",
       "Population_Bracket action_taken                  \n",
       "Medium             1             64801  92.188300\n",
       "                   0              5491   7.811700\n",
       "Low                1             63000  89.417509\n",
       "                   0              7456  10.582491\n",
       "High               1             67316  92.605687\n",
       "                   0              5375   7.394313"
      ]
     },
     "execution_count": 30,
     "metadata": {},
     "output_type": "execute_result"
    }
   ],
   "source": [
    "# Population Bracket + Success Rate\n",
    "pb = pd.DataFrame(tract.groupby('Population_Bracket')['action_taken'].value_counts())\n",
    "pb.columns = ['Count']\n",
    "pb = pb.reset_index()\n",
    "pb['%'] = 100 * pb['Count'] / pb.groupby('Population_Bracket')['Count'].transform('sum')\n",
    "pb = pb.sort_values(['Population_Bracket', 'action_taken'], ascending = False).set_index(['Population_Bracket','action_taken'])\n",
    "pb"
   ]
  },
  {
   "cell_type": "code",
   "execution_count": 31,
   "id": "729079fa",
   "metadata": {},
   "outputs": [
    {
     "data": {
      "text/plain": [
       "Text(0.5, 1.0, 'Success vs Rejection for Population Bracket')"
      ]
     },
     "execution_count": 31,
     "metadata": {},
     "output_type": "execute_result"
    },
    {
     "data": {
      "image/png": "[encoded data removed]",
      "text/plain": [
       "<Figure size 864x720 with 1 Axes>"
      ]
     },
     "metadata": {
      "needs_background": "light"
     },
     "output_type": "display_data"
    }
   ],
   "source": [
    "# Comparing Population Success Rates\n",
    "graph_pb = pd.concat([pd.DataFrame([tract.groupby('Population_Bracket')['action_taken'].value_counts()['High'][1],tract.groupby('Population_Bracket')['action_taken'].value_counts()['High'][0]]).transpose(),\n",
    "           pd.DataFrame([tract.groupby('Population_Bracket')['action_taken'].value_counts()['Medium'][1],tract.groupby('Population_Bracket')['action_taken'].value_counts()['Medium'][0]]).transpose(),\n",
    "           pd.DataFrame([tract.groupby('Population_Bracket')['action_taken'].value_counts()['Low'][1],tract.groupby('Population_Bracket')['action_taken'].value_counts()['Low'][0]]).transpose()])\n",
    "graph_pb.index = ['High','Medium','Low']\n",
    "graph_pb.columns = ['Success','Rejection']\n",
    "\n",
    "graph_pb.plot(kind = 'bar', figsize = (12,10))\n",
    "plt.title(\"Success vs Rejection for Population Bracket\")"
   ]
  },
  {
   "cell_type": "code",
   "execution_count": 32,
   "id": "9530e7ba",
   "metadata": {},
   "outputs": [
    {
     "data": {
      "text/html": [
       "<div>\n",
       "<style scoped>\n",
       "    .dataframe tbody tr th:only-of-type {\n",
       "        vertical-align: middle;\n",
       "    }\n",
       "\n",
       "    .dataframe tbody tr th {\n",
       "        vertical-align: top;\n",
       "    }\n",
       "\n",
       "    .dataframe thead th {\n",
       "        text-align: right;\n",
       "    }\n",
       "</style>\n",
       "<table border=\"1\" class=\"dataframe\">\n",
       "  <thead>\n",
       "    <tr style=\"text-align: right;\">\n",
       "      <th></th>\n",
       "      <th>Medium %</th>\n",
       "      <th>Low %</th>\n",
       "      <th>High %</th>\n",
       "      <th>Medium vs Low</th>\n",
       "      <th>Medium vs High</th>\n",
       "      <th>Low vs High</th>\n",
       "    </tr>\n",
       "  </thead>\n",
       "  <tbody>\n",
       "    <tr>\n",
       "      <th></th>\n",
       "      <td>92.188</td>\n",
       "      <td>89.418</td>\n",
       "      <td>92.606</td>\n",
       "      <td>0.000000</td>\n",
       "      <td>0.004208</td>\n",
       "      <td>0.000000</td>\n",
       "    </tr>\n",
       "  </tbody>\n",
       "</table>\n",
       "</div>"
      ],
      "text/plain": [
       "  Medium %   Low %  High % Medium vs Low Medium vs High Low vs High\n",
       "    92.188  89.418  92.606      0.000000       0.004208    0.000000"
      ]
     },
     "execution_count": 32,
     "metadata": {},
     "output_type": "execute_result"
    }
   ],
   "source": [
    "# HYPOTHESIS TESTING : Population impact on success?\n",
    "population = pb.reset_index()\n",
    "\n",
    "testresult = pd.DataFrame()\n",
    "testresult['Medium %'] = list([round(population.iloc[0][3],3)]) \n",
    "testresult['Low %'] = list([round(population.iloc[2][3],3)])\n",
    "testresult['High %'] = list([round(population.iloc[4][3],3)])\n",
    "\n",
    "columnnames = ['Medium vs Low','Medium vs High', 'Low vs High']\n",
    "\n",
    "sample1_phat_list = [0,0,2,3,3,3]\n",
    "sample2_phat_list = [2,4,4,3,3,3]\n",
    "sample1_size_list = [0,0,2,2,2,2]\n",
    "sample2_size_list = [2,4,4,2,2,2]\n",
    "\n",
    "\n",
    "for x in range(int(len(population)/2)):\n",
    "    sample1_phat = population.iloc[sample1_phat_list[x]][sample1_phat_list[x+3]]/100\n",
    "    sample2_phat = population.iloc[sample2_phat_list[x]][sample2_phat_list[x+3]]/100\n",
    "    sample1_size = population.iloc[sample1_size_list[x]][sample1_size_list[x+3]]\n",
    "    sample2_size = population.iloc[sample2_size_list[x]][sample2_size_list[x+3]]\n",
    "    phat = (sample1_phat*sample1_size+sample2_phat*sample2_size)/(sample1_size+sample2_size)\n",
    "    zscore = (sample1_phat - sample2_phat)/np.sqrt(phat*(1-phat)*((1/sample1_size)+(1/sample2_size)))    \n",
    "    pval = st.norm.sf(abs(zscore))*2\n",
    "    testresult[columnnames[x]] = list([format(pval,'f')])\n",
    "\n",
    "testresult.index = ['']\n",
    "testresult"
   ]
  },
  {
   "cell_type": "code",
   "execution_count": 33,
   "id": "b11b3e46",
   "metadata": {},
   "outputs": [],
   "source": [
    "# Tract Minority Population #"
   ]
  },
  {
   "cell_type": "code",
   "execution_count": 34,
   "id": "e6e547c3",
   "metadata": {},
   "outputs": [
    {
     "name": "stdout",
     "output_type": "stream",
     "text": [
      "Low: Minority Percent <= 15.37\n",
      "Medium: Minority Percent > 15.37 and < 34.41\n",
      "High: Minority Percent >= 34.41\n"
     ]
    }
   ],
   "source": [
    "# Creating Buckets for Minority %\n",
    "minority_tract = pd.DataFrame(df[['tract_minority_population_percent','action_taken']])\n",
    "\n",
    "low = minority_tract['tract_minority_population_percent'].quantile(.33)\n",
    "medium = minority_tract['tract_minority_population_percent'].quantile(.66)\n",
    "minority_tract['Minority_Population_Bracket'] = np.where(minority_tract['tract_minority_population_percent']<=low,'Low',\n",
    "         np.where((minority_tract['tract_minority_population_percent']>low)&(minority_tract['tract_minority_population_percent']<medium),'Medium',\n",
    "                 np.where(minority_tract['tract_minority_population_percent']>=medium,'High','ERROR')))\n",
    "\n",
    "print('Low: Minority Percent <=',low)\n",
    "print('Medium: Minority Percent >',low,'and <',medium)\n",
    "print('High: Minority Percent >=',medium)"
   ]
  },
  {
   "cell_type": "code",
   "execution_count": 35,
   "id": "355ba187",
   "metadata": {},
   "outputs": [
    {
     "data": {
      "text/html": [
       "<div>\n",
       "<style scoped>\n",
       "    .dataframe tbody tr th:only-of-type {\n",
       "        vertical-align: middle;\n",
       "    }\n",
       "\n",
       "    .dataframe tbody tr th {\n",
       "        vertical-align: top;\n",
       "    }\n",
       "\n",
       "    .dataframe thead th {\n",
       "        text-align: right;\n",
       "    }\n",
       "</style>\n",
       "<table border=\"1\" class=\"dataframe\">\n",
       "  <thead>\n",
       "    <tr style=\"text-align: right;\">\n",
       "      <th></th>\n",
       "      <th></th>\n",
       "      <th>Count</th>\n",
       "      <th>%</th>\n",
       "    </tr>\n",
       "    <tr>\n",
       "      <th>Minority_Population_Bracket</th>\n",
       "      <th>action_taken</th>\n",
       "      <th></th>\n",
       "      <th></th>\n",
       "    </tr>\n",
       "  </thead>\n",
       "  <tbody>\n",
       "    <tr>\n",
       "      <th rowspan=\"2\" valign=\"top\">Medium</th>\n",
       "      <th>1</th>\n",
       "      <td>65539</td>\n",
       "      <td>93.236880</td>\n",
       "    </tr>\n",
       "    <tr>\n",
       "      <th>0</th>\n",
       "      <td>4754</td>\n",
       "      <td>6.763120</td>\n",
       "    </tr>\n",
       "    <tr>\n",
       "      <th rowspan=\"2\" valign=\"top\">Low</th>\n",
       "      <th>1</th>\n",
       "      <td>64341</td>\n",
       "      <td>91.327306</td>\n",
       "    </tr>\n",
       "    <tr>\n",
       "      <th>0</th>\n",
       "      <td>6110</td>\n",
       "      <td>8.672694</td>\n",
       "    </tr>\n",
       "    <tr>\n",
       "      <th rowspan=\"2\" valign=\"top\">High</th>\n",
       "      <th>1</th>\n",
       "      <td>65237</td>\n",
       "      <td>89.740697</td>\n",
       "    </tr>\n",
       "    <tr>\n",
       "      <th>0</th>\n",
       "      <td>7458</td>\n",
       "      <td>10.259303</td>\n",
       "    </tr>\n",
       "  </tbody>\n",
       "</table>\n",
       "</div>"
      ],
      "text/plain": [
       "                                          Count          %\n",
       "Minority_Population_Bracket action_taken                  \n",
       "Medium                      1             65539  93.236880\n",
       "                            0              4754   6.763120\n",
       "Low                         1             64341  91.327306\n",
       "                            0              6110   8.672694\n",
       "High                        1             65237  89.740697\n",
       "                            0              7458  10.259303"
      ]
     },
     "execution_count": 35,
     "metadata": {},
     "output_type": "execute_result"
    }
   ],
   "source": [
    "# Minority % + Success Rate\n",
    "mpb = pd.DataFrame(minority_tract.groupby('Minority_Population_Bracket')['action_taken'].value_counts())\n",
    "mpb.columns = ['Count']\n",
    "mpb = mpb.reset_index()\n",
    "mpb['%'] = 100 * mpb['Count'] / mpb.groupby('Minority_Population_Bracket')['Count'].transform('sum')\n",
    "mpb = mpb.sort_values(['Minority_Population_Bracket', 'action_taken'], ascending = False).set_index(['Minority_Population_Bracket','action_taken'])\n",
    "mpb"
   ]
  },
  {
   "cell_type": "code",
   "execution_count": 36,
   "id": "9708f01f",
   "metadata": {},
   "outputs": [
    {
     "data": {
      "text/plain": [
       "Text(0.5, 1.0, 'Success vs Rejection for Minority Population Bracket')"
      ]
     },
     "execution_count": 36,
     "metadata": {},
     "output_type": "execute_result"
    },
    {
     "data": {
      "image/png": "[encoded data removed]",
      "text/plain": [
       "<Figure size 864x720 with 1 Axes>"
      ]
     },
     "metadata": {
      "needs_background": "light"
     },
     "output_type": "display_data"
    }
   ],
   "source": [
    "# Comparing Minority % Brackets Success Rates\n",
    "graph_mpb = pd.concat([pd.DataFrame([minority_tract.groupby('Minority_Population_Bracket')['action_taken'].value_counts()['High'][1],minority_tract.groupby('Minority_Population_Bracket')['action_taken'].value_counts()['High'][0]]).transpose(),\n",
    "           pd.DataFrame([minority_tract.groupby('Minority_Population_Bracket')['action_taken'].value_counts()['Medium'][1],minority_tract.groupby('Minority_Population_Bracket')['action_taken'].value_counts()['Medium'][0]]).transpose(),\n",
    "           pd.DataFrame([minority_tract.groupby('Minority_Population_Bracket')['action_taken'].value_counts()['Low'][1],minority_tract.groupby('Minority_Population_Bracket')['action_taken'].value_counts()['Low'][0]]).transpose()])\n",
    "graph_mpb.index = ['High','Medium','Low']\n",
    "graph_mpb.columns = ['Success','Rejection']\n",
    "\n",
    "graph_mpb.plot(kind = 'bar', figsize = (12,10))\n",
    "plt.title(\"Success vs Rejection for Minority Population Bracket\")"
   ]
  },
  {
   "cell_type": "code",
   "execution_count": 37,
   "id": "5e199aeb",
   "metadata": {},
   "outputs": [
    {
     "data": {
      "text/html": [
       "<div>\n",
       "<style scoped>\n",
       "    .dataframe tbody tr th:only-of-type {\n",
       "        vertical-align: middle;\n",
       "    }\n",
       "\n",
       "    .dataframe tbody tr th {\n",
       "        vertical-align: top;\n",
       "    }\n",
       "\n",
       "    .dataframe thead th {\n",
       "        text-align: right;\n",
       "    }\n",
       "</style>\n",
       "<table border=\"1\" class=\"dataframe\">\n",
       "  <thead>\n",
       "    <tr style=\"text-align: right;\">\n",
       "      <th></th>\n",
       "      <th>Medium %</th>\n",
       "      <th>Low %</th>\n",
       "      <th>High %</th>\n",
       "      <th>Medium vs Low</th>\n",
       "      <th>Medium vs High</th>\n",
       "      <th>Low vs High</th>\n",
       "    </tr>\n",
       "  </thead>\n",
       "  <tbody>\n",
       "    <tr>\n",
       "      <th></th>\n",
       "      <td>93.237</td>\n",
       "      <td>91.327</td>\n",
       "      <td>89.741</td>\n",
       "      <td>0.000000</td>\n",
       "      <td>0.000000</td>\n",
       "      <td>0.000000</td>\n",
       "    </tr>\n",
       "  </tbody>\n",
       "</table>\n",
       "</div>"
      ],
      "text/plain": [
       "  Medium %   Low %  High % Medium vs Low Medium vs High Low vs High\n",
       "    93.237  91.327  89.741      0.000000       0.000000    0.000000"
      ]
     },
     "execution_count": 37,
     "metadata": {},
     "output_type": "execute_result"
    }
   ],
   "source": [
    "# HYPOTHESIS TESTING : Minority % Brackets impact on success?\n",
    "population = mpb.reset_index()\n",
    "\n",
    "testresult = pd.DataFrame()\n",
    "testresult['Medium %'] = list([round(population.iloc[0][3],3)]) \n",
    "testresult['Low %'] = list([round(population.iloc[2][3],3)])\n",
    "testresult['High %'] = list([round(population.iloc[4][3],3)])\n",
    "\n",
    "columnnames = ['Medium vs Low','Medium vs High', 'Low vs High']\n",
    "\n",
    "sample1_phat_list = [0,0,2,3,3,3]\n",
    "sample2_phat_list = [2,4,4,3,3,3]\n",
    "sample1_size_list = [0,0,2,2,2,2]\n",
    "sample2_size_list = [2,4,4,2,2,2]\n",
    "\n",
    "\n",
    "for x in range(int(len(population)/2)):\n",
    "    sample1_phat = population.iloc[sample1_phat_list[x]][sample1_phat_list[x+3]]/100\n",
    "    sample2_phat = population.iloc[sample2_phat_list[x]][sample2_phat_list[x+3]]/100\n",
    "    sample1_size = population.iloc[sample1_size_list[x]][sample1_size_list[x+3]]\n",
    "    sample2_size = population.iloc[sample2_size_list[x]][sample2_size_list[x+3]]\n",
    "    phat = (sample1_phat*sample1_size+sample2_phat*sample2_size)/(sample1_size+sample2_size)\n",
    "    zscore = (sample1_phat - sample2_phat)/np.sqrt(phat*(1-phat)*((1/sample1_size)+(1/sample2_size)))    \n",
    "    pval = st.norm.sf(abs(zscore))*2\n",
    "    testresult[columnnames[x]] = list([format(pval,'f')])\n",
    "\n",
    "testresult.index = ['']\n",
    "testresult"
   ]
  },
  {
   "cell_type": "code",
   "execution_count": 38,
   "id": "744aa71a",
   "metadata": {},
   "outputs": [],
   "source": [
    "#### EXPLORING APPLICANT RELATED FEATURES WITH SUCCESS RATE ###"
   ]
  },
  {
   "cell_type": "code",
   "execution_count": 39,
   "id": "5c8e55b4",
   "metadata": {},
   "outputs": [],
   "source": [
    "# Income #"
   ]
  },
  {
   "cell_type": "code",
   "execution_count": 40,
   "id": "7e079fca",
   "metadata": {},
   "outputs": [
    {
     "data": {
      "text/plain": [
       "5983"
      ]
     },
     "execution_count": 40,
     "metadata": {},
     "output_type": "execute_result"
    }
   ],
   "source": [
    "# DROP ALL THAT HAVE A NOT NUMERIC INCOME\n",
    "numeric_income = pd.DataFrame(df['action_taken'])\n",
    "numeric_income['income'] = pd.to_numeric(df['income'], errors='coerce')\n",
    "numeric_income = numeric_income.dropna().reset_index(drop = True)\n",
    "len(df)-len(numeric_income)"
   ]
  },
  {
   "cell_type": "code",
   "execution_count": 41,
   "id": "21380993",
   "metadata": {},
   "outputs": [
    {
     "name": "stdout",
     "output_type": "stream",
     "text": [
      "Low: Income <= 62.0\n",
      "Medium: Income > 62.0 and < 106.0\n",
      "High: Income >= 106.0\n"
     ]
    }
   ],
   "source": [
    "# Creating Buckets for Income \n",
    "low = numeric_income['income'].quantile(.33)\n",
    "medium = numeric_income['income'].quantile(.66)\n",
    "numeric_income['Income_Bracket'] = np.where(numeric_income['income']<=low,'Low',\n",
    "         np.where((numeric_income['income']>low)&(numeric_income['income']<medium),'Medium',\n",
    "                 np.where(numeric_income['income']>=medium,'High','ERROR')))\n",
    "\n",
    "print('Low: Income <=',low)\n",
    "print('Medium: Income >',low,'and <',medium)\n",
    "print('High: Income >=',medium)"
   ]
  },
  {
   "cell_type": "code",
   "execution_count": 42,
   "id": "e91b6c36",
   "metadata": {},
   "outputs": [
    {
     "data": {
      "text/html": [
       "<div>\n",
       "<style scoped>\n",
       "    .dataframe tbody tr th:only-of-type {\n",
       "        vertical-align: middle;\n",
       "    }\n",
       "\n",
       "    .dataframe tbody tr th {\n",
       "        vertical-align: top;\n",
       "    }\n",
       "\n",
       "    .dataframe thead th {\n",
       "        text-align: right;\n",
       "    }\n",
       "</style>\n",
       "<table border=\"1\" class=\"dataframe\">\n",
       "  <thead>\n",
       "    <tr style=\"text-align: right;\">\n",
       "      <th></th>\n",
       "      <th></th>\n",
       "      <th>Count</th>\n",
       "      <th>%</th>\n",
       "    </tr>\n",
       "    <tr>\n",
       "      <th>Income_Bracket</th>\n",
       "      <th>action_taken</th>\n",
       "      <th></th>\n",
       "      <th></th>\n",
       "    </tr>\n",
       "  </thead>\n",
       "  <tbody>\n",
       "    <tr>\n",
       "      <th rowspan=\"2\" valign=\"top\">Medium</th>\n",
       "      <th>1</th>\n",
       "      <td>61783</td>\n",
       "      <td>92.795134</td>\n",
       "    </tr>\n",
       "    <tr>\n",
       "      <th>0</th>\n",
       "      <td>4797</td>\n",
       "      <td>7.204866</td>\n",
       "    </tr>\n",
       "    <tr>\n",
       "      <th rowspan=\"2\" valign=\"top\">Low</th>\n",
       "      <th>1</th>\n",
       "      <td>59854</td>\n",
       "      <td>86.225078</td>\n",
       "    </tr>\n",
       "    <tr>\n",
       "      <th>0</th>\n",
       "      <td>9562</td>\n",
       "      <td>13.774922</td>\n",
       "    </tr>\n",
       "    <tr>\n",
       "      <th rowspan=\"2\" valign=\"top\">High</th>\n",
       "      <th>1</th>\n",
       "      <td>68172</td>\n",
       "      <td>95.398825</td>\n",
       "    </tr>\n",
       "    <tr>\n",
       "      <th>0</th>\n",
       "      <td>3288</td>\n",
       "      <td>4.601175</td>\n",
       "    </tr>\n",
       "  </tbody>\n",
       "</table>\n",
       "</div>"
      ],
      "text/plain": [
       "                             Count          %\n",
       "Income_Bracket action_taken                  \n",
       "Medium         1             61783  92.795134\n",
       "               0              4797   7.204866\n",
       "Low            1             59854  86.225078\n",
       "               0              9562  13.774922\n",
       "High           1             68172  95.398825\n",
       "               0              3288   4.601175"
      ]
     },
     "execution_count": 42,
     "metadata": {},
     "output_type": "execute_result"
    }
   ],
   "source": [
    "# Income Bracket + Success Rate\n",
    "ib = pd.DataFrame(numeric_income.groupby('Income_Bracket')['action_taken'].value_counts())\n",
    "ib.columns = ['Count']\n",
    "ib = ib.reset_index()\n",
    "ib['%'] = 100 * ib['Count'] / ib.groupby('Income_Bracket')['Count'].transform('sum')\n",
    "ib = ib.sort_values(['Income_Bracket', 'action_taken'], ascending = False).set_index(['Income_Bracket','action_taken'])\n",
    "ib"
   ]
  },
  {
   "cell_type": "code",
   "execution_count": 43,
   "id": "36bd91d2",
   "metadata": {},
   "outputs": [
    {
     "data": {
      "text/plain": [
       "Text(0.5, 1.0, 'Success vs Rejection for Income Bracket')"
      ]
     },
     "execution_count": 43,
     "metadata": {},
     "output_type": "execute_result"
    },
    {
     "data": {
      "image/png": "[encoded data removed]",
      "text/plain": [
       "<Figure size 864x720 with 1 Axes>"
      ]
     },
     "metadata": {
      "needs_background": "light"
     },
     "output_type": "display_data"
    }
   ],
   "source": [
    "# Comparing Income Brackets Property Success Rates\n",
    "graph_ib = pd.concat([pd.DataFrame([numeric_income.groupby('Income_Bracket')['action_taken'].value_counts()['High'][1],numeric_income.groupby('Income_Bracket')['action_taken'].value_counts()['High'][0]]).transpose(),\n",
    "           pd.DataFrame([numeric_income.groupby('Income_Bracket')['action_taken'].value_counts()['Medium'][1],numeric_income.groupby('Income_Bracket')['action_taken'].value_counts()['Medium'][0]]).transpose(),\n",
    "           pd.DataFrame([numeric_income.groupby('Income_Bracket')['action_taken'].value_counts()['Low'][1],numeric_income.groupby('Income_Bracket')['action_taken'].value_counts()['Low'][0]]).transpose()])\n",
    "graph_ib.index = ['High','Medium','Low']\n",
    "graph_ib.columns = ['Success','Rejection']\n",
    "\n",
    "graph_ib.plot(kind = 'bar', figsize = (12,10))\n",
    "plt.title(\"Success vs Rejection for Income Bracket\")"
   ]
  },
  {
   "cell_type": "code",
   "execution_count": 44,
   "id": "f0ab2429",
   "metadata": {},
   "outputs": [
    {
     "data": {
      "text/html": [
       "<div>\n",
       "<style scoped>\n",
       "    .dataframe tbody tr th:only-of-type {\n",
       "        vertical-align: middle;\n",
       "    }\n",
       "\n",
       "    .dataframe tbody tr th {\n",
       "        vertical-align: top;\n",
       "    }\n",
       "\n",
       "    .dataframe thead th {\n",
       "        text-align: right;\n",
       "    }\n",
       "</style>\n",
       "<table border=\"1\" class=\"dataframe\">\n",
       "  <thead>\n",
       "    <tr style=\"text-align: right;\">\n",
       "      <th></th>\n",
       "      <th>Medium %</th>\n",
       "      <th>Low %</th>\n",
       "      <th>High %</th>\n",
       "      <th>Medium vs Low</th>\n",
       "      <th>Medium vs High</th>\n",
       "      <th>Low vs High</th>\n",
       "    </tr>\n",
       "  </thead>\n",
       "  <tbody>\n",
       "    <tr>\n",
       "      <th></th>\n",
       "      <td>92.795</td>\n",
       "      <td>86.225</td>\n",
       "      <td>95.399</td>\n",
       "      <td>0.000000</td>\n",
       "      <td>0.000000</td>\n",
       "      <td>0.000000</td>\n",
       "    </tr>\n",
       "  </tbody>\n",
       "</table>\n",
       "</div>"
      ],
      "text/plain": [
       "  Medium %   Low %  High % Medium vs Low Medium vs High Low vs High\n",
       "    92.795  86.225  95.399      0.000000       0.000000    0.000000"
      ]
     },
     "execution_count": 44,
     "metadata": {},
     "output_type": "execute_result"
    }
   ],
   "source": [
    "# HYPOTHESIS TESTING : Income Brackets impact on success?\n",
    "population = ib.reset_index()\n",
    "\n",
    "testresult = pd.DataFrame()\n",
    "testresult['Medium %'] = list([round(population.iloc[0][3],3)]) \n",
    "testresult['Low %'] = list([round(population.iloc[2][3],3)])\n",
    "testresult['High %'] = list([round(population.iloc[4][3],3)])\n",
    "\n",
    "columnnames = ['Medium vs Low','Medium vs High', 'Low vs High']\n",
    "\n",
    "sample1_phat_list = [0,0,2,3,3,3]\n",
    "sample2_phat_list = [2,4,4,3,3,3]\n",
    "sample1_size_list = [0,0,2,2,2,2]\n",
    "sample2_size_list = [2,4,4,2,2,2]\n",
    "\n",
    "\n",
    "for x in range(int(len(population)/2)):\n",
    "    sample1_phat = population.iloc[sample1_phat_list[x]][sample1_phat_list[x+3]]/100\n",
    "    sample2_phat = population.iloc[sample2_phat_list[x]][sample2_phat_list[x+3]]/100\n",
    "    sample1_size = population.iloc[sample1_size_list[x]][sample1_size_list[x+3]]\n",
    "    sample2_size = population.iloc[sample2_size_list[x]][sample2_size_list[x+3]]\n",
    "    phat = (sample1_phat*sample1_size+sample2_phat*sample2_size)/(sample1_size+sample2_size)\n",
    "    zscore = (sample1_phat - sample2_phat)/np.sqrt(phat*(1-phat)*((1/sample1_size)+(1/sample2_size)))    \n",
    "    pval = st.norm.sf(abs(zscore))*2\n",
    "    testresult[columnnames[x]] = list([format(pval,'f')])\n",
    "\n",
    "testresult.index = ['']\n",
    "testresult\n"
   ]
  },
  {
   "cell_type": "code",
   "execution_count": 45,
   "id": "a0420858",
   "metadata": {},
   "outputs": [],
   "source": [
    "# Debt to Income #"
   ]
  },
  {
   "cell_type": "code",
   "execution_count": 46,
   "id": "aebad0fc",
   "metadata": {},
   "outputs": [],
   "source": [
    "# CLEANING UP DEBT TO INCOME!\n",
    "test=pd.DataFrame(np.where(df['debt_to_income_ratio'].str.contains('%',na = False),df['debt_to_income_ratio'],\n",
    "        np.where((~df['debt_to_income_ratio'].str.contains('%',na = False))&(~df['debt_to_income_ratio'].str.contains('Exempt',na = False))&(~df['debt_to_income_ratio'].isnull()),'50%-60%',df['debt_to_income_ratio'])))\n",
    "df['debt_to_income_ratio'] = test"
   ]
  },
  {
   "cell_type": "code",
   "execution_count": 47,
   "id": "315961c7",
   "metadata": {},
   "outputs": [
    {
     "data": {
      "text/plain": [
       "6100"
      ]
     },
     "execution_count": 47,
     "metadata": {},
     "output_type": "execute_result"
    }
   ],
   "source": [
    "# DROP ALL THAT HAVE AN EXEMPT / blank\n",
    "numeric_dti = pd.DataFrame(df[['action_taken','debt_to_income_ratio']])\n",
    "numeric_dti['debt_to_income_ratio'] = np.where(numeric_dti['debt_to_income_ratio']=='Exempt',np.nan,numeric_dti['debt_to_income_ratio'])\n",
    "numeric_dti = numeric_dti.dropna().reset_index(drop = True)\n",
    "len(df) - len(numeric_dti)"
   ]
  },
  {
   "cell_type": "code",
   "execution_count": 48,
   "id": "05a0c3e5",
   "metadata": {},
   "outputs": [
    {
     "data": {
      "text/html": [
       "<div>\n",
       "<style scoped>\n",
       "    .dataframe tbody tr th:only-of-type {\n",
       "        vertical-align: middle;\n",
       "    }\n",
       "\n",
       "    .dataframe tbody tr th {\n",
       "        vertical-align: top;\n",
       "    }\n",
       "\n",
       "    .dataframe thead th {\n",
       "        text-align: right;\n",
       "    }\n",
       "</style>\n",
       "<table border=\"1\" class=\"dataframe\">\n",
       "  <thead>\n",
       "    <tr style=\"text-align: right;\">\n",
       "      <th></th>\n",
       "      <th></th>\n",
       "      <th>Count</th>\n",
       "      <th>%</th>\n",
       "    </tr>\n",
       "    <tr>\n",
       "      <th>debt_to_income_ratio</th>\n",
       "      <th>action_taken</th>\n",
       "      <th></th>\n",
       "      <th></th>\n",
       "    </tr>\n",
       "  </thead>\n",
       "  <tbody>\n",
       "    <tr>\n",
       "      <th rowspan=\"2\" valign=\"top\">&gt;60%</th>\n",
       "      <th>1</th>\n",
       "      <td>357</td>\n",
       "      <td>9.804999</td>\n",
       "    </tr>\n",
       "    <tr>\n",
       "      <th>0</th>\n",
       "      <td>3284</td>\n",
       "      <td>90.195001</td>\n",
       "    </tr>\n",
       "    <tr>\n",
       "      <th rowspan=\"2\" valign=\"top\">&lt;20%</th>\n",
       "      <th>1</th>\n",
       "      <td>12379</td>\n",
       "      <td>88.251230</td>\n",
       "    </tr>\n",
       "    <tr>\n",
       "      <th>0</th>\n",
       "      <td>1648</td>\n",
       "      <td>11.748770</td>\n",
       "    </tr>\n",
       "    <tr>\n",
       "      <th rowspan=\"2\" valign=\"top\">50%-60%</th>\n",
       "      <th>1</th>\n",
       "      <td>102341</td>\n",
       "      <td>92.416403</td>\n",
       "    </tr>\n",
       "    <tr>\n",
       "      <th>0</th>\n",
       "      <td>8398</td>\n",
       "      <td>7.583597</td>\n",
       "    </tr>\n",
       "    <tr>\n",
       "      <th rowspan=\"2\" valign=\"top\">30%-&lt;36%</th>\n",
       "      <th>1</th>\n",
       "      <td>35831</td>\n",
       "      <td>95.353541</td>\n",
       "    </tr>\n",
       "    <tr>\n",
       "      <th>0</th>\n",
       "      <td>1746</td>\n",
       "      <td>4.646459</td>\n",
       "    </tr>\n",
       "    <tr>\n",
       "      <th rowspan=\"2\" valign=\"top\">20%-&lt;30%</th>\n",
       "      <th>1</th>\n",
       "      <td>39317</td>\n",
       "      <td>95.071938</td>\n",
       "    </tr>\n",
       "    <tr>\n",
       "      <th>0</th>\n",
       "      <td>2038</td>\n",
       "      <td>4.928062</td>\n",
       "    </tr>\n",
       "  </tbody>\n",
       "</table>\n",
       "</div>"
      ],
      "text/plain": [
       "                                    Count          %\n",
       "debt_to_income_ratio action_taken                   \n",
       ">60%                 1                357   9.804999\n",
       "                     0               3284  90.195001\n",
       "<20%                 1              12379  88.251230\n",
       "                     0               1648  11.748770\n",
       "50%-60%              1             102341  92.416403\n",
       "                     0               8398   7.583597\n",
       "30%-<36%             1              35831  95.353541\n",
       "                     0               1746   4.646459\n",
       "20%-<30%             1              39317  95.071938\n",
       "                     0               2038   4.928062"
      ]
     },
     "execution_count": 48,
     "metadata": {},
     "output_type": "execute_result"
    }
   ],
   "source": [
    "# DTI Bracket + Success Rate\n",
    "dti = pd.DataFrame(numeric_dti.groupby('debt_to_income_ratio')['action_taken'].value_counts())\n",
    "dti.columns = ['Count']\n",
    "dti = dti.reset_index()\n",
    "dti['%'] = 100 * dti['Count'] / dti.groupby('debt_to_income_ratio')['Count'].transform('sum')\n",
    "dti = dti.sort_values(['debt_to_income_ratio', 'action_taken'], ascending = False).set_index(['debt_to_income_ratio','action_taken'])\n",
    "dti"
   ]
  },
  {
   "cell_type": "code",
   "execution_count": 49,
   "id": "4495a140",
   "metadata": {},
   "outputs": [
    {
     "data": {
      "text/plain": [
       "Text(0.5, 1.0, 'Success vs Rejection for DTI Bracket')"
      ]
     },
     "execution_count": 49,
     "metadata": {},
     "output_type": "execute_result"
    },
    {
     "data": {
      "image/png": "[encoded data removed]",
      "text/plain": [
       "<Figure size 864x720 with 1 Axes>"
      ]
     },
     "metadata": {
      "needs_background": "light"
     },
     "output_type": "display_data"
    }
   ],
   "source": [
    "# Comparing DTI Brackets Property Success Rates\n",
    "graph_dti = pd.concat([pd.DataFrame([numeric_dti.groupby('debt_to_income_ratio')['action_taken'].value_counts()['>60%'][1],numeric_dti.groupby('debt_to_income_ratio')['action_taken'].value_counts()['>60%'][0]]).transpose(),\n",
    "           pd.DataFrame([numeric_dti.groupby('debt_to_income_ratio')['action_taken'].value_counts()['50%-60%'][1],numeric_dti.groupby('debt_to_income_ratio')['action_taken'].value_counts()['50%-60%'][0]]).transpose(),\n",
    "           pd.DataFrame([numeric_dti.groupby('debt_to_income_ratio')['action_taken'].value_counts()['30%-<36%'][1],numeric_dti.groupby('debt_to_income_ratio')['action_taken'].value_counts()['30%-<36%'][0]]).transpose(),\n",
    "           pd.DataFrame([numeric_dti.groupby('debt_to_income_ratio')['action_taken'].value_counts()['20%-<30%'][1],numeric_dti.groupby('debt_to_income_ratio')['action_taken'].value_counts()['20%-<30%'][0]]).transpose(),\n",
    "           pd.DataFrame([numeric_dti.groupby('debt_to_income_ratio')['action_taken'].value_counts()['<20%'][1],numeric_dti.groupby('debt_to_income_ratio')['action_taken'].value_counts()['<20%'][0]]).transpose()])\n",
    "\n",
    "graph_dti.index = ['>60%','50%-60%','30%-<36%','20%-<30%','<20%']\n",
    "graph_dti.columns = ['Success','Rejection']\n",
    "\n",
    "graph_dti.plot(kind = 'bar', figsize = (12,10))\n",
    "plt.title(\"Success vs Rejection for DTI Bracket\")"
   ]
  },
  {
   "cell_type": "code",
   "execution_count": 50,
   "id": "e0dccd3f",
   "metadata": {},
   "outputs": [
    {
     "data": {
      "text/html": [
       "<div>\n",
       "<style scoped>\n",
       "    .dataframe tbody tr th:only-of-type {\n",
       "        vertical-align: middle;\n",
       "    }\n",
       "\n",
       "    .dataframe tbody tr th {\n",
       "        vertical-align: top;\n",
       "    }\n",
       "\n",
       "    .dataframe thead th {\n",
       "        text-align: right;\n",
       "    }\n",
       "</style>\n",
       "<table border=\"1\" class=\"dataframe\">\n",
       "  <thead>\n",
       "    <tr style=\"text-align: right;\">\n",
       "      <th></th>\n",
       "      <th>&gt;60% %</th>\n",
       "      <th>&lt;20% %</th>\n",
       "      <th>50%-60% %</th>\n",
       "      <th>30%-&lt;36% %</th>\n",
       "      <th>20%-&lt;30% %</th>\n",
       "      <th>&gt;60 vs &lt;20</th>\n",
       "      <th>&gt;60 vs 50-60</th>\n",
       "      <th>&gt;60 vs 30-36</th>\n",
       "      <th>&gt;60 vs 20-30</th>\n",
       "      <th>&lt;20 vs 50-60</th>\n",
       "      <th>&lt;20 vs 30-36</th>\n",
       "      <th>&lt;20 vs 20-30</th>\n",
       "      <th>50-60 vs 30-36</th>\n",
       "      <th>50-60 vs 20-30</th>\n",
       "      <th>30-36 vs 20-30</th>\n",
       "    </tr>\n",
       "  </thead>\n",
       "  <tbody>\n",
       "    <tr>\n",
       "      <th></th>\n",
       "      <td>9.805</td>\n",
       "      <td>88.251</td>\n",
       "      <td>92.416</td>\n",
       "      <td>95.354</td>\n",
       "      <td>95.072</td>\n",
       "      <td>0.000000</td>\n",
       "      <td>0.000000</td>\n",
       "      <td>0.000000</td>\n",
       "      <td>0.000000</td>\n",
       "      <td>0.000000</td>\n",
       "      <td>0.000000</td>\n",
       "      <td>0.000000</td>\n",
       "      <td>0.000000</td>\n",
       "      <td>0.000000</td>\n",
       "      <td>0.071108</td>\n",
       "    </tr>\n",
       "  </tbody>\n",
       "</table>\n",
       "</div>"
      ],
      "text/plain": [
       "  >60% %  <20% %  50%-60% %  30%-<36% %  20%-<30% % >60 vs <20 >60 vs 50-60  \\\n",
       "   9.805  88.251     92.416      95.354      95.072   0.000000     0.000000   \n",
       "\n",
       " >60 vs 30-36 >60 vs 20-30 <20 vs 50-60 <20 vs 30-36 <20 vs 20-30  \\\n",
       "     0.000000     0.000000     0.000000     0.000000     0.000000   \n",
       "\n",
       " 50-60 vs 30-36 50-60 vs 20-30 30-36 vs 20-30  \n",
       "       0.000000       0.000000       0.071108  "
      ]
     },
     "execution_count": 50,
     "metadata": {},
     "output_type": "execute_result"
    }
   ],
   "source": [
    "# HYPOTHESIS TESTING : DTI Brackets impact on success?\n",
    "population = dti.reset_index()\n",
    "\n",
    "testresult = pd.DataFrame()\n",
    "testresult['>60% %'] = list([round(population.iloc[0][3],3)]) \n",
    "testresult['<20% %'] = list([round(population.iloc[2][3],3)])\n",
    "testresult['50%-60% %'] = list([round(population.iloc[4][3],3)])\n",
    "testresult['30%-<36% %'] = list([round(population.iloc[6][3],3)])\n",
    "testresult['20%-<30% %'] = list([round(population.iloc[8][3],3)])\n",
    "\n",
    "columnnames = ['>60 vs <20','>60 vs 50-60', '>60 vs 30-36','>60 vs 20-30','<20 vs 50-60',\n",
    "              '<20 vs 30-36','<20 vs 20-30','50-60 vs 30-36','50-60 vs 20-30','30-36 vs 20-30']\n",
    "\n",
    "sample1_phat_list = [0,0,0,0,2,2,2,4,4,6,3,3,3,3,3,3,3,3,3,3]\n",
    "sample2_phat_list = [2,4,6,8,4,6,8,6,8,8,3,3,3,3,3,3,3,3,3,3]\n",
    "sample1_size_list = [0,0,0,0,2,2,2,4,4,6,2,2,2,2,2,2,2,2,2,2]\n",
    "sample2_size_list = [2,4,6,8,4,6,8,6,8,8,2,2,2,2,2,2,2,2,2,2]\n",
    "\n",
    "\n",
    "for x in range(len(population)):\n",
    "    sample1_phat = population.iloc[sample1_phat_list[x]][sample1_phat_list[x+10]]/100\n",
    "    sample2_phat = population.iloc[sample2_phat_list[x]][sample2_phat_list[x+10]]/100\n",
    "    sample1_size = population.iloc[sample1_size_list[x]][sample1_size_list[x+10]]\n",
    "    sample2_size = population.iloc[sample2_size_list[x]][sample2_size_list[x+10]]\n",
    "    phat = (sample1_phat*sample1_size+sample2_phat*sample2_size)/(sample1_size+sample2_size)\n",
    "    zscore = (sample1_phat - sample2_phat)/np.sqrt(phat*(1-phat)*((1/sample1_size)+(1/sample2_size)))    \n",
    "    pval = st.norm.sf(abs(zscore))*2\n",
    "    testresult[columnnames[x]] = list([format(pval,'f')])\n",
    "\n",
    "testresult.index = ['']\n",
    "testresult"
   ]
  },
  {
   "cell_type": "code",
   "execution_count": 51,
   "id": "f776b268",
   "metadata": {},
   "outputs": [],
   "source": [
    "# Ethnicity #"
   ]
  },
  {
   "cell_type": "code",
   "execution_count": 52,
   "id": "6b372bee",
   "metadata": {},
   "outputs": [],
   "source": [
    "# CREATING A NEW FIELD: SAME ETHNICITY BETWEEN CO APPLICANT AND APPLICANT = 1: NO CO APPLICANT IS ALSO 0\n",
    "df['same_ethnicity'] = np.where(df['applicant_ethnicity-1']==df['co-applicant_ethnicity-1'],1,0)\n",
    "\n",
    "# ANALYZING HISPANIC/LATINO VS NOT\n",
    "hispanic_latino = pd.DataFrame(df['action_taken'])\n",
    "hispanic_latino['Ethnicity'] = np.where(df['applicant_ethnicity-1']==1,1,np.where(df['applicant_ethnicity-1']==2,0,np.nan))\n",
    "hispanic_latino = hispanic_latino.dropna().reset_index(drop = True)"
   ]
  },
  {
   "cell_type": "code",
   "execution_count": 53,
   "id": "c95e9a36",
   "metadata": {},
   "outputs": [
    {
     "data": {
      "text/html": [
       "<div>\n",
       "<style scoped>\n",
       "    .dataframe tbody tr th:only-of-type {\n",
       "        vertical-align: middle;\n",
       "    }\n",
       "\n",
       "    .dataframe tbody tr th {\n",
       "        vertical-align: top;\n",
       "    }\n",
       "\n",
       "    .dataframe thead th {\n",
       "        text-align: right;\n",
       "    }\n",
       "</style>\n",
       "<table border=\"1\" class=\"dataframe\">\n",
       "  <thead>\n",
       "    <tr style=\"text-align: right;\">\n",
       "      <th></th>\n",
       "      <th></th>\n",
       "      <th>Count</th>\n",
       "      <th>%</th>\n",
       "    </tr>\n",
       "    <tr>\n",
       "      <th>Ethnicity</th>\n",
       "      <th>action_taken</th>\n",
       "      <th></th>\n",
       "      <th></th>\n",
       "    </tr>\n",
       "  </thead>\n",
       "  <tbody>\n",
       "    <tr>\n",
       "      <th rowspan=\"2\" valign=\"top\">1.0</th>\n",
       "      <th>1</th>\n",
       "      <td>26745</td>\n",
       "      <td>89.781463</td>\n",
       "    </tr>\n",
       "    <tr>\n",
       "      <th>0</th>\n",
       "      <td>3044</td>\n",
       "      <td>10.218537</td>\n",
       "    </tr>\n",
       "    <tr>\n",
       "      <th rowspan=\"2\" valign=\"top\">0.0</th>\n",
       "      <th>1</th>\n",
       "      <td>144115</td>\n",
       "      <td>92.267259</td>\n",
       "    </tr>\n",
       "    <tr>\n",
       "      <th>0</th>\n",
       "      <td>12078</td>\n",
       "      <td>7.732741</td>\n",
       "    </tr>\n",
       "  </tbody>\n",
       "</table>\n",
       "</div>"
      ],
      "text/plain": [
       "                         Count          %\n",
       "Ethnicity action_taken                   \n",
       "1.0       1              26745  89.781463\n",
       "          0               3044  10.218537\n",
       "0.0       1             144115  92.267259\n",
       "          0              12078   7.732741"
      ]
     },
     "execution_count": 53,
     "metadata": {},
     "output_type": "execute_result"
    }
   ],
   "source": [
    "# Hispanic/Latino vs not + Success Rate\n",
    "hl = pd.DataFrame(hispanic_latino.groupby('Ethnicity')['action_taken'].value_counts())\n",
    "hl.columns = ['Count']\n",
    "hl = hl.reset_index()\n",
    "hl['%'] = 100 * hl['Count'] / hl.groupby('Ethnicity')['Count'].transform('sum')\n",
    "hl = hl.sort_values(['Ethnicity', 'action_taken'], ascending = False).set_index(['Ethnicity','action_taken'])\n",
    "hl"
   ]
  },
  {
   "cell_type": "code",
   "execution_count": 54,
   "id": "5973e34d",
   "metadata": {},
   "outputs": [
    {
     "data": {
      "text/plain": [
       "Text(0.5, 1.0, 'Success vs Rejection for Hispanic/Latino or Not')"
      ]
     },
     "execution_count": 54,
     "metadata": {},
     "output_type": "execute_result"
    },
    {
     "data": {
      "image/png": "[encoded data removed]",
      "text/plain": [
       "<Figure size 864x720 with 1 Axes>"
      ]
     },
     "metadata": {
      "needs_background": "light"
     },
     "output_type": "display_data"
    }
   ],
   "source": [
    "# Comparing Hispanic/Latino vs not Success Rates\n",
    "graph_hs = pd.concat([pd.DataFrame([hispanic_latino.groupby('Ethnicity')['action_taken'].value_counts()[1][1],hispanic_latino.groupby('Ethnicity')['action_taken'].value_counts()[1][0]]).transpose(),\n",
    "           pd.DataFrame([hispanic_latino.groupby('Ethnicity')['action_taken'].value_counts()[0][1],hispanic_latino.groupby('Ethnicity')['action_taken'].value_counts()[0][0]]).transpose()])\n",
    "graph_hs.index = ['Hispanic/Latino','Not Hispanic/Latino']\n",
    "graph_hs.columns = ['Success','Rejection']\n",
    "\n",
    "graph_hs.plot(kind = 'bar', figsize = (12,10))\n",
    "plt.title(\"Success vs Rejection for Hispanic/Latino or Not\")"
   ]
  },
  {
   "cell_type": "code",
   "execution_count": 55,
   "id": "0d1c1235",
   "metadata": {},
   "outputs": [
    {
     "data": {
      "text/html": [
       "<div>\n",
       "<style scoped>\n",
       "    .dataframe tbody tr th:only-of-type {\n",
       "        vertical-align: middle;\n",
       "    }\n",
       "\n",
       "    .dataframe tbody tr th {\n",
       "        vertical-align: top;\n",
       "    }\n",
       "\n",
       "    .dataframe thead th {\n",
       "        text-align: right;\n",
       "    }\n",
       "</style>\n",
       "<table border=\"1\" class=\"dataframe\">\n",
       "  <thead>\n",
       "    <tr style=\"text-align: right;\">\n",
       "      <th></th>\n",
       "      <th>Hispanic or Latino %</th>\n",
       "      <th>Not Hispanic or Latino %</th>\n",
       "      <th>PVal</th>\n",
       "    </tr>\n",
       "  </thead>\n",
       "  <tbody>\n",
       "    <tr>\n",
       "      <th></th>\n",
       "      <td>89.781</td>\n",
       "      <td>92.267</td>\n",
       "      <td>0.000000</td>\n",
       "    </tr>\n",
       "  </tbody>\n",
       "</table>\n",
       "</div>"
      ],
      "text/plain": [
       " Hispanic or Latino % Not Hispanic or Latino %      PVal\n",
       "               89.781                   92.267  0.000000"
      ]
     },
     "execution_count": 55,
     "metadata": {},
     "output_type": "execute_result"
    }
   ],
   "source": [
    "# HYPOTHESIS TESTING : IN Hispanic/Latino vs Not\n",
    "population = hl.reset_index()\n",
    "\n",
    "sample1_phat = population.iloc[0][3]/100\n",
    "sample2_phat = population.iloc[2][3]/100\n",
    "sample1_size = population.iloc[0][2]\n",
    "sample2_size = population.iloc[2][2]\n",
    "phat = (sample1_phat*sample1_size+sample2_phat*sample2_size)/(sample1_size+sample2_size)\n",
    "zscore = (sample1_phat - sample2_phat)/np.sqrt(phat*(1-phat)*((1/sample1_size)+(1/sample2_size)))    \n",
    "pval = st.norm.sf(abs(zscore))*2\n",
    "testresult = pd.DataFrame([round(sample1_phat*100,3),round(sample2_phat*100,3),format(pval,'f')]).transpose()\n",
    "testresult.columns = ['Hispanic or Latino %','Not Hispanic or Latino %','PVal']\n",
    "testresult.index = ['']\n",
    "testresult"
   ]
  },
  {
   "cell_type": "code",
   "execution_count": 56,
   "id": "40049782",
   "metadata": {},
   "outputs": [],
   "source": [
    "# Race #"
   ]
  },
  {
   "cell_type": "code",
   "execution_count": 57,
   "id": "27935a22",
   "metadata": {},
   "outputs": [],
   "source": [
    "# CREATING A NEW FIELD: SAME RACE BETWEEN CO APPLICANT AND APPLICANT = 1: NO CO APPLICANT IS ALSO 0\n",
    "df['same_race'] = np.where(df['applicant_race-1']==df['co-applicant_race-1'],1,0)\n",
    "\n",
    "# ANALYZING ONLY BLACK, ASIAN, WHITE (TOP 3)\n",
    "top3_race = pd.DataFrame(df['action_taken'])\n",
    "top3_race['Race'] = np.where(df['applicant_race-1']==5,'White',np.where(df['applicant_race-1']==3,'Black',\n",
    "                                                                        np.where(df['applicant_race-1']==2,'Asian',np.nan)))\n",
    "top3_race = top3_race.dropna().reset_index(drop = True)\n",
    "top3_race = top3_race[top3_race['Race']!='nan']"
   ]
  },
  {
   "cell_type": "code",
   "execution_count": 58,
   "id": "aa6e8862",
   "metadata": {},
   "outputs": [
    {
     "data": {
      "text/html": [
       "<div>\n",
       "<style scoped>\n",
       "    .dataframe tbody tr th:only-of-type {\n",
       "        vertical-align: middle;\n",
       "    }\n",
       "\n",
       "    .dataframe tbody tr th {\n",
       "        vertical-align: top;\n",
       "    }\n",
       "\n",
       "    .dataframe thead th {\n",
       "        text-align: right;\n",
       "    }\n",
       "</style>\n",
       "<table border=\"1\" class=\"dataframe\">\n",
       "  <thead>\n",
       "    <tr style=\"text-align: right;\">\n",
       "      <th></th>\n",
       "      <th></th>\n",
       "      <th>Count</th>\n",
       "      <th>%</th>\n",
       "    </tr>\n",
       "    <tr>\n",
       "      <th>Race</th>\n",
       "      <th>action_taken</th>\n",
       "      <th></th>\n",
       "      <th></th>\n",
       "    </tr>\n",
       "  </thead>\n",
       "  <tbody>\n",
       "    <tr>\n",
       "      <th rowspan=\"2\" valign=\"top\">White</th>\n",
       "      <th>1</th>\n",
       "      <td>135818</td>\n",
       "      <td>93.155552</td>\n",
       "    </tr>\n",
       "    <tr>\n",
       "      <th>0</th>\n",
       "      <td>9979</td>\n",
       "      <td>6.844448</td>\n",
       "    </tr>\n",
       "    <tr>\n",
       "      <th rowspan=\"2\" valign=\"top\">Black</th>\n",
       "      <th>1</th>\n",
       "      <td>17842</td>\n",
       "      <td>81.851546</td>\n",
       "    </tr>\n",
       "    <tr>\n",
       "      <th>0</th>\n",
       "      <td>3956</td>\n",
       "      <td>18.148454</td>\n",
       "    </tr>\n",
       "    <tr>\n",
       "      <th rowspan=\"2\" valign=\"top\">Asian</th>\n",
       "      <th>1</th>\n",
       "      <td>13256</td>\n",
       "      <td>93.881020</td>\n",
       "    </tr>\n",
       "    <tr>\n",
       "      <th>0</th>\n",
       "      <td>864</td>\n",
       "      <td>6.118980</td>\n",
       "    </tr>\n",
       "  </tbody>\n",
       "</table>\n",
       "</div>"
      ],
      "text/plain": [
       "                     Count          %\n",
       "Race  action_taken                   \n",
       "White 1             135818  93.155552\n",
       "      0               9979   6.844448\n",
       "Black 1              17842  81.851546\n",
       "      0               3956  18.148454\n",
       "Asian 1              13256  93.881020\n",
       "      0                864   6.118980"
      ]
     },
     "execution_count": 58,
     "metadata": {},
     "output_type": "execute_result"
    }
   ],
   "source": [
    "# Top 3 Race + Success Rate\n",
    "t3r = pd.DataFrame(top3_race.groupby('Race')['action_taken'].value_counts())\n",
    "t3r.columns = ['Count']\n",
    "t3r = t3r.reset_index()\n",
    "t3r['%'] = 100 * t3r['Count'] / t3r.groupby('Race')['Count'].transform('sum')\n",
    "t3r = t3r.sort_values(['Race', 'action_taken'], ascending = False).set_index(['Race','action_taken'])\n",
    "t3r"
   ]
  },
  {
   "cell_type": "code",
   "execution_count": 59,
   "id": "4b9989e1",
   "metadata": {},
   "outputs": [
    {
     "data": {
      "text/plain": [
       "Text(0.5, 1.0, 'Success vs Rejection for Top 3 Races')"
      ]
     },
     "execution_count": 59,
     "metadata": {},
     "output_type": "execute_result"
    },
    {
     "data": {
      "image/png": "[encoded data removed]",
      "text/plain": [
       "<Figure size 864x720 with 1 Axes>"
      ]
     },
     "metadata": {
      "needs_background": "light"
     },
     "output_type": "display_data"
    }
   ],
   "source": [
    "# Comparing Value Brackets Property Success Rates\n",
    "graph_t3r = pd.concat([pd.DataFrame([top3_race.groupby('Race')['action_taken'].value_counts()['Black'][1],top3_race.groupby('Race')['action_taken'].value_counts()['Black'][0]]).transpose(),\n",
    "           pd.DataFrame([top3_race.groupby('Race')['action_taken'].value_counts()['White'][1],top3_race.groupby('Race')['action_taken'].value_counts()['White'][0]]).transpose(),\n",
    "           pd.DataFrame([top3_race.groupby('Race')['action_taken'].value_counts()['Asian'][1],top3_race.groupby('Race')['action_taken'].value_counts()['Asian'][0]]).transpose()])\n",
    "graph_t3r.index = ['Black','White','Asian']\n",
    "graph_t3r.columns = ['Success','Rejection']\n",
    "\n",
    "graph_t3r.plot(kind = 'bar', figsize = (12,10))\n",
    "plt.title(\"Success vs Rejection for Top 3 Races\")"
   ]
  },
  {
   "cell_type": "code",
   "execution_count": 60,
   "id": "95a1b878",
   "metadata": {},
   "outputs": [
    {
     "data": {
      "text/html": [
       "<div>\n",
       "<style scoped>\n",
       "    .dataframe tbody tr th:only-of-type {\n",
       "        vertical-align: middle;\n",
       "    }\n",
       "\n",
       "    .dataframe tbody tr th {\n",
       "        vertical-align: top;\n",
       "    }\n",
       "\n",
       "    .dataframe thead th {\n",
       "        text-align: right;\n",
       "    }\n",
       "</style>\n",
       "<table border=\"1\" class=\"dataframe\">\n",
       "  <thead>\n",
       "    <tr style=\"text-align: right;\">\n",
       "      <th></th>\n",
       "      <th>White %</th>\n",
       "      <th>Black %</th>\n",
       "      <th>Asian %</th>\n",
       "      <th>White vs Black</th>\n",
       "      <th>White vs Asian</th>\n",
       "      <th>Black vs Asian</th>\n",
       "    </tr>\n",
       "  </thead>\n",
       "  <tbody>\n",
       "    <tr>\n",
       "      <th></th>\n",
       "      <td>93.156</td>\n",
       "      <td>81.852</td>\n",
       "      <td>93.881</td>\n",
       "      <td>0.000000</td>\n",
       "      <td>0.001518</td>\n",
       "      <td>0.000000</td>\n",
       "    </tr>\n",
       "  </tbody>\n",
       "</table>\n",
       "</div>"
      ],
      "text/plain": [
       "  White %  Black %  Asian % White vs Black White vs Asian Black vs Asian\n",
       "   93.156   81.852   93.881       0.000000       0.001518       0.000000"
      ]
     },
     "execution_count": 60,
     "metadata": {},
     "output_type": "execute_result"
    }
   ],
   "source": [
    "# HYPOTHESIS TESTING : Top 3 Races impact on success?\n",
    "population = t3r.reset_index()\n",
    "\n",
    "testresult = pd.DataFrame()\n",
    "testresult['White %'] = list([round(population.iloc[0][3],3)]) \n",
    "testresult['Black %'] = list([round(population.iloc[2][3],3)])\n",
    "testresult['Asian %'] = list([round(population.iloc[4][3],3)])\n",
    "\n",
    "columnnames = ['White vs Black','White vs Asian', 'Black vs Asian']\n",
    "\n",
    "sample1_phat_list = [0,0,2,3,3,3]\n",
    "sample2_phat_list = [2,4,4,3,3,3]\n",
    "sample1_size_list = [0,0,2,2,2,2]\n",
    "sample2_size_list = [2,4,4,2,2,2]\n",
    "\n",
    "\n",
    "for x in range(int(len(population)/2)):\n",
    "    sample1_phat = population.iloc[sample1_phat_list[x]][sample1_phat_list[x+3]]/100\n",
    "    sample2_phat = population.iloc[sample2_phat_list[x]][sample2_phat_list[x+3]]/100\n",
    "    sample1_size = population.iloc[sample1_size_list[x]][sample1_size_list[x+3]]\n",
    "    sample2_size = population.iloc[sample2_size_list[x]][sample2_size_list[x+3]]\n",
    "    phat = (sample1_phat*sample1_size+sample2_phat*sample2_size)/(sample1_size+sample2_size)\n",
    "    zscore = (sample1_phat - sample2_phat)/np.sqrt(phat*(1-phat)*((1/sample1_size)+(1/sample2_size)))    \n",
    "    pval = st.norm.sf(abs(zscore))*2\n",
    "    testresult[columnnames[x]] = list([format(pval,'f')])\n",
    "\n",
    "testresult.index = ['']\n",
    "testresult"
   ]
  },
  {
   "cell_type": "code",
   "execution_count": 61,
   "id": "6c941128",
   "metadata": {},
   "outputs": [],
   "source": [
    "# SEX #"
   ]
  },
  {
   "cell_type": "code",
   "execution_count": 62,
   "id": "88ba1aca",
   "metadata": {},
   "outputs": [],
   "source": [
    "# CREATING A NEW FIELD: SAME RACE BETWEEN CO APPLICANT AND APPLICANT = 1: NO CO APPLICANT IS ALSO 0\n",
    "df['same_sex'] = np.where(df['applicant_sex']==df['co-applicant_sex'],1,0)\n",
    "\n",
    "# ANALYZING Male and Female: Applicant\n",
    "male_female = pd.DataFrame(df['action_taken'])\n",
    "male_female['Sex'] = np.where(df['applicant_sex']==1,'Male',np.where(df['applicant_sex']==2,'Female',np.nan))\n",
    "male_female = male_female.dropna().reset_index(drop = True)\n",
    "male_female = male_female[male_female['Sex']!='nan']"
   ]
  },
  {
   "cell_type": "code",
   "execution_count": 63,
   "id": "29d276b1",
   "metadata": {},
   "outputs": [
    {
     "data": {
      "text/html": [
       "<div>\n",
       "<style scoped>\n",
       "    .dataframe tbody tr th:only-of-type {\n",
       "        vertical-align: middle;\n",
       "    }\n",
       "\n",
       "    .dataframe tbody tr th {\n",
       "        vertical-align: top;\n",
       "    }\n",
       "\n",
       "    .dataframe thead th {\n",
       "        text-align: right;\n",
       "    }\n",
       "</style>\n",
       "<table border=\"1\" class=\"dataframe\">\n",
       "  <thead>\n",
       "    <tr style=\"text-align: right;\">\n",
       "      <th></th>\n",
       "      <th></th>\n",
       "      <th>Count</th>\n",
       "      <th>%</th>\n",
       "    </tr>\n",
       "    <tr>\n",
       "      <th>Sex</th>\n",
       "      <th>action_taken</th>\n",
       "      <th></th>\n",
       "      <th></th>\n",
       "    </tr>\n",
       "  </thead>\n",
       "  <tbody>\n",
       "    <tr>\n",
       "      <th rowspan=\"2\" valign=\"top\">Male</th>\n",
       "      <th>1</th>\n",
       "      <td>113376</td>\n",
       "      <td>92.302432</td>\n",
       "    </tr>\n",
       "    <tr>\n",
       "      <th>0</th>\n",
       "      <td>9455</td>\n",
       "      <td>7.697568</td>\n",
       "    </tr>\n",
       "    <tr>\n",
       "      <th rowspan=\"2\" valign=\"top\">Female</th>\n",
       "      <th>1</th>\n",
       "      <td>70590</td>\n",
       "      <td>90.417697</td>\n",
       "    </tr>\n",
       "    <tr>\n",
       "      <th>0</th>\n",
       "      <td>7481</td>\n",
       "      <td>9.582303</td>\n",
       "    </tr>\n",
       "  </tbody>\n",
       "</table>\n",
       "</div>"
      ],
      "text/plain": [
       "                      Count          %\n",
       "Sex    action_taken                   \n",
       "Male   1             113376  92.302432\n",
       "       0               9455   7.697568\n",
       "Female 1              70590  90.417697\n",
       "       0               7481   9.582303"
      ]
     },
     "execution_count": 63,
     "metadata": {},
     "output_type": "execute_result"
    }
   ],
   "source": [
    "# Sex + Success Rate\n",
    "sex = pd.DataFrame(male_female.groupby('Sex')['action_taken'].value_counts())\n",
    "sex.columns = ['Count']\n",
    "sex = sex.reset_index()\n",
    "sex['%'] = 100 * sex['Count'] / sex.groupby('Sex')['Count'].transform('sum')\n",
    "sex = sex.sort_values(['Sex', 'action_taken'], ascending = False).set_index(['Sex','action_taken'])\n",
    "sex"
   ]
  },
  {
   "cell_type": "code",
   "execution_count": 64,
   "id": "dc43f8a5",
   "metadata": {},
   "outputs": [
    {
     "data": {
      "text/plain": [
       "Text(0.5, 1.0, 'Success vs Rejection for Male vs Female')"
      ]
     },
     "execution_count": 64,
     "metadata": {},
     "output_type": "execute_result"
    },
    {
     "data": {
      "image/png": "[encoded data removed]",
      "text/plain": [
       "<Figure size 864x720 with 1 Axes>"
      ]
     },
     "metadata": {
      "needs_background": "light"
     },
     "output_type": "display_data"
    }
   ],
   "source": [
    "# Comparing Hispanic/Latino vs not Success Rates\n",
    "graph_sex = pd.concat([pd.DataFrame([male_female.groupby('Sex')['action_taken'].value_counts()['Male'][1],male_female.groupby('Sex')['action_taken'].value_counts()['Male'][0]]).transpose(),\n",
    "           pd.DataFrame([male_female.groupby('Sex')['action_taken'].value_counts()['Female'][1],male_female.groupby('Sex')['action_taken'].value_counts()['Female'][0]]).transpose()])\n",
    "graph_sex.index = ['Male','Female']\n",
    "graph_sex.columns = ['Success','Rejection']\n",
    "\n",
    "graph_sex.plot(kind = 'bar', figsize = (12,10))\n",
    "plt.title(\"Success vs Rejection for Male vs Female\")"
   ]
  },
  {
   "cell_type": "code",
   "execution_count": 65,
   "id": "44f298b2",
   "metadata": {},
   "outputs": [
    {
     "data": {
      "text/html": [
       "<div>\n",
       "<style scoped>\n",
       "    .dataframe tbody tr th:only-of-type {\n",
       "        vertical-align: middle;\n",
       "    }\n",
       "\n",
       "    .dataframe tbody tr th {\n",
       "        vertical-align: top;\n",
       "    }\n",
       "\n",
       "    .dataframe thead th {\n",
       "        text-align: right;\n",
       "    }\n",
       "</style>\n",
       "<table border=\"1\" class=\"dataframe\">\n",
       "  <thead>\n",
       "    <tr style=\"text-align: right;\">\n",
       "      <th></th>\n",
       "      <th>Male %</th>\n",
       "      <th>Female %</th>\n",
       "      <th>PVal</th>\n",
       "    </tr>\n",
       "  </thead>\n",
       "  <tbody>\n",
       "    <tr>\n",
       "      <th></th>\n",
       "      <td>92.302</td>\n",
       "      <td>90.418</td>\n",
       "      <td>0.000000</td>\n",
       "    </tr>\n",
       "  </tbody>\n",
       "</table>\n",
       "</div>"
      ],
      "text/plain": [
       "  Male % Female %      PVal\n",
       "  92.302   90.418  0.000000"
      ]
     },
     "execution_count": 65,
     "metadata": {},
     "output_type": "execute_result"
    }
   ],
   "source": [
    "# HYPOTHESIS TESTING : SEX and Success\n",
    "population = sex.reset_index()\n",
    "\n",
    "sample1_phat = population.iloc[0][3]/100\n",
    "sample2_phat = population.iloc[2][3]/100\n",
    "sample1_size = population.iloc[0][2]\n",
    "sample2_size = population.iloc[2][2]\n",
    "phat = (sample1_phat*sample1_size+sample2_phat*sample2_size)/(sample1_size+sample2_size)\n",
    "zscore = (sample1_phat - sample2_phat)/np.sqrt(phat*(1-phat)*((1/sample1_size)+(1/sample2_size)))    \n",
    "pval = st.norm.sf(abs(zscore))*2\n",
    "testresult = pd.DataFrame([round(sample1_phat*100,3),round(sample2_phat*100,3),format(pval,'f')]).transpose()\n",
    "testresult.columns = ['Male %','Female %','PVal']\n",
    "testresult.index = ['']\n",
    "testresult"
   ]
  },
  {
   "cell_type": "code",
   "execution_count": 66,
   "id": "b5c1d31a",
   "metadata": {},
   "outputs": [],
   "source": [
    "# AGE #"
   ]
  },
  {
   "cell_type": "code",
   "execution_count": 67,
   "id": "47183368",
   "metadata": {},
   "outputs": [],
   "source": [
    "# CREATING A NEW FIELD: SAME AGE BETWEEN CO APPLICANT AND APPLICANT = 1: NO CO APPLICANT IS ALSO 0\n",
    "df['same_age'] = np.where(df['applicant_age']==df['co-applicant_age'],1,0)\n",
    "\n",
    "age_bracket = df[df['applicant_age']!='8888'][['action_taken','applicant_age']]"
   ]
  },
  {
   "cell_type": "code",
   "execution_count": 68,
   "id": "a86ba3ac",
   "metadata": {},
   "outputs": [
    {
     "data": {
      "text/html": [
       "<div>\n",
       "<style scoped>\n",
       "    .dataframe tbody tr th:only-of-type {\n",
       "        vertical-align: middle;\n",
       "    }\n",
       "\n",
       "    .dataframe tbody tr th {\n",
       "        vertical-align: top;\n",
       "    }\n",
       "\n",
       "    .dataframe thead th {\n",
       "        text-align: right;\n",
       "    }\n",
       "</style>\n",
       "<table border=\"1\" class=\"dataframe\">\n",
       "  <thead>\n",
       "    <tr style=\"text-align: right;\">\n",
       "      <th></th>\n",
       "      <th></th>\n",
       "      <th>Count</th>\n",
       "      <th>%</th>\n",
       "    </tr>\n",
       "    <tr>\n",
       "      <th>applicant_age</th>\n",
       "      <th>action_taken</th>\n",
       "      <th></th>\n",
       "      <th></th>\n",
       "    </tr>\n",
       "  </thead>\n",
       "  <tbody>\n",
       "    <tr>\n",
       "      <th rowspan=\"2\" valign=\"top\">&gt;74</th>\n",
       "      <th>1</th>\n",
       "      <td>2109</td>\n",
       "      <td>91.655802</td>\n",
       "    </tr>\n",
       "    <tr>\n",
       "      <th>0</th>\n",
       "      <td>192</td>\n",
       "      <td>8.344198</td>\n",
       "    </tr>\n",
       "    <tr>\n",
       "      <th rowspan=\"2\" valign=\"top\">&lt;25</th>\n",
       "      <th>1</th>\n",
       "      <td>11564</td>\n",
       "      <td>89.221511</td>\n",
       "    </tr>\n",
       "    <tr>\n",
       "      <th>0</th>\n",
       "      <td>1397</td>\n",
       "      <td>10.778489</td>\n",
       "    </tr>\n",
       "    <tr>\n",
       "      <th rowspan=\"2\" valign=\"top\">65-74</th>\n",
       "      <th>1</th>\n",
       "      <td>8522</td>\n",
       "      <td>91.792331</td>\n",
       "    </tr>\n",
       "    <tr>\n",
       "      <th>0</th>\n",
       "      <td>762</td>\n",
       "      <td>8.207669</td>\n",
       "    </tr>\n",
       "    <tr>\n",
       "      <th rowspan=\"2\" valign=\"top\">55-64</th>\n",
       "      <th>1</th>\n",
       "      <td>18225</td>\n",
       "      <td>90.088977</td>\n",
       "    </tr>\n",
       "    <tr>\n",
       "      <th>0</th>\n",
       "      <td>2005</td>\n",
       "      <td>9.911023</td>\n",
       "    </tr>\n",
       "    <tr>\n",
       "      <th rowspan=\"2\" valign=\"top\">45-54</th>\n",
       "      <th>1</th>\n",
       "      <td>30905</td>\n",
       "      <td>90.117805</td>\n",
       "    </tr>\n",
       "    <tr>\n",
       "      <th>0</th>\n",
       "      <td>3389</td>\n",
       "      <td>9.882195</td>\n",
       "    </tr>\n",
       "    <tr>\n",
       "      <th rowspan=\"2\" valign=\"top\">35-44</th>\n",
       "      <th>1</th>\n",
       "      <td>54272</td>\n",
       "      <td>91.715956</td>\n",
       "    </tr>\n",
       "    <tr>\n",
       "      <th>0</th>\n",
       "      <td>4902</td>\n",
       "      <td>8.284044</td>\n",
       "    </tr>\n",
       "    <tr>\n",
       "      <th rowspan=\"2\" valign=\"top\">25-34</th>\n",
       "      <th>1</th>\n",
       "      <td>66093</td>\n",
       "      <td>92.637289</td>\n",
       "    </tr>\n",
       "    <tr>\n",
       "      <th>0</th>\n",
       "      <td>5253</td>\n",
       "      <td>7.362711</td>\n",
       "    </tr>\n",
       "  </tbody>\n",
       "</table>\n",
       "</div>"
      ],
      "text/plain": [
       "                            Count          %\n",
       "applicant_age action_taken                  \n",
       ">74           1              2109  91.655802\n",
       "              0               192   8.344198\n",
       "<25           1             11564  89.221511\n",
       "              0              1397  10.778489\n",
       "65-74         1              8522  91.792331\n",
       "              0               762   8.207669\n",
       "55-64         1             18225  90.088977\n",
       "              0              2005   9.911023\n",
       "45-54         1             30905  90.117805\n",
       "              0              3389   9.882195\n",
       "35-44         1             54272  91.715956\n",
       "              0              4902   8.284044\n",
       "25-34         1             66093  92.637289\n",
       "              0              5253   7.362711"
      ]
     },
     "execution_count": 68,
     "metadata": {},
     "output_type": "execute_result"
    }
   ],
   "source": [
    "# Age Bracket + Success Rate\n",
    "age = pd.DataFrame(age_bracket.groupby('applicant_age')['action_taken'].value_counts())\n",
    "age.columns = ['Count']\n",
    "age = age.reset_index()\n",
    "age['%'] = 100 * age['Count'] / age.groupby('applicant_age')['Count'].transform('sum')\n",
    "age = age.sort_values(['applicant_age', 'action_taken'], ascending = False).set_index(['applicant_age','action_taken'])\n",
    "age"
   ]
  },
  {
   "cell_type": "code",
   "execution_count": 69,
   "id": "07890abb",
   "metadata": {},
   "outputs": [],
   "source": [
    "# NEW AGE BRACKET\n",
    "new_age = pd.DataFrame(df['action_taken'])\n",
    "new_age['Age'] = np.where((df['applicant_age']=='25-34')|(df['applicant_age']=='35-44'),1,0)"
   ]
  },
  {
   "cell_type": "code",
   "execution_count": 70,
   "id": "cd97297d",
   "metadata": {},
   "outputs": [
    {
     "data": {
      "text/html": [
       "<div>\n",
       "<style scoped>\n",
       "    .dataframe tbody tr th:only-of-type {\n",
       "        vertical-align: middle;\n",
       "    }\n",
       "\n",
       "    .dataframe tbody tr th {\n",
       "        vertical-align: top;\n",
       "    }\n",
       "\n",
       "    .dataframe thead th {\n",
       "        text-align: right;\n",
       "    }\n",
       "</style>\n",
       "<table border=\"1\" class=\"dataframe\">\n",
       "  <thead>\n",
       "    <tr style=\"text-align: right;\">\n",
       "      <th></th>\n",
       "      <th></th>\n",
       "      <th>Count</th>\n",
       "      <th>%</th>\n",
       "    </tr>\n",
       "    <tr>\n",
       "      <th>Age</th>\n",
       "      <th>action_taken</th>\n",
       "      <th></th>\n",
       "      <th></th>\n",
       "    </tr>\n",
       "  </thead>\n",
       "  <tbody>\n",
       "    <tr>\n",
       "      <th rowspan=\"2\" valign=\"top\">1</th>\n",
       "      <th>1</th>\n",
       "      <td>120365</td>\n",
       "      <td>92.219583</td>\n",
       "    </tr>\n",
       "    <tr>\n",
       "      <th>0</th>\n",
       "      <td>10155</td>\n",
       "      <td>7.780417</td>\n",
       "    </tr>\n",
       "    <tr>\n",
       "      <th rowspan=\"2\" valign=\"top\">0</th>\n",
       "      <th>1</th>\n",
       "      <td>74752</td>\n",
       "      <td>90.150629</td>\n",
       "    </tr>\n",
       "    <tr>\n",
       "      <th>0</th>\n",
       "      <td>8167</td>\n",
       "      <td>9.849371</td>\n",
       "    </tr>\n",
       "  </tbody>\n",
       "</table>\n",
       "</div>"
      ],
      "text/plain": [
       "                   Count          %\n",
       "Age action_taken                   \n",
       "1   1             120365  92.219583\n",
       "    0              10155   7.780417\n",
       "0   1              74752  90.150629\n",
       "    0               8167   9.849371"
      ]
     },
     "execution_count": 70,
     "metadata": {},
     "output_type": "execute_result"
    }
   ],
   "source": [
    "# age + Success Rate\n",
    "age = pd.DataFrame(new_age.groupby('Age')['action_taken'].value_counts())\n",
    "age.columns = ['Count']\n",
    "age = age.reset_index()\n",
    "age['%'] = 100 * age['Count'] / age.groupby('Age')['Count'].transform('sum')\n",
    "age = age.sort_values(['Age', 'action_taken'], ascending = False).set_index(['Age','action_taken'])\n",
    "age"
   ]
  },
  {
   "cell_type": "code",
   "execution_count": 71,
   "id": "1eacfbc9",
   "metadata": {},
   "outputs": [
    {
     "data": {
      "text/plain": [
       "Text(0.5, 1.0, 'Success vs Rejection for within 25-44 or not')"
      ]
     },
     "execution_count": 71,
     "metadata": {},
     "output_type": "execute_result"
    },
    {
     "data": {
      "image/png": "[encoded data removed]",
      "text/plain": [
       "<Figure size 864x720 with 1 Axes>"
      ]
     },
     "metadata": {
      "needs_background": "light"
     },
     "output_type": "display_data"
    }
   ],
   "source": [
    "# Comparing Age and Success Rates\n",
    "graph_age = pd.concat([pd.DataFrame([new_age.groupby('Age')['action_taken'].value_counts()[1][1],new_age.groupby('Age')['action_taken'].value_counts()[1][0]]).transpose(),\n",
    "           pd.DataFrame([new_age.groupby('Age')['action_taken'].value_counts()[0][1],new_age.groupby('Age')['action_taken'].value_counts()[0][0]]).transpose()])\n",
    "graph_age.index = ['25-44','Not 25-44']\n",
    "graph_age.columns = ['Success','Rejection']\n",
    "\n",
    "graph_age.plot(kind = 'bar', figsize = (12,10))\n",
    "plt.title(\"Success vs Rejection for within 25-44 or not\")"
   ]
  },
  {
   "cell_type": "code",
   "execution_count": 72,
   "id": "2bd117ce",
   "metadata": {},
   "outputs": [
    {
     "data": {
      "text/html": [
       "<div>\n",
       "<style scoped>\n",
       "    .dataframe tbody tr th:only-of-type {\n",
       "        vertical-align: middle;\n",
       "    }\n",
       "\n",
       "    .dataframe tbody tr th {\n",
       "        vertical-align: top;\n",
       "    }\n",
       "\n",
       "    .dataframe thead th {\n",
       "        text-align: right;\n",
       "    }\n",
       "</style>\n",
       "<table border=\"1\" class=\"dataframe\">\n",
       "  <thead>\n",
       "    <tr style=\"text-align: right;\">\n",
       "      <th></th>\n",
       "      <th>25-44 %</th>\n",
       "      <th>Not 25-44 %</th>\n",
       "      <th>PVal</th>\n",
       "    </tr>\n",
       "  </thead>\n",
       "  <tbody>\n",
       "    <tr>\n",
       "      <th></th>\n",
       "      <td>92.22</td>\n",
       "      <td>90.151</td>\n",
       "      <td>0.000000</td>\n",
       "    </tr>\n",
       "  </tbody>\n",
       "</table>\n",
       "</div>"
      ],
      "text/plain": [
       " 25-44 % Not 25-44 %      PVal\n",
       "   92.22      90.151  0.000000"
      ]
     },
     "execution_count": 72,
     "metadata": {},
     "output_type": "execute_result"
    }
   ],
   "source": [
    "# HYPOTHESIS TESTING : Age and Success\n",
    "population = age.reset_index()\n",
    "\n",
    "sample1_phat = population.iloc[0][3]/100\n",
    "sample2_phat = population.iloc[2][3]/100\n",
    "sample1_size = population.iloc[0][2]\n",
    "sample2_size = population.iloc[2][2]\n",
    "phat = (sample1_phat*sample1_size+sample2_phat*sample2_size)/(sample1_size+sample2_size)\n",
    "zscore = (sample1_phat - sample2_phat)/np.sqrt(phat*(1-phat)*((1/sample1_size)+(1/sample2_size)))    \n",
    "pval = st.norm.sf(abs(zscore))*2\n",
    "testresult = pd.DataFrame([round(sample1_phat*100,3),round(sample2_phat*100,3),format(pval,'f')]).transpose()\n",
    "testresult.columns = ['25-44 %','Not 25-44 %','PVal']\n",
    "testresult.index = ['']\n",
    "testresult"
   ]
  },
  {
   "cell_type": "code",
   "execution_count": 73,
   "id": "faee2742",
   "metadata": {},
   "outputs": [],
   "source": [
    "#### EXPLORING APPLICANTION RELATED FEATURES WITH SUCCESS RATE ###"
   ]
  },
  {
   "cell_type": "code",
   "execution_count": 74,
   "id": "64882254",
   "metadata": {},
   "outputs": [],
   "source": [
    "# LEI #"
   ]
  },
  {
   "cell_type": "code",
   "execution_count": 75,
   "id": "17a91c29",
   "metadata": {},
   "outputs": [],
   "source": [
    "# TOP 15 lenders: Sourced from 2020 HDMA by USA total Issuance count\n",
    "toplenderlist = ['549300BRJZYHYKT4BJ84','549300AQ3T62GXDU7D76','549300U3721PJGQZYY68',\n",
    "                '549300VZVN841I2ILS84','549300LBCBNR1OT00651','6BYL5QZYBDK8S7L73M02','B4TYDEB6GKMZO031MB27',\n",
    "                '7H6GLXDRUGQFU57RNE97','549300MGPZBLQDIL7538','549300J7XKT2BI5WX213','549300AG64NHILB7ZP05',\n",
    "                'PBLD0EJDB5FWOLXP3B76','549300LYRWPSYPK6S325','549300HW662MN1WU8550','549300FGXN1K3HLB1R50']\n",
    "# New Column: top 15 lender or not\n",
    "df['top15_lender_2020'] = np.where(df['lei'].isin(toplenderlist),1,0)\n",
    "df = df.drop('lei',axis = 1)\n",
    "top_lenders = df[['action_taken','top15_lender_2020']]"
   ]
  },
  {
   "cell_type": "code",
   "execution_count": 76,
   "id": "947b4494",
   "metadata": {},
   "outputs": [
    {
     "data": {
      "text/html": [
       "<div>\n",
       "<style scoped>\n",
       "    .dataframe tbody tr th:only-of-type {\n",
       "        vertical-align: middle;\n",
       "    }\n",
       "\n",
       "    .dataframe tbody tr th {\n",
       "        vertical-align: top;\n",
       "    }\n",
       "\n",
       "    .dataframe thead th {\n",
       "        text-align: right;\n",
       "    }\n",
       "</style>\n",
       "<table border=\"1\" class=\"dataframe\">\n",
       "  <thead>\n",
       "    <tr style=\"text-align: right;\">\n",
       "      <th></th>\n",
       "      <th></th>\n",
       "      <th>Count</th>\n",
       "      <th>%</th>\n",
       "    </tr>\n",
       "    <tr>\n",
       "      <th>top15_lender_2020</th>\n",
       "      <th>action_taken</th>\n",
       "      <th></th>\n",
       "      <th></th>\n",
       "    </tr>\n",
       "  </thead>\n",
       "  <tbody>\n",
       "    <tr>\n",
       "      <th rowspan=\"2\" valign=\"top\">1</th>\n",
       "      <th>1</th>\n",
       "      <td>67342</td>\n",
       "      <td>94.270316</td>\n",
       "    </tr>\n",
       "    <tr>\n",
       "      <th>0</th>\n",
       "      <td>4093</td>\n",
       "      <td>5.729684</td>\n",
       "    </tr>\n",
       "    <tr>\n",
       "      <th rowspan=\"2\" valign=\"top\">0</th>\n",
       "      <th>1</th>\n",
       "      <td>127775</td>\n",
       "      <td>89.979860</td>\n",
       "    </tr>\n",
       "    <tr>\n",
       "      <th>0</th>\n",
       "      <td>14229</td>\n",
       "      <td>10.020140</td>\n",
       "    </tr>\n",
       "  </tbody>\n",
       "</table>\n",
       "</div>"
      ],
      "text/plain": [
       "                                 Count          %\n",
       "top15_lender_2020 action_taken                   \n",
       "1                 1              67342  94.270316\n",
       "                  0               4093   5.729684\n",
       "0                 1             127775  89.979860\n",
       "                  0              14229  10.020140"
      ]
     },
     "execution_count": 76,
     "metadata": {},
     "output_type": "execute_result"
    }
   ],
   "source": [
    "# Top Lender + Success Rate\n",
    "tl = pd.DataFrame(top_lenders.groupby('top15_lender_2020')['action_taken'].value_counts())\n",
    "tl.columns = ['Count']\n",
    "tl = tl.reset_index()\n",
    "tl['%'] = 100 * tl['Count'] / tl.groupby('top15_lender_2020')['Count'].transform('sum')\n",
    "tl = tl.sort_values(['top15_lender_2020', 'action_taken'], ascending = False).set_index(['top15_lender_2020','action_taken'])\n",
    "tl"
   ]
  },
  {
   "cell_type": "code",
   "execution_count": 77,
   "id": "dbb7c639",
   "metadata": {},
   "outputs": [
    {
     "data": {
      "text/plain": [
       "Text(0.5, 1.0, 'Success vs Rejection for Top 15 Lenders')"
      ]
     },
     "execution_count": 77,
     "metadata": {},
     "output_type": "execute_result"
    },
    {
     "data": {
      "image/png": "[encoded data removed]",
      "text/plain": [
       "<Figure size 864x720 with 1 Axes>"
      ]
     },
     "metadata": {
      "needs_background": "light"
     },
     "output_type": "display_data"
    }
   ],
   "source": [
    "# Comparing top 15 previous year lender and Success Rates\n",
    "graph_tl = pd.concat([pd.DataFrame([top_lenders.groupby('top15_lender_2020')['action_taken'].value_counts()[1][1],top_lenders.groupby('top15_lender_2020')['action_taken'].value_counts()[1][0]]).transpose(),\n",
    "           pd.DataFrame([top_lenders.groupby('top15_lender_2020')['action_taken'].value_counts()[0][1],top_lenders.groupby('top15_lender_2020')['action_taken'].value_counts()[0][0]]).transpose()])\n",
    "graph_tl.index = ['Top 15 Lender','Not Top 15 Lender']\n",
    "graph_tl.columns = ['Success','Rejection']\n",
    "\n",
    "graph_tl.plot(kind = 'bar', figsize = (12,10))\n",
    "plt.title(\"Success vs Rejection for Top 15 Lenders\")"
   ]
  },
  {
   "cell_type": "code",
   "execution_count": 78,
   "id": "a7aba53b",
   "metadata": {},
   "outputs": [
    {
     "data": {
      "text/html": [
       "<div>\n",
       "<style scoped>\n",
       "    .dataframe tbody tr th:only-of-type {\n",
       "        vertical-align: middle;\n",
       "    }\n",
       "\n",
       "    .dataframe tbody tr th {\n",
       "        vertical-align: top;\n",
       "    }\n",
       "\n",
       "    .dataframe thead th {\n",
       "        text-align: right;\n",
       "    }\n",
       "</style>\n",
       "<table border=\"1\" class=\"dataframe\">\n",
       "  <thead>\n",
       "    <tr style=\"text-align: right;\">\n",
       "      <th></th>\n",
       "      <th>Top 15 Lender %</th>\n",
       "      <th>Not Top 15 Lender %</th>\n",
       "      <th>PVal</th>\n",
       "    </tr>\n",
       "  </thead>\n",
       "  <tbody>\n",
       "    <tr>\n",
       "      <th></th>\n",
       "      <td>94.27</td>\n",
       "      <td>89.98</td>\n",
       "      <td>0.000000</td>\n",
       "    </tr>\n",
       "  </tbody>\n",
       "</table>\n",
       "</div>"
      ],
      "text/plain": [
       " Top 15 Lender % Not Top 15 Lender %      PVal\n",
       "           94.27               89.98  0.000000"
      ]
     },
     "execution_count": 78,
     "metadata": {},
     "output_type": "execute_result"
    }
   ],
   "source": [
    "# HYPOTHESIS TESTING : Top 15 Lender and Success\n",
    "population = tl.reset_index()\n",
    "\n",
    "sample1_phat = population.iloc[0][3]/100\n",
    "sample2_phat = population.iloc[2][3]/100\n",
    "sample1_size = population.iloc[0][2]\n",
    "sample2_size = population.iloc[2][2]\n",
    "phat = (sample1_phat*sample1_size+sample2_phat*sample2_size)/(sample1_size+sample2_size)\n",
    "zscore = (sample1_phat - sample2_phat)/np.sqrt(phat*(1-phat)*((1/sample1_size)+(1/sample2_size)))    \n",
    "pval = st.norm.sf(abs(zscore))*2\n",
    "testresult = pd.DataFrame([round(sample1_phat*100,3),round(sample2_phat*100,3),format(pval,'f')]).transpose()\n",
    "testresult.columns = ['Top 15 Lender %','Not Top 15 Lender %','PVal']\n",
    "testresult.index = ['']\n",
    "testresult"
   ]
  },
  {
   "cell_type": "code",
   "execution_count": 79,
   "id": "9d080a94",
   "metadata": {},
   "outputs": [],
   "source": [
    "# Product Type #"
   ]
  },
  {
   "cell_type": "code",
   "execution_count": 80,
   "id": "ed301ad3",
   "metadata": {},
   "outputs": [],
   "source": [
    "# FIRST: EXPLORING CONVENTIONAL vs. FHA vs. VA Vs. FSA\n",
    "loan_type = pd.DataFrame(df['action_taken'])\n",
    "loan_type['Type'] = np.where(df['derived_loan_product_type'].str.contains('Conventional:'),'Conventional',\n",
    "         np.where(df['derived_loan_product_type'].str.contains('VA:'),'VA',\n",
    "                 np.where(df['derived_loan_product_type'].str.contains('FHA:'),'FHA',\n",
    "                         np.where(df['derived_loan_product_type'].str.contains('FSA/RHS:'),'FSA','ERROR'))))"
   ]
  },
  {
   "cell_type": "code",
   "execution_count": 81,
   "id": "ab8d65c6",
   "metadata": {},
   "outputs": [
    {
     "data": {
      "text/html": [
       "<div>\n",
       "<style scoped>\n",
       "    .dataframe tbody tr th:only-of-type {\n",
       "        vertical-align: middle;\n",
       "    }\n",
       "\n",
       "    .dataframe tbody tr th {\n",
       "        vertical-align: top;\n",
       "    }\n",
       "\n",
       "    .dataframe thead th {\n",
       "        text-align: right;\n",
       "    }\n",
       "</style>\n",
       "<table border=\"1\" class=\"dataframe\">\n",
       "  <thead>\n",
       "    <tr style=\"text-align: right;\">\n",
       "      <th></th>\n",
       "      <th></th>\n",
       "      <th>Count</th>\n",
       "      <th>%</th>\n",
       "    </tr>\n",
       "    <tr>\n",
       "      <th>Type</th>\n",
       "      <th>action_taken</th>\n",
       "      <th></th>\n",
       "      <th></th>\n",
       "    </tr>\n",
       "  </thead>\n",
       "  <tbody>\n",
       "    <tr>\n",
       "      <th rowspan=\"2\" valign=\"top\">VA</th>\n",
       "      <th>1</th>\n",
       "      <td>8995</td>\n",
       "      <td>90.978052</td>\n",
       "    </tr>\n",
       "    <tr>\n",
       "      <th>0</th>\n",
       "      <td>892</td>\n",
       "      <td>9.021948</td>\n",
       "    </tr>\n",
       "    <tr>\n",
       "      <th rowspan=\"2\" valign=\"top\">FSA</th>\n",
       "      <th>1</th>\n",
       "      <td>2499</td>\n",
       "      <td>88.932384</td>\n",
       "    </tr>\n",
       "    <tr>\n",
       "      <th>0</th>\n",
       "      <td>311</td>\n",
       "      <td>11.067616</td>\n",
       "    </tr>\n",
       "    <tr>\n",
       "      <th rowspan=\"2\" valign=\"top\">FHA</th>\n",
       "      <th>1</th>\n",
       "      <td>34413</td>\n",
       "      <td>88.229412</td>\n",
       "    </tr>\n",
       "    <tr>\n",
       "      <th>0</th>\n",
       "      <td>4591</td>\n",
       "      <td>11.770588</td>\n",
       "    </tr>\n",
       "    <tr>\n",
       "      <th rowspan=\"2\" valign=\"top\">Conventional</th>\n",
       "      <th>1</th>\n",
       "      <td>149210</td>\n",
       "      <td>92.254139</td>\n",
       "    </tr>\n",
       "    <tr>\n",
       "      <th>0</th>\n",
       "      <td>12528</td>\n",
       "      <td>7.745861</td>\n",
       "    </tr>\n",
       "  </tbody>\n",
       "</table>\n",
       "</div>"
      ],
      "text/plain": [
       "                            Count          %\n",
       "Type         action_taken                   \n",
       "VA           1               8995  90.978052\n",
       "             0                892   9.021948\n",
       "FSA          1               2499  88.932384\n",
       "             0                311  11.067616\n",
       "FHA          1              34413  88.229412\n",
       "             0               4591  11.770588\n",
       "Conventional 1             149210  92.254139\n",
       "             0              12528   7.745861"
      ]
     },
     "execution_count": 81,
     "metadata": {},
     "output_type": "execute_result"
    }
   ],
   "source": [
    "# Loan Type + Success Rate\n",
    "lt = pd.DataFrame(loan_type.groupby('Type')['action_taken'].value_counts())\n",
    "lt.columns = ['Count']\n",
    "lt = lt.reset_index()\n",
    "lt['%'] = 100 * lt['Count'] / lt.groupby('Type')['Count'].transform('sum')\n",
    "lt = lt.sort_values(['Type', 'action_taken'], ascending = False).set_index(['Type','action_taken'])\n",
    "lt"
   ]
  },
  {
   "cell_type": "code",
   "execution_count": 82,
   "id": "81877352",
   "metadata": {},
   "outputs": [
    {
     "data": {
      "text/plain": [
       "Text(0.5, 1.0, 'Success vs Rejection for Loan Type')"
      ]
     },
     "execution_count": 82,
     "metadata": {},
     "output_type": "execute_result"
    },
    {
     "data": {
      "image/png": "[encoded data removed]",
      "text/plain": [
       "<Figure size 864x720 with 1 Axes>"
      ]
     },
     "metadata": {
      "needs_background": "light"
     },
     "output_type": "display_data"
    }
   ],
   "source": [
    "# Comparing Loan Types and Success Rates\n",
    "graph_lt = pd.concat([pd.DataFrame([loan_type.groupby('Type')['action_taken'].value_counts()['VA'][1],loan_type.groupby('Type')['action_taken'].value_counts()['VA'][0]]).transpose(),\n",
    "           pd.DataFrame([loan_type.groupby('Type')['action_taken'].value_counts()['FSA'][1],loan_type.groupby('Type')['action_taken'].value_counts()['FSA'][0]]).transpose(),\n",
    "           pd.DataFrame([loan_type.groupby('Type')['action_taken'].value_counts()['FHA'][1],loan_type.groupby('Type')['action_taken'].value_counts()['FHA'][0]]).transpose(),\n",
    "           pd.DataFrame([loan_type.groupby('Type')['action_taken'].value_counts()['Conventional'][1],loan_type.groupby('Type')['action_taken'].value_counts()['Conventional'][0]]).transpose()])\n",
    "graph_lt.index = ['VA','FSA','FHA','Conventional']\n",
    "graph_lt.columns = ['Success','Rejection']\n",
    "\n",
    "graph_lt.plot(kind = 'bar', figsize = (12,10))\n",
    "plt.title(\"Success vs Rejection for Loan Type\")"
   ]
  },
  {
   "cell_type": "code",
   "execution_count": 83,
   "id": "adb9553c",
   "metadata": {},
   "outputs": [
    {
     "data": {
      "text/html": [
       "<div>\n",
       "<style scoped>\n",
       "    .dataframe tbody tr th:only-of-type {\n",
       "        vertical-align: middle;\n",
       "    }\n",
       "\n",
       "    .dataframe tbody tr th {\n",
       "        vertical-align: top;\n",
       "    }\n",
       "\n",
       "    .dataframe thead th {\n",
       "        text-align: right;\n",
       "    }\n",
       "</style>\n",
       "<table border=\"1\" class=\"dataframe\">\n",
       "  <thead>\n",
       "    <tr style=\"text-align: right;\">\n",
       "      <th></th>\n",
       "      <th>VA %</th>\n",
       "      <th>FSA %</th>\n",
       "      <th>FHA %</th>\n",
       "      <th>Conventional %</th>\n",
       "      <th>VA vs FSA</th>\n",
       "      <th>VA vs FHA</th>\n",
       "      <th>VA vs Conventional</th>\n",
       "      <th>FSA vs FHA</th>\n",
       "    </tr>\n",
       "  </thead>\n",
       "  <tbody>\n",
       "    <tr>\n",
       "      <th></th>\n",
       "      <td>90.978</td>\n",
       "      <td>88.932</td>\n",
       "      <td>88.229</td>\n",
       "      <td>92.254</td>\n",
       "      <td>0.002001</td>\n",
       "      <td>0.000000</td>\n",
       "      <td>0.000012</td>\n",
       "      <td>0.291533</td>\n",
       "    </tr>\n",
       "  </tbody>\n",
       "</table>\n",
       "</div>"
      ],
      "text/plain": [
       "    VA %   FSA %   FHA %  Conventional % VA vs FSA VA vs FHA  \\\n",
       "  90.978  88.932  88.229          92.254  0.002001  0.000000   \n",
       "\n",
       " VA vs Conventional FSA vs FHA  \n",
       "           0.000012   0.291533  "
      ]
     },
     "execution_count": 83,
     "metadata": {},
     "output_type": "execute_result"
    }
   ],
   "source": [
    "# HYPOTHESIS TESTING : Loan Types impact on success?\n",
    "population = lt.reset_index()\n",
    "\n",
    "testresult = pd.DataFrame()\n",
    "testresult['VA %'] = list([round(population.iloc[0][3],3)]) \n",
    "testresult['FSA %'] = list([round(population.iloc[2][3],3)])\n",
    "testresult['FHA %'] = list([round(population.iloc[4][3],3)])\n",
    "testresult['Conventional %'] = list([round(population.iloc[6][3],3)])\n",
    "\n",
    "columnnames = ['VA vs FSA','VA vs FHA', 'VA vs Conventional','FSA vs FHA','FSA vs Conventional','FHA vs Conventional']\n",
    "\n",
    "sample1_phat_list = [0,0,0,2,2,4,3,3,3,3,3,3]\n",
    "sample2_phat_list = [2,4,6,4,6,6,3,3,3,3,3,3]\n",
    "sample1_size_list = [0,0,0,2,2,4,2,2,2,2,2,2]\n",
    "sample2_size_list = [2,4,6,4,6,6,2,2,2,2,2,2]\n",
    "\n",
    "\n",
    "for x in range(int(len(population)/2)):\n",
    "    sample1_phat = population.iloc[sample1_phat_list[x]][sample1_phat_list[x+6]]/100\n",
    "    sample2_phat = population.iloc[sample2_phat_list[x]][sample2_phat_list[x+6]]/100\n",
    "    sample1_size = population.iloc[sample1_size_list[x]][sample1_size_list[x+6]]\n",
    "    sample2_size = population.iloc[sample2_size_list[x]][sample2_size_list[x+6]]\n",
    "    phat = (sample1_phat*sample1_size+sample2_phat*sample2_size)/(sample1_size+sample2_size)\n",
    "    zscore = (sample1_phat - sample2_phat)/np.sqrt(phat*(1-phat)*((1/sample1_size)+(1/sample2_size)))    \n",
    "    pval = st.norm.sf(abs(zscore))*2\n",
    "    testresult[columnnames[x]] = list([format(pval,'f')])\n",
    "\n",
    "testresult.index = ['']\n",
    "testresult"
   ]
  },
  {
   "cell_type": "code",
   "execution_count": 84,
   "id": "96051941",
   "metadata": {},
   "outputs": [],
   "source": [
    "# Second: EXPLORING FIRST vs SUBORDINATE LIEN\n",
    "loan_type = pd.DataFrame(df['action_taken'])\n",
    "loan_type['Type'] = np.where(df['derived_loan_product_type'].str.contains(':First Lien'),'First',\n",
    "         np.where(df['derived_loan_product_type'].str.contains(':Subordinate Lien'),'Subordinate','ERROR'))"
   ]
  },
  {
   "cell_type": "code",
   "execution_count": 85,
   "id": "52508ef8",
   "metadata": {},
   "outputs": [
    {
     "data": {
      "text/html": [
       "<div>\n",
       "<style scoped>\n",
       "    .dataframe tbody tr th:only-of-type {\n",
       "        vertical-align: middle;\n",
       "    }\n",
       "\n",
       "    .dataframe tbody tr th {\n",
       "        vertical-align: top;\n",
       "    }\n",
       "\n",
       "    .dataframe thead th {\n",
       "        text-align: right;\n",
       "    }\n",
       "</style>\n",
       "<table border=\"1\" class=\"dataframe\">\n",
       "  <thead>\n",
       "    <tr style=\"text-align: right;\">\n",
       "      <th></th>\n",
       "      <th></th>\n",
       "      <th>Count</th>\n",
       "      <th>%</th>\n",
       "    </tr>\n",
       "    <tr>\n",
       "      <th>Type</th>\n",
       "      <th>action_taken</th>\n",
       "      <th></th>\n",
       "      <th></th>\n",
       "    </tr>\n",
       "  </thead>\n",
       "  <tbody>\n",
       "    <tr>\n",
       "      <th rowspan=\"2\" valign=\"top\">Subordinate</th>\n",
       "      <th>1</th>\n",
       "      <td>3875</td>\n",
       "      <td>91.672581</td>\n",
       "    </tr>\n",
       "    <tr>\n",
       "      <th>0</th>\n",
       "      <td>352</td>\n",
       "      <td>8.327419</td>\n",
       "    </tr>\n",
       "    <tr>\n",
       "      <th rowspan=\"2\" valign=\"top\">First</th>\n",
       "      <th>1</th>\n",
       "      <td>191242</td>\n",
       "      <td>91.410627</td>\n",
       "    </tr>\n",
       "    <tr>\n",
       "      <th>0</th>\n",
       "      <td>17970</td>\n",
       "      <td>8.589373</td>\n",
       "    </tr>\n",
       "  </tbody>\n",
       "</table>\n",
       "</div>"
      ],
      "text/plain": [
       "                           Count          %\n",
       "Type        action_taken                   \n",
       "Subordinate 1               3875  91.672581\n",
       "            0                352   8.327419\n",
       "First       1             191242  91.410627\n",
       "            0              17970   8.589373"
      ]
     },
     "execution_count": 85,
     "metadata": {},
     "output_type": "execute_result"
    }
   ],
   "source": [
    "# Loan Type + Success Rate\n",
    "lt = pd.DataFrame(loan_type.groupby('Type')['action_taken'].value_counts())\n",
    "lt.columns = ['Count']\n",
    "lt = lt.reset_index()\n",
    "lt['%'] = 100 * lt['Count'] / lt.groupby('Type')['Count'].transform('sum')\n",
    "lt = lt.sort_values(['Type', 'action_taken'], ascending = False).set_index(['Type','action_taken'])\n",
    "lt"
   ]
  },
  {
   "cell_type": "code",
   "execution_count": 86,
   "id": "ec7cadd0",
   "metadata": {},
   "outputs": [
    {
     "data": {
      "text/plain": [
       "Text(0.5, 1.0, 'Success vs Rejection for Loan Type')"
      ]
     },
     "execution_count": 86,
     "metadata": {},
     "output_type": "execute_result"
    },
    {
     "data": {
      "image/png": "[encoded data removed]",
      "text/plain": [
       "<Figure size 864x720 with 1 Axes>"
      ]
     },
     "metadata": {
      "needs_background": "light"
     },
     "output_type": "display_data"
    }
   ],
   "source": [
    "# Comparing Loan Types Property Success Rates\n",
    "graph_lt = pd.concat([pd.DataFrame([loan_type.groupby('Type')['action_taken'].value_counts()['Subordinate'][1],loan_type.groupby('Type')['action_taken'].value_counts()['Subordinate'][0]]).transpose(),\n",
    "           pd.DataFrame([loan_type.groupby('Type')['action_taken'].value_counts()['First'][1],loan_type.groupby('Type')['action_taken'].value_counts()['First'][0]]).transpose()])\n",
    "graph_lt.index = ['Subordinate','First']\n",
    "graph_lt.columns = ['Success','Rejection']\n",
    "\n",
    "graph_lt.plot(kind = 'bar', figsize = (12,10))\n",
    "plt.title(\"Success vs Rejection for Loan Type\")"
   ]
  },
  {
   "cell_type": "code",
   "execution_count": 87,
   "id": "1442e55e",
   "metadata": {},
   "outputs": [
    {
     "data": {
      "text/html": [
       "<div>\n",
       "<style scoped>\n",
       "    .dataframe tbody tr th:only-of-type {\n",
       "        vertical-align: middle;\n",
       "    }\n",
       "\n",
       "    .dataframe tbody tr th {\n",
       "        vertical-align: top;\n",
       "    }\n",
       "\n",
       "    .dataframe thead th {\n",
       "        text-align: right;\n",
       "    }\n",
       "</style>\n",
       "<table border=\"1\" class=\"dataframe\">\n",
       "  <thead>\n",
       "    <tr style=\"text-align: right;\">\n",
       "      <th></th>\n",
       "      <th>Subordinate %</th>\n",
       "      <th>First %</th>\n",
       "      <th>PVal</th>\n",
       "    </tr>\n",
       "  </thead>\n",
       "  <tbody>\n",
       "    <tr>\n",
       "      <th></th>\n",
       "      <td>91.673</td>\n",
       "      <td>91.411</td>\n",
       "      <td>0.564415</td>\n",
       "    </tr>\n",
       "  </tbody>\n",
       "</table>\n",
       "</div>"
      ],
      "text/plain": [
       " Subordinate % First %      PVal\n",
       "        91.673  91.411  0.564415"
      ]
     },
     "execution_count": 87,
     "metadata": {},
     "output_type": "execute_result"
    }
   ],
   "source": [
    "# HYPOTHESIS TESTING : Lien status and Success\n",
    "population = lt.reset_index()\n",
    "\n",
    "sample1_phat = population.iloc[0][3]/100\n",
    "sample2_phat = population.iloc[2][3]/100\n",
    "sample1_size = population.iloc[0][2]\n",
    "sample2_size = population.iloc[2][2]\n",
    "phat = (sample1_phat*sample1_size+sample2_phat*sample2_size)/(sample1_size+sample2_size)\n",
    "zscore = (sample1_phat - sample2_phat)/np.sqrt(phat*(1-phat)*((1/sample1_size)+(1/sample2_size)))    \n",
    "pval = st.norm.sf(abs(zscore))*2\n",
    "testresult = pd.DataFrame([round(sample1_phat*100,3),round(sample2_phat*100,3),format(pval,'f')]).transpose()\n",
    "testresult.columns = ['Subordinate %','First %','PVal']\n",
    "testresult.index = ['']\n",
    "testresult"
   ]
  },
  {
   "cell_type": "code",
   "execution_count": 88,
   "id": "e0e74e85",
   "metadata": {},
   "outputs": [],
   "source": [
    "# LOAN AMOUNT #"
   ]
  },
  {
   "cell_type": "code",
   "execution_count": 89,
   "id": "86d23536",
   "metadata": {},
   "outputs": [
    {
     "data": {
      "text/plain": [
       "0"
      ]
     },
     "execution_count": 89,
     "metadata": {},
     "output_type": "execute_result"
    }
   ],
   "source": [
    "# DROP ALL THAT HAVE AN EXEMPT / NOT NUMERIC\n",
    "numeric_loan = pd.DataFrame(df['action_taken'])\n",
    "numeric_loan['loan_amount'] = pd.to_numeric(df['loan_amount'], errors='coerce')\n",
    "numeric_loan = numeric_loan.dropna().reset_index(drop = True)\n",
    "len(df)-len(numeric_loan)"
   ]
  },
  {
   "cell_type": "code",
   "execution_count": 90,
   "id": "a94950a0",
   "metadata": {},
   "outputs": [
    {
     "name": "stdout",
     "output_type": "stream",
     "text": [
      "Low: Loan Value <= 165000.0\n",
      "Medium: Loan Value > 165000.0 and < 285000.0\n",
      "High: Loan Value >= 285000.0\n"
     ]
    }
   ],
   "source": [
    "# Creating Buckets for LOAN AMOUNT\n",
    "low = numeric_loan['loan_amount'].quantile(.33)\n",
    "medium = numeric_loan['loan_amount'].quantile(.66)\n",
    "numeric_loan['Loan_Bracket'] = np.where(numeric_loan['loan_amount']<=low,'Low',\n",
    "         np.where((numeric_loan['loan_amount']>low)&(numeric_loan['loan_amount']<medium),'Medium',\n",
    "                 np.where(numeric_loan['loan_amount']>=medium,'High','ERROR')))\n",
    "\n",
    "print('Low: Loan Value <=',low)\n",
    "print('Medium: Loan Value >',low,'and <',medium)\n",
    "print('High: Loan Value >=',medium)"
   ]
  },
  {
   "cell_type": "code",
   "execution_count": 91,
   "id": "5deb7002",
   "metadata": {},
   "outputs": [
    {
     "data": {
      "text/html": [
       "<div>\n",
       "<style scoped>\n",
       "    .dataframe tbody tr th:only-of-type {\n",
       "        vertical-align: middle;\n",
       "    }\n",
       "\n",
       "    .dataframe tbody tr th {\n",
       "        vertical-align: top;\n",
       "    }\n",
       "\n",
       "    .dataframe thead th {\n",
       "        text-align: right;\n",
       "    }\n",
       "</style>\n",
       "<table border=\"1\" class=\"dataframe\">\n",
       "  <thead>\n",
       "    <tr style=\"text-align: right;\">\n",
       "      <th></th>\n",
       "      <th></th>\n",
       "      <th>Count</th>\n",
       "      <th>%</th>\n",
       "    </tr>\n",
       "    <tr>\n",
       "      <th>Loan_Bracket</th>\n",
       "      <th>action_taken</th>\n",
       "      <th></th>\n",
       "      <th></th>\n",
       "    </tr>\n",
       "  </thead>\n",
       "  <tbody>\n",
       "    <tr>\n",
       "      <th rowspan=\"2\" valign=\"top\">Medium</th>\n",
       "      <th>1</th>\n",
       "      <td>60748</td>\n",
       "      <td>92.358683</td>\n",
       "    </tr>\n",
       "    <tr>\n",
       "      <th>0</th>\n",
       "      <td>5026</td>\n",
       "      <td>7.641317</td>\n",
       "    </tr>\n",
       "    <tr>\n",
       "      <th rowspan=\"2\" valign=\"top\">Low</th>\n",
       "      <th>1</th>\n",
       "      <td>65134</td>\n",
       "      <td>87.781671</td>\n",
       "    </tr>\n",
       "    <tr>\n",
       "      <th>0</th>\n",
       "      <td>9066</td>\n",
       "      <td>12.218329</td>\n",
       "    </tr>\n",
       "    <tr>\n",
       "      <th rowspan=\"2\" valign=\"top\">High</th>\n",
       "      <th>1</th>\n",
       "      <td>69235</td>\n",
       "      <td>94.242156</td>\n",
       "    </tr>\n",
       "    <tr>\n",
       "      <th>0</th>\n",
       "      <td>4230</td>\n",
       "      <td>5.757844</td>\n",
       "    </tr>\n",
       "  </tbody>\n",
       "</table>\n",
       "</div>"
      ],
      "text/plain": [
       "                           Count          %\n",
       "Loan_Bracket action_taken                  \n",
       "Medium       1             60748  92.358683\n",
       "             0              5026   7.641317\n",
       "Low          1             65134  87.781671\n",
       "             0              9066  12.218329\n",
       "High         1             69235  94.242156\n",
       "             0              4230   5.757844"
      ]
     },
     "execution_count": 91,
     "metadata": {},
     "output_type": "execute_result"
    }
   ],
   "source": [
    "# Loan Bracket + Success Rate\n",
    "lb = pd.DataFrame(numeric_loan.groupby('Loan_Bracket')['action_taken'].value_counts())\n",
    "lb.columns = ['Count']\n",
    "lb = lb.reset_index()\n",
    "lb['%'] = 100 * lb['Count'] / lb.groupby('Loan_Bracket')['Count'].transform('sum')\n",
    "lb = lb.sort_values(['Loan_Bracket', 'action_taken'], ascending = False).set_index(['Loan_Bracket','action_taken'])\n",
    "lb"
   ]
  },
  {
   "cell_type": "code",
   "execution_count": 92,
   "id": "3c497c3e",
   "metadata": {},
   "outputs": [
    {
     "data": {
      "text/plain": [
       "Text(0.5, 1.0, 'Success vs Rejection for Loan Amount Bracket')"
      ]
     },
     "execution_count": 92,
     "metadata": {},
     "output_type": "execute_result"
    },
    {
     "data": {
      "image/png": "[encoded data removed]",
      "text/plain": [
       "<Figure size 864x720 with 1 Axes>"
      ]
     },
     "metadata": {
      "needs_background": "light"
     },
     "output_type": "display_data"
    }
   ],
   "source": [
    "# Comparing Loan Brackets Success Rates\n",
    "graph_lb = pd.concat([pd.DataFrame([numeric_loan.groupby('Loan_Bracket')['action_taken'].value_counts()['High'][1],numeric_loan.groupby('Loan_Bracket')['action_taken'].value_counts()['High'][0]]).transpose(),\n",
    "           pd.DataFrame([numeric_loan.groupby('Loan_Bracket')['action_taken'].value_counts()['Medium'][1],numeric_loan.groupby('Loan_Bracket')['action_taken'].value_counts()['Medium'][0]]).transpose(),\n",
    "           pd.DataFrame([numeric_loan.groupby('Loan_Bracket')['action_taken'].value_counts()['Low'][1],numeric_loan.groupby('Loan_Bracket')['action_taken'].value_counts()['Low'][0]]).transpose()])\n",
    "graph_lb.index = ['High','Medium','Low']\n",
    "graph_lb.columns = ['Success','Rejection']\n",
    "\n",
    "graph_lb.plot(kind = 'bar', figsize = (12,10))\n",
    "plt.title(\"Success vs Rejection for Loan Amount Bracket\")"
   ]
  },
  {
   "cell_type": "code",
   "execution_count": 93,
   "id": "f41647ff",
   "metadata": {},
   "outputs": [
    {
     "data": {
      "text/html": [
       "<div>\n",
       "<style scoped>\n",
       "    .dataframe tbody tr th:only-of-type {\n",
       "        vertical-align: middle;\n",
       "    }\n",
       "\n",
       "    .dataframe tbody tr th {\n",
       "        vertical-align: top;\n",
       "    }\n",
       "\n",
       "    .dataframe thead th {\n",
       "        text-align: right;\n",
       "    }\n",
       "</style>\n",
       "<table border=\"1\" class=\"dataframe\">\n",
       "  <thead>\n",
       "    <tr style=\"text-align: right;\">\n",
       "      <th></th>\n",
       "      <th>Medium %</th>\n",
       "      <th>Low %</th>\n",
       "      <th>High %</th>\n",
       "      <th>Medium vs Low</th>\n",
       "      <th>Medium vs High</th>\n",
       "      <th>Low vs High</th>\n",
       "    </tr>\n",
       "  </thead>\n",
       "  <tbody>\n",
       "    <tr>\n",
       "      <th></th>\n",
       "      <td>92.359</td>\n",
       "      <td>87.782</td>\n",
       "      <td>94.242</td>\n",
       "      <td>0.000000</td>\n",
       "      <td>0.000000</td>\n",
       "      <td>0.000000</td>\n",
       "    </tr>\n",
       "  </tbody>\n",
       "</table>\n",
       "</div>"
      ],
      "text/plain": [
       "  Medium %   Low %  High % Medium vs Low Medium vs High Low vs High\n",
       "    92.359  87.782  94.242      0.000000       0.000000    0.000000"
      ]
     },
     "execution_count": 93,
     "metadata": {},
     "output_type": "execute_result"
    }
   ],
   "source": [
    "# HYPOTHESIS TESTING : loan Brackets impact on success?\n",
    "population = lb.reset_index()\n",
    "\n",
    "testresult = pd.DataFrame()\n",
    "testresult['Medium %'] = list([round(population.iloc[0][3],3)]) \n",
    "testresult['Low %'] = list([round(population.iloc[2][3],3)])\n",
    "testresult['High %'] = list([round(population.iloc[4][3],3)])\n",
    "\n",
    "columnnames = ['Medium vs Low','Medium vs High', 'Low vs High']\n",
    "\n",
    "sample1_phat_list = [0,0,2,3,3,3]\n",
    "sample2_phat_list = [2,4,4,3,3,3]\n",
    "sample1_size_list = [0,0,2,2,2,2]\n",
    "sample2_size_list = [2,4,4,2,2,2]\n",
    "\n",
    "\n",
    "for x in range(int(len(population)/2)):\n",
    "    sample1_phat = population.iloc[sample1_phat_list[x]][sample1_phat_list[x+3]]/100\n",
    "    sample2_phat = population.iloc[sample2_phat_list[x]][sample2_phat_list[x+3]]/100\n",
    "    sample1_size = population.iloc[sample1_size_list[x]][sample1_size_list[x+3]]\n",
    "    sample2_size = population.iloc[sample2_size_list[x]][sample2_size_list[x+3]]\n",
    "    phat = (sample1_phat*sample1_size+sample2_phat*sample2_size)/(sample1_size+sample2_size)\n",
    "    zscore = (sample1_phat - sample2_phat)/np.sqrt(phat*(1-phat)*((1/sample1_size)+(1/sample2_size)))    \n",
    "    pval = st.norm.sf(abs(zscore))*2\n",
    "    testresult[columnnames[x]] = list([format(pval,'f')])\n",
    "\n",
    "testresult.index = ['']\n",
    "testresult"
   ]
  },
  {
   "cell_type": "code",
   "execution_count": 94,
   "id": "6f177296",
   "metadata": {},
   "outputs": [],
   "source": [
    "# Loan to Value #"
   ]
  },
  {
   "cell_type": "code",
   "execution_count": 95,
   "id": "d72cafe8",
   "metadata": {},
   "outputs": [
    {
     "data": {
      "text/plain": [
       "7079"
      ]
     },
     "execution_count": 95,
     "metadata": {},
     "output_type": "execute_result"
    }
   ],
   "source": [
    "# DROP ALL THAT HAVE AN EXEMPT / NOT NUMERIC\n",
    "numeric_loan_val = pd.DataFrame(df['action_taken'])\n",
    "numeric_loan_val['loan_to_value_ratio'] = pd.to_numeric(df['loan_to_value_ratio'], errors='coerce')\n",
    "numeric_loan_val = numeric_loan_val.dropna().reset_index(drop = True)\n",
    "len(df)-len(numeric_loan_val)"
   ]
  },
  {
   "cell_type": "code",
   "execution_count": 96,
   "id": "c0c3314b",
   "metadata": {},
   "outputs": [
    {
     "name": "stdout",
     "output_type": "stream",
     "text": [
      "Low: Loan to Value <= 80.0\n",
      "Medium: Loan to Value > 80.0 and < 95.0\n",
      "High: Loan to Value >= 95.0\n"
     ]
    }
   ],
   "source": [
    "# Creating Buckets for Loan to Values\n",
    "low = numeric_loan_val['loan_to_value_ratio'].quantile(.33)\n",
    "medium = numeric_loan_val['loan_to_value_ratio'].quantile(.66)\n",
    "numeric_loan_val['Value_Bracket'] = np.where(numeric_loan_val['loan_to_value_ratio']<=low,'Low',\n",
    "         np.where((numeric_loan_val['loan_to_value_ratio']>low)&(numeric_loan_val['loan_to_value_ratio']<medium),'Medium',\n",
    "                 np.where(numeric_loan_val['loan_to_value_ratio']>=medium,'High','ERROR')))\n",
    "\n",
    "print('Low: Loan to Value <=',low)\n",
    "print('Medium: Loan to Value >',low,'and <',medium)\n",
    "print('High: Loan to Value >=',medium)"
   ]
  },
  {
   "cell_type": "code",
   "execution_count": 97,
   "id": "694331de",
   "metadata": {},
   "outputs": [
    {
     "data": {
      "text/html": [
       "<div>\n",
       "<style scoped>\n",
       "    .dataframe tbody tr th:only-of-type {\n",
       "        vertical-align: middle;\n",
       "    }\n",
       "\n",
       "    .dataframe tbody tr th {\n",
       "        vertical-align: top;\n",
       "    }\n",
       "\n",
       "    .dataframe thead th {\n",
       "        text-align: right;\n",
       "    }\n",
       "</style>\n",
       "<table border=\"1\" class=\"dataframe\">\n",
       "  <thead>\n",
       "    <tr style=\"text-align: right;\">\n",
       "      <th></th>\n",
       "      <th></th>\n",
       "      <th>Count</th>\n",
       "      <th>%</th>\n",
       "    </tr>\n",
       "    <tr>\n",
       "      <th>Value_Bracket</th>\n",
       "      <th>action_taken</th>\n",
       "      <th></th>\n",
       "      <th></th>\n",
       "    </tr>\n",
       "  </thead>\n",
       "  <tbody>\n",
       "    <tr>\n",
       "      <th rowspan=\"2\" valign=\"top\">Medium</th>\n",
       "      <th>1</th>\n",
       "      <td>32866</td>\n",
       "      <td>92.229550</td>\n",
       "    </tr>\n",
       "    <tr>\n",
       "      <th>0</th>\n",
       "      <td>2769</td>\n",
       "      <td>7.770450</td>\n",
       "    </tr>\n",
       "    <tr>\n",
       "      <th rowspan=\"2\" valign=\"top\">Low</th>\n",
       "      <th>1</th>\n",
       "      <td>72250</td>\n",
       "      <td>95.054533</td>\n",
       "    </tr>\n",
       "    <tr>\n",
       "      <th>0</th>\n",
       "      <td>3759</td>\n",
       "      <td>4.945467</td>\n",
       "    </tr>\n",
       "    <tr>\n",
       "      <th rowspan=\"2\" valign=\"top\">High</th>\n",
       "      <th>1</th>\n",
       "      <td>85685</td>\n",
       "      <td>90.465180</td>\n",
       "    </tr>\n",
       "    <tr>\n",
       "      <th>0</th>\n",
       "      <td>9031</td>\n",
       "      <td>9.534820</td>\n",
       "    </tr>\n",
       "  </tbody>\n",
       "</table>\n",
       "</div>"
      ],
      "text/plain": [
       "                            Count          %\n",
       "Value_Bracket action_taken                  \n",
       "Medium        1             32866  92.229550\n",
       "              0              2769   7.770450\n",
       "Low           1             72250  95.054533\n",
       "              0              3759   4.945467\n",
       "High          1             85685  90.465180\n",
       "              0              9031   9.534820"
      ]
     },
     "execution_count": 97,
     "metadata": {},
     "output_type": "execute_result"
    }
   ],
   "source": [
    "# Value Bracket + Success Rate\n",
    "lvb = pd.DataFrame(numeric_loan_val.groupby('Value_Bracket')['action_taken'].value_counts())\n",
    "lvb.columns = ['Count']\n",
    "lvb = lvb.reset_index()\n",
    "lvb['%'] = 100 * lvb['Count'] / lvb.groupby('Value_Bracket')['Count'].transform('sum')\n",
    "lvb = lvb.sort_values(['Value_Bracket', 'action_taken'], ascending = False).set_index(['Value_Bracket','action_taken'])\n",
    "lvb"
   ]
  },
  {
   "cell_type": "code",
   "execution_count": 98,
   "id": "9f8e5f26",
   "metadata": {},
   "outputs": [
    {
     "data": {
      "text/plain": [
       "Text(0.5, 1.0, 'Success vs Rejection for Loan to Value Bracket')"
      ]
     },
     "execution_count": 98,
     "metadata": {},
     "output_type": "execute_result"
    },
    {
     "data": {
      "image/png": "[encoded data removed]",
      "text/plain": [
       "<Figure size 864x720 with 1 Axes>"
      ]
     },
     "metadata": {
      "needs_background": "light"
     },
     "output_type": "display_data"
    }
   ],
   "source": [
    "# Comparing Value Brackets Success Rates\n",
    "graph_lvb = pd.concat([pd.DataFrame([numeric_loan_val.groupby('Value_Bracket')['action_taken'].value_counts()['High'][1],numeric_loan_val.groupby('Value_Bracket')['action_taken'].value_counts()['High'][0]]).transpose(),\n",
    "           pd.DataFrame([numeric_loan_val.groupby('Value_Bracket')['action_taken'].value_counts()['Medium'][1],numeric_loan_val.groupby('Value_Bracket')['action_taken'].value_counts()['Medium'][0]]).transpose(),\n",
    "           pd.DataFrame([numeric_loan_val.groupby('Value_Bracket')['action_taken'].value_counts()['Low'][1],numeric_loan_val.groupby('Value_Bracket')['action_taken'].value_counts()['Low'][0]]).transpose()])\n",
    "graph_lvb.index = ['High','Medium','Low']\n",
    "graph_lvb.columns = ['Success','Rejection']\n",
    "\n",
    "graph_lvb.plot(kind = 'bar', figsize = (12,10))\n",
    "plt.title(\"Success vs Rejection for Loan to Value Bracket\")"
   ]
  },
  {
   "cell_type": "code",
   "execution_count": 99,
   "id": "80760d6e",
   "metadata": {},
   "outputs": [
    {
     "data": {
      "text/html": [
       "<div>\n",
       "<style scoped>\n",
       "    .dataframe tbody tr th:only-of-type {\n",
       "        vertical-align: middle;\n",
       "    }\n",
       "\n",
       "    .dataframe tbody tr th {\n",
       "        vertical-align: top;\n",
       "    }\n",
       "\n",
       "    .dataframe thead th {\n",
       "        text-align: right;\n",
       "    }\n",
       "</style>\n",
       "<table border=\"1\" class=\"dataframe\">\n",
       "  <thead>\n",
       "    <tr style=\"text-align: right;\">\n",
       "      <th></th>\n",
       "      <th>Medium %</th>\n",
       "      <th>Low %</th>\n",
       "      <th>High %</th>\n",
       "      <th>Medium vs Low</th>\n",
       "      <th>Medium vs High</th>\n",
       "      <th>Low vs High</th>\n",
       "    </tr>\n",
       "  </thead>\n",
       "  <tbody>\n",
       "    <tr>\n",
       "      <th></th>\n",
       "      <td>92.23</td>\n",
       "      <td>95.055</td>\n",
       "      <td>90.465</td>\n",
       "      <td>0.000000</td>\n",
       "      <td>0.000000</td>\n",
       "      <td>0.000000</td>\n",
       "    </tr>\n",
       "  </tbody>\n",
       "</table>\n",
       "</div>"
      ],
      "text/plain": [
       "  Medium %   Low %  High % Medium vs Low Medium vs High Low vs High\n",
       "     92.23  95.055  90.465      0.000000       0.000000    0.000000"
      ]
     },
     "execution_count": 99,
     "metadata": {},
     "output_type": "execute_result"
    }
   ],
   "source": [
    "# HYPOTHESIS TESTING : Loan to Value Brackets impact on success?\n",
    "population = lvb.reset_index()\n",
    "\n",
    "testresult = pd.DataFrame()\n",
    "testresult['Medium %'] = list([round(population.iloc[0][3],3)]) \n",
    "testresult['Low %'] = list([round(population.iloc[2][3],3)])\n",
    "testresult['High %'] = list([round(population.iloc[4][3],3)])\n",
    "\n",
    "columnnames = ['Medium vs Low','Medium vs High', 'Low vs High']\n",
    "\n",
    "sample1_phat_list = [0,0,2,3,3,3]\n",
    "sample2_phat_list = [2,4,4,3,3,3]\n",
    "sample1_size_list = [0,0,2,2,2,2]\n",
    "sample2_size_list = [2,4,4,2,2,2]\n",
    "\n",
    "\n",
    "for x in range(int(len(population)/2)):\n",
    "    sample1_phat = population.iloc[sample1_phat_list[x]][sample1_phat_list[x+3]]/100\n",
    "    sample2_phat = population.iloc[sample2_phat_list[x]][sample2_phat_list[x+3]]/100\n",
    "    sample1_size = population.iloc[sample1_size_list[x]][sample1_size_list[x+3]]\n",
    "    sample2_size = population.iloc[sample2_size_list[x]][sample2_size_list[x+3]]\n",
    "    phat = (sample1_phat*sample1_size+sample2_phat*sample2_size)/(sample1_size+sample2_size)\n",
    "    zscore = (sample1_phat - sample2_phat)/np.sqrt(phat*(1-phat)*((1/sample1_size)+(1/sample2_size)))    \n",
    "    pval = st.norm.sf(abs(zscore))*2\n",
    "    testresult[columnnames[x]] = list([format(pval,'f')])\n",
    "\n",
    "testresult.index = ['']\n",
    "testresult"
   ]
  },
  {
   "cell_type": "code",
   "execution_count": 100,
   "id": "e458dbee",
   "metadata": {},
   "outputs": [],
   "source": [
    "#####################################################################"
   ]
  },
  {
   "cell_type": "code",
   "execution_count": 101,
   "id": "ca1e6be3",
   "metadata": {},
   "outputs": [],
   "source": [
    "# CLEANING DATA FOR MODEL: FEATURE ENGINEERING"
   ]
  },
  {
   "cell_type": "code",
   "execution_count": 102,
   "id": "d265bc2e",
   "metadata": {},
   "outputs": [],
   "source": [
    "# CHECKING THE VALUE COUNTS FOR EACH COLUMN\n",
    "#model.iloc[:, [51]].value_counts()"
   ]
  },
  {
   "cell_type": "code",
   "execution_count": 103,
   "id": "5516c087",
   "metadata": {},
   "outputs": [],
   "source": [
    "model = df\n",
    "# turning easy columns into dummy variables\n",
    "easylist = ['derived_msa-md','conforming_loan_limit','derived_loan_product_type',\n",
    "           'derived_dwelling_category','business_or_commercial_purpose','hoepa_status','occupancy_type',\n",
    "           'total_units','debt_to_income_ratio','applicant_credit_score_type','co-applicant_credit_score_type',\n",
    "           'applicant_ethnicity-1','co-applicant_ethnicity-1','applicant_ethnicity_observed','co-applicant_ethnicity_observed',\n",
    "            'applicant_race-1','co-applicant_race-1','applicant_race_observed','co-applicant_race_observed',\n",
    "            'applicant_sex','co-applicant_sex','applicant_sex_observed','co-applicant_sex_observed','applicant_age','co-applicant_age',\n",
    "            'submission_of_application','aus-1']\n",
    "for x in range(len(easylist)):\n",
    "    model = pd.get_dummies(model,drop_first = True, columns = [easylist[x]])\n"
   ]
  },
  {
   "cell_type": "code",
   "execution_count": 104,
   "id": "291adf87",
   "metadata": {},
   "outputs": [],
   "source": [
    "# CHECK FOR NULLS\n",
    "dropnull = model.isnull().sum()[model.isnull().sum()>0].index.tolist()\n",
    "for x in range(len(dropnull)):\n",
    "    model = model[~model[dropnull[x]].isnull()]"
   ]
  },
  {
   "cell_type": "code",
   "execution_count": 105,
   "id": "e7b514b7",
   "metadata": {},
   "outputs": [
    {
     "data": {
      "text/plain": [
       "0"
      ]
     },
     "execution_count": 105,
     "metadata": {},
     "output_type": "execute_result"
    }
   ],
   "source": [
    "model.isnull().sum().max()"
   ]
  },
  {
   "cell_type": "code",
   "execution_count": 106,
   "id": "d1cc8f4b",
   "metadata": {},
   "outputs": [],
   "source": [
    "# EXPORT MODEL DF FOR ML and DL\n",
    "#model.to_csv('IL_Loan_Outcome.csv')"
   ]
  },
  {
   "cell_type": "code",
   "execution_count": null,
   "id": "1dae6fb0",
   "metadata": {},
   "outputs": [],
   "source": []
  }
 ],
 "metadata": {
  "kernelspec": {
   "display_name": "Python 3 (ipykernel)",
   "language": "python",
   "name": "python3"
  },
  "language_info": {
   "codemirror_mode": {
    "name": "ipython",
    "version": 3
   },
   "file_extension": ".py",
   "mimetype": "text/x-python",
   "name": "python",
   "nbconvert_exporter": "python",
   "pygments_lexer": "ipython3",
   "version": "3.9.7"
  }
 },
 "nbformat": 4,
 "nbformat_minor": 5
}
