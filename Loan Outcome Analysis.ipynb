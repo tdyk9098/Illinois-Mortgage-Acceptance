{
 "cells": [
  {
   "cell_type": "code",
   "execution_count": 194,
   "id": "54cb0159",
   "metadata": {},
   "outputs": [],
   "source": [
    "import numpy as np\n",
    "import pandas as pd\n",
    "import matplotlib.pyplot as plt\n",
    "import seaborn as sns\n",
    "import scipy.stats as st\n",
    "import datetime as dt"
   ]
  },
  {
   "cell_type": "code",
   "execution_count": 195,
   "id": "2dfd0a61",
   "metadata": {},
   "outputs": [],
   "source": [
    "df = pd.read_csv('Illinois_2021.csv', low_memory=False)"
   ]
  },
  {
   "cell_type": "code",
   "execution_count": 196,
   "id": "9147a16b",
   "metadata": {},
   "outputs": [],
   "source": [
    "##################################################################################################"
   ]
  },
  {
   "cell_type": "code",
   "execution_count": 197,
   "id": "e3333ee3",
   "metadata": {},
   "outputs": [],
   "source": [
    "###### MODEL1: OUTPUT = APPLICATION STATUS ######"
   ]
  },
  {
   "cell_type": "code",
   "execution_count": 198,
   "id": "66e6b986",
   "metadata": {},
   "outputs": [],
   "source": [
    "##### CLEANING #####"
   ]
  },
  {
   "cell_type": "code",
   "execution_count": 199,
   "id": "3045b48c",
   "metadata": {},
   "outputs": [],
   "source": [
    "# DROPPING COLUMNS WITH NO VALUE\n",
    "df.drop(['activity_year','state_code','census_tract','county_code','loan_type','derived_ethnicity',\n",
    "         'derived_race','derived_sex', 'denial_reason-1','denial_reason-2','denial_reason-3','denial_reason-4',\n",
    "         'applicant_age_above_62','co-applicant_age_above_62','tract_to_msa_income_percentage'], axis = 1, inplace = True)"
   ]
  },
  {
   "cell_type": "code",
   "execution_count": 200,
   "id": "47c75420",
   "metadata": {},
   "outputs": [],
   "source": [
    "# Filter the DF so that only accept or reject outcomes are present\n",
    "df = df[df['action_taken'].isin([1,2,3])]"
   ]
  },
  {
   "cell_type": "code",
   "execution_count": 201,
   "id": "5ab9caba",
   "metadata": {},
   "outputs": [],
   "source": [
    "# Turning the Application outcome (action_taken) into dummy variables\n",
    "df['action_taken'] = np.where((df['action_taken']==1)|(df['action_taken']==2),1,0)"
   ]
  },
  {
   "cell_type": "code",
   "execution_count": 202,
   "id": "67926ae4",
   "metadata": {},
   "outputs": [],
   "source": [
    "# Filtering for only Home Purchase Loans\n",
    "df = df[df['loan_purpose']==1]"
   ]
  },
  {
   "cell_type": "code",
   "execution_count": 203,
   "id": "c26a2bf0",
   "metadata": {},
   "outputs": [],
   "source": [
    "# Filtering for only mortgage applications and NOT covered loans\n",
    "df = df[df['submission_of_application']!=3]\n",
    "df = df[df['initially_payable_to_institution']!=3]"
   ]
  },
  {
   "cell_type": "code",
   "execution_count": 204,
   "id": "4154f4c4",
   "metadata": {},
   "outputs": [],
   "source": [
    "# Dropping columns that are only applicable to succesful applications\n",
    "df.drop(['interest_rate','rate_spread','purchaser_type','initially_payable_to_institution'], axis = 1, inplace = True)\n",
    "df = df.reset_index(drop = True)"
   ]
  },
  {
   "cell_type": "code",
   "execution_count": 205,
   "id": "503eb310",
   "metadata": {},
   "outputs": [],
   "source": [
    "#### EXPLORING PROPERTY AND AREA RELATED FEATURES WITH SUCCESS RATE ###"
   ]
  },
  {
   "cell_type": "code",
   "execution_count": 206,
   "id": "28c17471",
   "metadata": {},
   "outputs": [],
   "source": [
    "### MSA CODE: 5 digit metropolitan statistical area or metropolitan division code: min 50K population"
   ]
  },
  {
   "cell_type": "code",
   "execution_count": 207,
   "id": "009f828e",
   "metadata": {
    "scrolled": true
   },
   "outputs": [
    {
     "data": {
      "text/html": [
       "<div>\n",
       "<style scoped>\n",
       "    .dataframe tbody tr th:only-of-type {\n",
       "        vertical-align: middle;\n",
       "    }\n",
       "\n",
       "    .dataframe tbody tr th {\n",
       "        vertical-align: top;\n",
       "    }\n",
       "\n",
       "    .dataframe thead th {\n",
       "        text-align: right;\n",
       "    }\n",
       "</style>\n",
       "<table border=\"1\" class=\"dataframe\">\n",
       "  <thead>\n",
       "    <tr style=\"text-align: right;\">\n",
       "      <th></th>\n",
       "      <th></th>\n",
       "      <th>Count</th>\n",
       "      <th>%</th>\n",
       "    </tr>\n",
       "    <tr>\n",
       "      <th>derived_msa-md</th>\n",
       "      <th>action_taken</th>\n",
       "      <th></th>\n",
       "      <th></th>\n",
       "    </tr>\n",
       "  </thead>\n",
       "  <tbody>\n",
       "    <tr>\n",
       "      <th rowspan=\"2\" valign=\"top\">99999</th>\n",
       "      <th>1</th>\n",
       "      <td>15252</td>\n",
       "      <td>88.633194</td>\n",
       "    </tr>\n",
       "    <tr>\n",
       "      <th>0</th>\n",
       "      <td>1956</td>\n",
       "      <td>11.366806</td>\n",
       "    </tr>\n",
       "    <tr>\n",
       "      <th rowspan=\"2\" valign=\"top\">44100</th>\n",
       "      <th>1</th>\n",
       "      <td>4077</td>\n",
       "      <td>93.337912</td>\n",
       "    </tr>\n",
       "    <tr>\n",
       "      <th>0</th>\n",
       "      <td>291</td>\n",
       "      <td>6.662088</td>\n",
       "    </tr>\n",
       "    <tr>\n",
       "      <th rowspan=\"2\" valign=\"top\">41180</th>\n",
       "      <th>1</th>\n",
       "      <td>12384</td>\n",
       "      <td>91.910346</td>\n",
       "    </tr>\n",
       "    <tr>\n",
       "      <th>0</th>\n",
       "      <td>1090</td>\n",
       "      <td>8.089654</td>\n",
       "    </tr>\n",
       "    <tr>\n",
       "      <th rowspan=\"2\" valign=\"top\">40420</th>\n",
       "      <th>1</th>\n",
       "      <td>5378</td>\n",
       "      <td>91.665246</td>\n",
       "    </tr>\n",
       "    <tr>\n",
       "      <th>0</th>\n",
       "      <td>489</td>\n",
       "      <td>8.334754</td>\n",
       "    </tr>\n",
       "    <tr>\n",
       "      <th rowspan=\"2\" valign=\"top\">37900</th>\n",
       "      <th>1</th>\n",
       "      <td>7671</td>\n",
       "      <td>94.575268</td>\n",
       "    </tr>\n",
       "    <tr>\n",
       "      <th>0</th>\n",
       "      <td>440</td>\n",
       "      <td>5.424732</td>\n",
       "    </tr>\n",
       "    <tr>\n",
       "      <th rowspan=\"2\" valign=\"top\">29404</th>\n",
       "      <th>1</th>\n",
       "      <td>13288</td>\n",
       "      <td>93.268758</td>\n",
       "    </tr>\n",
       "    <tr>\n",
       "      <th>0</th>\n",
       "      <td>959</td>\n",
       "      <td>6.731242</td>\n",
       "    </tr>\n",
       "    <tr>\n",
       "      <th rowspan=\"2\" valign=\"top\">28100</th>\n",
       "      <th>1</th>\n",
       "      <td>1728</td>\n",
       "      <td>87.582362</td>\n",
       "    </tr>\n",
       "    <tr>\n",
       "      <th>0</th>\n",
       "      <td>245</td>\n",
       "      <td>12.417638</td>\n",
       "    </tr>\n",
       "    <tr>\n",
       "      <th rowspan=\"2\" valign=\"top\">20994</th>\n",
       "      <th>1</th>\n",
       "      <td>14637</td>\n",
       "      <td>93.610898</td>\n",
       "    </tr>\n",
       "    <tr>\n",
       "      <th>0</th>\n",
       "      <td>999</td>\n",
       "      <td>6.389102</td>\n",
       "    </tr>\n",
       "    <tr>\n",
       "      <th rowspan=\"2\" valign=\"top\">19500</th>\n",
       "      <th>1</th>\n",
       "      <td>1645</td>\n",
       "      <td>89.743590</td>\n",
       "    </tr>\n",
       "    <tr>\n",
       "      <th>0</th>\n",
       "      <td>188</td>\n",
       "      <td>10.256410</td>\n",
       "    </tr>\n",
       "    <tr>\n",
       "      <th rowspan=\"2\" valign=\"top\">19340</th>\n",
       "      <th>1</th>\n",
       "      <td>3641</td>\n",
       "      <td>92.340857</td>\n",
       "    </tr>\n",
       "    <tr>\n",
       "      <th>0</th>\n",
       "      <td>302</td>\n",
       "      <td>7.659143</td>\n",
       "    </tr>\n",
       "    <tr>\n",
       "      <th rowspan=\"2\" valign=\"top\">19180</th>\n",
       "      <th>1</th>\n",
       "      <td>781</td>\n",
       "      <td>87.851519</td>\n",
       "    </tr>\n",
       "    <tr>\n",
       "      <th>0</th>\n",
       "      <td>108</td>\n",
       "      <td>12.148481</td>\n",
       "    </tr>\n",
       "    <tr>\n",
       "      <th rowspan=\"2\" valign=\"top\">16984</th>\n",
       "      <th>1</th>\n",
       "      <td>114186</td>\n",
       "      <td>91.603090</td>\n",
       "    </tr>\n",
       "    <tr>\n",
       "      <th>0</th>\n",
       "      <td>10467</td>\n",
       "      <td>8.396910</td>\n",
       "    </tr>\n",
       "    <tr>\n",
       "      <th rowspan=\"2\" valign=\"top\">16580</th>\n",
       "      <th>1</th>\n",
       "      <td>3359</td>\n",
       "      <td>92.867017</td>\n",
       "    </tr>\n",
       "    <tr>\n",
       "      <th>0</th>\n",
       "      <td>258</td>\n",
       "      <td>7.132983</td>\n",
       "    </tr>\n",
       "    <tr>\n",
       "      <th rowspan=\"2\" valign=\"top\">16060</th>\n",
       "      <th>1</th>\n",
       "      <td>1661</td>\n",
       "      <td>86.963351</td>\n",
       "    </tr>\n",
       "    <tr>\n",
       "      <th>0</th>\n",
       "      <td>249</td>\n",
       "      <td>13.036649</td>\n",
       "    </tr>\n",
       "    <tr>\n",
       "      <th rowspan=\"2\" valign=\"top\">16020</th>\n",
       "      <th>1</th>\n",
       "      <td>18</td>\n",
       "      <td>45.000000</td>\n",
       "    </tr>\n",
       "    <tr>\n",
       "      <th>0</th>\n",
       "      <td>22</td>\n",
       "      <td>55.000000</td>\n",
       "    </tr>\n",
       "    <tr>\n",
       "      <th rowspan=\"2\" valign=\"top\">14010</th>\n",
       "      <th>1</th>\n",
       "      <td>3191</td>\n",
       "      <td>90.937589</td>\n",
       "    </tr>\n",
       "    <tr>\n",
       "      <th>0</th>\n",
       "      <td>318</td>\n",
       "      <td>9.062411</td>\n",
       "    </tr>\n",
       "    <tr>\n",
       "      <th rowspan=\"2\" valign=\"top\">0</th>\n",
       "      <th>1</th>\n",
       "      <td>411</td>\n",
       "      <td>26.481959</td>\n",
       "    </tr>\n",
       "    <tr>\n",
       "      <th>0</th>\n",
       "      <td>1141</td>\n",
       "      <td>73.518041</td>\n",
       "    </tr>\n",
       "  </tbody>\n",
       "</table>\n",
       "</div>"
      ],
      "text/plain": [
       "                              Count          %\n",
       "derived_msa-md action_taken                   \n",
       "99999          1              15252  88.633194\n",
       "               0               1956  11.366806\n",
       "44100          1               4077  93.337912\n",
       "               0                291   6.662088\n",
       "41180          1              12384  91.910346\n",
       "               0               1090   8.089654\n",
       "40420          1               5378  91.665246\n",
       "               0                489   8.334754\n",
       "37900          1               7671  94.575268\n",
       "               0                440   5.424732\n",
       "29404          1              13288  93.268758\n",
       "               0                959   6.731242\n",
       "28100          1               1728  87.582362\n",
       "               0                245  12.417638\n",
       "20994          1              14637  93.610898\n",
       "               0                999   6.389102\n",
       "19500          1               1645  89.743590\n",
       "               0                188  10.256410\n",
       "19340          1               3641  92.340857\n",
       "               0                302   7.659143\n",
       "19180          1                781  87.851519\n",
       "               0                108  12.148481\n",
       "16984          1             114186  91.603090\n",
       "               0              10467   8.396910\n",
       "16580          1               3359  92.867017\n",
       "               0                258   7.132983\n",
       "16060          1               1661  86.963351\n",
       "               0                249  13.036649\n",
       "16020          1                 18  45.000000\n",
       "               0                 22  55.000000\n",
       "14010          1               3191  90.937589\n",
       "               0                318   9.062411\n",
       "0              1                411  26.481959\n",
       "               0               1141  73.518041"
      ]
     },
     "execution_count": 207,
     "metadata": {},
     "output_type": "execute_result"
    }
   ],
   "source": [
    "# MSA Code Success Rate \n",
    "msa = pd.DataFrame(df.groupby('derived_msa-md')['action_taken'].value_counts())\n",
    "msa.columns = ['Count']\n",
    "msa = msa.reset_index()\n",
    "msa['%'] = 100 * msa['Count'] / msa.groupby('derived_msa-md')['Count'].transform('sum')\n",
    "msa = msa.sort_values(['derived_msa-md', 'action_taken'], ascending = False).set_index(['derived_msa-md','action_taken'])\n",
    "msa"
   ]
  },
  {
   "cell_type": "code",
   "execution_count": 208,
   "id": "4e247f2a",
   "metadata": {},
   "outputs": [
    {
     "data": {
      "text/html": [
       "<div>\n",
       "<style scoped>\n",
       "    .dataframe tbody tr th:only-of-type {\n",
       "        vertical-align: middle;\n",
       "    }\n",
       "\n",
       "    .dataframe tbody tr th {\n",
       "        vertical-align: top;\n",
       "    }\n",
       "\n",
       "    .dataframe thead th {\n",
       "        text-align: right;\n",
       "    }\n",
       "</style>\n",
       "<table border=\"1\" class=\"dataframe\">\n",
       "  <thead>\n",
       "    <tr style=\"text-align: right;\">\n",
       "      <th></th>\n",
       "      <th></th>\n",
       "      <th>Count</th>\n",
       "      <th>%</th>\n",
       "    </tr>\n",
       "    <tr>\n",
       "      <th>intopmsa</th>\n",
       "      <th>action_taken</th>\n",
       "      <th></th>\n",
       "      <th></th>\n",
       "    </tr>\n",
       "  </thead>\n",
       "  <tbody>\n",
       "    <tr>\n",
       "      <th rowspan=\"2\" valign=\"top\">1</th>\n",
       "      <th>1</th>\n",
       "      <td>114186</td>\n",
       "      <td>91.603090</td>\n",
       "    </tr>\n",
       "    <tr>\n",
       "      <th>0</th>\n",
       "      <td>10467</td>\n",
       "      <td>8.396910</td>\n",
       "    </tr>\n",
       "    <tr>\n",
       "      <th rowspan=\"2\" valign=\"top\">0</th>\n",
       "      <th>1</th>\n",
       "      <td>89122</td>\n",
       "      <td>90.776862</td>\n",
       "    </tr>\n",
       "    <tr>\n",
       "      <th>0</th>\n",
       "      <td>9055</td>\n",
       "      <td>9.223138</td>\n",
       "    </tr>\n",
       "  </tbody>\n",
       "</table>\n",
       "</div>"
      ],
      "text/plain": [
       "                        Count          %\n",
       "intopmsa action_taken                   \n",
       "1        1             114186  91.603090\n",
       "         0              10467   8.396910\n",
       "0        1              89122  90.776862\n",
       "         0               9055   9.223138"
      ]
     },
     "execution_count": 208,
     "metadata": {},
     "output_type": "execute_result"
    }
   ],
   "source": [
    "# NEW FEATURE: In MSA 16984 or not in 16984: are houses within (Chicago, Naperville, Evanston) more succesful?\n",
    "itopmsa = pd.DataFrame(df[['derived_msa-md','action_taken']])\n",
    "itopmsa['intopmsa'] = ''\n",
    "itopmsa['intopmsa'] = np.where(itopmsa['derived_msa-md']!= 16984,0,1)\n",
    "itopmsa = itopmsa.drop('derived_msa-md',axis = 1)\n",
    "# Comparison of overall success %\n",
    "topmsa = pd.DataFrame(itopmsa.groupby('intopmsa')['action_taken'].value_counts())\n",
    "topmsa.columns = ['Count']\n",
    "topmsa = topmsa.reset_index()\n",
    "topmsa['%'] = 100 * topmsa['Count'] / topmsa.groupby('intopmsa')['Count'].transform('sum')\n",
    "topmsa = topmsa.sort_values(['intopmsa', 'action_taken'], ascending = False).set_index(['intopmsa','action_taken'])\n",
    "topmsa"
   ]
  },
  {
   "cell_type": "code",
   "execution_count": 210,
   "id": "b17de817",
   "metadata": {},
   "outputs": [
    {
     "data": {
      "text/plain": [
       "Text(0.5, 1.0, 'Success vs Rejection for 16580 MSA code or not')"
      ]
     },
     "execution_count": 210,
     "metadata": {},
     "output_type": "execute_result"
    },
    {
     "data": {
      "image/png": "[encoded data removed]",
      "text/plain": [
       "<Figure size 864x720 with 1 Axes>"
      ]
     },
     "metadata": {
      "needs_background": "light"
     },
     "output_type": "display_data"
    }
   ],
   "source": [
    "# Comparing Not 16580 vs 16580 Success Rates: graph\n",
    "graph_topmsa = pd.concat([pd.DataFrame([itopmsa.groupby('intopmsa')['action_taken'].value_counts()[1][1],itopmsa.groupby('intopmsa')['action_taken'].value_counts()[1][0]]).transpose(),\n",
    "           pd.DataFrame([itopmsa.groupby('intopmsa')['action_taken'].value_counts()[0][1],itopmsa.groupby('intopmsa')['action_taken'].value_counts()[0][0]]).transpose()])\n",
    "graph_topmsa.index = ['In Top MSA','Not Top MSA']\n",
    "graph_topmsa.columns = ['Success','Rejection']\n",
    "\n",
    "graph_topmsa.plot(kind = 'bar', figsize = (12,10))\n",
    "plt.title(\"Success vs Rejection for 16580 MSA code or not\")"
   ]
  },
  {
   "cell_type": "code",
   "execution_count": 211,
   "id": "0ba2e406",
   "metadata": {},
   "outputs": [
    {
     "data": {
      "text/html": [
       "<div>\n",
       "<style scoped>\n",
       "    .dataframe tbody tr th:only-of-type {\n",
       "        vertical-align: middle;\n",
       "    }\n",
       "\n",
       "    .dataframe tbody tr th {\n",
       "        vertical-align: top;\n",
       "    }\n",
       "\n",
       "    .dataframe thead th {\n",
       "        text-align: right;\n",
       "    }\n",
       "</style>\n",
       "<table border=\"1\" class=\"dataframe\">\n",
       "  <thead>\n",
       "    <tr style=\"text-align: right;\">\n",
       "      <th></th>\n",
       "      <th>In Top MSA %</th>\n",
       "      <th>Not Top MSA %</th>\n",
       "      <th>PVal</th>\n",
       "    </tr>\n",
       "  </thead>\n",
       "  <tbody>\n",
       "    <tr>\n",
       "      <th></th>\n",
       "      <td>91.603</td>\n",
       "      <td>90.777</td>\n",
       "      <td>0.000000</td>\n",
       "    </tr>\n",
       "  </tbody>\n",
       "</table>\n",
       "</div>"
      ],
      "text/plain": [
       " In Top MSA % Not Top MSA %      PVal\n",
       "       91.603        90.777  0.000000"
      ]
     },
     "execution_count": 211,
     "metadata": {},
     "output_type": "execute_result"
    }
   ],
   "source": [
    "# HYPOTHESIS TESTING : IN TOP MSA > SUCCESS THAN NOT?\n",
    "population = topmsa.reset_index()\n",
    "\n",
    "sample1_phat = population.iloc[0][3]/100\n",
    "sample2_phat = population.iloc[2][3]/100\n",
    "sample1_size = population.iloc[0][2]\n",
    "sample2_size = population.iloc[2][2]\n",
    "phat = (sample1_phat*sample1_size+sample2_phat*sample2_size)/(sample1_size+sample2_size)\n",
    "zscore = (sample1_phat - sample2_phat)/np.sqrt(phat*(1-phat)*((1/sample1_size)+(1/sample2_size)))    \n",
    "pval = st.norm.sf(abs(zscore))*2\n",
    "testresult = pd.DataFrame([round(sample1_phat*100,3),round(sample2_phat*100,3),format(pval,'f')]).transpose()\n",
    "testresult.columns = ['In Top MSA %','Not Top MSA %','PVal']\n",
    "testresult.index = ['']\n",
    "testresult"
   ]
  },
  {
   "cell_type": "code",
   "execution_count": 212,
   "id": "547eb861",
   "metadata": {},
   "outputs": [],
   "source": [
    "### Occupancy Type: 1 is principal residence, 2 is secondary, 3 is investment"
   ]
  },
  {
   "cell_type": "code",
   "execution_count": 213,
   "id": "8aef6a59",
   "metadata": {},
   "outputs": [
    {
     "data": {
      "text/plain": [
       "1    203233\n",
       "3     16370\n",
       "2      3227\n",
       "Name: occupancy_type, dtype: int64"
      ]
     },
     "execution_count": 213,
     "metadata": {},
     "output_type": "execute_result"
    }
   ],
   "source": [
    "# distribution of occupancy type applications\n",
    "df['occupancy_type'].value_counts()"
   ]
  },
  {
   "cell_type": "code",
   "execution_count": 214,
   "id": "996cfd8d",
   "metadata": {},
   "outputs": [
    {
     "data": {
      "text/html": [
       "<div>\n",
       "<style scoped>\n",
       "    .dataframe tbody tr th:only-of-type {\n",
       "        vertical-align: middle;\n",
       "    }\n",
       "\n",
       "    .dataframe tbody tr th {\n",
       "        vertical-align: top;\n",
       "    }\n",
       "\n",
       "    .dataframe thead th {\n",
       "        text-align: right;\n",
       "    }\n",
       "</style>\n",
       "<table border=\"1\" class=\"dataframe\">\n",
       "  <thead>\n",
       "    <tr style=\"text-align: right;\">\n",
       "      <th></th>\n",
       "      <th></th>\n",
       "      <th>Count</th>\n",
       "      <th>%</th>\n",
       "    </tr>\n",
       "    <tr>\n",
       "      <th>occupancy_type</th>\n",
       "      <th>action_taken</th>\n",
       "      <th></th>\n",
       "      <th></th>\n",
       "    </tr>\n",
       "  </thead>\n",
       "  <tbody>\n",
       "    <tr>\n",
       "      <th rowspan=\"2\" valign=\"top\">3</th>\n",
       "      <th>1</th>\n",
       "      <td>15036</td>\n",
       "      <td>91.850947</td>\n",
       "    </tr>\n",
       "    <tr>\n",
       "      <th>0</th>\n",
       "      <td>1334</td>\n",
       "      <td>8.149053</td>\n",
       "    </tr>\n",
       "    <tr>\n",
       "      <th rowspan=\"2\" valign=\"top\">2</th>\n",
       "      <th>1</th>\n",
       "      <td>2941</td>\n",
       "      <td>91.137279</td>\n",
       "    </tr>\n",
       "    <tr>\n",
       "      <th>0</th>\n",
       "      <td>286</td>\n",
       "      <td>8.862721</td>\n",
       "    </tr>\n",
       "    <tr>\n",
       "      <th rowspan=\"2\" valign=\"top\">1</th>\n",
       "      <th>1</th>\n",
       "      <td>185331</td>\n",
       "      <td>91.191391</td>\n",
       "    </tr>\n",
       "    <tr>\n",
       "      <th>0</th>\n",
       "      <td>17902</td>\n",
       "      <td>8.808609</td>\n",
       "    </tr>\n",
       "  </tbody>\n",
       "</table>\n",
       "</div>"
      ],
      "text/plain": [
       "                              Count          %\n",
       "occupancy_type action_taken                   \n",
       "3              1              15036  91.850947\n",
       "               0               1334   8.149053\n",
       "2              1               2941  91.137279\n",
       "               0                286   8.862721\n",
       "1              1             185331  91.191391\n",
       "               0              17902   8.808609"
      ]
     },
     "execution_count": 214,
     "metadata": {},
     "output_type": "execute_result"
    }
   ],
   "source": [
    "# Occupancy Type + Success Rate\n",
    "ot = pd.DataFrame(df.groupby('occupancy_type')['action_taken'].value_counts())\n",
    "ot.columns = ['Count']\n",
    "ot = ot.reset_index()\n",
    "ot['%'] = 100 * ot['Count'] / ot.groupby('occupancy_type')['Count'].transform('sum')\n",
    "ot = ot.sort_values(['occupancy_type', 'action_taken'], ascending = False).set_index(['occupancy_type','action_taken'])\n",
    "ot"
   ]
  },
  {
   "cell_type": "code",
   "execution_count": 215,
   "id": "b5489c74",
   "metadata": {},
   "outputs": [
    {
     "data": {
      "text/plain": [
       "Text(0.5, 1.0, 'Success vs Rejection for Occupancy Types')"
      ]
     },
     "execution_count": 215,
     "metadata": {},
     "output_type": "execute_result"
    },
    {
     "data": {
      "image/png": "[encoded data removed]",
      "text/plain": [
       "<Figure size 864x720 with 1 Axes>"
      ]
     },
     "metadata": {
      "needs_background": "light"
     },
     "output_type": "display_data"
    }
   ],
   "source": [
    "# Comparing Occupancy Type 1-2-3  Success Rates\n",
    "# Comparing Occupancy Type Success Rates: graph\n",
    "graph_ot = pd.concat([pd.DataFrame([df.groupby('occupancy_type')['action_taken'].value_counts()[1][1],df.groupby('occupancy_type')['action_taken'].value_counts()[1][0]]).transpose(),\n",
    "           pd.DataFrame([df.groupby('occupancy_type')['action_taken'].value_counts()[2][1],df.groupby('occupancy_type')['action_taken'].value_counts()[2][0]]).transpose(),\n",
    "           pd.DataFrame([df.groupby('occupancy_type')['action_taken'].value_counts()[3][1],df.groupby('occupancy_type')['action_taken'].value_counts()[3][0]]).transpose()])\n",
    "\n",
    "graph_ot.index = ['Principal','Second','Investment']\n",
    "graph_ot.columns = ['Success','Rejection']\n",
    "\n",
    "graph_ot.plot(kind = 'bar', figsize = (12,10))\n",
    "plt.title(\"Success vs Rejection for Occupancy Types\")"
   ]
  },
  {
   "cell_type": "code",
   "execution_count": 271,
   "id": "78e32755",
   "metadata": {},
   "outputs": [
    {
     "data": {
      "text/html": [
       "<div>\n",
       "<style scoped>\n",
       "    .dataframe tbody tr th:only-of-type {\n",
       "        vertical-align: middle;\n",
       "    }\n",
       "\n",
       "    .dataframe tbody tr th {\n",
       "        vertical-align: top;\n",
       "    }\n",
       "\n",
       "    .dataframe thead th {\n",
       "        text-align: right;\n",
       "    }\n",
       "</style>\n",
       "<table border=\"1\" class=\"dataframe\">\n",
       "  <thead>\n",
       "    <tr style=\"text-align: right;\">\n",
       "      <th></th>\n",
       "      <th>Investment %</th>\n",
       "      <th>Second %</th>\n",
       "      <th>Principal %</th>\n",
       "      <th>Investment vs Second</th>\n",
       "      <th>Investment vs Principal</th>\n",
       "      <th>Second vs Principal</th>\n",
       "    </tr>\n",
       "  </thead>\n",
       "  <tbody>\n",
       "    <tr>\n",
       "      <th></th>\n",
       "      <td>91.851</td>\n",
       "      <td>91.137</td>\n",
       "      <td>91.191</td>\n",
       "      <td>0.198648</td>\n",
       "      <td>0.005934</td>\n",
       "      <td>0.918182</td>\n",
       "    </tr>\n",
       "  </tbody>\n",
       "</table>\n",
       "</div>"
      ],
      "text/plain": [
       "  Investment %  Second %  Principal % Investment vs Second  \\\n",
       "        91.851    91.137       91.191             0.198648   \n",
       "\n",
       " Investment vs Principal Second vs Principal  \n",
       "                0.005934            0.918182  "
      ]
     },
     "execution_count": 271,
     "metadata": {},
     "output_type": "execute_result"
    }
   ],
   "source": [
    "# HYPOTHESIS TESTING : Occupancy Type impact on success?\n",
    "population = ot.reset_index()\n",
    "\n",
    "testresult = pd.DataFrame()\n",
    "testresult['Investment %'] = list([round(population.iloc[0][3],3)]) \n",
    "testresult['Second %'] = list([round(population.iloc[2][3],3)])\n",
    "testresult['Principal %'] = list([round(population.iloc[4][3],3)])\n",
    "\n",
    "columnnames = ['Investment vs Second','Investment vs Principal', 'Second vs Principal']\n",
    "\n",
    "sample1_phat_list = [0,0,2,3,3,3]\n",
    "sample2_phat_list = [2,4,4,3,3,3]\n",
    "sample1_size_list = [0,0,2,2,2,2]\n",
    "sample2_size_list = [2,4,4,2,2,2]\n",
    "\n",
    "\n",
    "for x in range(int(len(population)/2)):\n",
    "    sample1_phat = population.iloc[sample1_phat_list[x]][sample1_phat_list[x+3]]/100\n",
    "    sample2_phat = population.iloc[sample2_phat_list[x]][sample2_phat_list[x+3]]/100\n",
    "    sample1_size = population.iloc[sample1_size_list[x]][sample1_size_list[x+3]]\n",
    "    sample2_size = population.iloc[sample2_size_list[x]][sample2_size_list[x+3]]\n",
    "    phat = (sample1_phat*sample1_size+sample2_phat*sample2_size)/(sample1_size+sample2_size)\n",
    "    zscore = (sample1_phat - sample2_phat)/np.sqrt(phat*(1-phat)*((1/sample1_size)+(1/sample2_size)))    \n",
    "    pval = st.norm.sf(abs(zscore))*2\n",
    "    testresult[columnnames[x]] = list([format(pval,'f')])\n",
    "\n",
    "testresult.index = ['']\n",
    "testresult"
   ]
  },
  {
   "cell_type": "code",
   "execution_count": 217,
   "id": "15826d17",
   "metadata": {},
   "outputs": [],
   "source": [
    "## PROPERTY VALUE ##"
   ]
  },
  {
   "cell_type": "code",
   "execution_count": 232,
   "id": "ce4034ab",
   "metadata": {},
   "outputs": [
    {
     "data": {
      "text/plain": [
       "10038"
      ]
     },
     "execution_count": 232,
     "metadata": {},
     "output_type": "execute_result"
    }
   ],
   "source": [
    "# DROP ALL THAT HAVE AN EXEMPT / NOT NUMERIC\n",
    "numeric_value = pd.DataFrame(df['action_taken'])\n",
    "numeric_value['property_value'] = pd.to_numeric(df['property_value'], errors='coerce')\n",
    "numeric_value = numeric_value.dropna().reset_index(drop = True)\n",
    "len(df)-len(numeric_value)"
   ]
  },
  {
   "cell_type": "code",
   "execution_count": 249,
   "id": "8853b83b",
   "metadata": {},
   "outputs": [
    {
     "name": "stdout",
     "output_type": "stream",
     "text": [
      "Low: Property Value <= 195000.0\n",
      "Medium: Property Value > 195000.0 and < 325000.0\n",
      "High: Property Value >= 325000.0\n"
     ]
    }
   ],
   "source": [
    "# Creating Buckets for Property Values\n",
    "low = numeric_value['property_value'].quantile(.33)\n",
    "medium = numeric_value['property_value'].quantile(.66)\n",
    "numeric_value['Value_Bracket'] = np.where(numeric_value['property_value']<=low,'Low',\n",
    "         np.where((numeric_value['property_value']>low)&(numeric_value['property_value']<medium),'Medium',\n",
    "                 np.where(numeric_value['property_value']>=medium,'High','ERROR')))\n",
    "\n",
    "print('Low: Property Value <=',low)\n",
    "print('Medium: Property Value >',low,'and <',medium)\n",
    "print('High: Property Value >=',medium)"
   ]
  },
  {
   "cell_type": "code",
   "execution_count": 251,
   "id": "1714a4dd",
   "metadata": {},
   "outputs": [
    {
     "data": {
      "text/html": [
       "<div>\n",
       "<style scoped>\n",
       "    .dataframe tbody tr th:only-of-type {\n",
       "        vertical-align: middle;\n",
       "    }\n",
       "\n",
       "    .dataframe tbody tr th {\n",
       "        vertical-align: top;\n",
       "    }\n",
       "\n",
       "    .dataframe thead th {\n",
       "        text-align: right;\n",
       "    }\n",
       "</style>\n",
       "<table border=\"1\" class=\"dataframe\">\n",
       "  <thead>\n",
       "    <tr style=\"text-align: right;\">\n",
       "      <th></th>\n",
       "      <th></th>\n",
       "      <th>Count</th>\n",
       "      <th>%</th>\n",
       "    </tr>\n",
       "    <tr>\n",
       "      <th>Value_Bracket</th>\n",
       "      <th>action_taken</th>\n",
       "      <th></th>\n",
       "      <th></th>\n",
       "    </tr>\n",
       "  </thead>\n",
       "  <tbody>\n",
       "    <tr>\n",
       "      <th rowspan=\"2\" valign=\"top\">Medium</th>\n",
       "      <th>1</th>\n",
       "      <td>58305</td>\n",
       "      <td>92.419991</td>\n",
       "    </tr>\n",
       "    <tr>\n",
       "      <th>0</th>\n",
       "      <td>4782</td>\n",
       "      <td>7.580009</td>\n",
       "    </tr>\n",
       "    <tr>\n",
       "      <th rowspan=\"2\" valign=\"top\">Low</th>\n",
       "      <th>1</th>\n",
       "      <td>65899</td>\n",
       "      <td>88.154480</td>\n",
       "    </tr>\n",
       "    <tr>\n",
       "      <th>0</th>\n",
       "      <td>8855</td>\n",
       "      <td>11.845520</td>\n",
       "    </tr>\n",
       "    <tr>\n",
       "      <th rowspan=\"2\" valign=\"top\">High</th>\n",
       "      <th>1</th>\n",
       "      <td>70971</td>\n",
       "      <td>94.689864</td>\n",
       "    </tr>\n",
       "    <tr>\n",
       "      <th>0</th>\n",
       "      <td>3980</td>\n",
       "      <td>5.310136</td>\n",
       "    </tr>\n",
       "  </tbody>\n",
       "</table>\n",
       "</div>"
      ],
      "text/plain": [
       "                            Count          %\n",
       "Value_Bracket action_taken                  \n",
       "Medium        1             58305  92.419991\n",
       "              0              4782   7.580009\n",
       "Low           1             65899  88.154480\n",
       "              0              8855  11.845520\n",
       "High          1             70971  94.689864\n",
       "              0              3980   5.310136"
      ]
     },
     "execution_count": 251,
     "metadata": {},
     "output_type": "execute_result"
    }
   ],
   "source": [
    "# Value Bracket + Success Rate\n",
    "vb = pd.DataFrame(numeric_value.groupby('Value_Bracket')['action_taken'].value_counts())\n",
    "vb.columns = ['Count']\n",
    "vb = vb.reset_index()\n",
    "vb['%'] = 100 * vb['Count'] / vb.groupby('Value_Bracket')['Count'].transform('sum')\n",
    "vb = vb.sort_values(['Value_Bracket', 'action_taken'], ascending = False).set_index(['Value_Bracket','action_taken'])\n",
    "vb"
   ]
  },
  {
   "cell_type": "code",
   "execution_count": 264,
   "id": "b469b62c",
   "metadata": {},
   "outputs": [
    {
     "data": {
      "text/plain": [
       "Text(0.5, 1.0, 'Success vs Rejection for Property Value Bracket')"
      ]
     },
     "execution_count": 264,
     "metadata": {},
     "output_type": "execute_result"
    },
    {
     "data": {
      "image/png": "[encoded data removed]",
      "text/plain": [
       "<Figure size 864x720 with 1 Axes>"
      ]
     },
     "metadata": {
      "needs_background": "light"
     },
     "output_type": "display_data"
    }
   ],
   "source": [
    "# Comparing Value Brackets Property Success Rates\n",
    "graph_vb = pd.concat([pd.DataFrame([numeric_value.groupby('Value_Bracket')['action_taken'].value_counts()['High'][1],numeric_value.groupby('Value_Bracket')['action_taken'].value_counts()['High'][0]]).transpose(),\n",
    "           pd.DataFrame([numeric_value.groupby('Value_Bracket')['action_taken'].value_counts()['Medium'][1],numeric_value.groupby('Value_Bracket')['action_taken'].value_counts()['Medium'][0]]).transpose(),\n",
    "           pd.DataFrame([numeric_value.groupby('Value_Bracket')['action_taken'].value_counts()['Low'][1],numeric_value.groupby('Value_Bracket')['action_taken'].value_counts()['Low'][0]]).transpose()])\n",
    "graph_vb.index = ['High','Medium','Low']\n",
    "graph_vb.columns = ['Success','Rejection']\n",
    "\n",
    "graph_vb.plot(kind = 'bar', figsize = (12,10))\n",
    "plt.title(\"Success vs Rejection for Property Value Bracket\")"
   ]
  },
  {
   "cell_type": "code",
   "execution_count": 272,
   "id": "2ea83d0e",
   "metadata": {},
   "outputs": [
    {
     "data": {
      "text/html": [
       "<div>\n",
       "<style scoped>\n",
       "    .dataframe tbody tr th:only-of-type {\n",
       "        vertical-align: middle;\n",
       "    }\n",
       "\n",
       "    .dataframe tbody tr th {\n",
       "        vertical-align: top;\n",
       "    }\n",
       "\n",
       "    .dataframe thead th {\n",
       "        text-align: right;\n",
       "    }\n",
       "</style>\n",
       "<table border=\"1\" class=\"dataframe\">\n",
       "  <thead>\n",
       "    <tr style=\"text-align: right;\">\n",
       "      <th></th>\n",
       "      <th>Medium %</th>\n",
       "      <th>Low %</th>\n",
       "      <th>High %</th>\n",
       "      <th>Medium vs Low</th>\n",
       "      <th>Medium vs High</th>\n",
       "      <th>Low vs High</th>\n",
       "    </tr>\n",
       "  </thead>\n",
       "  <tbody>\n",
       "    <tr>\n",
       "      <th></th>\n",
       "      <td>92.42</td>\n",
       "      <td>88.154</td>\n",
       "      <td>94.69</td>\n",
       "      <td>0.000000</td>\n",
       "      <td>0.000000</td>\n",
       "      <td>0.000000</td>\n",
       "    </tr>\n",
       "  </tbody>\n",
       "</table>\n",
       "</div>"
      ],
      "text/plain": [
       "  Medium %   Low %  High % Medium vs Low Medium vs High Low vs High\n",
       "     92.42  88.154   94.69      0.000000       0.000000    0.000000"
      ]
     },
     "execution_count": 272,
     "metadata": {},
     "output_type": "execute_result"
    }
   ],
   "source": [
    "# HYPOTHESIS TESTING : Property Value Brackets impact on success?\n",
    "population = vb.reset_index()\n",
    "\n",
    "testresult = pd.DataFrame()\n",
    "testresult['Medium %'] = list([round(population.iloc[0][3],3)]) \n",
    "testresult['Low %'] = list([round(population.iloc[2][3],3)])\n",
    "testresult['High %'] = list([round(population.iloc[4][3],3)])\n",
    "\n",
    "columnnames = ['Medium vs Low','Medium vs High', 'Low vs High']\n",
    "\n",
    "sample1_phat_list = [0,0,2,3,3,3]\n",
    "sample2_phat_list = [2,4,4,3,3,3]\n",
    "sample1_size_list = [0,0,2,2,2,2]\n",
    "sample2_size_list = [2,4,4,2,2,2]\n",
    "\n",
    "\n",
    "for x in range(int(len(population)/2)):\n",
    "    sample1_phat = population.iloc[sample1_phat_list[x]][sample1_phat_list[x+3]]/100\n",
    "    sample2_phat = population.iloc[sample2_phat_list[x]][sample2_phat_list[x+3]]/100\n",
    "    sample1_size = population.iloc[sample1_size_list[x]][sample1_size_list[x+3]]\n",
    "    sample2_size = population.iloc[sample2_size_list[x]][sample2_size_list[x+3]]\n",
    "    phat = (sample1_phat*sample1_size+sample2_phat*sample2_size)/(sample1_size+sample2_size)\n",
    "    zscore = (sample1_phat - sample2_phat)/np.sqrt(phat*(1-phat)*((1/sample1_size)+(1/sample2_size)))    \n",
    "    pval = st.norm.sf(abs(zscore))*2\n",
    "    testresult[columnnames[x]] = list([format(pval,'f')])\n",
    "\n",
    "testresult.index = ['']\n",
    "testresult"
   ]
  },
  {
   "cell_type": "code",
   "execution_count": 273,
   "id": "7f21a275",
   "metadata": {},
   "outputs": [],
   "source": [
    "# TRACT POPULATION #"
   ]
  },
  {
   "cell_type": "code",
   "execution_count": 277,
   "id": "8a333ba4",
   "metadata": {},
   "outputs": [
    {
     "name": "stdout",
     "output_type": "stream",
     "text": [
      "Low: Population <= 4019.0\n",
      "Medium: Population > 4019.0 and < 5626.0\n",
      "High: Population >= 5626.0\n"
     ]
    }
   ],
   "source": [
    "# Creating Buckets for Tract population\n",
    "tract = pd.DataFrame(df[['tract_population','action_taken']])\n",
    "\n",
    "low = tract['tract_population'].quantile(.33)\n",
    "medium = tract['tract_population'].quantile(.66)\n",
    "tract['Population_Bracket'] = np.where(tract['tract_population']<=low,'Low',\n",
    "         np.where((tract['tract_population']>low)&(tract['tract_population']<medium),'Medium',\n",
    "                 np.where(tract['tract_population']>=medium,'High','ERROR')))\n",
    "\n",
    "print('Low: Population <=',low)\n",
    "print('Medium: Population >',low,'and <',medium)\n",
    "print('High: Population >=',medium)"
   ]
  },
  {
   "cell_type": "code",
   "execution_count": 278,
   "id": "b299a21c",
   "metadata": {},
   "outputs": [
    {
     "data": {
      "text/html": [
       "<div>\n",
       "<style scoped>\n",
       "    .dataframe tbody tr th:only-of-type {\n",
       "        vertical-align: middle;\n",
       "    }\n",
       "\n",
       "    .dataframe tbody tr th {\n",
       "        vertical-align: top;\n",
       "    }\n",
       "\n",
       "    .dataframe thead th {\n",
       "        text-align: right;\n",
       "    }\n",
       "</style>\n",
       "<table border=\"1\" class=\"dataframe\">\n",
       "  <thead>\n",
       "    <tr style=\"text-align: right;\">\n",
       "      <th></th>\n",
       "      <th></th>\n",
       "      <th>Count</th>\n",
       "      <th>%</th>\n",
       "    </tr>\n",
       "    <tr>\n",
       "      <th>Population_Bracket</th>\n",
       "      <th>action_taken</th>\n",
       "      <th></th>\n",
       "      <th></th>\n",
       "    </tr>\n",
       "  </thead>\n",
       "  <tbody>\n",
       "    <tr>\n",
       "      <th rowspan=\"2\" valign=\"top\">Medium</th>\n",
       "      <th>1</th>\n",
       "      <td>67504</td>\n",
       "      <td>91.989861</td>\n",
       "    </tr>\n",
       "    <tr>\n",
       "      <th>0</th>\n",
       "      <td>5878</td>\n",
       "      <td>8.010139</td>\n",
       "    </tr>\n",
       "    <tr>\n",
       "      <th rowspan=\"2\" valign=\"top\">Low</th>\n",
       "      <th>1</th>\n",
       "      <td>65768</td>\n",
       "      <td>89.271365</td>\n",
       "    </tr>\n",
       "    <tr>\n",
       "      <th>0</th>\n",
       "      <td>7904</td>\n",
       "      <td>10.728635</td>\n",
       "    </tr>\n",
       "    <tr>\n",
       "      <th rowspan=\"2\" valign=\"top\">High</th>\n",
       "      <th>1</th>\n",
       "      <td>70036</td>\n",
       "      <td>92.425042</td>\n",
       "    </tr>\n",
       "    <tr>\n",
       "      <th>0</th>\n",
       "      <td>5740</td>\n",
       "      <td>7.574958</td>\n",
       "    </tr>\n",
       "  </tbody>\n",
       "</table>\n",
       "</div>"
      ],
      "text/plain": [
       "                                 Count          %\n",
       "Population_Bracket action_taken                  \n",
       "Medium             1             67504  91.989861\n",
       "                   0              5878   8.010139\n",
       "Low                1             65768  89.271365\n",
       "                   0              7904  10.728635\n",
       "High               1             70036  92.425042\n",
       "                   0              5740   7.574958"
      ]
     },
     "execution_count": 278,
     "metadata": {},
     "output_type": "execute_result"
    }
   ],
   "source": [
    "# Population Bracket + Success Rate\n",
    "pb = pd.DataFrame(tract.groupby('Population_Bracket')['action_taken'].value_counts())\n",
    "pb.columns = ['Count']\n",
    "pb = pb.reset_index()\n",
    "pb['%'] = 100 * pb['Count'] / pb.groupby('Population_Bracket')['Count'].transform('sum')\n",
    "pb = pb.sort_values(['Population_Bracket', 'action_taken'], ascending = False).set_index(['Population_Bracket','action_taken'])\n",
    "pb"
   ]
  },
  {
   "cell_type": "code",
   "execution_count": 279,
   "id": "b6f38307",
   "metadata": {},
   "outputs": [
    {
     "data": {
      "text/plain": [
       "Text(0.5, 1.0, 'Success vs Rejection for Population Bracket')"
      ]
     },
     "execution_count": 279,
     "metadata": {},
     "output_type": "execute_result"
    },
    {
     "data": {
      "image/png": "[encoded data removed]",
      "text/plain": [
       "<Figure size 864x720 with 1 Axes>"
      ]
     },
     "metadata": {
      "needs_background": "light"
     },
     "output_type": "display_data"
    }
   ],
   "source": [
    "# Comparing Population Success Rates\n",
    "graph_pb = pd.concat([pd.DataFrame([tract.groupby('Population_Bracket')['action_taken'].value_counts()['High'][1],tract.groupby('Population_Bracket')['action_taken'].value_counts()['High'][0]]).transpose(),\n",
    "           pd.DataFrame([tract.groupby('Population_Bracket')['action_taken'].value_counts()['Medium'][1],tract.groupby('Population_Bracket')['action_taken'].value_counts()['Medium'][0]]).transpose(),\n",
    "           pd.DataFrame([tract.groupby('Population_Bracket')['action_taken'].value_counts()['Low'][1],tract.groupby('Population_Bracket')['action_taken'].value_counts()['Low'][0]]).transpose()])\n",
    "graph_pb.index = ['High','Medium','Low']\n",
    "graph_pb.columns = ['Success','Rejection']\n",
    "\n",
    "graph_pb.plot(kind = 'bar', figsize = (12,10))\n",
    "plt.title(\"Success vs Rejection for Population Bracket\")"
   ]
  },
  {
   "cell_type": "code",
   "execution_count": 280,
   "id": "17d114c8",
   "metadata": {},
   "outputs": [
    {
     "data": {
      "text/html": [
       "<div>\n",
       "<style scoped>\n",
       "    .dataframe tbody tr th:only-of-type {\n",
       "        vertical-align: middle;\n",
       "    }\n",
       "\n",
       "    .dataframe tbody tr th {\n",
       "        vertical-align: top;\n",
       "    }\n",
       "\n",
       "    .dataframe thead th {\n",
       "        text-align: right;\n",
       "    }\n",
       "</style>\n",
       "<table border=\"1\" class=\"dataframe\">\n",
       "  <thead>\n",
       "    <tr style=\"text-align: right;\">\n",
       "      <th></th>\n",
       "      <th>Medium %</th>\n",
       "      <th>Low %</th>\n",
       "      <th>High %</th>\n",
       "      <th>Medium vs Low</th>\n",
       "      <th>Medium vs High</th>\n",
       "      <th>Low vs High</th>\n",
       "    </tr>\n",
       "  </thead>\n",
       "  <tbody>\n",
       "    <tr>\n",
       "      <th></th>\n",
       "      <td>91.99</td>\n",
       "      <td>89.271</td>\n",
       "      <td>92.425</td>\n",
       "      <td>0.000000</td>\n",
       "      <td>0.002607</td>\n",
       "      <td>0.000000</td>\n",
       "    </tr>\n",
       "  </tbody>\n",
       "</table>\n",
       "</div>"
      ],
      "text/plain": [
       "  Medium %   Low %  High % Medium vs Low Medium vs High Low vs High\n",
       "     91.99  89.271  92.425      0.000000       0.002607    0.000000"
      ]
     },
     "execution_count": 280,
     "metadata": {},
     "output_type": "execute_result"
    }
   ],
   "source": [
    "# HYPOTHESIS TESTING : Population impact on success?\n",
    "population = pb.reset_index()\n",
    "\n",
    "testresult = pd.DataFrame()\n",
    "testresult['Medium %'] = list([round(population.iloc[0][3],3)]) \n",
    "testresult['Low %'] = list([round(population.iloc[2][3],3)])\n",
    "testresult['High %'] = list([round(population.iloc[4][3],3)])\n",
    "\n",
    "columnnames = ['Medium vs Low','Medium vs High', 'Low vs High']\n",
    "\n",
    "sample1_phat_list = [0,0,2,3,3,3]\n",
    "sample2_phat_list = [2,4,4,3,3,3]\n",
    "sample1_size_list = [0,0,2,2,2,2]\n",
    "sample2_size_list = [2,4,4,2,2,2]\n",
    "\n",
    "\n",
    "for x in range(int(len(population)/2)):\n",
    "    sample1_phat = population.iloc[sample1_phat_list[x]][sample1_phat_list[x+3]]/100\n",
    "    sample2_phat = population.iloc[sample2_phat_list[x]][sample2_phat_list[x+3]]/100\n",
    "    sample1_size = population.iloc[sample1_size_list[x]][sample1_size_list[x+3]]\n",
    "    sample2_size = population.iloc[sample2_size_list[x]][sample2_size_list[x+3]]\n",
    "    phat = (sample1_phat*sample1_size+sample2_phat*sample2_size)/(sample1_size+sample2_size)\n",
    "    zscore = (sample1_phat - sample2_phat)/np.sqrt(phat*(1-phat)*((1/sample1_size)+(1/sample2_size)))    \n",
    "    pval = st.norm.sf(abs(zscore))*2\n",
    "    testresult[columnnames[x]] = list([format(pval,'f')])\n",
    "\n",
    "testresult.index = ['']\n",
    "testresult"
   ]
  },
  {
   "cell_type": "code",
   "execution_count": 281,
   "id": "3ea19d3c",
   "metadata": {},
   "outputs": [],
   "source": [
    "# Tract Minority Population #"
   ]
  },
  {
   "cell_type": "code",
   "execution_count": 294,
   "id": "d26ada8b",
   "metadata": {},
   "outputs": [
    {
     "name": "stdout",
     "output_type": "stream",
     "text": [
      "Low: Minority Percent <= 15.11\n",
      "Medium: Minority Percent > 15.11 and < 33.84\n",
      "High: Minority Percent >= 33.84\n"
     ]
    }
   ],
   "source": [
    "# Creating Buckets for Minority %\n",
    "minority_tract = pd.DataFrame(df[['tract_minority_population_percent','action_taken']])\n",
    "\n",
    "low = minority_tract['tract_minority_population_percent'].quantile(.33)\n",
    "medium = minority_tract['tract_minority_population_percent'].quantile(.66)\n",
    "minority_tract['Minority_Population_Bracket'] = np.where(minority_tract['tract_minority_population_percent']<=low,'Low',\n",
    "         np.where((minority_tract['tract_minority_population_percent']>low)&(minority_tract['tract_minority_population_percent']<medium),'Medium',\n",
    "                 np.where(minority_tract['tract_minority_population_percent']>=medium,'High','ERROR')))\n",
    "\n",
    "print('Low: Minority Percent <=',low)\n",
    "print('Medium: Minority Percent >',low,'and <',medium)\n",
    "print('High: Minority Percent >=',medium)"
   ]
  },
  {
   "cell_type": "code",
   "execution_count": 288,
   "id": "bac8967f",
   "metadata": {},
   "outputs": [
    {
     "data": {
      "text/html": [
       "<div>\n",
       "<style scoped>\n",
       "    .dataframe tbody tr th:only-of-type {\n",
       "        vertical-align: middle;\n",
       "    }\n",
       "\n",
       "    .dataframe tbody tr th {\n",
       "        vertical-align: top;\n",
       "    }\n",
       "\n",
       "    .dataframe thead th {\n",
       "        text-align: right;\n",
       "    }\n",
       "</style>\n",
       "<table border=\"1\" class=\"dataframe\">\n",
       "  <thead>\n",
       "    <tr style=\"text-align: right;\">\n",
       "      <th></th>\n",
       "      <th></th>\n",
       "      <th>Count</th>\n",
       "      <th>%</th>\n",
       "    </tr>\n",
       "    <tr>\n",
       "      <th>Minority_Population_Bracket</th>\n",
       "      <th>action_taken</th>\n",
       "      <th></th>\n",
       "      <th></th>\n",
       "    </tr>\n",
       "  </thead>\n",
       "  <tbody>\n",
       "    <tr>\n",
       "      <th rowspan=\"2\" valign=\"top\">Medium</th>\n",
       "      <th>1</th>\n",
       "      <td>68375</td>\n",
       "      <td>93.090538</td>\n",
       "    </tr>\n",
       "    <tr>\n",
       "      <th>0</th>\n",
       "      <td>5075</td>\n",
       "      <td>6.909462</td>\n",
       "    </tr>\n",
       "    <tr>\n",
       "      <th rowspan=\"2\" valign=\"top\">Low</th>\n",
       "      <th>1</th>\n",
       "      <td>67059</td>\n",
       "      <td>91.125153</td>\n",
       "    </tr>\n",
       "    <tr>\n",
       "      <th>0</th>\n",
       "      <td>6531</td>\n",
       "      <td>8.874847</td>\n",
       "    </tr>\n",
       "    <tr>\n",
       "      <th rowspan=\"2\" valign=\"top\">High</th>\n",
       "      <th>1</th>\n",
       "      <td>67874</td>\n",
       "      <td>89.555350</td>\n",
       "    </tr>\n",
       "    <tr>\n",
       "      <th>0</th>\n",
       "      <td>7916</td>\n",
       "      <td>10.444650</td>\n",
       "    </tr>\n",
       "  </tbody>\n",
       "</table>\n",
       "</div>"
      ],
      "text/plain": [
       "                                          Count          %\n",
       "Minority_Population_Bracket action_taken                  \n",
       "Medium                      1             68375  93.090538\n",
       "                            0              5075   6.909462\n",
       "Low                         1             67059  91.125153\n",
       "                            0              6531   8.874847\n",
       "High                        1             67874  89.555350\n",
       "                            0              7916  10.444650"
      ]
     },
     "execution_count": 288,
     "metadata": {},
     "output_type": "execute_result"
    }
   ],
   "source": [
    "# Minority % + Success Rate\n",
    "mpb = pd.DataFrame(minority_tract.groupby('Minority_Population_Bracket')['action_taken'].value_counts())\n",
    "mpb.columns = ['Count']\n",
    "mpb = mpb.reset_index()\n",
    "mpb['%'] = 100 * mpb['Count'] / mpb.groupby('Minority_Population_Bracket')['Count'].transform('sum')\n",
    "mpb = mpb.sort_values(['Minority_Population_Bracket', 'action_taken'], ascending = False).set_index(['Minority_Population_Bracket','action_taken'])\n",
    "mpb"
   ]
  },
  {
   "cell_type": "code",
   "execution_count": 289,
   "id": "da4201cd",
   "metadata": {},
   "outputs": [
    {
     "data": {
      "text/plain": [
       "Text(0.5, 1.0, 'Success vs Rejection for Minority Population Bracket')"
      ]
     },
     "execution_count": 289,
     "metadata": {},
     "output_type": "execute_result"
    },
    {
     "data": {
      "image/png": "[encoded data removed]",
      "text/plain": [
       "<Figure size 864x720 with 1 Axes>"
      ]
     },
     "metadata": {
      "needs_background": "light"
     },
     "output_type": "display_data"
    }
   ],
   "source": [
    "# Comparing Minority % Brackets Success Rates\n",
    "graph_mpb = pd.concat([pd.DataFrame([minority_tract.groupby('Minority_Population_Bracket')['action_taken'].value_counts()['High'][1],minority_tract.groupby('Minority_Population_Bracket')['action_taken'].value_counts()['High'][0]]).transpose(),\n",
    "           pd.DataFrame([minority_tract.groupby('Minority_Population_Bracket')['action_taken'].value_counts()['Medium'][1],minority_tract.groupby('Minority_Population_Bracket')['action_taken'].value_counts()['Medium'][0]]).transpose(),\n",
    "           pd.DataFrame([minority_tract.groupby('Minority_Population_Bracket')['action_taken'].value_counts()['Low'][1],minority_tract.groupby('Minority_Population_Bracket')['action_taken'].value_counts()['Low'][0]]).transpose()])\n",
    "graph_mpb.index = ['High','Medium','Low']\n",
    "graph_mpb.columns = ['Success','Rejection']\n",
    "\n",
    "graph_mpb.plot(kind = 'bar', figsize = (12,10))\n",
    "plt.title(\"Success vs Rejection for Minority Population Bracket\")"
   ]
  },
  {
   "cell_type": "code",
   "execution_count": 290,
   "id": "69c38073",
   "metadata": {},
   "outputs": [
    {
     "data": {
      "text/html": [
       "<div>\n",
       "<style scoped>\n",
       "    .dataframe tbody tr th:only-of-type {\n",
       "        vertical-align: middle;\n",
       "    }\n",
       "\n",
       "    .dataframe tbody tr th {\n",
       "        vertical-align: top;\n",
       "    }\n",
       "\n",
       "    .dataframe thead th {\n",
       "        text-align: right;\n",
       "    }\n",
       "</style>\n",
       "<table border=\"1\" class=\"dataframe\">\n",
       "  <thead>\n",
       "    <tr style=\"text-align: right;\">\n",
       "      <th></th>\n",
       "      <th>Medium %</th>\n",
       "      <th>Low %</th>\n",
       "      <th>High %</th>\n",
       "      <th>Medium vs Low</th>\n",
       "      <th>Medium vs High</th>\n",
       "      <th>Low vs High</th>\n",
       "    </tr>\n",
       "  </thead>\n",
       "  <tbody>\n",
       "    <tr>\n",
       "      <th></th>\n",
       "      <td>93.091</td>\n",
       "      <td>91.125</td>\n",
       "      <td>89.555</td>\n",
       "      <td>0.000000</td>\n",
       "      <td>0.000000</td>\n",
       "      <td>0.000000</td>\n",
       "    </tr>\n",
       "  </tbody>\n",
       "</table>\n",
       "</div>"
      ],
      "text/plain": [
       "  Medium %   Low %  High % Medium vs Low Medium vs High Low vs High\n",
       "    93.091  91.125  89.555      0.000000       0.000000    0.000000"
      ]
     },
     "execution_count": 290,
     "metadata": {},
     "output_type": "execute_result"
    }
   ],
   "source": [
    "# HYPOTHESIS TESTING : Minority % Brackets impact on success?\n",
    "population = mpb.reset_index()\n",
    "\n",
    "testresult = pd.DataFrame()\n",
    "testresult['Medium %'] = list([round(population.iloc[0][3],3)]) \n",
    "testresult['Low %'] = list([round(population.iloc[2][3],3)])\n",
    "testresult['High %'] = list([round(population.iloc[4][3],3)])\n",
    "\n",
    "columnnames = ['Medium vs Low','Medium vs High', 'Low vs High']\n",
    "\n",
    "sample1_phat_list = [0,0,2,3,3,3]\n",
    "sample2_phat_list = [2,4,4,3,3,3]\n",
    "sample1_size_list = [0,0,2,2,2,2]\n",
    "sample2_size_list = [2,4,4,2,2,2]\n",
    "\n",
    "\n",
    "for x in range(int(len(population)/2)):\n",
    "    sample1_phat = population.iloc[sample1_phat_list[x]][sample1_phat_list[x+3]]/100\n",
    "    sample2_phat = population.iloc[sample2_phat_list[x]][sample2_phat_list[x+3]]/100\n",
    "    sample1_size = population.iloc[sample1_size_list[x]][sample1_size_list[x+3]]\n",
    "    sample2_size = population.iloc[sample2_size_list[x]][sample2_size_list[x+3]]\n",
    "    phat = (sample1_phat*sample1_size+sample2_phat*sample2_size)/(sample1_size+sample2_size)\n",
    "    zscore = (sample1_phat - sample2_phat)/np.sqrt(phat*(1-phat)*((1/sample1_size)+(1/sample2_size)))    \n",
    "    pval = st.norm.sf(abs(zscore))*2\n",
    "    testresult[columnnames[x]] = list([format(pval,'f')])\n",
    "\n",
    "testresult.index = ['']\n",
    "testresult"
   ]
  },
  {
   "cell_type": "code",
   "execution_count": 306,
   "id": "89c90bd0",
   "metadata": {},
   "outputs": [],
   "source": [
    "#### EXPLORING APPLICANT RELATED FEATURES WITH SUCCESS RATE ###"
   ]
  },
  {
   "cell_type": "code",
   "execution_count": null,
   "id": "73279d8e",
   "metadata": {},
   "outputs": [],
   "source": [
    "# Income #"
   ]
  },
  {
   "cell_type": "code",
   "execution_count": 309,
   "id": "6eacb709",
   "metadata": {},
   "outputs": [
    {
     "data": {
      "text/plain": [
       "7563"
      ]
     },
     "execution_count": 309,
     "metadata": {},
     "output_type": "execute_result"
    }
   ],
   "source": [
    "# DROP ALL THAT HAVE A NOT NUMERIC INCOME\n",
    "numeric_income = pd.DataFrame(df['action_taken'])\n",
    "numeric_income['income'] = pd.to_numeric(df['income'], errors='coerce')\n",
    "numeric_income = numeric_income.dropna().reset_index(drop = True)\n",
    "len(df)-len(numeric_income)"
   ]
  },
  {
   "cell_type": "code",
   "execution_count": 310,
   "id": "fab142b1",
   "metadata": {},
   "outputs": [
    {
     "name": "stdout",
     "output_type": "stream",
     "text": [
      "Low: Income <= 62.0\n",
      "Medium: Income > 62.0 and < 106.0\n",
      "High: Income >= 106.0\n"
     ]
    }
   ],
   "source": [
    "# Creating Buckets for Income \n",
    "low = numeric_income['income'].quantile(.33)\n",
    "medium = numeric_income['income'].quantile(.66)\n",
    "numeric_income['Income_Bracket'] = np.where(numeric_income['income']<=low,'Low',\n",
    "         np.where((numeric_income['income']>low)&(numeric_income['income']<medium),'Medium',\n",
    "                 np.where(numeric_income['income']>=medium,'High','ERROR')))\n",
    "\n",
    "print('Low: Income <=',low)\n",
    "print('Medium: Income >',low,'and <',medium)\n",
    "print('High: Income >=',medium)"
   ]
  },
  {
   "cell_type": "code",
   "execution_count": 312,
   "id": "f1d4ae3b",
   "metadata": {},
   "outputs": [
    {
     "data": {
      "text/html": [
       "<div>\n",
       "<style scoped>\n",
       "    .dataframe tbody tr th:only-of-type {\n",
       "        vertical-align: middle;\n",
       "    }\n",
       "\n",
       "    .dataframe tbody tr th {\n",
       "        vertical-align: top;\n",
       "    }\n",
       "\n",
       "    .dataframe thead th {\n",
       "        text-align: right;\n",
       "    }\n",
       "</style>\n",
       "<table border=\"1\" class=\"dataframe\">\n",
       "  <thead>\n",
       "    <tr style=\"text-align: right;\">\n",
       "      <th></th>\n",
       "      <th></th>\n",
       "      <th>Count</th>\n",
       "      <th>%</th>\n",
       "    </tr>\n",
       "    <tr>\n",
       "      <th>Income_Bracket</th>\n",
       "      <th>action_taken</th>\n",
       "      <th></th>\n",
       "      <th></th>\n",
       "    </tr>\n",
       "  </thead>\n",
       "  <tbody>\n",
       "    <tr>\n",
       "      <th rowspan=\"2\" valign=\"top\">Medium</th>\n",
       "      <th>1</th>\n",
       "      <td>63654</td>\n",
       "      <td>92.621317</td>\n",
       "    </tr>\n",
       "    <tr>\n",
       "      <th>0</th>\n",
       "      <td>5071</td>\n",
       "      <td>7.378683</td>\n",
       "    </tr>\n",
       "    <tr>\n",
       "      <th rowspan=\"2\" valign=\"top\">Low</th>\n",
       "      <th>1</th>\n",
       "      <td>62195</td>\n",
       "      <td>85.970005</td>\n",
       "    </tr>\n",
       "    <tr>\n",
       "      <th>0</th>\n",
       "      <td>10150</td>\n",
       "      <td>14.029995</td>\n",
       "    </tr>\n",
       "    <tr>\n",
       "      <th rowspan=\"2\" valign=\"top\">High</th>\n",
       "      <th>1</th>\n",
       "      <td>70600</td>\n",
       "      <td>95.152095</td>\n",
       "    </tr>\n",
       "    <tr>\n",
       "      <th>0</th>\n",
       "      <td>3597</td>\n",
       "      <td>4.847905</td>\n",
       "    </tr>\n",
       "  </tbody>\n",
       "</table>\n",
       "</div>"
      ],
      "text/plain": [
       "                             Count          %\n",
       "Income_Bracket action_taken                  \n",
       "Medium         1             63654  92.621317\n",
       "               0              5071   7.378683\n",
       "Low            1             62195  85.970005\n",
       "               0             10150  14.029995\n",
       "High           1             70600  95.152095\n",
       "               0              3597   4.847905"
      ]
     },
     "execution_count": 312,
     "metadata": {},
     "output_type": "execute_result"
    }
   ],
   "source": [
    "# Income Bracket + Success Rate\n",
    "ib = pd.DataFrame(numeric_income.groupby('Income_Bracket')['action_taken'].value_counts())\n",
    "ib.columns = ['Count']\n",
    "ib = ib.reset_index()\n",
    "ib['%'] = 100 * ib['Count'] / ib.groupby('Income_Bracket')['Count'].transform('sum')\n",
    "ib = ib.sort_values(['Income_Bracket', 'action_taken'], ascending = False).set_index(['Income_Bracket','action_taken'])\n",
    "ib"
   ]
  },
  {
   "cell_type": "code",
   "execution_count": 315,
   "id": "67988d91",
   "metadata": {},
   "outputs": [
    {
     "data": {
      "text/plain": [
       "Text(0.5, 1.0, 'Success vs Rejection for Income Bracket')"
      ]
     },
     "execution_count": 315,
     "metadata": {},
     "output_type": "execute_result"
    },
    {
     "data": {
      "image/png": "[encoded data removed]",
      "text/plain": [
       "<Figure size 864x720 with 1 Axes>"
      ]
     },
     "metadata": {
      "needs_background": "light"
     },
     "output_type": "display_data"
    }
   ],
   "source": [
    "# Comparing Income Brackets Property Success Rates\n",
    "graph_ib = pd.concat([pd.DataFrame([numeric_income.groupby('Income_Bracket')['action_taken'].value_counts()['High'][1],numeric_income.groupby('Income_Bracket')['action_taken'].value_counts()['High'][0]]).transpose(),\n",
    "           pd.DataFrame([numeric_income.groupby('Income_Bracket')['action_taken'].value_counts()['Medium'][1],numeric_income.groupby('Income_Bracket')['action_taken'].value_counts()['Medium'][0]]).transpose(),\n",
    "           pd.DataFrame([numeric_income.groupby('Income_Bracket')['action_taken'].value_counts()['Low'][1],numeric_income.groupby('Income_Bracket')['action_taken'].value_counts()['Low'][0]]).transpose()])\n",
    "graph_ib.index = ['High','Medium','Low']\n",
    "graph_ib.columns = ['Success','Rejection']\n",
    "\n",
    "graph_ib.plot(kind = 'bar', figsize = (12,10))\n",
    "plt.title(\"Success vs Rejection for Income Bracket\")"
   ]
  },
  {
   "cell_type": "code",
   "execution_count": 314,
   "id": "e5096ec0",
   "metadata": {},
   "outputs": [
    {
     "data": {
      "text/html": [
       "<div>\n",
       "<style scoped>\n",
       "    .dataframe tbody tr th:only-of-type {\n",
       "        vertical-align: middle;\n",
       "    }\n",
       "\n",
       "    .dataframe tbody tr th {\n",
       "        vertical-align: top;\n",
       "    }\n",
       "\n",
       "    .dataframe thead th {\n",
       "        text-align: right;\n",
       "    }\n",
       "</style>\n",
       "<table border=\"1\" class=\"dataframe\">\n",
       "  <thead>\n",
       "    <tr style=\"text-align: right;\">\n",
       "      <th></th>\n",
       "      <th>Medium %</th>\n",
       "      <th>Low %</th>\n",
       "      <th>High %</th>\n",
       "      <th>Medium vs Low</th>\n",
       "      <th>Medium vs High</th>\n",
       "      <th>Low vs High</th>\n",
       "    </tr>\n",
       "  </thead>\n",
       "  <tbody>\n",
       "    <tr>\n",
       "      <th></th>\n",
       "      <td>92.621</td>\n",
       "      <td>85.97</td>\n",
       "      <td>95.152</td>\n",
       "      <td>0.000000</td>\n",
       "      <td>0.000000</td>\n",
       "      <td>0.000000</td>\n",
       "    </tr>\n",
       "  </tbody>\n",
       "</table>\n",
       "</div>"
      ],
      "text/plain": [
       "  Medium %  Low %  High % Medium vs Low Medium vs High Low vs High\n",
       "    92.621  85.97  95.152      0.000000       0.000000    0.000000"
      ]
     },
     "execution_count": 314,
     "metadata": {},
     "output_type": "execute_result"
    }
   ],
   "source": [
    "# HYPOTHESIS TESTING : Income Brackets impact on success?\n",
    "population = ib.reset_index()\n",
    "\n",
    "testresult = pd.DataFrame()\n",
    "testresult['Medium %'] = list([round(population.iloc[0][3],3)]) \n",
    "testresult['Low %'] = list([round(population.iloc[2][3],3)])\n",
    "testresult['High %'] = list([round(population.iloc[4][3],3)])\n",
    "\n",
    "columnnames = ['Medium vs Low','Medium vs High', 'Low vs High']\n",
    "\n",
    "sample1_phat_list = [0,0,2,3,3,3]\n",
    "sample2_phat_list = [2,4,4,3,3,3]\n",
    "sample1_size_list = [0,0,2,2,2,2]\n",
    "sample2_size_list = [2,4,4,2,2,2]\n",
    "\n",
    "\n",
    "for x in range(int(len(population)/2)):\n",
    "    sample1_phat = population.iloc[sample1_phat_list[x]][sample1_phat_list[x+3]]/100\n",
    "    sample2_phat = population.iloc[sample2_phat_list[x]][sample2_phat_list[x+3]]/100\n",
    "    sample1_size = population.iloc[sample1_size_list[x]][sample1_size_list[x+3]]\n",
    "    sample2_size = population.iloc[sample2_size_list[x]][sample2_size_list[x+3]]\n",
    "    phat = (sample1_phat*sample1_size+sample2_phat*sample2_size)/(sample1_size+sample2_size)\n",
    "    zscore = (sample1_phat - sample2_phat)/np.sqrt(phat*(1-phat)*((1/sample1_size)+(1/sample2_size)))    \n",
    "    pval = st.norm.sf(abs(zscore))*2\n",
    "    testresult[columnnames[x]] = list([format(pval,'f')])\n",
    "\n",
    "testresult.index = ['']\n",
    "testresult\n"
   ]
  },
  {
   "cell_type": "code",
   "execution_count": null,
   "id": "e54585e1",
   "metadata": {},
   "outputs": [],
   "source": [
    "# Debt to Income #"
   ]
  },
  {
   "cell_type": "code",
   "execution_count": 316,
   "id": "59e23793",
   "metadata": {},
   "outputs": [
    {
     "data": {
      "text/plain": [
       "124815"
      ]
     },
     "execution_count": 316,
     "metadata": {},
     "output_type": "execute_result"
    }
   ],
   "source": [
    "# CLEANING UP DEBT TO INCOME!\n",
    "test=pd.DataFrame(np.where(df['debt_to_income_ratio'].str.contains('%',na = False),df['debt_to_income_ratio'],\n",
    "        np.where((~df['debt_to_income_ratio'].str.contains('%',na = False))&(~df['debt_to_income_ratio'].str.contains('Exempt',na = False))&(~df['debt_to_income_ratio'].isnull()),'50%-60%',df['debt_to_income_ratio'])))\n",
    "df['debt_to_income_ratio'] = test"
   ]
  },
  {
   "cell_type": "code",
   "execution_count": 374,
   "id": "cbbc9f96",
   "metadata": {},
   "outputs": [
    {
     "data": {
      "text/plain": [
       "14028"
      ]
     },
     "execution_count": 374,
     "metadata": {},
     "output_type": "execute_result"
    }
   ],
   "source": [
    "# DROP ALL THAT HAVE AN EXEMPT / blank\n",
    "numeric_dti = pd.DataFrame(df[['action_taken','debt_to_income_ratio']])\n",
    "numeric_dti['debt_to_income_ratio'] = np.where(numeric_dti['debt_to_income_ratio']=='Exempt',np.nan,numeric_dti['debt_to_income_ratio'])\n",
    "numeric_dti = numeric_dti.dropna().reset_index(drop = True)\n",
    "len(df) - len(numeric_dti)"
   ]
  },
  {
   "cell_type": "code",
   "execution_count": 375,
   "id": "f2e7e39d",
   "metadata": {},
   "outputs": [
    {
     "data": {
      "text/html": [
       "<div>\n",
       "<style scoped>\n",
       "    .dataframe tbody tr th:only-of-type {\n",
       "        vertical-align: middle;\n",
       "    }\n",
       "\n",
       "    .dataframe tbody tr th {\n",
       "        vertical-align: top;\n",
       "    }\n",
       "\n",
       "    .dataframe thead th {\n",
       "        text-align: right;\n",
       "    }\n",
       "</style>\n",
       "<table border=\"1\" class=\"dataframe\">\n",
       "  <thead>\n",
       "    <tr style=\"text-align: right;\">\n",
       "      <th></th>\n",
       "      <th></th>\n",
       "      <th>Count</th>\n",
       "      <th>%</th>\n",
       "    </tr>\n",
       "    <tr>\n",
       "      <th>debt_to_income_ratio</th>\n",
       "      <th>action_taken</th>\n",
       "      <th></th>\n",
       "      <th></th>\n",
       "    </tr>\n",
       "  </thead>\n",
       "  <tbody>\n",
       "    <tr>\n",
       "      <th rowspan=\"2\" valign=\"top\">&gt;60%</th>\n",
       "      <th>1</th>\n",
       "      <td>366</td>\n",
       "      <td>9.546166</td>\n",
       "    </tr>\n",
       "    <tr>\n",
       "      <th>0</th>\n",
       "      <td>3468</td>\n",
       "      <td>90.453834</td>\n",
       "    </tr>\n",
       "    <tr>\n",
       "      <th rowspan=\"2\" valign=\"top\">&lt;20%</th>\n",
       "      <th>1</th>\n",
       "      <td>12456</td>\n",
       "      <td>87.842031</td>\n",
       "    </tr>\n",
       "    <tr>\n",
       "      <th>0</th>\n",
       "      <td>1724</td>\n",
       "      <td>12.157969</td>\n",
       "    </tr>\n",
       "    <tr>\n",
       "      <th rowspan=\"2\" valign=\"top\">50%-60%</th>\n",
       "      <th>1</th>\n",
       "      <td>102761</td>\n",
       "      <td>92.291457</td>\n",
       "    </tr>\n",
       "    <tr>\n",
       "      <th>0</th>\n",
       "      <td>8583</td>\n",
       "      <td>7.708543</td>\n",
       "    </tr>\n",
       "    <tr>\n",
       "      <th rowspan=\"2\" valign=\"top\">30%-&lt;36%</th>\n",
       "      <th>1</th>\n",
       "      <td>36004</td>\n",
       "      <td>95.228523</td>\n",
       "    </tr>\n",
       "    <tr>\n",
       "      <th>0</th>\n",
       "      <td>1804</td>\n",
       "      <td>4.771477</td>\n",
       "    </tr>\n",
       "    <tr>\n",
       "      <th rowspan=\"2\" valign=\"top\">20%-&lt;30%</th>\n",
       "      <th>1</th>\n",
       "      <td>39520</td>\n",
       "      <td>94.917860</td>\n",
       "    </tr>\n",
       "    <tr>\n",
       "      <th>0</th>\n",
       "      <td>2116</td>\n",
       "      <td>5.082140</td>\n",
       "    </tr>\n",
       "  </tbody>\n",
       "</table>\n",
       "</div>"
      ],
      "text/plain": [
       "                                    Count          %\n",
       "debt_to_income_ratio action_taken                   \n",
       ">60%                 1                366   9.546166\n",
       "                     0               3468  90.453834\n",
       "<20%                 1              12456  87.842031\n",
       "                     0               1724  12.157969\n",
       "50%-60%              1             102761  92.291457\n",
       "                     0               8583   7.708543\n",
       "30%-<36%             1              36004  95.228523\n",
       "                     0               1804   4.771477\n",
       "20%-<30%             1              39520  94.917860\n",
       "                     0               2116   5.082140"
      ]
     },
     "execution_count": 375,
     "metadata": {},
     "output_type": "execute_result"
    }
   ],
   "source": [
    "# DTI Bracket + Success Rate\n",
    "dti = pd.DataFrame(numeric_dti.groupby('debt_to_income_ratio')['action_taken'].value_counts())\n",
    "dti.columns = ['Count']\n",
    "dti = dti.reset_index()\n",
    "dti['%'] = 100 * dti['Count'] / dti.groupby('debt_to_income_ratio')['Count'].transform('sum')\n",
    "dti = dti.sort_values(['debt_to_income_ratio', 'action_taken'], ascending = False).set_index(['debt_to_income_ratio','action_taken'])\n",
    "dti"
   ]
  },
  {
   "cell_type": "code",
   "execution_count": 376,
   "id": "dd7d8993",
   "metadata": {},
   "outputs": [
    {
     "data": {
      "text/plain": [
       "Text(0.5, 1.0, 'Success vs Rejection for DTI Bracket')"
      ]
     },
     "execution_count": 376,
     "metadata": {},
     "output_type": "execute_result"
    },
    {
     "data": {
      "image/png": "[encoded data removed]",
      "text/plain": [
       "<Figure size 864x720 with 1 Axes>"
      ]
     },
     "metadata": {
      "needs_background": "light"
     },
     "output_type": "display_data"
    }
   ],
   "source": [
    "# Comparing DTI Brackets Property Success Rates\n",
    "graph_dti = pd.concat([pd.DataFrame([numeric_dti.groupby('debt_to_income_ratio')['action_taken'].value_counts()['>60%'][1],numeric_dti.groupby('debt_to_income_ratio')['action_taken'].value_counts()['>60%'][0]]).transpose(),\n",
    "           pd.DataFrame([numeric_dti.groupby('debt_to_income_ratio')['action_taken'].value_counts()['50%-60%'][1],numeric_dti.groupby('debt_to_income_ratio')['action_taken'].value_counts()['50%-60%'][0]]).transpose(),\n",
    "           pd.DataFrame([numeric_dti.groupby('debt_to_income_ratio')['action_taken'].value_counts()['30%-<36%'][1],numeric_dti.groupby('debt_to_income_ratio')['action_taken'].value_counts()['30%-<36%'][0]]).transpose(),\n",
    "           pd.DataFrame([numeric_dti.groupby('debt_to_income_ratio')['action_taken'].value_counts()['20%-<30%'][1],numeric_dti.groupby('debt_to_income_ratio')['action_taken'].value_counts()['20%-<30%'][0]]).transpose(),\n",
    "           pd.DataFrame([numeric_dti.groupby('debt_to_income_ratio')['action_taken'].value_counts()['<20%'][1],numeric_dti.groupby('debt_to_income_ratio')['action_taken'].value_counts()['<20%'][0]]).transpose()])\n",
    "\n",
    "graph_dti.index = ['>60%','50%-60%','30%-<36%','20%-<30%','<20%']\n",
    "graph_dti.columns = ['Success','Rejection']\n",
    "\n",
    "graph_dti.plot(kind = 'bar', figsize = (12,10))\n",
    "plt.title(\"Success vs Rejection for DTI Bracket\")"
   ]
  },
  {
   "cell_type": "code",
   "execution_count": 380,
   "id": "a59e528c",
   "metadata": {},
   "outputs": [
    {
     "data": {
      "text/html": [
       "<div>\n",
       "<style scoped>\n",
       "    .dataframe tbody tr th:only-of-type {\n",
       "        vertical-align: middle;\n",
       "    }\n",
       "\n",
       "    .dataframe tbody tr th {\n",
       "        vertical-align: top;\n",
       "    }\n",
       "\n",
       "    .dataframe thead th {\n",
       "        text-align: right;\n",
       "    }\n",
       "</style>\n",
       "<table border=\"1\" class=\"dataframe\">\n",
       "  <thead>\n",
       "    <tr style=\"text-align: right;\">\n",
       "      <th></th>\n",
       "      <th>&gt;60% %</th>\n",
       "      <th>&lt;20% %</th>\n",
       "      <th>50%-60% %</th>\n",
       "      <th>30%-&lt;36% %</th>\n",
       "      <th>20%-&lt;30% %</th>\n",
       "      <th>&gt;60 vs &lt;20</th>\n",
       "      <th>&gt;60 vs 50-60</th>\n",
       "      <th>&gt;60 vs 30-36</th>\n",
       "      <th>&gt;60 vs 20-30</th>\n",
       "      <th>&lt;20 vs 50-60</th>\n",
       "      <th>&lt;20 vs 30-36</th>\n",
       "      <th>&lt;20 vs 20-30</th>\n",
       "      <th>50-60 vs 30-36</th>\n",
       "      <th>50-60 vs 20-30</th>\n",
       "      <th>30-36 vs 20-30</th>\n",
       "    </tr>\n",
       "  </thead>\n",
       "  <tbody>\n",
       "    <tr>\n",
       "      <th></th>\n",
       "      <td>9.546</td>\n",
       "      <td>87.842</td>\n",
       "      <td>92.291</td>\n",
       "      <td>95.229</td>\n",
       "      <td>94.918</td>\n",
       "      <td>0.000000</td>\n",
       "      <td>0.000000</td>\n",
       "      <td>0.000000</td>\n",
       "      <td>0.000000</td>\n",
       "      <td>0.000000</td>\n",
       "      <td>0.000000</td>\n",
       "      <td>0.000000</td>\n",
       "      <td>0.000000</td>\n",
       "      <td>0.000000</td>\n",
       "      <td>0.048968</td>\n",
       "    </tr>\n",
       "  </tbody>\n",
       "</table>\n",
       "</div>"
      ],
      "text/plain": [
       "  >60% %  <20% %  50%-60% %  30%-<36% %  20%-<30% % >60 vs <20 >60 vs 50-60  \\\n",
       "   9.546  87.842     92.291      95.229      94.918   0.000000     0.000000   \n",
       "\n",
       " >60 vs 30-36 >60 vs 20-30 <20 vs 50-60 <20 vs 30-36 <20 vs 20-30  \\\n",
       "     0.000000     0.000000     0.000000     0.000000     0.000000   \n",
       "\n",
       " 50-60 vs 30-36 50-60 vs 20-30 30-36 vs 20-30  \n",
       "       0.000000       0.000000       0.048968  "
      ]
     },
     "execution_count": 380,
     "metadata": {},
     "output_type": "execute_result"
    }
   ],
   "source": [
    "# HYPOTHESIS TESTING : DTI Brackets impact on success?\n",
    "population = dti.reset_index()\n",
    "\n",
    "testresult = pd.DataFrame()\n",
    "testresult['>60% %'] = list([round(population.iloc[0][3],3)]) \n",
    "testresult['<20% %'] = list([round(population.iloc[2][3],3)])\n",
    "testresult['50%-60% %'] = list([round(population.iloc[4][3],3)])\n",
    "testresult['30%-<36% %'] = list([round(population.iloc[6][3],3)])\n",
    "testresult['20%-<30% %'] = list([round(population.iloc[8][3],3)])\n",
    "\n",
    "columnnames = ['>60 vs <20','>60 vs 50-60', '>60 vs 30-36','>60 vs 20-30','<20 vs 50-60',\n",
    "              '<20 vs 30-36','<20 vs 20-30','50-60 vs 30-36','50-60 vs 20-30','30-36 vs 20-30']\n",
    "\n",
    "sample1_phat_list = [0,0,0,0,2,2,2,4,4,6,3,3,3,3,3,3,3,3,3,3]\n",
    "sample2_phat_list = [2,4,6,8,4,6,8,6,8,8,3,3,3,3,3,3,3,3,3,3]\n",
    "sample1_size_list = [0,0,0,0,2,2,2,4,4,6,2,2,2,2,2,2,2,2,2,2]\n",
    "sample2_size_list = [2,4,6,8,4,6,8,6,8,8,2,2,2,2,2,2,2,2,2,2]\n",
    "\n",
    "\n",
    "for x in range(len(population)):\n",
    "    sample1_phat = population.iloc[sample1_phat_list[x]][sample1_phat_list[x+10]]/100\n",
    "    sample2_phat = population.iloc[sample2_phat_list[x]][sample2_phat_list[x+10]]/100\n",
    "    sample1_size = population.iloc[sample1_size_list[x]][sample1_size_list[x+10]]\n",
    "    sample2_size = population.iloc[sample2_size_list[x]][sample2_size_list[x+10]]\n",
    "    phat = (sample1_phat*sample1_size+sample2_phat*sample2_size)/(sample1_size+sample2_size)\n",
    "    zscore = (sample1_phat - sample2_phat)/np.sqrt(phat*(1-phat)*((1/sample1_size)+(1/sample2_size)))    \n",
    "    pval = st.norm.sf(abs(zscore))*2\n",
    "    testresult[columnnames[x]] = list([format(pval,'f')])\n",
    "\n",
    "testresult.index = ['']\n",
    "testresult"
   ]
  },
  {
   "cell_type": "code",
   "execution_count": 381,
   "id": "f0cabb7a",
   "metadata": {},
   "outputs": [],
   "source": [
    "# Ethnicity #"
   ]
  },
  {
   "cell_type": "code",
   "execution_count": 391,
   "id": "ae2c59aa",
   "metadata": {},
   "outputs": [],
   "source": [
    "# CREATING A NEW FIELD: SAME ETHNICITY BETWEEN CO APPLICANT AND APPLICANT = 1: NO CO APPLICANT IS ALSO 0\n",
    "df['same_ethnicity'] = np.where(df['applicant_ethnicity-1']==df['co-applicant_ethnicity-1'],1,0)\n",
    "\n",
    "# ANALYZING HISPANIC/LATINO VS NOT\n",
    "hispanic_latino = pd.DataFrame(df['action_taken'])\n",
    "hispanic_latino['Ethnicity'] = np.where(df['applicant_ethnicity-1']==1,1,np.where(df['applicant_ethnicity-1']==2,0,np.nan))\n",
    "hispanic_latino = hispanic_latino.dropna().reset_index(drop = True)"
   ]
  },
  {
   "cell_type": "code",
   "execution_count": 392,
   "id": "a7944541",
   "metadata": {},
   "outputs": [
    {
     "data": {
      "text/html": [
       "<div>\n",
       "<style scoped>\n",
       "    .dataframe tbody tr th:only-of-type {\n",
       "        vertical-align: middle;\n",
       "    }\n",
       "\n",
       "    .dataframe tbody tr th {\n",
       "        vertical-align: top;\n",
       "    }\n",
       "\n",
       "    .dataframe thead th {\n",
       "        text-align: right;\n",
       "    }\n",
       "</style>\n",
       "<table border=\"1\" class=\"dataframe\">\n",
       "  <thead>\n",
       "    <tr style=\"text-align: right;\">\n",
       "      <th></th>\n",
       "      <th></th>\n",
       "      <th>Count</th>\n",
       "      <th>%</th>\n",
       "    </tr>\n",
       "    <tr>\n",
       "      <th>Ethnicity</th>\n",
       "      <th>action_taken</th>\n",
       "      <th></th>\n",
       "      <th></th>\n",
       "    </tr>\n",
       "  </thead>\n",
       "  <tbody>\n",
       "    <tr>\n",
       "      <th rowspan=\"2\" valign=\"top\">1.0</th>\n",
       "      <th>1</th>\n",
       "      <td>27118</td>\n",
       "      <td>89.430465</td>\n",
       "    </tr>\n",
       "    <tr>\n",
       "      <th>0</th>\n",
       "      <td>3205</td>\n",
       "      <td>10.569535</td>\n",
       "    </tr>\n",
       "    <tr>\n",
       "      <th rowspan=\"2\" valign=\"top\">0.0</th>\n",
       "      <th>1</th>\n",
       "      <td>150042</td>\n",
       "      <td>92.059343</td>\n",
       "    </tr>\n",
       "    <tr>\n",
       "      <th>0</th>\n",
       "      <td>12942</td>\n",
       "      <td>7.940657</td>\n",
       "    </tr>\n",
       "  </tbody>\n",
       "</table>\n",
       "</div>"
      ],
      "text/plain": [
       "                         Count          %\n",
       "Ethnicity action_taken                   \n",
       "1.0       1              27118  89.430465\n",
       "          0               3205  10.569535\n",
       "0.0       1             150042  92.059343\n",
       "          0              12942   7.940657"
      ]
     },
     "execution_count": 392,
     "metadata": {},
     "output_type": "execute_result"
    }
   ],
   "source": [
    "# Hispanic/Latino vs not + Success Rate\n",
    "hl = pd.DataFrame(hispanic_latino.groupby('Ethnicity')['action_taken'].value_counts())\n",
    "hl.columns = ['Count']\n",
    "hl = hl.reset_index()\n",
    "hl['%'] = 100 * hl['Count'] / hl.groupby('Ethnicity')['Count'].transform('sum')\n",
    "hl = hl.sort_values(['Ethnicity', 'action_taken'], ascending = False).set_index(['Ethnicity','action_taken'])\n",
    "hl"
   ]
  },
  {
   "cell_type": "code",
   "execution_count": 393,
   "id": "dba39860",
   "metadata": {},
   "outputs": [
    {
     "data": {
      "text/plain": [
       "Text(0.5, 1.0, 'Success vs Rejection for Hispanic/Latino or Not')"
      ]
     },
     "execution_count": 393,
     "metadata": {},
     "output_type": "execute_result"
    },
    {
     "data": {
      "image/png": "[encoded data removed]",
      "text/plain": [
       "<Figure size 864x720 with 1 Axes>"
      ]
     },
     "metadata": {
      "needs_background": "light"
     },
     "output_type": "display_data"
    }
   ],
   "source": [
    "# Comparing Hispanic/Latino vs not Success Rates\n",
    "graph_hs = pd.concat([pd.DataFrame([hispanic_latino.groupby('Ethnicity')['action_taken'].value_counts()[1][1],hispanic_latino.groupby('Ethnicity')['action_taken'].value_counts()[1][0]]).transpose(),\n",
    "           pd.DataFrame([hispanic_latino.groupby('Ethnicity')['action_taken'].value_counts()[0][1],hispanic_latino.groupby('Ethnicity')['action_taken'].value_counts()[0][0]]).transpose()])\n",
    "graph_hs.index = ['Hispanic/Latino','Not Hispanic/Latino']\n",
    "graph_hs.columns = ['Success','Rejection']\n",
    "\n",
    "graph_hs.plot(kind = 'bar', figsize = (12,10))\n",
    "plt.title(\"Success vs Rejection for Hispanic/Latino or Not\")"
   ]
  },
  {
   "cell_type": "code",
   "execution_count": 399,
   "id": "ad33b9bc",
   "metadata": {},
   "outputs": [
    {
     "data": {
      "text/html": [
       "<div>\n",
       "<style scoped>\n",
       "    .dataframe tbody tr th:only-of-type {\n",
       "        vertical-align: middle;\n",
       "    }\n",
       "\n",
       "    .dataframe tbody tr th {\n",
       "        vertical-align: top;\n",
       "    }\n",
       "\n",
       "    .dataframe thead th {\n",
       "        text-align: right;\n",
       "    }\n",
       "</style>\n",
       "<table border=\"1\" class=\"dataframe\">\n",
       "  <thead>\n",
       "    <tr style=\"text-align: right;\">\n",
       "      <th></th>\n",
       "      <th>Hispanic or Latino %</th>\n",
       "      <th>Not Hispanic or Latino %</th>\n",
       "      <th>PVal</th>\n",
       "    </tr>\n",
       "  </thead>\n",
       "  <tbody>\n",
       "    <tr>\n",
       "      <th></th>\n",
       "      <td>89.43</td>\n",
       "      <td>92.059</td>\n",
       "      <td>0.000000</td>\n",
       "    </tr>\n",
       "  </tbody>\n",
       "</table>\n",
       "</div>"
      ],
      "text/plain": [
       " Hispanic or Latino % Not Hispanic or Latino %      PVal\n",
       "                89.43                   92.059  0.000000"
      ]
     },
     "execution_count": 399,
     "metadata": {},
     "output_type": "execute_result"
    }
   ],
   "source": [
    "# HYPOTHESIS TESTING : IN Hispanic/Latino vs Not\n",
    "population = hl.reset_index()\n",
    "\n",
    "sample1_phat = population.iloc[0][3]/100\n",
    "sample2_phat = population.iloc[2][3]/100\n",
    "sample1_size = population.iloc[0][2]\n",
    "sample2_size = population.iloc[2][2]\n",
    "phat = (sample1_phat*sample1_size+sample2_phat*sample2_size)/(sample1_size+sample2_size)\n",
    "zscore = (sample1_phat - sample2_phat)/np.sqrt(phat*(1-phat)*((1/sample1_size)+(1/sample2_size)))    \n",
    "pval = st.norm.sf(abs(zscore))*2\n",
    "testresult = pd.DataFrame([round(sample1_phat*100,3),round(sample2_phat*100,3),format(pval,'f')]).transpose()\n",
    "testresult.columns = ['Hispanic or Latino %','Not Hispanic or Latino %','PVal']\n",
    "testresult.index = ['']\n",
    "testresult"
   ]
  },
  {
   "cell_type": "code",
   "execution_count": 400,
   "id": "86cd9fc2",
   "metadata": {},
   "outputs": [],
   "source": [
    "# Race #"
   ]
  },
  {
   "cell_type": "code",
   "execution_count": 416,
   "id": "09bc7b57",
   "metadata": {},
   "outputs": [],
   "source": [
    "# CREATING A NEW FIELD: SAME RACE BETWEEN CO APPLICANT AND APPLICANT = 1: NO CO APPLICANT IS ALSO 0\n",
    "df['same_race'] = np.where(df['applicant_race-1']==df['co-applicant_race-1'],1,0)\n",
    "\n",
    "# ANALYZING ONLY BLACK, ASIAN, WHITE (TOP 3)\n",
    "top3_race = pd.DataFrame(df['action_taken'])\n",
    "top3_race['Race'] = np.where(df['applicant_race-1']==5,'White',np.where(df['applicant_race-1']==3,'Black',\n",
    "                                                                        np.where(df['applicant_race-1']==2,'Asian',np.nan)))\n",
    "top3_race = top3_race.dropna().reset_index(drop = True)\n",
    "top3_race = top3_race[top3_race['Race']!='nan']"
   ]
  },
  {
   "cell_type": "code",
   "execution_count": 418,
   "id": "184361e2",
   "metadata": {},
   "outputs": [
    {
     "data": {
      "text/html": [
       "<div>\n",
       "<style scoped>\n",
       "    .dataframe tbody tr th:only-of-type {\n",
       "        vertical-align: middle;\n",
       "    }\n",
       "\n",
       "    .dataframe tbody tr th {\n",
       "        vertical-align: top;\n",
       "    }\n",
       "\n",
       "    .dataframe thead th {\n",
       "        text-align: right;\n",
       "    }\n",
       "</style>\n",
       "<table border=\"1\" class=\"dataframe\">\n",
       "  <thead>\n",
       "    <tr style=\"text-align: right;\">\n",
       "      <th></th>\n",
       "      <th></th>\n",
       "      <th>Count</th>\n",
       "      <th>%</th>\n",
       "    </tr>\n",
       "    <tr>\n",
       "      <th>Race</th>\n",
       "      <th>action_taken</th>\n",
       "      <th></th>\n",
       "      <th></th>\n",
       "    </tr>\n",
       "  </thead>\n",
       "  <tbody>\n",
       "    <tr>\n",
       "      <th rowspan=\"2\" valign=\"top\">White</th>\n",
       "      <th>1</th>\n",
       "      <td>141639</td>\n",
       "      <td>92.903010</td>\n",
       "    </tr>\n",
       "    <tr>\n",
       "      <th>0</th>\n",
       "      <td>10820</td>\n",
       "      <td>7.096990</td>\n",
       "    </tr>\n",
       "    <tr>\n",
       "      <th rowspan=\"2\" valign=\"top\">Black</th>\n",
       "      <th>1</th>\n",
       "      <td>17990</td>\n",
       "      <td>81.628023</td>\n",
       "    </tr>\n",
       "    <tr>\n",
       "      <th>0</th>\n",
       "      <td>4049</td>\n",
       "      <td>18.371977</td>\n",
       "    </tr>\n",
       "    <tr>\n",
       "      <th rowspan=\"2\" valign=\"top\">Asian</th>\n",
       "      <th>1</th>\n",
       "      <td>13614</td>\n",
       "      <td>93.599175</td>\n",
       "    </tr>\n",
       "    <tr>\n",
       "      <th>0</th>\n",
       "      <td>931</td>\n",
       "      <td>6.400825</td>\n",
       "    </tr>\n",
       "  </tbody>\n",
       "</table>\n",
       "</div>"
      ],
      "text/plain": [
       "                     Count          %\n",
       "Race  action_taken                   \n",
       "White 1             141639  92.903010\n",
       "      0              10820   7.096990\n",
       "Black 1              17990  81.628023\n",
       "      0               4049  18.371977\n",
       "Asian 1              13614  93.599175\n",
       "      0                931   6.400825"
      ]
     },
     "execution_count": 418,
     "metadata": {},
     "output_type": "execute_result"
    }
   ],
   "source": [
    "# Top 3 Race + Success Rate\n",
    "t3r = pd.DataFrame(top3_race.groupby('Race')['action_taken'].value_counts())\n",
    "t3r.columns = ['Count']\n",
    "t3r = t3r.reset_index()\n",
    "t3r['%'] = 100 * t3r['Count'] / t3r.groupby('Race')['Count'].transform('sum')\n",
    "t3r = t3r.sort_values(['Race', 'action_taken'], ascending = False).set_index(['Race','action_taken'])\n",
    "t3r"
   ]
  },
  {
   "cell_type": "code",
   "execution_count": 419,
   "id": "9ff77f6d",
   "metadata": {},
   "outputs": [
    {
     "data": {
      "text/plain": [
       "Text(0.5, 1.0, 'Success vs Rejection for Top 3 Races')"
      ]
     },
     "execution_count": 419,
     "metadata": {},
     "output_type": "execute_result"
    },
    {
     "data": {
      "image/png": "[encoded data removed]",
      "text/plain": [
       "<Figure size 864x720 with 1 Axes>"
      ]
     },
     "metadata": {
      "needs_background": "light"
     },
     "output_type": "display_data"
    }
   ],
   "source": [
    "# Comparing Value Brackets Property Success Rates\n",
    "graph_t3r = pd.concat([pd.DataFrame([top3_race.groupby('Race')['action_taken'].value_counts()['Black'][1],top3_race.groupby('Race')['action_taken'].value_counts()['Black'][0]]).transpose(),\n",
    "           pd.DataFrame([top3_race.groupby('Race')['action_taken'].value_counts()['White'][1],top3_race.groupby('Race')['action_taken'].value_counts()['White'][0]]).transpose(),\n",
    "           pd.DataFrame([top3_race.groupby('Race')['action_taken'].value_counts()['Asian'][1],top3_race.groupby('Race')['action_taken'].value_counts()['Asian'][0]]).transpose()])\n",
    "graph_t3r.index = ['Black','White','Asian']\n",
    "graph_t3r.columns = ['Success','Rejection']\n",
    "\n",
    "graph_t3r.plot(kind = 'bar', figsize = (12,10))\n",
    "plt.title(\"Success vs Rejection for Top 3 Races\")"
   ]
  },
  {
   "cell_type": "code",
   "execution_count": 422,
   "id": "84471e53",
   "metadata": {},
   "outputs": [
    {
     "data": {
      "text/html": [
       "<div>\n",
       "<style scoped>\n",
       "    .dataframe tbody tr th:only-of-type {\n",
       "        vertical-align: middle;\n",
       "    }\n",
       "\n",
       "    .dataframe tbody tr th {\n",
       "        vertical-align: top;\n",
       "    }\n",
       "\n",
       "    .dataframe thead th {\n",
       "        text-align: right;\n",
       "    }\n",
       "</style>\n",
       "<table border=\"1\" class=\"dataframe\">\n",
       "  <thead>\n",
       "    <tr style=\"text-align: right;\">\n",
       "      <th></th>\n",
       "      <th>White %</th>\n",
       "      <th>Black %</th>\n",
       "      <th>Asian %</th>\n",
       "      <th>White vs Black</th>\n",
       "      <th>White vs Asian</th>\n",
       "      <th>Black vs Asian</th>\n",
       "    </tr>\n",
       "  </thead>\n",
       "  <tbody>\n",
       "    <tr>\n",
       "      <th></th>\n",
       "      <td>92.903</td>\n",
       "      <td>81.628</td>\n",
       "      <td>93.599</td>\n",
       "      <td>0.000000</td>\n",
       "      <td>0.002417</td>\n",
       "      <td>0.000000</td>\n",
       "    </tr>\n",
       "  </tbody>\n",
       "</table>\n",
       "</div>"
      ],
      "text/plain": [
       "  White %  Black %  Asian % White vs Black White vs Asian Black vs Asian\n",
       "   92.903   81.628   93.599       0.000000       0.002417       0.000000"
      ]
     },
     "execution_count": 422,
     "metadata": {},
     "output_type": "execute_result"
    }
   ],
   "source": [
    "# HYPOTHESIS TESTING : Top 3 Races impact on success?\n",
    "population = t3r.reset_index()\n",
    "\n",
    "testresult = pd.DataFrame()\n",
    "testresult['White %'] = list([round(population.iloc[0][3],3)]) \n",
    "testresult['Black %'] = list([round(population.iloc[2][3],3)])\n",
    "testresult['Asian %'] = list([round(population.iloc[4][3],3)])\n",
    "\n",
    "columnnames = ['White vs Black','White vs Asian', 'Black vs Asian']\n",
    "\n",
    "sample1_phat_list = [0,0,2,3,3,3]\n",
    "sample2_phat_list = [2,4,4,3,3,3]\n",
    "sample1_size_list = [0,0,2,2,2,2]\n",
    "sample2_size_list = [2,4,4,2,2,2]\n",
    "\n",
    "\n",
    "for x in range(int(len(population)/2)):\n",
    "    sample1_phat = population.iloc[sample1_phat_list[x]][sample1_phat_list[x+3]]/100\n",
    "    sample2_phat = population.iloc[sample2_phat_list[x]][sample2_phat_list[x+3]]/100\n",
    "    sample1_size = population.iloc[sample1_size_list[x]][sample1_size_list[x+3]]\n",
    "    sample2_size = population.iloc[sample2_size_list[x]][sample2_size_list[x+3]]\n",
    "    phat = (sample1_phat*sample1_size+sample2_phat*sample2_size)/(sample1_size+sample2_size)\n",
    "    zscore = (sample1_phat - sample2_phat)/np.sqrt(phat*(1-phat)*((1/sample1_size)+(1/sample2_size)))    \n",
    "    pval = st.norm.sf(abs(zscore))*2\n",
    "    testresult[columnnames[x]] = list([format(pval,'f')])\n",
    "\n",
    "testresult.index = ['']\n",
    "testresult"
   ]
  },
  {
   "cell_type": "code",
   "execution_count": 423,
   "id": "24e22d9e",
   "metadata": {},
   "outputs": [],
   "source": [
    "# SEX #"
   ]
  },
  {
   "cell_type": "code",
   "execution_count": 431,
   "id": "c8d667fd",
   "metadata": {},
   "outputs": [],
   "source": [
    "# CREATING A NEW FIELD: SAME RACE BETWEEN CO APPLICANT AND APPLICANT = 1: NO CO APPLICANT IS ALSO 0\n",
    "df['same_sex'] = np.where(df['applicant_sex']==df['co-applicant_sex'],1,0)\n",
    "\n",
    "# ANALYZING Male and Female: Applicant\n",
    "male_female = pd.DataFrame(df['action_taken'])\n",
    "male_female['Sex'] = np.where(df['applicant_sex']==1,'Male',np.where(df['applicant_sex']==2,'Female',np.nan))\n",
    "male_female = male_female.dropna().reset_index(drop = True)\n",
    "male_female = male_female[male_female['Sex']!='nan']"
   ]
  },
  {
   "cell_type": "code",
   "execution_count": 433,
   "id": "24eceae9",
   "metadata": {},
   "outputs": [
    {
     "data": {
      "text/html": [
       "<div>\n",
       "<style scoped>\n",
       "    .dataframe tbody tr th:only-of-type {\n",
       "        vertical-align: middle;\n",
       "    }\n",
       "\n",
       "    .dataframe tbody tr th {\n",
       "        vertical-align: top;\n",
       "    }\n",
       "\n",
       "    .dataframe thead th {\n",
       "        text-align: right;\n",
       "    }\n",
       "</style>\n",
       "<table border=\"1\" class=\"dataframe\">\n",
       "  <thead>\n",
       "    <tr style=\"text-align: right;\">\n",
       "      <th></th>\n",
       "      <th></th>\n",
       "      <th>Count</th>\n",
       "      <th>%</th>\n",
       "    </tr>\n",
       "    <tr>\n",
       "      <th>Sex</th>\n",
       "      <th>action_taken</th>\n",
       "      <th></th>\n",
       "      <th></th>\n",
       "    </tr>\n",
       "  </thead>\n",
       "  <tbody>\n",
       "    <tr>\n",
       "      <th rowspan=\"2\" valign=\"top\">Male</th>\n",
       "      <th>1</th>\n",
       "      <td>117941</td>\n",
       "      <td>92.078821</td>\n",
       "    </tr>\n",
       "    <tr>\n",
       "      <th>0</th>\n",
       "      <td>10146</td>\n",
       "      <td>7.921179</td>\n",
       "    </tr>\n",
       "    <tr>\n",
       "      <th rowspan=\"2\" valign=\"top\">Female</th>\n",
       "      <th>1</th>\n",
       "      <td>72555</td>\n",
       "      <td>90.174122</td>\n",
       "    </tr>\n",
       "    <tr>\n",
       "      <th>0</th>\n",
       "      <td>7906</td>\n",
       "      <td>9.825878</td>\n",
       "    </tr>\n",
       "  </tbody>\n",
       "</table>\n",
       "</div>"
      ],
      "text/plain": [
       "                      Count          %\n",
       "Sex    action_taken                   \n",
       "Male   1             117941  92.078821\n",
       "       0              10146   7.921179\n",
       "Female 1              72555  90.174122\n",
       "       0               7906   9.825878"
      ]
     },
     "execution_count": 433,
     "metadata": {},
     "output_type": "execute_result"
    }
   ],
   "source": [
    "# Sex + Success Rate\n",
    "sex = pd.DataFrame(male_female.groupby('Sex')['action_taken'].value_counts())\n",
    "sex.columns = ['Count']\n",
    "sex = sex.reset_index()\n",
    "sex['%'] = 100 * sex['Count'] / sex.groupby('Sex')['Count'].transform('sum')\n",
    "sex = sex.sort_values(['Sex', 'action_taken'], ascending = False).set_index(['Sex','action_taken'])\n",
    "sex"
   ]
  },
  {
   "cell_type": "code",
   "execution_count": 435,
   "id": "7b9d95fa",
   "metadata": {},
   "outputs": [
    {
     "data": {
      "text/plain": [
       "Text(0.5, 1.0, 'Success vs Rejection for Male vs Female')"
      ]
     },
     "execution_count": 435,
     "metadata": {},
     "output_type": "execute_result"
    },
    {
     "data": {
      "image/png": "[encoded data removed]",
      "text/plain": [
       "<Figure size 864x720 with 1 Axes>"
      ]
     },
     "metadata": {
      "needs_background": "light"
     },
     "output_type": "display_data"
    }
   ],
   "source": [
    "# Comparing Hispanic/Latino vs not Success Rates\n",
    "graph_sex = pd.concat([pd.DataFrame([male_female.groupby('Sex')['action_taken'].value_counts()['Male'][1],male_female.groupby('Sex')['action_taken'].value_counts()['Male'][0]]).transpose(),\n",
    "           pd.DataFrame([male_female.groupby('Sex')['action_taken'].value_counts()['Female'][1],male_female.groupby('Sex')['action_taken'].value_counts()['Female'][0]]).transpose()])\n",
    "graph_sex.index = ['Male','Female']\n",
    "graph_sex.columns = ['Success','Rejection']\n",
    "\n",
    "graph_sex.plot(kind = 'bar', figsize = (12,10))\n",
    "plt.title(\"Success vs Rejection for Male vs Female\")"
   ]
  },
  {
   "cell_type": "code",
   "execution_count": 436,
   "id": "42e27731",
   "metadata": {},
   "outputs": [
    {
     "data": {
      "text/html": [
       "<div>\n",
       "<style scoped>\n",
       "    .dataframe tbody tr th:only-of-type {\n",
       "        vertical-align: middle;\n",
       "    }\n",
       "\n",
       "    .dataframe tbody tr th {\n",
       "        vertical-align: top;\n",
       "    }\n",
       "\n",
       "    .dataframe thead th {\n",
       "        text-align: right;\n",
       "    }\n",
       "</style>\n",
       "<table border=\"1\" class=\"dataframe\">\n",
       "  <thead>\n",
       "    <tr style=\"text-align: right;\">\n",
       "      <th></th>\n",
       "      <th>Male %</th>\n",
       "      <th>Female %</th>\n",
       "      <th>PVal</th>\n",
       "    </tr>\n",
       "  </thead>\n",
       "  <tbody>\n",
       "    <tr>\n",
       "      <th></th>\n",
       "      <td>92.079</td>\n",
       "      <td>90.174</td>\n",
       "      <td>0.000000</td>\n",
       "    </tr>\n",
       "  </tbody>\n",
       "</table>\n",
       "</div>"
      ],
      "text/plain": [
       "  Male % Female %      PVal\n",
       "  92.079   90.174  0.000000"
      ]
     },
     "execution_count": 436,
     "metadata": {},
     "output_type": "execute_result"
    }
   ],
   "source": [
    "# HYPOTHESIS TESTING : SEX and Success\n",
    "population = sex.reset_index()\n",
    "\n",
    "sample1_phat = population.iloc[0][3]/100\n",
    "sample2_phat = population.iloc[2][3]/100\n",
    "sample1_size = population.iloc[0][2]\n",
    "sample2_size = population.iloc[2][2]\n",
    "phat = (sample1_phat*sample1_size+sample2_phat*sample2_size)/(sample1_size+sample2_size)\n",
    "zscore = (sample1_phat - sample2_phat)/np.sqrt(phat*(1-phat)*((1/sample1_size)+(1/sample2_size)))    \n",
    "pval = st.norm.sf(abs(zscore))*2\n",
    "testresult = pd.DataFrame([round(sample1_phat*100,3),round(sample2_phat*100,3),format(pval,'f')]).transpose()\n",
    "testresult.columns = ['Male %','Female %','PVal']\n",
    "testresult.index = ['']\n",
    "testresult"
   ]
  },
  {
   "cell_type": "code",
   "execution_count": null,
   "id": "3f03446d",
   "metadata": {},
   "outputs": [],
   "source": [
    "# AGE #"
   ]
  },
  {
   "cell_type": "code",
   "execution_count": 444,
   "id": "14398507",
   "metadata": {},
   "outputs": [],
   "source": [
    "# CREATING A NEW FIELD: SAME AGE BETWEEN CO APPLICANT AND APPLICANT = 1: NO CO APPLICANT IS ALSO 0\n",
    "df['same_age'] = np.where(df['applicant_age']==df['co-applicant_age'],1,0)\n",
    "\n",
    "age_bracket = df[df['applicant_age']!='8888'][['action_taken','applicant_age']]"
   ]
  },
  {
   "cell_type": "code",
   "execution_count": 445,
   "id": "3fd1be59",
   "metadata": {},
   "outputs": [
    {
     "data": {
      "text/html": [
       "<div>\n",
       "<style scoped>\n",
       "    .dataframe tbody tr th:only-of-type {\n",
       "        vertical-align: middle;\n",
       "    }\n",
       "\n",
       "    .dataframe tbody tr th {\n",
       "        vertical-align: top;\n",
       "    }\n",
       "\n",
       "    .dataframe thead th {\n",
       "        text-align: right;\n",
       "    }\n",
       "</style>\n",
       "<table border=\"1\" class=\"dataframe\">\n",
       "  <thead>\n",
       "    <tr style=\"text-align: right;\">\n",
       "      <th></th>\n",
       "      <th></th>\n",
       "      <th>Count</th>\n",
       "      <th>%</th>\n",
       "    </tr>\n",
       "    <tr>\n",
       "      <th>applicant_age</th>\n",
       "      <th>action_taken</th>\n",
       "      <th></th>\n",
       "      <th></th>\n",
       "    </tr>\n",
       "  </thead>\n",
       "  <tbody>\n",
       "    <tr>\n",
       "      <th rowspan=\"2\" valign=\"top\">&gt;74</th>\n",
       "      <th>1</th>\n",
       "      <td>2301</td>\n",
       "      <td>91.237113</td>\n",
       "    </tr>\n",
       "    <tr>\n",
       "      <th>0</th>\n",
       "      <td>221</td>\n",
       "      <td>8.762887</td>\n",
       "    </tr>\n",
       "    <tr>\n",
       "      <th rowspan=\"2\" valign=\"top\">&lt;25</th>\n",
       "      <th>1</th>\n",
       "      <td>12120</td>\n",
       "      <td>89.078348</td>\n",
       "    </tr>\n",
       "    <tr>\n",
       "      <th>0</th>\n",
       "      <td>1486</td>\n",
       "      <td>10.921652</td>\n",
       "    </tr>\n",
       "    <tr>\n",
       "      <th rowspan=\"2\" valign=\"top\">65-74</th>\n",
       "      <th>1</th>\n",
       "      <td>9030</td>\n",
       "      <td>91.138474</td>\n",
       "    </tr>\n",
       "    <tr>\n",
       "      <th>0</th>\n",
       "      <td>878</td>\n",
       "      <td>8.861526</td>\n",
       "    </tr>\n",
       "    <tr>\n",
       "      <th rowspan=\"2\" valign=\"top\">55-64</th>\n",
       "      <th>1</th>\n",
       "      <td>19208</td>\n",
       "      <td>89.740235</td>\n",
       "    </tr>\n",
       "    <tr>\n",
       "      <th>0</th>\n",
       "      <td>2196</td>\n",
       "      <td>10.259765</td>\n",
       "    </tr>\n",
       "    <tr>\n",
       "      <th rowspan=\"2\" valign=\"top\">45-54</th>\n",
       "      <th>1</th>\n",
       "      <td>32112</td>\n",
       "      <td>89.876571</td>\n",
       "    </tr>\n",
       "    <tr>\n",
       "      <th>0</th>\n",
       "      <td>3617</td>\n",
       "      <td>10.123429</td>\n",
       "    </tr>\n",
       "    <tr>\n",
       "      <th rowspan=\"2\" valign=\"top\">35-44</th>\n",
       "      <th>1</th>\n",
       "      <td>55859</td>\n",
       "      <td>91.498632</td>\n",
       "    </tr>\n",
       "    <tr>\n",
       "      <th>0</th>\n",
       "      <td>5190</td>\n",
       "      <td>8.501368</td>\n",
       "    </tr>\n",
       "    <tr>\n",
       "      <th rowspan=\"2\" valign=\"top\">25-34</th>\n",
       "      <th>1</th>\n",
       "      <td>67847</td>\n",
       "      <td>92.508965</td>\n",
       "    </tr>\n",
       "    <tr>\n",
       "      <th>0</th>\n",
       "      <td>5494</td>\n",
       "      <td>7.491035</td>\n",
       "    </tr>\n",
       "  </tbody>\n",
       "</table>\n",
       "</div>"
      ],
      "text/plain": [
       "                            Count          %\n",
       "applicant_age action_taken                  \n",
       ">74           1              2301  91.237113\n",
       "              0               221   8.762887\n",
       "<25           1             12120  89.078348\n",
       "              0              1486  10.921652\n",
       "65-74         1              9030  91.138474\n",
       "              0               878   8.861526\n",
       "55-64         1             19208  89.740235\n",
       "              0              2196  10.259765\n",
       "45-54         1             32112  89.876571\n",
       "              0              3617  10.123429\n",
       "35-44         1             55859  91.498632\n",
       "              0              5190   8.501368\n",
       "25-34         1             67847  92.508965\n",
       "              0              5494   7.491035"
      ]
     },
     "execution_count": 445,
     "metadata": {},
     "output_type": "execute_result"
    }
   ],
   "source": [
    "# Age Bracket + Success Rate\n",
    "age = pd.DataFrame(age_bracket.groupby('applicant_age')['action_taken'].value_counts())\n",
    "age.columns = ['Count']\n",
    "age = age.reset_index()\n",
    "age['%'] = 100 * age['Count'] / age.groupby('applicant_age')['Count'].transform('sum')\n",
    "age = age.sort_values(['applicant_age', 'action_taken'], ascending = False).set_index(['applicant_age','action_taken'])\n",
    "age"
   ]
  },
  {
   "cell_type": "code",
   "execution_count": 448,
   "id": "58c27ea5",
   "metadata": {},
   "outputs": [],
   "source": [
    "# NEW AGE BRACKET\n",
    "new_age = pd.DataFrame(df['action_taken'])\n",
    "new_age['Age'] = np.where((df['applicant_age']=='25-34')|(df['applicant_age']=='35-44'),1,0)"
   ]
  },
  {
   "cell_type": "code",
   "execution_count": 451,
   "id": "16031000",
   "metadata": {},
   "outputs": [
    {
     "data": {
      "text/html": [
       "<div>\n",
       "<style scoped>\n",
       "    .dataframe tbody tr th:only-of-type {\n",
       "        vertical-align: middle;\n",
       "    }\n",
       "\n",
       "    .dataframe tbody tr th {\n",
       "        vertical-align: top;\n",
       "    }\n",
       "\n",
       "    .dataframe thead th {\n",
       "        text-align: right;\n",
       "    }\n",
       "</style>\n",
       "<table border=\"1\" class=\"dataframe\">\n",
       "  <thead>\n",
       "    <tr style=\"text-align: right;\">\n",
       "      <th></th>\n",
       "      <th></th>\n",
       "      <th>Count</th>\n",
       "      <th>%</th>\n",
       "    </tr>\n",
       "    <tr>\n",
       "      <th>Age</th>\n",
       "      <th>action_taken</th>\n",
       "      <th></th>\n",
       "      <th></th>\n",
       "    </tr>\n",
       "  </thead>\n",
       "  <tbody>\n",
       "    <tr>\n",
       "      <th rowspan=\"2\" valign=\"top\">1</th>\n",
       "      <th>1</th>\n",
       "      <td>123706</td>\n",
       "      <td>92.050004</td>\n",
       "    </tr>\n",
       "    <tr>\n",
       "      <th>0</th>\n",
       "      <td>10684</td>\n",
       "      <td>7.949996</td>\n",
       "    </tr>\n",
       "    <tr>\n",
       "      <th rowspan=\"2\" valign=\"top\">0</th>\n",
       "      <th>1</th>\n",
       "      <td>79602</td>\n",
       "      <td>90.006784</td>\n",
       "    </tr>\n",
       "    <tr>\n",
       "      <th>0</th>\n",
       "      <td>8838</td>\n",
       "      <td>9.993216</td>\n",
       "    </tr>\n",
       "  </tbody>\n",
       "</table>\n",
       "</div>"
      ],
      "text/plain": [
       "                   Count          %\n",
       "Age action_taken                   \n",
       "1   1             123706  92.050004\n",
       "    0              10684   7.949996\n",
       "0   1              79602  90.006784\n",
       "    0               8838   9.993216"
      ]
     },
     "execution_count": 451,
     "metadata": {},
     "output_type": "execute_result"
    }
   ],
   "source": [
    "# age + Success Rate\n",
    "age = pd.DataFrame(new_age.groupby('Age')['action_taken'].value_counts())\n",
    "age.columns = ['Count']\n",
    "age = age.reset_index()\n",
    "age['%'] = 100 * age['Count'] / age.groupby('Age')['Count'].transform('sum')\n",
    "age = age.sort_values(['Age', 'action_taken'], ascending = False).set_index(['Age','action_taken'])\n",
    "age"
   ]
  },
  {
   "cell_type": "code",
   "execution_count": 453,
   "id": "e8f51467",
   "metadata": {},
   "outputs": [
    {
     "data": {
      "text/plain": [
       "Text(0.5, 1.0, 'Success vs Rejection for within 25-44 or not')"
      ]
     },
     "execution_count": 453,
     "metadata": {},
     "output_type": "execute_result"
    },
    {
     "data": {
      "image/png": "[encoded data removed]",
      "text/plain": [
       "<Figure size 864x720 with 1 Axes>"
      ]
     },
     "metadata": {
      "needs_background": "light"
     },
     "output_type": "display_data"
    }
   ],
   "source": [
    "# Comparing Age and Success Rates\n",
    "graph_age = pd.concat([pd.DataFrame([new_age.groupby('Age')['action_taken'].value_counts()[1][1],new_age.groupby('Age')['action_taken'].value_counts()[1][0]]).transpose(),\n",
    "           pd.DataFrame([new_age.groupby('Age')['action_taken'].value_counts()[0][1],new_age.groupby('Age')['action_taken'].value_counts()[0][0]]).transpose()])\n",
    "graph_age.index = ['25-44','Not 25-44']\n",
    "graph_age.columns = ['Success','Rejection']\n",
    "\n",
    "graph_age.plot(kind = 'bar', figsize = (12,10))\n",
    "plt.title(\"Success vs Rejection for within 25-44 or not\")"
   ]
  },
  {
   "cell_type": "code",
   "execution_count": 454,
   "id": "afdc255c",
   "metadata": {},
   "outputs": [
    {
     "data": {
      "text/html": [
       "<div>\n",
       "<style scoped>\n",
       "    .dataframe tbody tr th:only-of-type {\n",
       "        vertical-align: middle;\n",
       "    }\n",
       "\n",
       "    .dataframe tbody tr th {\n",
       "        vertical-align: top;\n",
       "    }\n",
       "\n",
       "    .dataframe thead th {\n",
       "        text-align: right;\n",
       "    }\n",
       "</style>\n",
       "<table border=\"1\" class=\"dataframe\">\n",
       "  <thead>\n",
       "    <tr style=\"text-align: right;\">\n",
       "      <th></th>\n",
       "      <th>25-44 %</th>\n",
       "      <th>Not 25-44 %</th>\n",
       "      <th>PVal</th>\n",
       "    </tr>\n",
       "  </thead>\n",
       "  <tbody>\n",
       "    <tr>\n",
       "      <th></th>\n",
       "      <td>92.05</td>\n",
       "      <td>90.007</td>\n",
       "      <td>0.000000</td>\n",
       "    </tr>\n",
       "  </tbody>\n",
       "</table>\n",
       "</div>"
      ],
      "text/plain": [
       " 25-44 % Not 25-44 %      PVal\n",
       "   92.05      90.007  0.000000"
      ]
     },
     "execution_count": 454,
     "metadata": {},
     "output_type": "execute_result"
    }
   ],
   "source": [
    "# HYPOTHESIS TESTING : Age and Success\n",
    "population = age.reset_index()\n",
    "\n",
    "sample1_phat = population.iloc[0][3]/100\n",
    "sample2_phat = population.iloc[2][3]/100\n",
    "sample1_size = population.iloc[0][2]\n",
    "sample2_size = population.iloc[2][2]\n",
    "phat = (sample1_phat*sample1_size+sample2_phat*sample2_size)/(sample1_size+sample2_size)\n",
    "zscore = (sample1_phat - sample2_phat)/np.sqrt(phat*(1-phat)*((1/sample1_size)+(1/sample2_size)))    \n",
    "pval = st.norm.sf(abs(zscore))*2\n",
    "testresult = pd.DataFrame([round(sample1_phat*100,3),round(sample2_phat*100,3),format(pval,'f')]).transpose()\n",
    "testresult.columns = ['25-44 %','Not 25-44 %','PVal']\n",
    "testresult.index = ['']\n",
    "testresult"
   ]
  },
  {
   "cell_type": "code",
   "execution_count": null,
   "id": "7466d341",
   "metadata": {},
   "outputs": [],
   "source": []
  }
 ],
 "metadata": {
  "kernelspec": {
   "display_name": "Python 3 (ipykernel)",
   "language": "python",
   "name": "python3"
  },
  "language_info": {
   "codemirror_mode": {
    "name": "ipython",
    "version": 3
   },
   "file_extension": ".py",
   "mimetype": "text/x-python",
   "name": "python",
   "nbconvert_exporter": "python",
   "pygments_lexer": "ipython3",
   "version": "3.9.7"
  }
 },
 "nbformat": 4,
 "nbformat_minor": 5
}
