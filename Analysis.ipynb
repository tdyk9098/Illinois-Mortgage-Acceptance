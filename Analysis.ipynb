{
 "cells": [
  {
   "cell_type": "code",
   "execution_count": 1,
   "id": "54cb0159",
   "metadata": {},
   "outputs": [],
   "source": [
    "import numpy as np\n",
    "import pandas as pd\n",
    "import matplotlib.pyplot as plt\n",
    "import seaborn as sns\n",
    "import scipy.stats as st\n",
    "import datetime as dt"
   ]
  },
  {
   "cell_type": "code",
   "execution_count": 23,
   "id": "2dfd0a61",
   "metadata": {},
   "outputs": [],
   "source": [
    "df = pd.read_csv('Illinois_2021.csv', low_memory=False)"
   ]
  },
  {
   "cell_type": "code",
   "execution_count": null,
   "id": "9147a16b",
   "metadata": {},
   "outputs": [],
   "source": [
    "##################################################################################################"
   ]
  },
  {
   "cell_type": "code",
   "execution_count": null,
   "id": "e3333ee3",
   "metadata": {},
   "outputs": [],
   "source": [
    "###### MODEL1: OUTPUT = APPLICATION STATUS ######"
   ]
  },
  {
   "cell_type": "code",
   "execution_count": null,
   "id": "66e6b986",
   "metadata": {},
   "outputs": [],
   "source": [
    "##### CLEANING #####"
   ]
  },
  {
   "cell_type": "code",
   "execution_count": 25,
   "id": "3045b48c",
   "metadata": {},
   "outputs": [],
   "source": [
    "# DROPPING COLUMNS WITH NO VALUE\n",
    "df.drop(['activity_year','state_code','census_tract','county_code','loan_type','derived_ethnicity',\n",
    "         'derived_race','derived_sex', 'denial_reason-1','denial_reason-2','denial_reason-3','denial_reason-4',\n",
    "         'applicant_age_above_62','co-applicant_age_above_62','tract_to_msa_income_percentage'], axis = 1, inplace = True)"
   ]
  },
  {
   "cell_type": "code",
   "execution_count": 26,
   "id": "47c75420",
   "metadata": {},
   "outputs": [],
   "source": [
    "# Filter the DF so that only accept or reject outcomes are present\n",
    "df = df[df['action_taken'].isin([1,2,3])]"
   ]
  },
  {
   "cell_type": "code",
   "execution_count": 27,
   "id": "5ab9caba",
   "metadata": {},
   "outputs": [],
   "source": [
    "# Turning the Application outcome (action_taken) into dummy variables\n",
    "df['action_taken'] = np.where((df['action_taken']==1)|(df['action_taken']==2),1,0)"
   ]
  },
  {
   "cell_type": "code",
   "execution_count": 38,
   "id": "67926ae4",
   "metadata": {},
   "outputs": [],
   "source": [
    "# Filtering for only Home Purchase Loans\n",
    "df = df[df['loan_purpose']==1]"
   ]
  },
  {
   "cell_type": "code",
   "execution_count": 43,
   "id": "c26a2bf0",
   "metadata": {},
   "outputs": [],
   "source": [
    "# Filtering for only mortgage applications and NOT covered loans\n",
    "df = df[df['submission_of_application']!=3]\n",
    "df = df[df['initially_payable_to_institution']!=3]"
   ]
  },
  {
   "cell_type": "code",
   "execution_count": 44,
   "id": "4154f4c4",
   "metadata": {},
   "outputs": [],
   "source": [
    "# Dropping columns that are only applicable to succesful applications\n",
    "df.drop(['interest_rate','rate_spread','purchaser_type','initially_payable_to_institution'], axis = 1, inplace = True)"
   ]
  },
  {
   "cell_type": "code",
   "execution_count": null,
   "id": "503eb310",
   "metadata": {},
   "outputs": [],
   "source": [
    "#### EXPLORING PROPERTY AND AREA RELATED FEATURES WITH SUCCESS RATE ###"
   ]
  },
  {
   "cell_type": "code",
   "execution_count": null,
   "id": "28c17471",
   "metadata": {},
   "outputs": [],
   "source": [
    "### MSA CODE: 5 digit metropolitan statistical area or metropolitan division code: min 50K population"
   ]
  },
  {
   "cell_type": "code",
   "execution_count": 81,
   "id": "009f828e",
   "metadata": {},
   "outputs": [
    {
     "data": {
      "text/html": [
       "<div>\n",
       "<style scoped>\n",
       "    .dataframe tbody tr th:only-of-type {\n",
       "        vertical-align: middle;\n",
       "    }\n",
       "\n",
       "    .dataframe tbody tr th {\n",
       "        vertical-align: top;\n",
       "    }\n",
       "\n",
       "    .dataframe thead th {\n",
       "        text-align: right;\n",
       "    }\n",
       "</style>\n",
       "<table border=\"1\" class=\"dataframe\">\n",
       "  <thead>\n",
       "    <tr style=\"text-align: right;\">\n",
       "      <th></th>\n",
       "      <th>Count</th>\n",
       "      <th>%</th>\n",
       "    </tr>\n",
       "    <tr>\n",
       "      <th>derived_msa-md</th>\n",
       "      <th></th>\n",
       "      <th></th>\n",
       "    </tr>\n",
       "  </thead>\n",
       "  <tbody>\n",
       "    <tr>\n",
       "      <th>16984</th>\n",
       "      <td>114186</td>\n",
       "      <td>91.603090</td>\n",
       "    </tr>\n",
       "    <tr>\n",
       "      <th>99999</th>\n",
       "      <td>15252</td>\n",
       "      <td>88.633194</td>\n",
       "    </tr>\n",
       "    <tr>\n",
       "      <th>20994</th>\n",
       "      <td>14637</td>\n",
       "      <td>93.610898</td>\n",
       "    </tr>\n",
       "    <tr>\n",
       "      <th>29404</th>\n",
       "      <td>13288</td>\n",
       "      <td>93.268758</td>\n",
       "    </tr>\n",
       "    <tr>\n",
       "      <th>41180</th>\n",
       "      <td>12384</td>\n",
       "      <td>91.910346</td>\n",
       "    </tr>\n",
       "    <tr>\n",
       "      <th>37900</th>\n",
       "      <td>7671</td>\n",
       "      <td>94.575268</td>\n",
       "    </tr>\n",
       "    <tr>\n",
       "      <th>40420</th>\n",
       "      <td>5378</td>\n",
       "      <td>91.665246</td>\n",
       "    </tr>\n",
       "    <tr>\n",
       "      <th>44100</th>\n",
       "      <td>4077</td>\n",
       "      <td>93.337912</td>\n",
       "    </tr>\n",
       "    <tr>\n",
       "      <th>19340</th>\n",
       "      <td>3641</td>\n",
       "      <td>92.340857</td>\n",
       "    </tr>\n",
       "    <tr>\n",
       "      <th>16580</th>\n",
       "      <td>3359</td>\n",
       "      <td>92.867017</td>\n",
       "    </tr>\n",
       "    <tr>\n",
       "      <th>14010</th>\n",
       "      <td>3191</td>\n",
       "      <td>90.937589</td>\n",
       "    </tr>\n",
       "    <tr>\n",
       "      <th>28100</th>\n",
       "      <td>1728</td>\n",
       "      <td>87.582362</td>\n",
       "    </tr>\n",
       "    <tr>\n",
       "      <th>16060</th>\n",
       "      <td>1661</td>\n",
       "      <td>86.963351</td>\n",
       "    </tr>\n",
       "    <tr>\n",
       "      <th>19500</th>\n",
       "      <td>1645</td>\n",
       "      <td>89.743590</td>\n",
       "    </tr>\n",
       "    <tr>\n",
       "      <th>19180</th>\n",
       "      <td>781</td>\n",
       "      <td>87.851519</td>\n",
       "    </tr>\n",
       "    <tr>\n",
       "      <th>0</th>\n",
       "      <td>411</td>\n",
       "      <td>26.481959</td>\n",
       "    </tr>\n",
       "    <tr>\n",
       "      <th>16020</th>\n",
       "      <td>18</td>\n",
       "      <td>45.000000</td>\n",
       "    </tr>\n",
       "  </tbody>\n",
       "</table>\n",
       "</div>"
      ],
      "text/plain": [
       "                 Count          %\n",
       "derived_msa-md                   \n",
       "16984           114186  91.603090\n",
       "99999            15252  88.633194\n",
       "20994            14637  93.610898\n",
       "29404            13288  93.268758\n",
       "41180            12384  91.910346\n",
       "37900             7671  94.575268\n",
       "40420             5378  91.665246\n",
       "44100             4077  93.337912\n",
       "19340             3641  92.340857\n",
       "16580             3359  92.867017\n",
       "14010             3191  90.937589\n",
       "28100             1728  87.582362\n",
       "16060             1661  86.963351\n",
       "19500             1645  89.743590\n",
       "19180              781  87.851519\n",
       "0                  411  26.481959\n",
       "16020               18  45.000000"
      ]
     },
     "execution_count": 81,
     "metadata": {},
     "output_type": "execute_result"
    }
   ],
   "source": [
    "# MSA Code Popularity + Success Rate , (Count = Success count of the MSA)\n",
    "msa = pd.DataFrame(df.groupby('derived_msa-md')['action_taken'].value_counts())\n",
    "msa.columns = ['Count']\n",
    "msa = msa.reset_index()\n",
    "msa['%'] = 100 * msa['Count'] / msa.groupby('derived_msa-md')['Count'].transform('sum')\n",
    "msa = msa.sort_values(['derived_msa-md', 'action_taken'], ascending = False)\n",
    "msa = msa[msa['action_taken']==1].set_index(['derived_msa-md']).drop('action_taken',axis = 1)\n",
    "msa.sort_values(by = \"Count\", ascending = False)"
   ]
  },
  {
   "cell_type": "code",
   "execution_count": 103,
   "id": "25c3bcc4",
   "metadata": {},
   "outputs": [
    {
     "name": "stdout",
     "output_type": "stream",
     "text": [
      "Without Outlier: LinregressResult(slope=0.0015370667416556817, intercept=75.61146270231731, rvalue=0.42473292945597957, pvalue=0.10103545706858483, stderr=0.000875617158157988, intercept_stderr=6.658221838539992)\n",
      "\n",
      "\n",
      "With Outlier: LinregressResult(slope=0.0001230049876445171, intercept=83.13912103160108, rvalue=0.17547451528379068, pvalue=0.5005350960977265, stderr=0.00017818522568511955, intercept_stderr=5.106762693872425)\n"
     ]
    }
   ],
   "source": [
    "# MSA Popularity + Success Rate, ex-Outlier code 16984 (Chicago, Naperville, Evanston)\n",
    "msa1 = msa.loc[[99999, 44100, 41180, 40420, 37900, 29404, 28100, 20994, 19500,\n",
    "            19340, 19180, 16580, 16060, 16020, 14010,0]]\n",
    "# Linear Relationship... Not Significant between Popularity of MSA Code and % Success\n",
    "print(\"Without Outlier:\",st.linregress(x = msa1['Count'], y = msa1['%']))\n",
    "print(\"\\n\\nWith Outlier:\",st.linregress(x = msa['Count'], y = msa['%']))"
   ]
  },
  {
   "cell_type": "code",
   "execution_count": 154,
   "id": "e06e9457",
   "metadata": {},
   "outputs": [
    {
     "data": {
      "text/html": [
       "<div>\n",
       "<style scoped>\n",
       "    .dataframe tbody tr th:only-of-type {\n",
       "        vertical-align: middle;\n",
       "    }\n",
       "\n",
       "    .dataframe tbody tr th {\n",
       "        vertical-align: top;\n",
       "    }\n",
       "\n",
       "    .dataframe thead th {\n",
       "        text-align: right;\n",
       "    }\n",
       "</style>\n",
       "<table border=\"1\" class=\"dataframe\">\n",
       "  <thead>\n",
       "    <tr style=\"text-align: right;\">\n",
       "      <th></th>\n",
       "      <th>MSA</th>\n",
       "      <th>Corr</th>\n",
       "      <th>PVal</th>\n",
       "    </tr>\n",
       "  </thead>\n",
       "  <tbody>\n",
       "    <tr>\n",
       "      <th>1</th>\n",
       "      <td>derived_msa-md_20994</td>\n",
       "      <td>0.023046</td>\n",
       "      <td>0.0</td>\n",
       "    </tr>\n",
       "    <tr>\n",
       "      <th>2</th>\n",
       "      <td>derived_msa-md_37900</td>\n",
       "      <td>0.022934</td>\n",
       "      <td>0.0</td>\n",
       "    </tr>\n",
       "    <tr>\n",
       "      <th>3</th>\n",
       "      <td>derived_msa-md_29404</td>\n",
       "      <td>0.018762</td>\n",
       "      <td>0.0</td>\n",
       "    </tr>\n",
       "    <tr>\n",
       "      <th>4</th>\n",
       "      <td>derived_msa-md_16984</td>\n",
       "      <td>0.014508</td>\n",
       "      <td>0.0</td>\n",
       "    </tr>\n",
       "    <tr>\n",
       "      <th>5</th>\n",
       "      <td>derived_msa-md_44100</td>\n",
       "      <td>0.010497</td>\n",
       "      <td>0.0</td>\n",
       "    </tr>\n",
       "    <tr>\n",
       "      <th>6</th>\n",
       "      <td>derived_msa-md_16580</td>\n",
       "      <td>0.007396</td>\n",
       "      <td>0.0005</td>\n",
       "    </tr>\n",
       "    <tr>\n",
       "      <th>7</th>\n",
       "      <td>derived_msa-md_41180</td>\n",
       "      <td>0.006023</td>\n",
       "      <td>0.0045</td>\n",
       "    </tr>\n",
       "    <tr>\n",
       "      <th>8</th>\n",
       "      <td>derived_msa-md_19340</td>\n",
       "      <td>0.005230</td>\n",
       "      <td>0.0135</td>\n",
       "    </tr>\n",
       "    <tr>\n",
       "      <th>9</th>\n",
       "      <td>derived_msa-md_40420</td>\n",
       "      <td>0.002479</td>\n",
       "      <td>0.242</td>\n",
       "    </tr>\n",
       "    <tr>\n",
       "      <th>10</th>\n",
       "      <td>derived_msa-md_14010</td>\n",
       "      <td>-0.001349</td>\n",
       "      <td>0.5243</td>\n",
       "    </tr>\n",
       "    <tr>\n",
       "      <th>11</th>\n",
       "      <td>derived_msa-md_19500</td>\n",
       "      <td>-0.004817</td>\n",
       "      <td>0.023</td>\n",
       "    </tr>\n",
       "    <tr>\n",
       "      <th>12</th>\n",
       "      <td>derived_msa-md_19180</td>\n",
       "      <td>-0.007583</td>\n",
       "      <td>0.0003</td>\n",
       "    </tr>\n",
       "    <tr>\n",
       "      <th>13</th>\n",
       "      <td>derived_msa-md_28100</td>\n",
       "      <td>-0.012225</td>\n",
       "      <td>0.0</td>\n",
       "    </tr>\n",
       "    <tr>\n",
       "      <th>14</th>\n",
       "      <td>derived_msa-md_16060</td>\n",
       "      <td>-0.014062</td>\n",
       "      <td>0.0</td>\n",
       "    </tr>\n",
       "    <tr>\n",
       "      <th>15</th>\n",
       "      <td>derived_msa-md_16020</td>\n",
       "      <td>-0.021914</td>\n",
       "      <td>0.0</td>\n",
       "    </tr>\n",
       "    <tr>\n",
       "      <th>16</th>\n",
       "      <td>derived_msa-md_99999</td>\n",
       "      <td>-0.026663</td>\n",
       "      <td>0.0</td>\n",
       "    </tr>\n",
       "    <tr>\n",
       "      <th>17</th>\n",
       "      <td>derived_msa-md_0</td>\n",
       "      <td>-0.191822</td>\n",
       "      <td>0.0</td>\n",
       "    </tr>\n",
       "  </tbody>\n",
       "</table>\n",
       "</div>"
      ],
      "text/plain": [
       "                     MSA      Corr    PVal\n",
       "1   derived_msa-md_20994  0.023046     0.0\n",
       "2   derived_msa-md_37900  0.022934     0.0\n",
       "3   derived_msa-md_29404  0.018762     0.0\n",
       "4   derived_msa-md_16984  0.014508     0.0\n",
       "5   derived_msa-md_44100  0.010497     0.0\n",
       "6   derived_msa-md_16580  0.007396  0.0005\n",
       "7   derived_msa-md_41180  0.006023  0.0045\n",
       "8   derived_msa-md_19340  0.005230  0.0135\n",
       "9   derived_msa-md_40420  0.002479   0.242\n",
       "10  derived_msa-md_14010 -0.001349  0.5243\n",
       "11  derived_msa-md_19500 -0.004817   0.023\n",
       "12  derived_msa-md_19180 -0.007583  0.0003\n",
       "13  derived_msa-md_28100 -0.012225     0.0\n",
       "14  derived_msa-md_16060 -0.014062     0.0\n",
       "15  derived_msa-md_16020 -0.021914     0.0\n",
       "16  derived_msa-md_99999 -0.026663     0.0\n",
       "17      derived_msa-md_0 -0.191822     0.0"
      ]
     },
     "execution_count": 154,
     "metadata": {},
     "output_type": "execute_result"
    }
   ],
   "source": [
    "# correlation between each MSA code and outcome: case by case\n",
    "msa2 = pd.get_dummies(df[['action_taken','derived_msa-md']], columns = ['derived_msa-md'])\n",
    "msacorr = msa2.corr()['action_taken'].sort_values(ascending = False).reset_index()\n",
    "msacorr.columns = ['MSA','Corr']\n",
    "\n",
    "def calculate_pvalues(msa2):\n",
    "    msa2 = msa2.dropna()._get_numeric_data()\n",
    "    msacols = pd.DataFrame(columns=msa2.columns)\n",
    "    pvalues = msacols.transpose().join(msacols, how='outer')\n",
    "    for r in msa2.columns:\n",
    "        for c in msa2.columns:\n",
    "            pvalues[r][c] = round(st.pearsonr(msa2[r], msa2[c])[1], 4)\n",
    "    return pvalues\n",
    "msapval = calculate_pvalues(msa2)['action_taken'].sort_values(ascending = False).reset_index()\n",
    "msapval.columns = ['MSA','PVal']\n",
    "\n",
    "\n",
    "msacorr.merge(msapval)[1:]"
   ]
  },
  {
   "cell_type": "code",
   "execution_count": null,
   "id": "b17de817",
   "metadata": {},
   "outputs": [],
   "source": [
    "# Comparing Not 16580 vs 16580 Success Rates\n"
   ]
  },
  {
   "cell_type": "code",
   "execution_count": 156,
   "id": "547eb861",
   "metadata": {},
   "outputs": [],
   "source": [
    "### Occupancy Type: 1 is principal residence, 2 is secondary, 3 is investment"
   ]
  },
  {
   "cell_type": "code",
   "execution_count": 158,
   "id": "8aef6a59",
   "metadata": {},
   "outputs": [
    {
     "data": {
      "text/plain": [
       "1    203233\n",
       "3     16370\n",
       "2      3227\n",
       "Name: occupancy_type, dtype: int64"
      ]
     },
     "execution_count": 158,
     "metadata": {},
     "output_type": "execute_result"
    }
   ],
   "source": [
    "# distribution of occupancy type applications\n",
    "df['occupancy_type'].value_counts()"
   ]
  },
  {
   "cell_type": "code",
   "execution_count": 159,
   "id": "996cfd8d",
   "metadata": {},
   "outputs": [
    {
     "data": {
      "text/html": [
       "<div>\n",
       "<style scoped>\n",
       "    .dataframe tbody tr th:only-of-type {\n",
       "        vertical-align: middle;\n",
       "    }\n",
       "\n",
       "    .dataframe tbody tr th {\n",
       "        vertical-align: top;\n",
       "    }\n",
       "\n",
       "    .dataframe thead th {\n",
       "        text-align: right;\n",
       "    }\n",
       "</style>\n",
       "<table border=\"1\" class=\"dataframe\">\n",
       "  <thead>\n",
       "    <tr style=\"text-align: right;\">\n",
       "      <th></th>\n",
       "      <th>Count</th>\n",
       "      <th>%</th>\n",
       "    </tr>\n",
       "    <tr>\n",
       "      <th>occupancy_type</th>\n",
       "      <th></th>\n",
       "      <th></th>\n",
       "    </tr>\n",
       "  </thead>\n",
       "  <tbody>\n",
       "    <tr>\n",
       "      <th>1</th>\n",
       "      <td>185331</td>\n",
       "      <td>91.191391</td>\n",
       "    </tr>\n",
       "    <tr>\n",
       "      <th>3</th>\n",
       "      <td>15036</td>\n",
       "      <td>91.850947</td>\n",
       "    </tr>\n",
       "    <tr>\n",
       "      <th>2</th>\n",
       "      <td>2941</td>\n",
       "      <td>91.137279</td>\n",
       "    </tr>\n",
       "  </tbody>\n",
       "</table>\n",
       "</div>"
      ],
      "text/plain": [
       "                 Count          %\n",
       "occupancy_type                   \n",
       "1               185331  91.191391\n",
       "3                15036  91.850947\n",
       "2                 2941  91.137279"
      ]
     },
     "execution_count": 159,
     "metadata": {},
     "output_type": "execute_result"
    }
   ],
   "source": [
    "# Occupancy Type + Success Rate , (Count = Success count of the Occupancy Type)\n",
    "ot = pd.DataFrame(df.groupby('occupancy_type')['action_taken'].value_counts())\n",
    "ot.columns = ['Count']\n",
    "ot = ot.reset_index()\n",
    "ot['%'] = 100 * ot['Count'] / ot.groupby('occupancy_type')['Count'].transform('sum')\n",
    "ot = ot.sort_values(['occupancy_type', 'action_taken'], ascending = False)\n",
    "ot = ot[ot['action_taken']==1].set_index(['occupancy_type']).drop('action_taken',axis = 1)\n",
    "ot.sort_values(by = \"Count\", ascending = False)"
   ]
  },
  {
   "cell_type": "code",
   "execution_count": 161,
   "id": "84332f9b",
   "metadata": {},
   "outputs": [
    {
     "data": {
      "text/plain": [
       "LinregressResult(slope=-1.5031814740874966e-06, intercept=91.49507534723232, rvalue=-0.385844971807126, pvalue=0.747819920385155, stderr=3.5941392625817837e-06, intercept_stderr=0.38588800161557957)"
      ]
     },
     "execution_count": 161,
     "metadata": {},
     "output_type": "execute_result"
    }
   ],
   "source": [
    "# Occupancy Type + Success Rate\n",
    "st.linregress(x = ot['Count'], y = ot['%'])"
   ]
  },
  {
   "cell_type": "code",
   "execution_count": null,
   "id": "b5489c74",
   "metadata": {},
   "outputs": [],
   "source": [
    "# Comparing Occupancy Type 1-2-3  Success Rates"
   ]
  }
 ],
 "metadata": {
  "kernelspec": {
   "display_name": "Python 3 (ipykernel)",
   "language": "python",
   "name": "python3"
  },
  "language_info": {
   "codemirror_mode": {
    "name": "ipython",
    "version": 3
   },
   "file_extension": ".py",
   "mimetype": "text/x-python",
   "name": "python",
   "nbconvert_exporter": "python",
   "pygments_lexer": "ipython3",
   "version": "3.9.7"
  }
 },
 "nbformat": 4,
 "nbformat_minor": 5
}
