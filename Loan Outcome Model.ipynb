{
 "cells": [
  {
   "cell_type": "code",
   "execution_count": 1,
   "id": "6d107c47",
   "metadata": {},
   "outputs": [],
   "source": [
    "import numpy as np\n",
    "import pandas as pd\n",
    "import matplotlib.pyplot as plt\n",
    "import seaborn as sns\n",
    "import scipy.stats as st\n",
    "import dataframe_image as dfi\n",
    "\n",
    "from sklearn.model_selection import train_test_split\n",
    "from sklearn.preprocessing import MinMaxScaler\n",
    "from tensorflow.keras.models import Sequential\n",
    "from tensorflow.keras.layers import Dense, Dropout\n",
    "from tensorflow.keras.callbacks import EarlyStopping\n",
    "from sklearn.metrics import classification_report, confusion_matrix\n",
    "\n",
    "from sklearn.linear_model import LinearRegression\n",
    "from sklearn.model_selection import GridSearchCV\n",
    "from sklearn.ensemble import RandomForestClassifier\n",
    "from sklearn.ensemble import RandomForestRegressor\n",
    "from sklearn import metrics\n",
    "from sklearn.utils import resample\n",
    "from imblearn.over_sampling import SMOTE"
   ]
  },
  {
   "cell_type": "code",
   "execution_count": 2,
   "id": "9c920a0b",
   "metadata": {},
   "outputs": [],
   "source": [
    "model = pd.read_csv(\"IL_Loan_Outcome.csv\", low_memory = False)"
   ]
  },
  {
   "cell_type": "code",
   "execution_count": 4,
   "id": "d7fa727d",
   "metadata": {},
   "outputs": [
    {
     "name": "stdout",
     "output_type": "stream",
     "text": [
      "Total columns: 180\n",
      "Total rows: 199899\n"
     ]
    }
   ],
   "source": [
    "# TOTAL ROWS AND COLUMNS\n",
    "print('Total columns:',len(model.columns))\n",
    "print('Total rows:',len(model))"
   ]
  },
  {
   "cell_type": "code",
   "execution_count": 13,
   "id": "bdfd2c93",
   "metadata": {},
   "outputs": [
    {
     "data": {
      "image/png": "[encoded data removed]",
      "text/plain": [
       "<Figure size 864x720 with 1 Axes>"
      ]
     },
     "metadata": {
      "needs_background": "light"
     },
     "output_type": "display_data"
    }
   ],
   "source": [
    "# DISTRIBUTION OF CLASSES\n",
    "plt.figure(figsize=(12,10))\n",
    "plt.title(\"DISTRIBUTION OF CLASSES: 1 is Accept, 0 is Reject\")\n",
    "ax = sns.countplot(x = model[\"action_taken\"])\n",
    "for p in ax.patches:\n",
    "   ax.annotate('{:.1f}'.format(p.get_height()), (p.get_x()+0.35, p.get_height()+1000.52))"
   ]
  },
  {
   "cell_type": "code",
   "execution_count": 14,
   "id": "f12f554e",
   "metadata": {},
   "outputs": [],
   "source": [
    "##### DEEP LEARNING CLASSIFICATION ####"
   ]
  },
  {
   "cell_type": "code",
   "execution_count": 15,
   "id": "beacca9a",
   "metadata": {
    "scrolled": true
   },
   "outputs": [
    {
     "name": "stdout",
     "output_type": "stream",
     "text": [
      "Epoch 1/500\n",
      "4686/4686 [==============================] - 7s 1ms/step - loss: 0.0645 - val_loss: 0.0557\n",
      "Epoch 2/500\n",
      "4686/4686 [==============================] - 7s 2ms/step - loss: 0.0563 - val_loss: 0.0541\n",
      "Epoch 3/500\n",
      "4686/4686 [==============================] - 7s 2ms/step - loss: 0.0543 - val_loss: 0.0537\n",
      "Epoch 4/500\n",
      "4686/4686 [==============================] - 7s 1ms/step - loss: 0.0530 - val_loss: 0.0541\n",
      "Epoch 5/500\n",
      "4686/4686 [==============================] - 8s 2ms/step - loss: 0.0522 - val_loss: 0.0538\n",
      "Epoch 6/500\n",
      "4686/4686 [==============================] - 8s 2ms/step - loss: 0.0516 - val_loss: 0.0531\n",
      "Epoch 7/500\n",
      "4686/4686 [==============================] - 7s 2ms/step - loss: 0.0505 - val_loss: 0.0522\n",
      "Epoch 8/500\n",
      "4686/4686 [==============================] - 7s 1ms/step - loss: 0.0498 - val_loss: 0.0551\n",
      "Epoch 9/500\n",
      "4686/4686 [==============================] - 8s 2ms/step - loss: 0.0493 - val_loss: 0.0534\n",
      "Epoch 10/500\n",
      "4686/4686 [==============================] - 7s 2ms/step - loss: 0.0485 - val_loss: 0.0529\n",
      "Epoch 11/500\n",
      "4686/4686 [==============================] - 7s 1ms/step - loss: 0.0482 - val_loss: 0.0545\n",
      "Epoch 12/500\n",
      "4686/4686 [==============================] - 7s 1ms/step - loss: 0.0473 - val_loss: 0.0538\n",
      "Epoch 13/500\n",
      "4686/4686 [==============================] - 7s 1ms/step - loss: 0.0471 - val_loss: 0.0543\n",
      "Epoch 14/500\n",
      "4686/4686 [==============================] - 8s 2ms/step - loss: 0.0465 - val_loss: 0.0546\n",
      "Epoch 15/500\n",
      "4686/4686 [==============================] - 7s 2ms/step - loss: 0.0458 - val_loss: 0.0551\n",
      "Epoch 16/500\n",
      "4686/4686 [==============================] - 7s 1ms/step - loss: 0.0456 - val_loss: 0.0545\n",
      "Epoch 17/500\n",
      "4686/4686 [==============================] - 8s 2ms/step - loss: 0.0451 - val_loss: 0.0549\n",
      "Epoch 17: early stopping\n"
     ]
    },
    {
     "data": {
      "text/plain": [
       "<keras.callbacks.History at 0x1a5ee118460>"
      ]
     },
     "execution_count": 15,
     "metadata": {},
     "output_type": "execute_result"
    }
   ],
   "source": [
    "# Preprocessing Data\n",
    "X = model.drop(\"action_taken\",axis = 1)\n",
    "y = model[\"action_taken\"]\n",
    "X_train, X_test, y_train, y_test = train_test_split(X, y, test_size=0.25, random_state = 0)\n",
    "scaler = MinMaxScaler()\n",
    "X_train = scaler.fit_transform(X_train)\n",
    "X_test = scaler.transform(X_test)\n",
    "\n",
    "# Creating Model: dlm1\n",
    "dm2 = Sequential()\n",
    "\n",
    "dm2.add(Dense(179,activation = \"relu\"))\n",
    "dm2.add(Dropout(.2))\n",
    "dm2.add(Dense(100,activation = \"relu\"))\n",
    "dm2.add(Dropout(.2))\n",
    "dm2.add(Dense(1,activation = \"sigmoid\"))\n",
    "\n",
    "dm2.compile(optimizer = \"adam\", loss = \"binary_crossentropy\", )\n",
    "early_stop = EarlyStopping(monitor = \"val_loss\", mode = \"min\", verbose = 1, patience = 10)\n",
    "\n",
    "\n",
    "# Training DLM1\n",
    "dm2.fit(x = X_train, y = y_train, epochs = 500,validation_data = (X_test,y_test), callbacks = [early_stop], batch_size = 32)"
   ]
  },
  {
   "cell_type": "code",
   "execution_count": 16,
   "id": "5acb9107",
   "metadata": {},
   "outputs": [
    {
     "data": {
      "text/plain": [
       "<AxesSubplot:>"
      ]
     },
     "execution_count": 16,
     "metadata": {},
     "output_type": "execute_result"
    },
    {
     "data": {
      "image/png": "[encoded data removed]",
      "text/plain": [
       "<Figure size 432x288 with 1 Axes>"
      ]
     },
     "metadata": {
      "needs_background": "light"
     },
     "output_type": "display_data"
    }
   ],
   "source": [
    "# Overfitting?\n",
    "pd.DataFrame(dm2.history.history).plot()"
   ]
  },
  {
   "cell_type": "code",
   "execution_count": 17,
   "id": "5f0adef1",
   "metadata": {},
   "outputs": [
    {
     "name": "stdout",
     "output_type": "stream",
     "text": [
      "1562/1562 [==============================] - 1s 687us/step\n",
      "              precision    recall  f1-score   support\n",
      "\n",
      "           0       0.80      0.92      0.86      3576\n",
      "           1       0.99      0.98      0.99     46399\n",
      "\n",
      "    accuracy                           0.98     49975\n",
      "   macro avg       0.90      0.95      0.92     49975\n",
      "weighted avg       0.98      0.98      0.98     49975\n",
      "\n",
      "[[ 3303   273]\n",
      " [  802 45597]]\n"
     ]
    }
   ],
   "source": [
    "# Evaluating DLM1\n",
    "pdm2 = (dm2.predict(X_test) > 0.5).astype(\"int32\")\n",
    "print(classification_report(y_test, pdm2))\n",
    "print(confusion_matrix(y_test, pdm2))"
   ]
  },
  {
   "cell_type": "code",
   "execution_count": 18,
   "id": "63a81530",
   "metadata": {},
   "outputs": [],
   "source": [
    "##### ML Classification Models ####"
   ]
  },
  {
   "cell_type": "code",
   "execution_count": 19,
   "id": "83849377",
   "metadata": {},
   "outputs": [
    {
     "name": "stdout",
     "output_type": "stream",
     "text": [
      "[[ 3339   237]\n",
      " [  779 45620]]\n",
      "              precision    recall  f1-score   support\n",
      "\n",
      "           0       0.81      0.93      0.87      3576\n",
      "           1       0.99      0.98      0.99     46399\n",
      "\n",
      "    accuracy                           0.98     49975\n",
      "   macro avg       0.90      0.96      0.93     49975\n",
      "weighted avg       0.98      0.98      0.98     49975\n",
      "\n"
     ]
    }
   ],
   "source": [
    "### RANDOM FOREST ###\n",
    "# OVER SAMPLING THE MINORITY (REJECT)\n",
    "X = model.drop(\"action_taken\",axis = 1)\n",
    "y = model[\"action_taken\"]\n",
    "\n",
    "X_train, X_test, y_train, y_test = train_test_split(X, y, test_size=0.25, random_state = 0)\n",
    "\n",
    "X = pd.concat([X_train, y_train], axis=1)\n",
    "reject = X[X[\"action_taken\"]==0]\n",
    "accept = X[X[\"action_taken\"]==1]\n",
    "\n",
    "reject_o = resample(reject,replace=True,n_samples=len(accept),random_state=0)\n",
    "new = pd.concat([accept, reject_o])\n",
    "\n",
    "# RETEST\n",
    "y_train = new[\"action_taken\"]\n",
    "X_train = new.drop(\"action_taken\", axis=1)\n",
    "rfco = RandomForestClassifier(n_estimators = 100, random_state = 0).fit(X_train, y_train)\n",
    "predo = rfco.predict(X_test)\n",
    "print(confusion_matrix(y_test,predo))\n",
    "print(classification_report(y_test,predo))"
   ]
  },
  {
   "cell_type": "code",
   "execution_count": 20,
   "id": "12d7bf34",
   "metadata": {},
   "outputs": [
    {
     "name": "stdout",
     "output_type": "stream",
     "text": [
      "[[ 3562    14]\n",
      " [ 2858 43541]]\n",
      "              precision    recall  f1-score   support\n",
      "\n",
      "           0       0.55      1.00      0.71      3576\n",
      "           1       1.00      0.94      0.97     46399\n",
      "\n",
      "    accuracy                           0.94     49975\n",
      "   macro avg       0.78      0.97      0.84     49975\n",
      "weighted avg       0.97      0.94      0.95     49975\n",
      "\n"
     ]
    }
   ],
   "source": [
    "### RANDOM FOREST ###\n",
    "# UNDER SAMPLING THE MAJORITY (ACCEPT)\n",
    "X = model.drop(\"action_taken\",axis = 1)\n",
    "y = model[\"action_taken\"]\n",
    "X_train, X_test, y_train, y_test = train_test_split(X, y, test_size=0.25, random_state=0)\n",
    "\n",
    "X = pd.concat([X_train, y_train], axis=1)\n",
    "reject = X[X[\"action_taken\"]==0]\n",
    "accept = X[X[\"action_taken\"]==1]\n",
    "\n",
    "accept_u = resample(accept, replace = False, n_samples = len(reject), random_state = 0) \n",
    "new = pd.concat([accept_u, reject])\n",
    "\n",
    "# RETEST\n",
    "y_train = new[\"action_taken\"]\n",
    "X_train = new.drop(\"action_taken\", axis=1)\n",
    "rfcu = RandomForestClassifier(n_estimators = 100, random_state = 0).fit(X_train, y_train)\n",
    "predu = rfcu.predict(X_test)\n",
    "print(confusion_matrix(y_test,predu))\n",
    "print(classification_report(y_test,predu))"
   ]
  },
  {
   "cell_type": "code",
   "execution_count": 21,
   "id": "ee4e0bad",
   "metadata": {},
   "outputs": [
    {
     "name": "stdout",
     "output_type": "stream",
     "text": [
      "[[ 3280   296]\n",
      " [  823 45576]]\n",
      "              precision    recall  f1-score   support\n",
      "\n",
      "           0       0.80      0.92      0.85      3576\n",
      "           1       0.99      0.98      0.99     46399\n",
      "\n",
      "    accuracy                           0.98     49975\n",
      "   macro avg       0.90      0.95      0.92     49975\n",
      "weighted avg       0.98      0.98      0.98     49975\n",
      "\n"
     ]
    }
   ],
   "source": [
    "### RANDOM FOREST ###\n",
    "# SMOTE\n",
    "X = model.drop(\"action_taken\",axis = 1)\n",
    "y = model[\"action_taken\"]\n",
    "X_train, X_test, y_train, y_test = train_test_split(X, y, test_size=0.25, random_state=0)\n",
    "\n",
    "sm = SMOTE()\n",
    "X_train, y_train = sm.fit_resample(X_train, y_train)\n",
    "smote = RandomForestClassifier(n_estimators = 100, random_state = 0).fit(X_train, y_train)\n",
    "\n",
    "pred = smote.predict(X_test)\n",
    "print(confusion_matrix(y_test,pred))\n",
    "print(classification_report(y_test,pred))"
   ]
  },
  {
   "cell_type": "code",
   "execution_count": 22,
   "id": "ed26341a",
   "metadata": {},
   "outputs": [
    {
     "name": "stdout",
     "output_type": "stream",
     "text": [
      "[[ 3232   344]\n",
      " [  646 45753]]\n",
      "              precision    recall  f1-score   support\n",
      "\n",
      "           0       0.83      0.90      0.87      3576\n",
      "           1       0.99      0.99      0.99     46399\n",
      "\n",
      "    accuracy                           0.98     49975\n",
      "   macro avg       0.91      0.94      0.93     49975\n",
      "weighted avg       0.98      0.98      0.98     49975\n",
      "\n"
     ]
    }
   ],
   "source": [
    "#RANDOM FOREST \n",
    "X = model.drop(\"action_taken\",axis = 1)\n",
    "y = model[\"action_taken\"]\n",
    "X_train, X_test, y_train, y_test = train_test_split(X, y, test_size=0.25, random_state = 0)\n",
    "# RANDOM FOREST 1: RF1\n",
    "rf = RandomForestClassifier(n_estimators = 100, random_state = 0)\n",
    "rf.fit(X_train,y_train)\n",
    "prf = rf.predict(X_test)\n",
    "print(confusion_matrix(y_test,prf))\n",
    "print(classification_report(y_test,prf))"
   ]
  }
 ],
 "metadata": {
  "kernelspec": {
   "display_name": "Python 3 (ipykernel)",
   "language": "python",
   "name": "python3"
  },
  "language_info": {
   "codemirror_mode": {
    "name": "ipython",
    "version": 3
   },
   "file_extension": ".py",
   "mimetype": "text/x-python",
   "name": "python",
   "nbconvert_exporter": "python",
   "pygments_lexer": "ipython3",
   "version": "3.9.7"
  }
 },
 "nbformat": 4,
 "nbformat_minor": 5
}
